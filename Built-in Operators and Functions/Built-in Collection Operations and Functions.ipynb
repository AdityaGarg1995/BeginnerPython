{
 "cells": [
  {
   "cell_type": "markdown",
   "id": "c2e390c3-318b-4696-afdc-3dfad10b457a",
   "metadata": {},
   "source": [
    "# Python Built-in Collection Operators and Functions\n",
    "\n",
    "Python provides some built-in functions for operations over Collection type objects.\n",
    "This notebook covers operations and corresponding functions for Python's built-in collection types."
   ]
  },
  {
   "cell_type": "code",
   "execution_count": null,
   "id": "fa5306cc-f4a2-480c-bb24-b6693726823b",
   "metadata": {},
   "outputs": [],
   "source": []
  },
  {
   "cell_type": "code",
   "execution_count": null,
   "id": "53696d50-e600-4849-bfb6-bb074f45060d",
   "metadata": {},
   "outputs": [],
   "source": []
  },
  {
   "cell_type": "markdown",
   "id": "d9a77f32-aeda-4bab-9e1e-06a65745bb7d",
   "metadata": {},
   "source": [
    "## Collection Existence and Empty Collection Checks\n",
    "\n",
    "A collection needs to exist for any other operations to be performed on it.\n",
    "Most operations, like membership check, summation, sorting etc. can be performed only on non-empty collections to yield any meaningful result.\n",
    "\n",
    "Python provides multiple methods to check existence of collections:\n",
    "- if (collection is not None)\n",
    "\n",
    "Python provides multiple methods to check whether an existing collection is empty:\n",
    "- if (len(collection) == 0)\n",
    "- if (bool(collection) == True)\n",
    "- if (collection) (≡ if (bool(collection) == True))"
   ]
  },
  {
   "cell_type": "markdown",
   "id": "7f8629be-ed9a-41ec-8c8a-1d46d2b4b892",
   "metadata": {},
   "source": [
    "### Collection Size Calculation Operations\n",
    "\n",
    "Built-in Collection Size Calculation Functions\n",
    "- [$len(iterable)$](https://docs.python.org/3/library/functions.html#len) function returns the size of the input iterable <br>\n",
    "  CPython implementation detail: $len()$ raises `OverflowError` on lengths larger than `sys.maxsize`, such as range(2 ** 100).\n",
    "  "
   ]
  },
  {
   "cell_type": "markdown",
   "id": "fef04148-13a9-4d7a-9639-1433f521da28",
   "metadata": {},
   "source": [
    "#### $len()$ function\n",
    "\n",
    "[$len(iterable)$](https://docs.python.org/3/library/functions.html#len) function returns the size of the input iterable. <br>\n",
    "CPython implementation detail: $len()$ raises `OverflowError` on lengths larger than `sys.maxsize`, such as range(2 ** 100).\n",
    "\n",
    "- The check $len(iterable) == 0$ can be used for checking if an iterable is empty, and is equivalent of checking the value of $bool(iterable)$ or simply \"if statement value\" ($if \\text{ }iterable:$)."
   ]
  },
  {
   "cell_type": "code",
   "execution_count": null,
   "id": "fd3cfc97-8f1a-4968-a707-d0cf6d05c292",
   "metadata": {},
   "outputs": [
    {
     "name": "stdout",
     "output_type": "stream",
     "text": [
      "printing length of list [1,2,3,4,5] : 5\n",
      "printing length of tuple (1,2,3,4,5) : 5\n"
     ]
    }
   ],
   "source": [
    "print(f\"printing length of list [1,2,3,4,5] : {len([1,2,3,4,5])}\")\n",
    "print(f\"printing length of tuple (1,2,3,4,5) : {len((1,2,3,4,5))}\")"
   ]
  },
  {
   "cell_type": "code",
   "execution_count": null,
   "id": "780f9d20-c0d2-4956-a76d-3b63b0008e03",
   "metadata": {},
   "outputs": [
    {
     "name": "stdout",
     "output_type": "stream",
     "text": [
      "printing length of set(1,2,3,4,5) : 5\n",
      "printing length of dict (1:'A', 2:'B', 3:'C', 4:'D', 5:None) : 5\n"
     ]
    }
   ],
   "source": [
    "print(f\"printing length of set(1,2,3,4,5) : {len(set([1,2,3,4,5]))}\")\n",
    "print(f\"printing length of dict (1:'A', 2:'B', 3:'C', 4:'D', 5:None) : {len(dict({1:'A', 2:'B', 3:'C', 4:'D', 5:None}))}\")"
   ]
  },
  {
   "cell_type": "code",
   "execution_count": null,
   "id": "a062ac48-3866-4ccd-898a-1c8b6d0171ee",
   "metadata": {},
   "outputs": [
    {
     "name": "stdout",
     "output_type": "stream",
     "text": [
      "printing length of string \"Hello\" : 5\n"
     ]
    }
   ],
   "source": [
    "print(f\"printing length of string \\\"Hello\\\" : {len(\"Hello\")}\")"
   ]
  },
  {
   "cell_type": "code",
   "execution_count": null,
   "id": "50f05621-d47b-4ece-a988-a3d536591a8a",
   "metadata": {},
   "outputs": [],
   "source": []
  },
  {
   "cell_type": "code",
   "execution_count": null,
   "id": "035e5fd2-19e8-4ae1-bbd9-8b5f8ab4a41d",
   "metadata": {},
   "outputs": [
    {
     "name": "stdout",
     "output_type": "stream",
     "text": [
      "False\n"
     ]
    }
   ],
   "source": [
    "myList = []\n",
    "\n",
    "if(myList):\n",
    "    print(True)\n",
    "else:\n",
    "    print(False)"
   ]
  },
  {
   "cell_type": "code",
   "execution_count": null,
   "id": "835c7df9-4bc2-49e4-bc59-60449917039b",
   "metadata": {},
   "outputs": [
    {
     "name": "stdout",
     "output_type": "stream",
     "text": [
      "True\n"
     ]
    }
   ],
   "source": [
    "print(myList is not None)"
   ]
  },
  {
   "cell_type": "code",
   "execution_count": null,
   "id": "885486a0-e306-43f7-b017-920e7bb1b7bb",
   "metadata": {},
   "outputs": [],
   "source": []
  },
  {
   "cell_type": "code",
   "execution_count": null,
   "id": "2bb5bb9d-822f-41bf-9ada-4c3a4686c606",
   "metadata": {},
   "outputs": [],
   "source": []
  },
  {
   "cell_type": "markdown",
   "id": "e9205b56",
   "metadata": {},
   "source": [
    "## Membership Operators and Functions\n",
    "Membership operators are essentially Binary operators having one argument as collection or sequence. Their return type is Boolean.\n",
    "\n",
    "Python membership operators test for the membership of an object in a sequence, like strings, lists, or tuples. The result is a boolean ($True$ or $False$).\n",
    "\n",
    "* For sequence collections like strings, tuples, lists, sets etc, $in$ operator checks for membership in elements of the collection.\n",
    "* For key-value collections like dictionaries, '$in$ operator checks for membership in KEYS of the collection."
   ]
  },
  {
   "cell_type": "markdown",
   "id": "5284fc97",
   "metadata": {},
   "source": [
    "### $\\text{IN}$ and $\\text{NOT IN}$ Operators"
   ]
  },
  {
   "cell_type": "code",
   "execution_count": null,
   "id": "9a6477ff",
   "metadata": {},
   "outputs": [
    {
     "name": "stdout",
     "output_type": "stream",
     "text": [
      "Membership 'in' operator\n",
      "\"e\" in \"Hello\":  True\n",
      "Membership 'not in' operator\n",
      "\"e\" not in \"Hello\":  False\n"
     ]
    }
   ],
   "source": [
    "## For sequence collections like strings, tuples, lists, sets etc, 'IN' operator checks for membership in elements of the collection.\n",
    "\n",
    "print(\"Membership 'in' operator\")\n",
    "print('\"e\" in \"Hello\": ', \"e\" in \"Hello\")\n",
    "\n",
    "\n",
    "print(\"Membership 'not in' operator\")\n",
    "print('\"e\" not in \"Hello\": ', \"e\" not in \"Hello\")"
   ]
  },
  {
   "cell_type": "code",
   "execution_count": null,
   "id": "a1e3440e",
   "metadata": {},
   "outputs": [
    {
     "name": "stdout",
     "output_type": "stream",
     "text": [
      "True\n",
      "True\n",
      "False\n"
     ]
    }
   ],
   "source": [
    "## For key-value collections like dictionaries, 'IN' operator checks for membership in keys of the collection.\n",
    "\n",
    "dict1 = {\"a\": 1, 3: 8, \"c\": \"Hello\"}\n",
    "print(\"a\" in dict1)\n",
    "print(3 in dict1)\n",
    "print(\"Hello\" in dict1)\n"
   ]
  },
  {
   "cell_type": "code",
   "execution_count": null,
   "id": "298bf952",
   "metadata": {},
   "outputs": [],
   "source": []
  },
  {
   "cell_type": "markdown",
   "id": "e1d46cae-4ef5-404b-96d6-792ae53bfc3f",
   "metadata": {},
   "source": [
    "### Collections `__contains__` method\n",
    "\n",
    "[`__contains()__`](https://docs.python.org/3/reference/datamodel.html#object.__contains__) is a method built-in with collection type objects in Python.\n",
    "Membership operator $in$ internall calls the collection object's `__contains__()` function.\n",
    "- This is the reason membership operator on dictionaries checks for keys\n",
    "\n",
    "\n",
    "For objects that don’t define `__contains__()`, the membership operator $in$ test first tries iteration via `__iter__()`, then the old sequence iteration protocol via `__getitem__()`."
   ]
  },
  {
   "cell_type": "code",
   "execution_count": null,
   "id": "a859c391-8a63-48c3-be3e-0f393f9d661c",
   "metadata": {},
   "outputs": [],
   "source": []
  },
  {
   "cell_type": "code",
   "execution_count": null,
   "id": "ca318255-1f98-4594-b8d2-ce5ac3a8bde6",
   "metadata": {},
   "outputs": [
    {
     "name": "stdout",
     "output_type": "stream",
     "text": [
      "['1', True, 'Hello', 20, 50.5]\n",
      "__contains__() function on list:  True \n",
      "\n",
      "('1', 'False', True, 'Hello', -10, 50.5)\n",
      "__contains__() function on tuple:  False \n",
      "\n",
      "{True, '30', 100, 'a'}\n",
      "__contains__() function on set:  True \n",
      "\n",
      "Hello World\n",
      "__contains__() function on string:  False \n",
      "\n",
      "{'a': 1, 3: 8, 'c': 'Hello', 20: 40}\n",
      "__contains__() function on dictionary:  True \n",
      "\n"
     ]
    }
   ],
   "source": [
    "list1 = [\"1\", True, \"Hello\", 20, 50.5]\n",
    "print(list1)\n",
    "print(\"__contains__() function on list: \", list1.__contains__(50.5), \"\\n\")\n",
    "\n",
    "tuple1 = (\"1\", \"False\", True, \"Hello\", -10, 50.5)\n",
    "print(tuple1)\n",
    "print(\"__contains__() function on tuple: \", dict1.__contains__(-10), \"\\n\")\n",
    "\n",
    "set1 = {\"a\", True, \"30\", 100}\n",
    "print(set1)\n",
    "print(\"__contains__() function on set: \", dict1.__contains__(\"a\"), \"\\n\")\n",
    "\n",
    "string1 = \"Hello World\"\n",
    "print(string1)\n",
    "print(\"__contains__() function on string: \", string1.__contains__(\"world\"), \"\\n\")\n",
    "\n",
    "\n",
    "dict1 = {\"a\": 1, 3: 8, \"c\": \"Hello\", 20: 40}\n",
    "print(dict1)\n",
    "print(\"__contains__() function on dictionary: \", dict1.__contains__(\"a\"), \"\\n\")"
   ]
  },
  {
   "cell_type": "code",
   "execution_count": null,
   "id": "0b233465-2ce1-4766-892b-578ec287c208",
   "metadata": {},
   "outputs": [],
   "source": []
  },
  {
   "cell_type": "code",
   "execution_count": null,
   "id": "d295f1ab-3001-4da8-9eb5-8eb9d7e9ed62",
   "metadata": {},
   "outputs": [],
   "source": []
  },
  {
   "cell_type": "markdown",
   "id": "50e8bf86",
   "metadata": {},
   "source": [
    "### $operator.contains()$ function\n",
    "\n",
    "This function, available in built-in operator library, checks if its 2nd argument is a member of its 1st argument.\n",
    "It essentially is the function form of $in$ operator"
   ]
  },
  {
   "cell_type": "code",
   "execution_count": null,
   "id": "3b8d7c15",
   "metadata": {},
   "outputs": [
    {
     "name": "stdout",
     "output_type": "stream",
     "text": [
      "Help on built-in function contains in module _operator:\n",
      "\n",
      "contains(a, b, /)\n",
      "    Same as b in a (note reversed operands).\n",
      "\n"
     ]
    }
   ],
   "source": [
    "import operator\n",
    "help(operator.contains)"
   ]
  },
  {
   "cell_type": "code",
   "execution_count": null,
   "id": "7e180eca",
   "metadata": {},
   "outputs": [],
   "source": []
  },
  {
   "cell_type": "code",
   "execution_count": null,
   "id": "e4a1f517",
   "metadata": {},
   "outputs": [
    {
     "name": "stdout",
     "output_type": "stream",
     "text": [
      "False\n",
      "True\n"
     ]
    }
   ],
   "source": [
    "import operator\n",
    "\n",
    "print(operator.contains(\"Hello\", \"h\"))\n",
    "print(operator.contains([1,2,3,4,6], 1))"
   ]
  },
  {
   "cell_type": "code",
   "execution_count": null,
   "id": "31f221b8",
   "metadata": {},
   "outputs": [
    {
     "name": "stdout",
     "output_type": "stream",
     "text": [
      "False\n"
     ]
    }
   ],
   "source": [
    "print(operator.contains({\"a\": 1, 3: 8, \"c\": \"Hello\"}, 1))"
   ]
  },
  {
   "cell_type": "code",
   "execution_count": null,
   "id": "24fab5a5-d664-4ef0-97f8-0e8ccd6f5d27",
   "metadata": {},
   "outputs": [],
   "source": []
  },
  {
   "cell_type": "code",
   "execution_count": null,
   "id": "14e51118-2a2f-4237-981a-6a8633597e26",
   "metadata": {},
   "outputs": [],
   "source": []
  },
  {
   "cell_type": "code",
   "execution_count": null,
   "id": "02e29c22-4bb6-4c61-bb87-5fed5bf07df5",
   "metadata": {},
   "outputs": [],
   "source": []
  },
  {
   "cell_type": "code",
   "execution_count": null,
   "id": "6cf7bdaf-6cc6-406e-aa86-1887f5426eab",
   "metadata": {},
   "outputs": [],
   "source": []
  },
  {
   "cell_type": "code",
   "execution_count": null,
   "id": "88ba527f-daf6-47c7-a3b4-9a336ce5169a",
   "metadata": {},
   "outputs": [],
   "source": []
  },
  {
   "cell_type": "code",
   "execution_count": null,
   "id": "9f320840-a834-432f-93c3-73109837bf4e",
   "metadata": {},
   "outputs": [],
   "source": []
  },
  {
   "cell_type": "markdown",
   "id": "4998c3f1-e79a-401f-9ae1-33357fa08309",
   "metadata": {},
   "source": [
    "## Collection Members Frequency Calculation Operations\n",
    "\n",
    "$collections$ library Collection Size Calculation Functions\n",
    "- $collections.Counter()$ allows calculation of frequency of particular members in a collection\n",
    "  A Counter is a dict subclass for counting hashable objects. It is a collection where elements are stored as dictionary keys and their counts are stored as dictionary values. Counts are allowed to be any integer value including zero or negative counts. "
   ]
  },
  {
   "cell_type": "code",
   "execution_count": null,
   "id": "b3736486-d43d-49f0-9144-dda9907ed97e",
   "metadata": {},
   "outputs": [],
   "source": []
  },
  {
   "cell_type": "markdown",
   "id": "12dffc2b-cde8-4cfe-8667-569cf80169cc",
   "metadata": {},
   "source": [
    "### $collections.Counter(iterable)$ function\n",
    "\n",
    "A Counter is a dict subclass for counting hashable objects. It is a collection where elements are stored as dictionary keys and their counts are stored as dictionary values. Counts are allowed to be any integer value including zero or negative counts.\n",
    "\n",
    "Counter objects have a dictionary interface except that they return a zero count for missing items instead of raising a KeyError"
   ]
  },
  {
   "cell_type": "code",
   "execution_count": null,
   "id": "74ccf1bb-d3c8-4b5f-b878-963d60edff53",
   "metadata": {},
   "outputs": [],
   "source": []
  },
  {
   "cell_type": "code",
   "execution_count": null,
   "id": "1cb6d993-7e4b-4ab6-9aff-bb7a743c1cca",
   "metadata": {},
   "outputs": [],
   "source": [
    "from collections import Counter\n",
    "# Create Counter objects\n",
    "\n",
    "counter1 = Counter(['a', 'b', 'c', 'd', 'a', 'b', 'a'])\n",
    "counter2 = Counter({'a':1,'e':3,'i':6})\n",
    "counter3 = Counter(\"BeginnerPython\")\n",
    "counter4 = Counter([9, 1, 3, 'A', 5.6, \"A\", 3, 10, \"B\"])\n",
    "counter5 = Counter(a=4,b=2,c=1,d=3)"
   ]
  },
  {
   "cell_type": "code",
   "execution_count": null,
   "id": "8811aa5b-84b1-4b11-a431-4f7d595f00a7",
   "metadata": {},
   "outputs": [
    {
     "name": "stdout",
     "output_type": "stream",
     "text": [
      "Counter({'a': 3, 'b': 2, 'c': 1, 'd': 1})\n",
      "Counter({'i': 6, 'e': 3, 'a': 1})\n",
      "Counter({'n': 3, 'e': 2, 'B': 1, 'g': 1, 'i': 1, 'r': 1, 'P': 1, 'y': 1, 't': 1, 'h': 1, 'o': 1})\n",
      "Counter({3: 2, 'A': 2, 9: 1, 1: 1, 5.6: 1, 10: 1, 'B': 1})\n",
      "Counter({'a': 4, 'd': 3, 'b': 2, 'c': 1})\n"
     ]
    }
   ],
   "source": [
    "# Print the counters\n",
    "print(counter1) # Counter({'a': 3, 'b': 2, 'c': 1})\n",
    "print(counter2) # Counter({'i': 6, 'e': 3, 'a': 1})\n",
    "print(counter3) # Counter({'M': 1, 'e': 1, 'd': 1, 'i': 1, 'u': 1, 'm': 1})\n",
    "print(counter4) # Counter({3: 2, 'A': 2, 1: 1, 5.6: 1, 0: 1})\n",
    "print(counter5) # Counter({'j': 4, 'a': 3, 'r': 2, 'i': 1})"
   ]
  },
  {
   "cell_type": "code",
   "execution_count": null,
   "id": "2823c7f3-08ea-41c6-b192-2bde2d9573ec",
   "metadata": {},
   "outputs": [
    {
     "name": "stdout",
     "output_type": "stream",
     "text": [
      "3\n",
      "1\n",
      "2\n",
      "1\n",
      "2\n",
      "2\n"
     ]
    }
   ],
   "source": [
    "# Accessing counter value of a collection member\n",
    "print(counter1['a']) # 3\n",
    "print(counter2['a']) # 1\n",
    "print(counter3['e']) # 2\n",
    "print(counter4[5.6]) # 1\n",
    "print(counter4[\"A\"]) # 2\n",
    "print(counter4['A']) # 2"
   ]
  },
  {
   "cell_type": "code",
   "execution_count": null,
   "id": "5635d8d2-438c-4e5b-857f-0dfb639c1d1e",
   "metadata": {},
   "outputs": [],
   "source": []
  },
  {
   "cell_type": "code",
   "execution_count": null,
   "id": "e00edbf2-d913-43dc-9ddd-40013d9ff332",
   "metadata": {},
   "outputs": [],
   "source": []
  },
  {
   "cell_type": "code",
   "execution_count": null,
   "id": "a4fd2ab8-67bf-48a5-b837-d63825a1d126",
   "metadata": {},
   "outputs": [],
   "source": []
  },
  {
   "cell_type": "code",
   "execution_count": null,
   "id": "5c51b81a-b6e1-450a-8f50-193ce735563a",
   "metadata": {},
   "outputs": [],
   "source": []
  },
  {
   "cell_type": "markdown",
   "id": "0d4dac98-14ec-426c-9ab9-fbe07e2bd3ed",
   "metadata": {},
   "source": [
    "## Collections Arithmetic Operations\n",
    "\n",
    "Built-in collections arithmetic functions\n",
    "- $sum(iterable, start=0)$ returns the sum of the iterables members + the start value of given.\n",
    "  A valid output is returned only if all members of the iterable are numeric. Similarly, $start$ should also be numeric.\n",
    "\n",
    "math library's collections arithmetic functions\n",
    "- [$math.fsum(iterable)$](https://docs.python.org/3/library/math.html#math.fsum) returns an accurate floating-point sum of values in the iterable. It avoids loss of precision by tracking multiple intermediate partial sums.\n",
    "- [$math.prod(iterable, *, start=1)$](https://docs.python.org/3/library/math.html#math.prod) returns the product of all the elements in the input iterable. The default $start$ value for the product is 1.\n",
    "- [$math.sumprod(p, q)$](https://docs.python.org/3/library/math.html#math.sumprod) returns the sum of products of values from two iterables $p$ and $q$ iff they have same length and have all values numeric. It raises $ValueError$ if the inputs do not have the same length."
   ]
  },
  {
   "cell_type": "markdown",
   "id": "61841e79-df48-4134-bcdf-eb825a60b22b",
   "metadata": {},
   "source": [
    "### $sum()$ function\n",
    "\n",
    "$sum(iterable, start=0)$ returns the sum of elements in an iterable, provided the iterable has all members as numeric.\n",
    "The optional argument start allows an additonal number to be added to the sum of  the input iterable.\n",
    "- For dictionaries, $sum()$ returns the sum of keys if they are all numeric.\n",
    "- $sum()$ function cannot be overriden for string concatenation, unlike the Binary $+$ operator.\n",
    "- By extension, $sum()$ function can be used for addition of 2 numeric values instead of directly using Binary $+$ operator.\n",
    "\n",
    "If one or more of the iterable's members are non-numeric, a $TypeError$ is generated."
   ]
  },
  {
   "cell_type": "code",
   "execution_count": null,
   "id": "e33fe1f5-8d04-453e-87b9-bd12cbd6347f",
   "metadata": {},
   "outputs": [
    {
     "name": "stdout",
     "output_type": "stream",
     "text": [
      "Integer List Summation - Sum of [1,2,3,5,6]:  17\n",
      "Float List Summation - Sum of [1.0, 2.5, 3.7, 5.8, 9.2]:  22.2\n"
     ]
    }
   ],
   "source": [
    "list1 = [1,2,3,5,6]\n",
    "print(\"Integer List Summation - Sum of [1,2,3,5,6]: \", sum(list1))\n",
    "\n",
    "list1 = [1.0, 2.5, 3.7, 5.8, 9.2]\n",
    "print(\"Float List Summation - Sum of [1.0, 2.5, 3.7, 5.8, 9.2]: \", sum(list1))"
   ]
  },
  {
   "cell_type": "code",
   "execution_count": null,
   "id": "03c34a4e-6eb4-4a4a-be52-15c9f0f7c2ff",
   "metadata": {},
   "outputs": [],
   "source": []
  },
  {
   "cell_type": "code",
   "execution_count": null,
   "id": "a4b7692f-9b25-4b54-a4f1-20f23d545843",
   "metadata": {},
   "outputs": [
    {
     "name": "stdout",
     "output_type": "stream",
     "text": [
      "37\n"
     ]
    }
   ],
   "source": [
    "list1 = [1,2,3,5,6]\n",
    "print(sum(list1, start = 20)) ## Add 20 to sum of list"
   ]
  },
  {
   "cell_type": "code",
   "execution_count": null,
   "id": "d126bafa-600a-4ee3-86f3-d4d7683ce477",
   "metadata": {},
   "outputs": [],
   "source": []
  },
  {
   "cell_type": "code",
   "execution_count": null,
   "id": "f7eefc23-ae52-4c1f-884f-94b2c44f13fb",
   "metadata": {},
   "outputs": [
    {
     "name": "stdout",
     "output_type": "stream",
     "text": [
      "Integer Tuple Summation - Sum of (1,2,3,5,6):  17\n",
      "Float Tuple Summation - Sum of (1.0, 2.5, 3.7, 5.8, 9.2):  22.2\n"
     ]
    }
   ],
   "source": [
    "tuple1 = (1,2,3,5,6)\n",
    "print(\"Integer Tuple Summation - Sum of (1,2,3,5,6): \", sum(tuple1))\n",
    "\n",
    "tuple1 = (1.0, 2.5, 3.7, 5.8, 9.2)\n",
    "print(\"Float Tuple Summation - Sum of (1.0, 2.5, 3.7, 5.8, 9.2): \", sum(tuple1))"
   ]
  },
  {
   "cell_type": "code",
   "execution_count": null,
   "id": "454a5b35-4e71-48cf-84b1-f13181be899f",
   "metadata": {},
   "outputs": [],
   "source": []
  },
  {
   "cell_type": "code",
   "execution_count": null,
   "id": "265900a7-ae05-405f-a7e9-4fe1c6213a9b",
   "metadata": {},
   "outputs": [
    {
     "name": "stdout",
     "output_type": "stream",
     "text": [
      "Integer Set Summation - Sum of {1,2,3,5,6}:  17\n",
      "Float Set Summation - Sum of {1.0, 2.5, 3.7, 5.8, 9.2}:  22.2\n"
     ]
    }
   ],
   "source": [
    "set1 = {1,2,3,5,6}\n",
    "print(\"Integer Set Summation - Sum of {1,2,3,5,6}: \", sum(set1))\n",
    "\n",
    "set1 = {1.0, 2.5, 3.7, 5.8, 9.2}\n",
    "print(\"Float Set Summation - Sum of {1.0, 2.5, 3.7, 5.8, 9.2}: \", sum(set1))"
   ]
  },
  {
   "cell_type": "code",
   "execution_count": null,
   "id": "d9f9dca8-3416-42b6-8a85-0d714f55fd66",
   "metadata": {},
   "outputs": [],
   "source": []
  },
  {
   "cell_type": "code",
   "execution_count": null,
   "id": "ebca76d9-42c4-4325-9980-99574cbaf312",
   "metadata": {},
   "outputs": [
    {
     "name": "stdout",
     "output_type": "stream",
     "text": [
      "Integer Key & Integer Value Dictionary Summation - Sum of {1:2, 2:3, 3:4, 4:5}:  10\n",
      "Integer Key & String Value Dictionary Summation - Sum of {1:\"a\", 2:\"Hello\", 3:\"4\", 4:5}:  10\n"
     ]
    }
   ],
   "source": [
    "dict1 = {1:2, 2:3, 3:4, 4:5}\n",
    "print(\"Integer Key & Integer Value Dictionary Summation - Sum of {1:2, 2:3, 3:4, 4:5}: \", sum(dict1))\n",
    "\n",
    "dict1 = {1:\"a\", 2:\"Hello\", 3:\"4\", 4:5}\n",
    "print(\"\"\"Integer Key & String Value Dictionary Summation - Sum of {1:\"a\", 2:\"Hello\", 3:\"4\", 4:5}: \"\"\", sum(dict1))"
   ]
  },
  {
   "cell_type": "code",
   "execution_count": null,
   "id": "05508e36-4ad4-48a8-82ae-768d2c20cd6f",
   "metadata": {},
   "outputs": [
    {
     "name": "stdout",
     "output_type": "stream",
     "text": [
      "Float Key & Float Value Dictionary Summation - Sum of {1.1:2.5, 2.8:3.9, 3.5:4.2, 4.0:5.0}:  11.4\n",
      "Float Key & String Value Dictionary Summation - Sum of {1.3:\"a\", 2.9:\"Hello\", 3.45:\"4\", 4.4:5}:  12.05\n"
     ]
    }
   ],
   "source": [
    "dict2 = {1.1:2.5, 2.8:3.9, 3.5:4.2, 4.0:5.0}\n",
    "print(\"Float Key & Float Value Dictionary Summation - Sum of {1.1:2.5, 2.8:3.9, 3.5:4.2, 4.0:5.0}: \", sum(dict2))\n",
    "\n",
    "dict2 = {1.3:\"a\", 2.9:\"Hello\", 3.45:\"4\", 4.4:5}\n",
    "print(\"\"\"Float Key & String Value Dictionary Summation - Sum of {1.3:\"a\", 2.9:\"Hello\", 3.45:\"4\", 4.4:5}: \"\"\", sum(dict2))"
   ]
  },
  {
   "cell_type": "code",
   "execution_count": null,
   "id": "cbfb3241-822d-4a5a-bad6-b1f6cf604b3b",
   "metadata": {},
   "outputs": [],
   "source": []
  },
  {
   "cell_type": "code",
   "execution_count": null,
   "id": "53bfb150-b750-4cab-bb5b-da571e438f4f",
   "metadata": {},
   "outputs": [
    {
     "ename": "TypeError",
     "evalue": "unsupported operand type(s) for +: 'int' and 'str'",
     "output_type": "error",
     "traceback": [
      "\u001b[31m---------------------------------------------------------------------------\u001b[39m",
      "\u001b[31mTypeError\u001b[39m                                 Traceback (most recent call last)",
      "\u001b[36mCell\u001b[39m\u001b[36m \u001b[39m\u001b[32mIn[23]\u001b[39m\u001b[32m, line 2\u001b[39m\n\u001b[32m      1\u001b[39m list2 = [\u001b[33m\"\u001b[39m\u001b[33ma\u001b[39m\u001b[33m\"\u001b[39m, \u001b[33m\"\u001b[39m\u001b[33mb\u001b[39m\u001b[33m\"\u001b[39m, \u001b[33m\"\u001b[39m\u001b[33mc\u001b[39m\u001b[33m\"\u001b[39m, \u001b[33m\"\u001b[39m\u001b[33md\u001b[39m\u001b[33m\"\u001b[39m]\n\u001b[32m----> \u001b[39m\u001b[32m2\u001b[39m \u001b[38;5;28mprint\u001b[39m(\u001b[38;5;28msum\u001b[39m(list2))\n",
      "\u001b[31mTypeError\u001b[39m: unsupported operand type(s) for +: 'int' and 'str'"
     ]
    }
   ],
   "source": [
    "list2 = [\"a\", \"b\", \"c\", \"d\"]\n",
    "print(sum(list2))"
   ]
  },
  {
   "cell_type": "code",
   "execution_count": null,
   "id": "b7de18f3-5273-44c5-bbd8-c1461d352640",
   "metadata": {},
   "outputs": [
    {
     "ename": "TypeError",
     "evalue": "unsupported operand type(s) for +: 'int' and 'str'",
     "output_type": "error",
     "traceback": [
      "\u001b[31m---------------------------------------------------------------------------\u001b[39m",
      "\u001b[31mTypeError\u001b[39m                                 Traceback (most recent call last)",
      "\u001b[36mCell\u001b[39m\u001b[36m \u001b[39m\u001b[32mIn[24]\u001b[39m\u001b[32m, line 2\u001b[39m\n\u001b[32m      1\u001b[39m list3 = [\u001b[32m1\u001b[39m, \u001b[33m\"\u001b[39m\u001b[33mb\u001b[39m\u001b[33m\"\u001b[39m, \u001b[32m3\u001b[39m, \u001b[33m\"\u001b[39m\u001b[33md\u001b[39m\u001b[33m\"\u001b[39m]\n\u001b[32m----> \u001b[39m\u001b[32m2\u001b[39m \u001b[38;5;28mprint\u001b[39m(\u001b[38;5;28msum\u001b[39m(list3))\n",
      "\u001b[31mTypeError\u001b[39m: unsupported operand type(s) for +: 'int' and 'str'"
     ]
    }
   ],
   "source": [
    "list3 = [1, \"b\", 3, \"d\"]\n",
    "print(sum(list3))"
   ]
  },
  {
   "cell_type": "code",
   "execution_count": null,
   "id": "cdc74c57-67db-48b3-a385-206b87f2f722",
   "metadata": {},
   "outputs": [
    {
     "ename": "TypeError",
     "evalue": "unsupported operand type(s) for +: 'int' and 'str'",
     "output_type": "error",
     "traceback": [
      "\u001b[31m---------------------------------------------------------------------------\u001b[39m",
      "\u001b[31mTypeError\u001b[39m                                 Traceback (most recent call last)",
      "\u001b[36mCell\u001b[39m\u001b[36m \u001b[39m\u001b[32mIn[53]\u001b[39m\u001b[32m, line 2\u001b[39m\n\u001b[32m      1\u001b[39m dict3 = {\u001b[33m\"\u001b[39m\u001b[33m1.1\u001b[39m\u001b[33m\"\u001b[39m:\u001b[32m2.5\u001b[39m, \u001b[32m2.8\u001b[39m:\u001b[32m3.9\u001b[39m, \u001b[32m3.5\u001b[39m:\u001b[32m4.2\u001b[39m, \u001b[32m4.0\u001b[39m:\u001b[32m5.0\u001b[39m}\n\u001b[32m----> \u001b[39m\u001b[32m2\u001b[39m \u001b[38;5;28mprint\u001b[39m(\u001b[33m\"\"\"\u001b[39m\u001b[33mFloat Key & Float Value Dictionary Summation - Sum of \u001b[39m\u001b[33m{\u001b[39m\u001b[33m\"\u001b[39m\u001b[33m1.1\u001b[39m\u001b[33m\"\u001b[39m\u001b[33m:2.5, 2.8:3.9, 3.5:4.2, 4.0:5.0}: \u001b[39m\u001b[33m\"\"\"\u001b[39m, \u001b[38;5;28msum\u001b[39m(dict3))\n",
      "\u001b[31mTypeError\u001b[39m: unsupported operand type(s) for +: 'int' and 'str'"
     ]
    }
   ],
   "source": [
    "dict3 = {\"1.1\":2.5, 2.8:3.9, 3.5:4.2, 4.0:5.0}\n",
    "print(\"\"\"Float Key & Float Value Dictionary Summation - Sum of {\"1.1\":2.5, 2.8:3.9, 3.5:4.2, 4.0:5.0}: \"\"\", sum(dict3))"
   ]
  },
  {
   "cell_type": "code",
   "execution_count": null,
   "id": "61866ed1-fef8-4efe-9bcc-c8af259f3153",
   "metadata": {},
   "outputs": [],
   "source": []
  },
  {
   "cell_type": "code",
   "execution_count": null,
   "id": "cabc8174-cbd7-421f-8234-a0c4209a4f7b",
   "metadata": {},
   "outputs": [],
   "source": []
  },
  {
   "cell_type": "code",
   "execution_count": null,
   "id": "5b30e35d-7d10-4989-8b57-6f265ace01f8",
   "metadata": {},
   "outputs": [],
   "source": []
  },
  {
   "cell_type": "code",
   "execution_count": null,
   "id": "8e62fde0-9e02-44ff-ad2a-77618278b65f",
   "metadata": {},
   "outputs": [],
   "source": []
  },
  {
   "cell_type": "code",
   "execution_count": null,
   "id": "81c48829-1940-4933-969f-754c56e44249",
   "metadata": {},
   "outputs": [],
   "source": []
  },
  {
   "cell_type": "code",
   "execution_count": null,
   "id": "2c4bac08-576f-4c66-86b1-f82e06fe9ccd",
   "metadata": {},
   "outputs": [],
   "source": []
  },
  {
   "cell_type": "markdown",
   "id": "cc7702e8-39be-44a7-bfab-7d865f64ad3d",
   "metadata": {},
   "source": [
    "## Collections Boolean Operations\n",
    "\n",
    "Besides Membership Operators and functions that return a Boolean value, there are other Boolean operations applicable on collections.\n",
    "- $any(iterable)$ returns True if any member of the iterable is true.\n",
    "- $all(iterable)$ returns True if all members of the iterable are true."
   ]
  },
  {
   "cell_type": "code",
   "execution_count": null,
   "id": "34303254-77cc-45d4-bdcd-fc62f1f6cb51",
   "metadata": {},
   "outputs": [],
   "source": []
  },
  {
   "cell_type": "code",
   "execution_count": null,
   "id": "da2bfcd6-bea9-4cb2-bc3d-a55630604e1b",
   "metadata": {},
   "outputs": [],
   "source": []
  },
  {
   "cell_type": "code",
   "execution_count": null,
   "id": "9b601395-9c52-4d31-8774-34d4b0c9d24f",
   "metadata": {},
   "outputs": [],
   "source": []
  },
  {
   "cell_type": "markdown",
   "id": "90a4cc73-b60f-4545-9ad2-751f03a430a0",
   "metadata": {},
   "source": [
    "## Collections Concatenation Operations"
   ]
  },
  {
   "cell_type": "code",
   "execution_count": null,
   "id": "b551efe9-98b8-4ee2-ab17-59d0baf77722",
   "metadata": {},
   "outputs": [
    {
     "name": "stdout",
     "output_type": "stream",
     "text": [
      "(1, 2, 3, 4, 5, 6, 7, 8, 9, 10)\n"
     ]
    }
   ],
   "source": [
    "tuple1 = (1,2,3,4,5)\n",
    "tuple2 = (6,7,8,9,10)\n",
    "\n",
    "print(tuple1 + tuple2)"
   ]
  },
  {
   "cell_type": "code",
   "execution_count": null,
   "id": "e5630669-4acb-4d2c-a7dc-ae4bc66cd550",
   "metadata": {},
   "outputs": [],
   "source": []
  },
  {
   "cell_type": "code",
   "execution_count": null,
   "id": "7327ad08-46e6-4395-96d0-74aaa56aa10c",
   "metadata": {},
   "outputs": [
    {
     "name": "stdout",
     "output_type": "stream",
     "text": [
      "[1, 2, 3, 4, 5, 6, 7, 8, 9, 10]\n"
     ]
    }
   ],
   "source": [
    "list1 = [1,2,3,4,5]\n",
    "list2 = [6,7,8,9,10]\n",
    "\n",
    "print(list1 + list2)"
   ]
  },
  {
   "cell_type": "code",
   "execution_count": null,
   "id": "faf38e21-6738-4115-9484-9ef9399b9cd7",
   "metadata": {},
   "outputs": [],
   "source": []
  },
  {
   "cell_type": "code",
   "execution_count": null,
   "id": "83823ad9-fc27-43dd-9aac-21485380ee17",
   "metadata": {},
   "outputs": [],
   "source": []
  },
  {
   "cell_type": "code",
   "execution_count": null,
   "id": "42790946-e96b-4d07-98ec-9bf2fc0c6784",
   "metadata": {},
   "outputs": [],
   "source": []
  },
  {
   "cell_type": "markdown",
   "id": "8cb979e2-2251-46db-a0fc-8f81f7e0c63c",
   "metadata": {},
   "source": [
    "## Collections Enumerations Operations\n",
    "\n",
    "- [$enumerate(iterable, start=0)$](https://docs.python.org/3/library/functions.html#enumerate) returns an enumerate object"
   ]
  },
  {
   "cell_type": "code",
   "execution_count": null,
   "id": "329d9acd-e54d-4802-ab91-bf7c00ef11ad",
   "metadata": {},
   "outputs": [],
   "source": []
  },
  {
   "cell_type": "code",
   "execution_count": null,
   "id": "f8500b5f-45c7-4a03-8c95-d63004b133da",
   "metadata": {},
   "outputs": [],
   "source": []
  },
  {
   "cell_type": "code",
   "execution_count": null,
   "id": "4f791aa0-f20f-477c-85ed-42949b59540c",
   "metadata": {},
   "outputs": [],
   "source": []
  },
  {
   "cell_type": "code",
   "execution_count": null,
   "id": "0edb4f14-a6ac-4662-bd18-c07b51efbc56",
   "metadata": {},
   "outputs": [],
   "source": []
  },
  {
   "cell_type": "code",
   "execution_count": null,
   "id": "c27544d2-d27a-4849-b729-950d6b62f26d",
   "metadata": {},
   "outputs": [],
   "source": []
  },
  {
   "cell_type": "markdown",
   "id": "8e33f945",
   "metadata": {},
   "source": [
    "# Collection Reversal"
   ]
  },
  {
   "cell_type": "markdown",
   "id": "e963e40d",
   "metadata": {},
   "source": [
    "Python provides following built-in methods to reverse a sequence:\n",
    "\n",
    "- Slicing: <br>\n",
    "reversed copy of a sequence can be created using full negative slicing: inputSequence[::-1].\n",
    "This is the simplest method of reversing any iterable object.\n",
    "\n",
    "- Built-in `reverse()` function: <br>\n",
    "`inputSequence.reverse()` reverses the sequence in place i.e. the original sequence itself is reversed. \n",
    "Since the original sequence itself is updated, `reverse()` is implemented only by mutable collections like lists.\n",
    "\n",
    "- Built-in `reversed()` function: <br>\n",
    "returns a reversed copy of the original sequence, leaving original sequence unchanged.\n",
    "`reversed(sequence)` function calls the input sequence's `__reversed__()` function to implement reverse iteration. It should return a new iterator object that iterates over all the objects in the container in reverse order.\n",
    "If the `__reversed__()` method is not provided, `reversed()` falls back to using the sequence protocol (`__len__()` and `__getitem__()`).\n",
    "Objects that support the sequence protocol should only provide `__reversed__()` if they can provide an implementation that is more efficient than the one provided by `reversed()`.\n",
    "\n",
    "- Built-in `object.__reversed__()` function: <br>\n",
    "`object.__reversed__()`, if implemented by the object, returns a new iterator object that iterates over all the objects in the container in reverse order.\n",
    "Objects that support the sequence protocol should only provide `__reversed__()` if they can provide an implementation that is more efficient than the one provided by `reversed()`.\n",
    "    \n",
    "\n",
    "\n",
    "Reference: [object.\\_\\_reversed\\_\\_](https://docs.python.org/3/reference/datamodel.html#object.__reversed__) (docs.python.org)\n",
    "\n",
    "\n",
    "ℹ️ Hashable and mapping objects, like sets and dictionaries cannot be reversed, at least not in traditional sense iof a sequence."
   ]
  },
  {
   "cell_type": "markdown",
   "id": "3611ea37",
   "metadata": {},
   "source": []
  },
  {
   "cell_type": "markdown",
   "id": "d7faa457",
   "metadata": {},
   "source": []
  },
  {
   "cell_type": "markdown",
   "id": "8f2b9340",
   "metadata": {},
   "source": []
  }
 ],
 "metadata": {
  "kernelspec": {
   "display_name": "Python 3 (ipykernel)",
   "language": "python",
   "name": "python3"
  },
  "language_info": {
   "codemirror_mode": {
    "name": "ipython",
    "version": 3
   },
   "file_extension": ".py",
   "mimetype": "text/x-python",
   "name": "python",
   "nbconvert_exporter": "python",
   "pygments_lexer": "ipython3",
   "version": "3.13.2"
  }
 },
 "nbformat": 4,
 "nbformat_minor": 5
}
