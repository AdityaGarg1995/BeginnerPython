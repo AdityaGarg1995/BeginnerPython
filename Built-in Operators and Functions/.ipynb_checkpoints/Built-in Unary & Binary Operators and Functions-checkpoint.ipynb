{
 "cells": [
  {
   "cell_type": "markdown",
   "id": "350011b6",
   "metadata": {},
   "source": [
    "# Unary Operators and Functions"
   ]
  },
  {
   "cell_type": "markdown",
   "id": "16b680db",
   "metadata": {},
   "source": [
    "## Unary Arithmetic Operators\n",
    "\n",
    "Unary Operators take only one operand.\n",
    "Examples of such operators include sign change, logical negation, factorial etc.\n",
    "\n",
    "Unary operators have higher priority than binary operators, and are evaluated first in any expression\n",
    "\n",
    "Factorial and other unary operators that need libraries to be installed are not covered in this notebook"
   ]
  },
  {
   "cell_type": "markdown",
   "id": "a6d01c05-245f-439f-a5c8-d1e300a70026",
   "metadata": {},
   "source": [
    "### Unary $-$ operator \n",
    "It changes the sign of the input numeric data type"
   ]
  },
  {
   "cell_type": "code",
   "execution_count": 72,
   "id": "26eb0603",
   "metadata": {},
   "outputs": [
    {
     "name": "stdout",
     "output_type": "stream",
     "text": [
      "-4\n",
      "-4.5\n",
      "4\n",
      "-11\n"
     ]
    }
   ],
   "source": [
    "print(-4)  ### print an integer with negative sign\n",
    "print(-4.5)  ### print an integer with negative sign\n",
    "print(-(-4))  ### sign change a negative value integer\n",
    "print(-0b1011) ### convert binary number to integer and change sign"
   ]
  },
  {
   "cell_type": "code",
   "execution_count": 73,
   "id": "1c0ad992",
   "metadata": {
    "scrolled": true
   },
   "outputs": [
    {
     "name": "stdout",
     "output_type": "stream",
     "text": [
      "4\n",
      "4.5\n",
      "4j\n",
      "11\n"
     ]
    }
   ],
   "source": [
    "### Unary + operator doesnt actually do anything - the input remains unchanged and is yielded as output\n",
    "\n",
    "print(+4)  \n",
    "print(+4.5)  \n",
    "print(+4j)  \n",
    "print(+0b1011)"
   ]
  },
  {
   "cell_type": "markdown",
   "id": "d0fc9a20",
   "metadata": {},
   "source": [
    "### Built-in Unary Arithmetic Functions"
   ]
  },
  {
   "cell_type": "markdown",
   "id": "17a24141",
   "metadata": {},
   "source": [
    "#### built-in $abs()$ function\n",
    "\n",
    "**$abs(x)$** function results in absolute value i.e. magnitude of a number:\n",
    "\n",
    "1. For Rational Numbers, it corresponds to the value without minus sign for negative number and the number itself for a non-negative number.\n",
    "2. For Complex Numbers, it corresponds to the magnitude. for a complex number $a+jb$, magnitude = $√a² + b²$"
   ]
  },
  {
   "cell_type": "code",
   "execution_count": 26,
   "id": "c8cb6c03-0e8c-494f-9e32-cd3e1359ea58",
   "metadata": {},
   "outputs": [
    {
     "name": "stdout",
     "output_type": "stream",
     "text": [
      "Help on built-in function abs in module builtins:\n",
      "\n",
      "abs(x, /)\n",
      "    Return the absolute value of the argument.\n",
      "\n"
     ]
    }
   ],
   "source": [
    "help(abs)"
   ]
  },
  {
   "cell_type": "code",
   "execution_count": null,
   "id": "03637bc1-900c-447c-9495-8f299a10ccea",
   "metadata": {},
   "outputs": [],
   "source": []
  },
  {
   "cell_type": "code",
   "execution_count": 27,
   "id": "5e22b3c0",
   "metadata": {},
   "outputs": [
    {
     "name": "stdout",
     "output_type": "stream",
     "text": [
      "7.25\n",
      "5.830951894845301\n"
     ]
    }
   ],
   "source": [
    "print(abs(-7.25))\n",
    "print(abs(3+5j))"
   ]
  },
  {
   "cell_type": "code",
   "execution_count": null,
   "id": "19f410e1-ea4e-45bd-a097-8d9ce91d38d4",
   "metadata": {},
   "outputs": [],
   "source": []
  },
  {
   "cell_type": "markdown",
   "id": "647bb52f",
   "metadata": {},
   "source": [
    "#### built-in $round()$ function\n",
    "**$roundx()$** function returns a floating point number that is a rounded version of the specified number $x$, with the specified number of decimals.\n",
    "    The default number of decimals is 0, meaning that the function will return the nearest integer."
   ]
  },
  {
   "cell_type": "code",
   "execution_count": 28,
   "id": "39b447e2-92cd-497b-8735-1676f45d1219",
   "metadata": {},
   "outputs": [
    {
     "name": "stdout",
     "output_type": "stream",
     "text": [
      "Help on built-in function round in module builtins:\n",
      "\n",
      "round(number, ndigits=None)\n",
      "    Round a number to a given precision in decimal digits.\n",
      "\n",
      "    The return value is an integer if ndigits is omitted or None.  Otherwise\n",
      "    the return value has the same type as the number.  ndigits may be negative.\n",
      "\n"
     ]
    }
   ],
   "source": [
    "help(round)"
   ]
  },
  {
   "cell_type": "code",
   "execution_count": null,
   "id": "f9f114f5-74df-4d82-a0af-9e9c8ccd8fad",
   "metadata": {},
   "outputs": [],
   "source": []
  },
  {
   "cell_type": "code",
   "execution_count": 29,
   "id": "3aea1a54",
   "metadata": {},
   "outputs": [
    {
     "name": "stdout",
     "output_type": "stream",
     "text": [
      "6\n",
      "5.77\n"
     ]
    }
   ],
   "source": [
    "print(round(5.76543))\n",
    "print(round(5.76543, 2))"
   ]
  },
  {
   "cell_type": "code",
   "execution_count": null,
   "id": "147ef35c-c59d-47fe-aba0-47bc6a786ce5",
   "metadata": {},
   "outputs": [],
   "source": []
  },
  {
   "cell_type": "markdown",
   "id": "e736b856-c088-4d88-9bc6-922ca0767f7b",
   "metadata": {},
   "source": [
    "------------------------------------------------------------"
   ]
  },
  {
   "cell_type": "markdown",
   "id": "8bbcb2ec",
   "metadata": {},
   "source": [
    "## Unary Logical Operators"
   ]
  },
  {
   "cell_type": "markdown",
   "id": "a9933410",
   "metadata": {},
   "source": [
    "### Unary $not$ Operator\n",
    "Unary not operator is the logical negation operator. \n",
    "It changes boolean values to opposite one : False to True and True to False"
   ]
  },
  {
   "cell_type": "code",
   "execution_count": 22,
   "id": "0f1d1b4d",
   "metadata": {},
   "outputs": [
    {
     "name": "stdout",
     "output_type": "stream",
     "text": [
      "False\n",
      "True\n",
      "False\n",
      "False\n",
      "True\n"
     ]
    }
   ],
   "source": [
    "print(not (True))\n",
    "print(not (False))\n",
    "\n",
    "print(not (-4j))     ### changing boolean value of a numeric datatype\n",
    "print(not (\"Hello\")) ### changing boolean value of a string datatype\n",
    "print(not (0))       ### changing boolean value of 0"
   ]
  },
  {
   "cell_type": "code",
   "execution_count": null,
   "id": "31c16b47",
   "metadata": {},
   "outputs": [],
   "source": []
  },
  {
   "cell_type": "markdown",
   "id": "406a4fce",
   "metadata": {},
   "source": [
    "## Unary Bitwise Operators\n",
    "\n",
    "Unary bitwise operators are used to perform bitwise calculations on single integer. The integers are first converted into binary and then operations are performed on each bit or corresponding pair of bits. The result is then returned in decimal format."
   ]
  },
  {
   "cell_type": "markdown",
   "id": "0f490c67",
   "metadata": {},
   "source": [
    "### Unary Bitwise NOT Operator\n",
    "Python Bitwise Not (~) Operator transforms 0 bits to 1 and 1 bits to 0, resulting in the one’s complement of the binary number."
   ]
  },
  {
   "cell_type": "code",
   "execution_count": 21,
   "id": "7f6585d9",
   "metadata": {},
   "outputs": [
    {
     "name": "stdout",
     "output_type": "stream",
     "text": [
      "-10\n",
      "-11\n",
      "10\n"
     ]
    }
   ],
   "source": [
    "a = 9\n",
    "b = 10\n",
    "c = -11\n",
    "\n",
    "print(~a)\n",
    "print(~b)\n",
    "print(~c)"
   ]
  },
  {
   "cell_type": "code",
   "execution_count": null,
   "id": "d7bea06a",
   "metadata": {},
   "outputs": [],
   "source": []
  },
  {
   "cell_type": "markdown",
   "id": "7ca5f33a",
   "metadata": {},
   "source": [
    "### Unary Bitwise Shift Operators\n",
    "Bitwise Shift operators are used to shift the bits of a number left or right thereby multiplying or dividing the number by two respectively. They can be used as equivalent of multiplying or dividing a number by some power of 2."
   ]
  },
  {
   "cell_type": "markdown",
   "id": "60c8e8ea",
   "metadata": {},
   "source": [
    "#### Unary Bitwise Right Shift ($>>$) Operator\n",
    "Bitwise Right Shift $>>$ Operator shifts the bits of the number to the right and fills 0 on voids left( fills 1 in the case of a negative number) as a result. Similar effect as of dividing the number with some power of 2."
   ]
  },
  {
   "cell_type": "code",
   "execution_count": 13,
   "id": "5115534a",
   "metadata": {},
   "outputs": [
    {
     "name": "stdout",
     "output_type": "stream",
     "text": [
      "a >> 1 = 5\n",
      "b >> 1 = -5\n"
     ]
    }
   ],
   "source": [
    "a = 10\n",
    "b = -10\n",
    "\n",
    "# print bitwise right shift operator\n",
    "print(\"a >> 1 =\", a >> 1)\n",
    "print(\"b >> 1 =\", b >> 1)"
   ]
  },
  {
   "cell_type": "code",
   "execution_count": null,
   "id": "d6f617f7",
   "metadata": {},
   "outputs": [],
   "source": []
  },
  {
   "cell_type": "markdown",
   "id": "575f6699",
   "metadata": {},
   "source": [
    "#### Unary Bitwise Left  Shift ($<<$) Operator\n",
    "Bitwise Right Left ($<<$) Operator sshifts the bits of the number to the left and fills 0 on voids right as a result. Similar effect as of multiplying the number with some power of 2."
   ]
  },
  {
   "cell_type": "code",
   "execution_count": 31,
   "id": "1ecb8791",
   "metadata": {},
   "outputs": [
    {
     "name": "stdout",
     "output_type": "stream",
     "text": [
      "a << 1 = 10\n",
      "b << 1 = -40\n"
     ]
    }
   ],
   "source": [
    "a = 5\n",
    "b = -10\n",
    "\n",
    "# print bitwise left shift operator\n",
    "print(\"a << 1 =\", a << 1)\n",
    "print(\"b << 1 =\", b << 2)"
   ]
  },
  {
   "cell_type": "code",
   "execution_count": null,
   "id": "6617925c",
   "metadata": {},
   "outputs": [],
   "source": []
  },
  {
   "cell_type": "markdown",
   "id": "ad6f4116-68d4-4c33-8e95-fb526aad923b",
   "metadata": {},
   "source": [
    "----------------------------------------------------------------------------------"
   ]
  },
  {
   "cell_type": "markdown",
   "id": "616521a0",
   "metadata": {},
   "source": [
    "-------------------------------------------------------------------------------------------------------------------------------"
   ]
  },
  {
   "cell_type": "markdown",
   "id": "21ecfa58",
   "metadata": {},
   "source": [
    "# Binary  Operators and Functions\n",
    "\n",
    "Binary operators / Functions take 2 operands and return a single value as output.\n",
    "\n",
    "Operand priority is applicable in cases where multiple operators are used in single line eg. 2 + 3 * 8 / 4"
   ]
  },
  {
   "cell_type": "markdown",
   "id": "23148576",
   "metadata": {},
   "source": [
    "## Binary Arithmetic Operators"
   ]
  },
  {
   "cell_type": "markdown",
   "id": "5cd4b426",
   "metadata": {},
   "source": [
    "### Binary $+$ Operator\n",
    "Can be used for numeric addition, string concatenation, list joining, tuple joining\n",
    "\n",
    "For floating point operations visit: https://docs.python.org/3/tutorial/floatingpoint.html"
   ]
  },
  {
   "cell_type": "code",
   "execution_count": 18,
   "id": "5ae9986d",
   "metadata": {},
   "outputs": [
    {
     "name": "stdout",
     "output_type": "stream",
     "text": [
      "4\n",
      "9\n",
      "24\n"
     ]
    }
   ],
   "source": [
    "### Addition of non-float numeric datatypes\n",
    "print(2 + 2)\n",
    "print(2 + 3 + 4)\n",
    "print(0b01011 + 0b1101)"
   ]
  },
  {
   "cell_type": "code",
   "execution_count": 20,
   "id": "cbe24322",
   "metadata": {},
   "outputs": [
    {
     "name": "stdout",
     "output_type": "stream",
     "text": [
      "2.9\n",
      "1.9100000000000001\n",
      "0.8333333333333333\n",
      "False\n"
     ]
    }
   ],
   "source": [
    "### Addition of float & fractional numeric data types: please refer https://docs.python.org/3/tutorial/floatingpoint.html\n",
    "### Floating points and fractions are only approximate representations, so operations may not yield expected results\n",
    "\n",
    "print(1.90 + 1)\n",
    "print(0.90 + 1.01)\n",
    "print(1/6 + 2/3)\n",
    "\n",
    "print((0.1 + 0.1 + 0.1) == 0.3)"
   ]
  },
  {
   "cell_type": "code",
   "execution_count": 15,
   "id": "f4aab2ca",
   "metadata": {},
   "outputs": [
    {
     "name": "stdout",
     "output_type": "stream",
     "text": [
      "Hello World\n",
      "Hello World\n",
      "Hello World\n"
     ]
    }
   ],
   "source": [
    "### String concatenation\n",
    "print(\"Hello \" + \"World\")   ### String concatenation with both strings in double quotes\n",
    "print(\"Hello \" + 'World')   ### String concatenation with one string in double quotes, other in single quotes\n",
    "print('Hello ' + 'World')   ### String concatenation with both strings in single quotes"
   ]
  },
  {
   "cell_type": "code",
   "execution_count": 10,
   "id": "49beee77",
   "metadata": {},
   "outputs": [
    {
     "name": "stdout",
     "output_type": "stream",
     "text": [
      "['a', 'b', 20, 40, True, 'c', 'd', 30, 50, False]\n"
     ]
    }
   ],
   "source": [
    "## Joining lists and tuples\n",
    "\n",
    "list1 = ['a', 'b', 20, 40, True]\n",
    "list2 = ['c', 'd', 30, 50, False]\n",
    "print(list1 + list2)\n",
    "\n",
    "tuple1 = ('a', 'b', 20, 40, True)\n",
    "tuple2 = ('c', 'd', 30, 50, False)\n",
    "print(tuple1 + tuple2)"
   ]
  },
  {
   "cell_type": "code",
   "execution_count": 1,
   "id": "76fa3140",
   "metadata": {
    "scrolled": true
   },
   "outputs": [
    {
     "ename": "TypeError",
     "evalue": "unsupported operand type(s) for +: 'dict' and 'dict'",
     "output_type": "error",
     "traceback": [
      "\u001b[1;31m---------------------------------------------------------------------------\u001b[0m",
      "\u001b[1;31mTypeError\u001b[0m                                 Traceback (most recent call last)",
      "Cell \u001b[1;32mIn[1], line 5\u001b[0m\n\u001b[0;32m      3\u001b[0m dict1 \u001b[38;5;241m=\u001b[39m \u001b[38;5;28mdict\u001b[39m(foo\u001b[38;5;241m=\u001b[39m\u001b[38;5;241m100\u001b[39m, bar\u001b[38;5;241m=\u001b[39m\u001b[38;5;241m200\u001b[39m)\n\u001b[0;32m      4\u001b[0m dict2 \u001b[38;5;241m=\u001b[39m \u001b[38;5;28mdict\u001b[39m(clu\u001b[38;5;241m=\u001b[39m\u001b[38;5;241m300\u001b[39m, riq\u001b[38;5;241m=\u001b[39m\u001b[38;5;241m400\u001b[39m)\n\u001b[1;32m----> 5\u001b[0m \u001b[38;5;28mprint\u001b[39m(\u001b[43mdict1\u001b[49m\u001b[43m \u001b[49m\u001b[38;5;241;43m+\u001b[39;49m\u001b[43m \u001b[49m\u001b[43mdict2\u001b[49m)\n",
      "\u001b[1;31mTypeError\u001b[0m: unsupported operand type(s) for +: 'dict' and 'dict'"
     ]
    }
   ],
   "source": [
    "## Attempting to join dictionaries causes error\n",
    "\n",
    "dict1 = dict(foo=100, bar=200)\n",
    "dict2 = dict(clu=300, riq=400)\n",
    "print(dict1 + dict2)"
   ]
  },
  {
   "cell_type": "code",
   "execution_count": 2,
   "id": "b3471ff1",
   "metadata": {},
   "outputs": [
    {
     "ename": "TypeError",
     "evalue": "unsupported operand type(s) for +: 'set' and 'set'",
     "output_type": "error",
     "traceback": [
      "\u001b[1;31m---------------------------------------------------------------------------\u001b[0m",
      "\u001b[1;31mTypeError\u001b[0m                                 Traceback (most recent call last)",
      "Cell \u001b[1;32mIn[2], line 5\u001b[0m\n\u001b[0;32m      3\u001b[0m set1 \u001b[38;5;241m=\u001b[39m \u001b[38;5;28mset\u001b[39m((\u001b[38;5;124m'\u001b[39m\u001b[38;5;124ma\u001b[39m\u001b[38;5;124m'\u001b[39m, \u001b[38;5;124m'\u001b[39m\u001b[38;5;124mb\u001b[39m\u001b[38;5;124m'\u001b[39m, \u001b[38;5;241m20\u001b[39m, \u001b[38;5;241m40\u001b[39m, \u001b[38;5;28;01mTrue\u001b[39;00m))\n\u001b[0;32m      4\u001b[0m set2 \u001b[38;5;241m=\u001b[39m \u001b[38;5;28mset\u001b[39m((\u001b[38;5;124m'\u001b[39m\u001b[38;5;124mc\u001b[39m\u001b[38;5;124m'\u001b[39m, \u001b[38;5;124m'\u001b[39m\u001b[38;5;124md\u001b[39m\u001b[38;5;124m'\u001b[39m, \u001b[38;5;241m30\u001b[39m, \u001b[38;5;241m50\u001b[39m, \u001b[38;5;28;01mFalse\u001b[39;00m))\n\u001b[1;32m----> 5\u001b[0m \u001b[38;5;28mprint\u001b[39m(\u001b[43mset1\u001b[49m\u001b[43m \u001b[49m\u001b[38;5;241;43m+\u001b[39;49m\u001b[43m \u001b[49m\u001b[43mset2\u001b[49m)\n",
      "\u001b[1;31mTypeError\u001b[0m: unsupported operand type(s) for +: 'set' and 'set'"
     ]
    }
   ],
   "source": [
    "## Attempting to join sets causes error\n",
    "\n",
    "set1 = set(('a', 'b', 20, 40, True))\n",
    "set2 = set(('c', 'd', 30, 50, False))\n",
    "print(set1 + set2)"
   ]
  },
  {
   "cell_type": "code",
   "execution_count": null,
   "id": "0857b5e6",
   "metadata": {},
   "outputs": [],
   "source": []
  },
  {
   "cell_type": "code",
   "execution_count": null,
   "id": "d4be8208",
   "metadata": {},
   "outputs": [],
   "source": []
  },
  {
   "cell_type": "markdown",
   "id": "15f0262c",
   "metadata": {},
   "source": [
    "### Binary $-$ Operator\n",
    "Can be used for subtraction but Cannot be overridden for any string operations"
   ]
  },
  {
   "cell_type": "code",
   "execution_count": 25,
   "id": "a50ef396",
   "metadata": {},
   "outputs": [
    {
     "name": "stdout",
     "output_type": "stream",
     "text": [
      "6\n",
      "2\n"
     ]
    }
   ],
   "source": [
    "### Subtraction\n",
    "print(9 - 3)\n",
    "print(9 - 3 - 4) ### --> Left-sided binding hence result is 9-3=6 then 6-4=2"
   ]
  },
  {
   "cell_type": "code",
   "execution_count": 27,
   "id": "926ee6fe",
   "metadata": {},
   "outputs": [
    {
     "ename": "TypeError",
     "evalue": "unsupported operand type(s) for -: 'list' and 'list'",
     "output_type": "error",
     "traceback": [
      "\u001b[1;31m---------------------------------------------------------------------------\u001b[0m",
      "\u001b[1;31mTypeError\u001b[0m                                 Traceback (most recent call last)",
      "Cell \u001b[1;32mIn[27], line 4\u001b[0m\n\u001b[0;32m      1\u001b[0m list1 \u001b[38;5;241m=\u001b[39m [\u001b[38;5;124m'\u001b[39m\u001b[38;5;124ma\u001b[39m\u001b[38;5;124m'\u001b[39m, \u001b[38;5;124m'\u001b[39m\u001b[38;5;124mb\u001b[39m\u001b[38;5;124m'\u001b[39m, \u001b[38;5;241m20\u001b[39m, \u001b[38;5;241m40\u001b[39m, \u001b[38;5;28;01mTrue\u001b[39;00m]\n\u001b[0;32m      2\u001b[0m list2 \u001b[38;5;241m=\u001b[39m [\u001b[38;5;124m'\u001b[39m\u001b[38;5;124ma\u001b[39m\u001b[38;5;124m'\u001b[39m, \u001b[38;5;124m'\u001b[39m\u001b[38;5;124mb\u001b[39m\u001b[38;5;124m'\u001b[39m, \u001b[38;5;241m30\u001b[39m, \u001b[38;5;241m50\u001b[39m, \u001b[38;5;28;01mFalse\u001b[39;00m]\n\u001b[1;32m----> 4\u001b[0m \u001b[38;5;28mprint\u001b[39m(\u001b[43mlist1\u001b[49m\u001b[43m \u001b[49m\u001b[38;5;241;43m-\u001b[39;49m\u001b[43m \u001b[49m\u001b[43mlist2\u001b[49m)\n",
      "\u001b[1;31mTypeError\u001b[0m: unsupported operand type(s) for -: 'list' and 'list'"
     ]
    }
   ],
   "source": [
    "list1 = ['a', 'b', 20, 40, True]\n",
    "list2 = ['a', 'b', 30, 50, False]\n",
    "\n",
    "print(list1 - list2)"
   ]
  },
  {
   "cell_type": "code",
   "execution_count": 28,
   "id": "e90ba8f9",
   "metadata": {},
   "outputs": [
    {
     "ename": "TypeError",
     "evalue": "set expected at most 1 argument, got 5",
     "output_type": "error",
     "traceback": [
      "\u001b[1;31m---------------------------------------------------------------------------\u001b[0m",
      "\u001b[1;31mTypeError\u001b[0m                                 Traceback (most recent call last)",
      "Cell \u001b[1;32mIn[28], line 1\u001b[0m\n\u001b[1;32m----> 1\u001b[0m set1 \u001b[38;5;241m=\u001b[39m \u001b[38;5;28;43mset\u001b[39;49m\u001b[43m(\u001b[49m\u001b[38;5;124;43m'\u001b[39;49m\u001b[38;5;124;43ma\u001b[39;49m\u001b[38;5;124;43m'\u001b[39;49m\u001b[43m,\u001b[49m\u001b[43m \u001b[49m\u001b[38;5;124;43m'\u001b[39;49m\u001b[38;5;124;43mb\u001b[39;49m\u001b[38;5;124;43m'\u001b[39;49m\u001b[43m,\u001b[49m\u001b[43m \u001b[49m\u001b[38;5;241;43m20\u001b[39;49m\u001b[43m,\u001b[49m\u001b[43m \u001b[49m\u001b[38;5;241;43m40\u001b[39;49m\u001b[43m,\u001b[49m\u001b[43m \u001b[49m\u001b[38;5;28;43;01mTrue\u001b[39;49;00m\u001b[43m)\u001b[49m\n\u001b[0;32m      2\u001b[0m set2 \u001b[38;5;241m=\u001b[39m \u001b[38;5;28mset\u001b[39m(\u001b[38;5;124m'\u001b[39m\u001b[38;5;124mc\u001b[39m\u001b[38;5;124m'\u001b[39m, \u001b[38;5;124m'\u001b[39m\u001b[38;5;124md\u001b[39m\u001b[38;5;124m'\u001b[39m, \u001b[38;5;241m30\u001b[39m, \u001b[38;5;241m50\u001b[39m, \u001b[38;5;28;01mFalse\u001b[39;00m)\n\u001b[0;32m      3\u001b[0m \u001b[38;5;28mprint\u001b[39m(set1 \u001b[38;5;241m-\u001b[39m set2)\n",
      "\u001b[1;31mTypeError\u001b[0m: set expected at most 1 argument, got 5"
     ]
    }
   ],
   "source": [
    "set1 = set('a', 'b', 20, 40, True)\n",
    "set2 = set('c', 'd', 30, 50, False)\n",
    "print(set1 - set2)"
   ]
  },
  {
   "cell_type": "code",
   "execution_count": null,
   "id": "4e0d4478",
   "metadata": {},
   "outputs": [],
   "source": []
  },
  {
   "cell_type": "markdown",
   "id": "fa37f75b",
   "metadata": {},
   "source": [
    "### Binary $*$ Operator and $**$ Operator\n",
    "\n",
    "Binary $*$ Operator Can be used for multiplication and string repetition\n",
    "\n",
    "Binary $**$ Operator Can be used for Exponentiation using positive right side operand, and for finding Root by using fractional right side operand (hence, used as radical operand)."
   ]
  },
  {
   "cell_type": "markdown",
   "id": "4747a1ad-b25e-42ae-8c20-0852659277c6",
   "metadata": {},
   "source": [
    "$x**y$ is evaluated as $x^y$.\n",
    "\n",
    "If the base $x$ is a negative number, it should be enclosed in brackets.\n",
    "Otherwise ** operator assumes the negative sign as unary negation of the result, and calculates the exponent of the magnitude of the number.\n",
    "\n",
    "i.e. if $x$ = $-w$, then $x**y$ is actually calculated as $-(w**y)$, while $(x)**y$ is correctly calculated as."
   ]
  },
  {
   "cell_type": "code",
   "execution_count": null,
   "id": "a103336e-a47f-45ac-86b3-da006386de68",
   "metadata": {},
   "outputs": [],
   "source": []
  },
  {
   "cell_type": "code",
   "execution_count": 3,
   "id": "8da61173",
   "metadata": {},
   "outputs": [
    {
     "name": "stdout",
     "output_type": "stream",
     "text": [
      "27\n",
      "108\n",
      "27\n",
      "108\n",
      "Hello Hello Hello \n",
      "8\n",
      "256\n",
      "3.0\n",
      "0.3333333333333333\n",
      "-7**0.5:  -2.6457513110645907\n",
      "(-7)**0.5:  (1.6200554372175822e-16+2.6457513110645907j)\n",
      "-7**4:  -2401\n",
      "(-7)**4:  2401\n"
     ]
    }
   ],
   "source": [
    "### Multiplication\n",
    "print(9 * 3)\n",
    "print(9 * 3 * 4)\n",
    "print(-9 * -3)\n",
    "print(-9 * -3 * 4)\n",
    "print('Hello ' * 3)      ### Prints the string Hello 3 times\n",
    "\n",
    "\n",
    "### Exponentiation\n",
    "print(2 ** 3)\n",
    "print(2 ** 2 ** 3)       ### --> Right-sided binding hence result is 2**3=8 then 2**8=256\n",
    "print(9 ** 0.5)          ### --> Square root of 9\n",
    "print(9 ** -0.5)         ### --> 9 to the power -1/2\n",
    "\n",
    "\n",
    "## For ** operator, if a negative number is to be given as base, it should be enclosed in brackets.\n",
    "## Otherwise ** operator assumes the negative sign as unary negation of the result, and calculates the exponent of the magnitude of the number.\n",
    "\n",
    "print(\"-7**0.5: \", -7**0.5) ## Calculated as -(7^0.5)\n",
    "print(\"(-7)**0.5: \", (-7)**0.5)  ## Calculated as (-7)^0.5\n",
    "\n",
    "print(\"-7**4: \", -7**4) ## Calculated as -(7^4)\n",
    "print(\"(-7)**4: \", (-7)**4)  ## Calculated as (-7)^4"
   ]
  },
  {
   "cell_type": "code",
   "execution_count": null,
   "id": "ea0e456b-5e35-4a80-a238-bf22b6391af5",
   "metadata": {},
   "outputs": [],
   "source": []
  },
  {
   "cell_type": "code",
   "execution_count": null,
   "id": "8ab2a7d5-470e-48f1-8b6c-f0e1e6ff4427",
   "metadata": {},
   "outputs": [],
   "source": []
  },
  {
   "cell_type": "code",
   "execution_count": null,
   "id": "f7b2751b-ebff-49ee-a1ee-b8de0291f658",
   "metadata": {},
   "outputs": [],
   "source": []
  },
  {
   "cell_type": "markdown",
   "id": "b48e9e95",
   "metadata": {},
   "source": [
    "### Binary $/$ Operator and $//$ Operator\n",
    "Can be used for division but Cannot be overridden for any string operations.\n",
    "\n",
    "Binary $/$ Operator is Default Division which always results in float output <br>\n",
    "Binary $//$ Operator is Integer Division which results in integer IF both operands are integers and the division output is an integer"
   ]
  },
  {
   "cell_type": "code",
   "execution_count": 64,
   "id": "92d41dde",
   "metadata": {},
   "outputs": [
    {
     "name": "stdout",
     "output_type": "stream",
     "text": [
      "1.5\n",
      "1.5\n",
      "1.5\n",
      "1.5\n",
      "1.25\n",
      "-2\n",
      "1.0\n",
      "1.0\n",
      "-2.0\n",
      "1\n"
     ]
    }
   ],
   "source": [
    "### Default Division --> Always results in float output\n",
    "print(6 / 4)\n",
    "print(6 / 4.)\n",
    "print(6. / 4)\n",
    "print(6. / 4.)\n",
    "\n",
    "print(10/4/2) ### --> Left-sided binding hence result is 10/4=2.5 then 2.5/2=1.25\n",
    "\n",
    "\n",
    "## Integer Division --> Results in integer IF both operands are ineteger and the division output is an integer\n",
    "print(6 // -4) ### Integer by Integer division --> Only scenario to yield integer output\n",
    "print(-6. // -4)\n",
    "print(6 // 4.)\n",
    "print(-6. // 4.)\n",
    "\n",
    "print(10//4//2) ### --> Left-sided binding hence result is 10/4=2 then 2/2=1"
   ]
  },
  {
   "cell_type": "markdown",
   "id": "b44d0ea5",
   "metadata": {},
   "source": [
    "### Binary $\\%$ Operator\n",
    "\n",
    "Results in the remainder of the division between its operands.\n",
    "\n",
    "Cannot be overridden for any string operations"
   ]
  },
  {
   "cell_type": "code",
   "execution_count": 25,
   "id": "378831a2",
   "metadata": {},
   "outputs": [
    {
     "name": "stdout",
     "output_type": "stream",
     "text": [
      "2\n",
      "-2.9000000000000004\n",
      "-2\n",
      "194.94647400000002\n",
      "64.14647400000001\n",
      "64.14647400000001\n"
     ]
    }
   ],
   "source": [
    "### Remainder Operation\n",
    "print(14 % 4)\n",
    "print(-14.9 % -4)\n",
    "print(14 % -4)\n",
    "\n",
    "print(394.946474 % 200)\n",
    "print(194.94647400000002 % 65.4)\n",
    "print(394.946474 % 200 % 65.4)   ### --> Left-sided binding hence result is 394.946474 % 200=194.94647400000002 \n",
    "                                 ### then 194.94647400000002 % 65.4=64.14647400000001\n"
   ]
  },
  {
   "cell_type": "code",
   "execution_count": null,
   "id": "76ce426f",
   "metadata": {},
   "outputs": [],
   "source": []
  },
  {
   "cell_type": "markdown",
   "id": "ee4e4ba7",
   "metadata": {},
   "source": [
    "### Exponentiation : $e$ operator a.k.a. $E$ operator\n",
    "$xey$ generates $x * 10^y$ for $x$ >= 0. The output is always float.\n",
    "- $x$ cannot be negative; if  negative number is given in parenthesis the literal e is not evaluated as an operator, and therefore results in error.\n",
    "- $y$, the exponent, can be a negative number\n",
    "- $xey$ can only evaluate for actual numbers and not variables\n",
    "\n",
    "<font color=\"orange\"> **Note:** Python returns an output in most economical way, hence, the outputs for negative exponents or large exponents can result in scientific notation output </font>"
   ]
  },
  {
   "cell_type": "code",
   "execution_count": 8,
   "id": "23d09b8f",
   "metadata": {},
   "outputs": [
    {
     "name": "stdout",
     "output_type": "stream",
     "text": [
      "100000\n",
      "100000.0\n",
      "100000.0\n",
      "<class 'int'>\n",
      "<class 'float'>\n",
      "<class 'float'>\n"
     ]
    }
   ],
   "source": [
    "print(10 ** 5)   ## Results in integer type output\n",
    "print(1e5)       ## Results in float type output\n",
    "print(1E5)       ## Results in float type output\n",
    "\n",
    "print(type(10 ** 5)) \n",
    "print(type(1e5))\n",
    "print(type(1E5)) "
   ]
  },
  {
   "cell_type": "code",
   "execution_count": 16,
   "id": "077f5625",
   "metadata": {},
   "outputs": [
    {
     "name": "stdout",
     "output_type": "stream",
     "text": [
      "1e-05\n",
      "1e-05\n",
      "1e-05\n",
      "<class 'float'>\n",
      "<class 'float'>\n",
      "<class 'float'>\n"
     ]
    }
   ],
   "source": [
    "print(10 ** -5)   ## Results in integer float output\n",
    "print(1e-5)       ## Results in float type output\n",
    "print(1E-5)       ## Results in float type output\n",
    "\n",
    "print(type(10 ** -5)) \n",
    "print(type(1e-5))\n",
    "print(type(1E-5))"
   ]
  },
  {
   "cell_type": "code",
   "execution_count": 17,
   "id": "200ca576-4641-4130-805c-6e62079030ab",
   "metadata": {},
   "outputs": [
    {
     "ename": "SyntaxError",
     "evalue": "invalid syntax. Perhaps you forgot a comma? (639976997.py, line 1)",
     "output_type": "error",
     "traceback": [
      "  \u001b[36mCell\u001b[39m\u001b[36m \u001b[39m\u001b[32mIn[17]\u001b[39m\u001b[32m, line 1\u001b[39m\n\u001b[31m    \u001b[39m\u001b[31mprint((-9)e4)\u001b[39m\n           ^\n\u001b[31mSyntaxError\u001b[39m\u001b[31m:\u001b[39m invalid syntax. Perhaps you forgot a comma?\n"
     ]
    }
   ],
   "source": [
    "print((-9)e4)  ## Entering negative number in parenthesis simply results in error rather than expression getting evaluated"
   ]
  },
  {
   "cell_type": "code",
   "execution_count": null,
   "id": "f0c04ada-bce8-4e39-8260-90284f476dde",
   "metadata": {},
   "outputs": [],
   "source": []
  },
  {
   "cell_type": "code",
   "execution_count": 51,
   "id": "9ba4935a",
   "metadata": {},
   "outputs": [
    {
     "ename": "SyntaxError",
     "evalue": "invalid decimal literal (2990928907.py, line 2)",
     "output_type": "error",
     "traceback": [
      "\u001b[1;36m  Cell \u001b[1;32mIn[51], line 2\u001b[1;36m\u001b[0m\n\u001b[1;33m    print(1e(str(x)))\u001b[0m\n\u001b[1;37m          ^\u001b[0m\n\u001b[1;31mSyntaxError\u001b[0m\u001b[1;31m:\u001b[0m invalid decimal literal\n"
     ]
    }
   ],
   "source": [
    "x = 5\n",
    "print(10e(str(x)))"
   ]
  },
  {
   "cell_type": "code",
   "execution_count": 14,
   "id": "c6341f4c",
   "metadata": {},
   "outputs": [
    {
     "ename": "SyntaxError",
     "evalue": "invalid decimal literal (534312593.py, line 2)",
     "output_type": "error",
     "traceback": [
      "  \u001b[36mCell\u001b[39m\u001b[36m \u001b[39m\u001b[32mIn[14]\u001b[39m\u001b[32m, line 2\u001b[39m\n\u001b[31m    \u001b[39m\u001b[31mprint(10ex)\u001b[39m\n           ^\n\u001b[31mSyntaxError\u001b[39m\u001b[31m:\u001b[39m invalid decimal literal\n"
     ]
    }
   ],
   "source": [
    "x=5\n",
    "print(10ex)"
   ]
  },
  {
   "cell_type": "code",
   "execution_count": 15,
   "id": "f8524b3b-ef79-486a-aaf7-4321ab078f63",
   "metadata": {},
   "outputs": [
    {
     "ename": "NameError",
     "evalue": "name 'xey' is not defined",
     "output_type": "error",
     "traceback": [
      "\u001b[31m---------------------------------------------------------------------------\u001b[39m",
      "\u001b[31mNameError\u001b[39m                                 Traceback (most recent call last)",
      "\u001b[36mCell\u001b[39m\u001b[36m \u001b[39m\u001b[32mIn[15]\u001b[39m\u001b[32m, line 3\u001b[39m\n\u001b[32m      1\u001b[39m x = \u001b[32m2\u001b[39m\n\u001b[32m      2\u001b[39m y = -\u001b[32m3\u001b[39m\n\u001b[32m----> \u001b[39m\u001b[32m3\u001b[39m \u001b[38;5;28mprint\u001b[39m(xey)\n",
      "\u001b[31mNameError\u001b[39m: name 'xey' is not defined"
     ]
    }
   ],
   "source": [
    "x = 2\n",
    "y = -3\n",
    "print(xey)"
   ]
  },
  {
   "cell_type": "code",
   "execution_count": null,
   "id": "e62a05e2-612b-4d8b-bd2f-f69ad84902e6",
   "metadata": {},
   "outputs": [],
   "source": []
  },
  {
   "cell_type": "code",
   "execution_count": null,
   "id": "5e1d3be1",
   "metadata": {},
   "outputs": [],
   "source": []
  },
  {
   "cell_type": "markdown",
   "id": "9302fe77",
   "metadata": {},
   "source": [
    "## Built-in Binary Arithmetic Functions"
   ]
  },
  {
   "cell_type": "markdown",
   "id": "64c6a427-f855-49c1-bf79-23de4a2d87de",
   "metadata": {},
   "source": [
    "### built-in $pow()$ function\n",
    "\n",
    "built-in $pow(x,y,mod=None)$ function takes 2 or 3 arguments: a required base, a required exponent and an optional modulus.\n",
    "If a third parameter is present, it returns $x$ to the power of $y$, modulus $z$ : ${{x^y}\\%(z)}$.\n",
    "\n",
    "- Root can be calculated using the corresponding fraction or decimal number as second argument in $pow()$.\n",
    "- It yields results similar to $**$ operator, with negative base and fractional exponent resulting in a complex number."
   ]
  },
  {
   "cell_type": "code",
   "execution_count": 6,
   "id": "22d72fbf-1b3f-4565-97de-d672d73704eb",
   "metadata": {},
   "outputs": [
    {
     "name": "stdout",
     "output_type": "stream",
     "text": [
      "Help on built-in function pow in module builtins:\n",
      "\n",
      "pow(base, exp, mod=None)\n",
      "    Equivalent to base**exp with 2 arguments or base**exp % mod with 3 arguments\n",
      "\n",
      "    Some types, such as ints, are able to use a more efficient algorithm when\n",
      "    invoked using the three argument form.\n",
      "\n"
     ]
    }
   ],
   "source": [
    "help(pow)"
   ]
  },
  {
   "cell_type": "code",
   "execution_count": null,
   "id": "019ed1e2-4639-4614-94f3-8165f19d568e",
   "metadata": {},
   "outputs": [],
   "source": []
  },
  {
   "cell_type": "code",
   "execution_count": 1,
   "id": "4e930a60",
   "metadata": {},
   "outputs": [
    {
     "name": "stdout",
     "output_type": "stream",
     "text": [
      "64\n",
      "4\n"
     ]
    }
   ],
   "source": [
    "print(pow(4, 3))    ## 4 to the power 3 : 4**3\n",
    "print(pow(4, 3, 5)) ## 4 to the power 3, then the result being input to modulus 5 : 4**3 % 5"
   ]
  },
  {
   "cell_type": "code",
   "execution_count": 3,
   "id": "6c854636-7a8b-4228-905e-a9653bff43e8",
   "metadata": {},
   "outputs": [
    {
     "name": "stdout",
     "output_type": "stream",
     "text": [
      "3.0\n",
      "17.769336928223957\n"
     ]
    }
   ],
   "source": [
    "print(pow(9, 1/2))\n",
    "print(pow(11, 1.2))"
   ]
  },
  {
   "cell_type": "code",
   "execution_count": 1,
   "id": "34cee99e-c777-4f73-821c-0a056b34701e",
   "metadata": {},
   "outputs": [
    {
     "name": "stdout",
     "output_type": "stream",
     "text": [
      "(1.6200554372175822e-16+2.6457513110645907j)\n",
      "(-14.375695553707507-10.444554189426077j)\n"
     ]
    }
   ],
   "source": [
    "## Negative numbers raised to fractional powers result in complex number as output\n",
    "print(pow(-7, 1/2))\n",
    "print(pow(-11, 1.2))"
   ]
  },
  {
   "cell_type": "code",
   "execution_count": null,
   "id": "f96cfa6c-66e2-480d-a677-e7a2bdea898c",
   "metadata": {},
   "outputs": [],
   "source": []
  },
  {
   "cell_type": "code",
   "execution_count": null,
   "id": "25d7a1d0-8a75-4270-bb14-fc6acd1d7fc7",
   "metadata": {},
   "outputs": [],
   "source": []
  },
  {
   "cell_type": "markdown",
   "id": "757c7a5e-c978-4550-ae25-e074181802d7",
   "metadata": {},
   "source": [
    "### math library's exponentiation functions\n",
    "- built-in $math.pow(x, y)$ function -> if $x$ < 0= then $y$ should be > 1\n",
    "    - specialised $math.exp(x)$ generates $e^x$ where $e$ = 2.718281… is the base of natural logarithms. <br>\n",
    "      This is usually more accurate than math.e ** x or pow(math.e, x).\n",
    "    - specialised $math.exp2(x)$ generates $2^x$\n",
    "    - specialised $math.expm1(x)$ generates $e^x - 1$ while *maintaining precision* ; $exp(x) - 1$ for small $x$ can result in loss of precision in Python"
   ]
  },
  {
   "cell_type": "code",
   "execution_count": 9,
   "id": "397c7d8f-d367-4ac8-9081-efd2c0025cd4",
   "metadata": {},
   "outputs": [],
   "source": [
    "import math"
   ]
  },
  {
   "cell_type": "code",
   "execution_count": 10,
   "id": "07df0c1f-fde0-4c96-81a2-72fae60a4b18",
   "metadata": {},
   "outputs": [
    {
     "name": "stdout",
     "output_type": "stream",
     "text": [
      "Help on built-in function pow in module math:\n",
      "\n",
      "pow(x, y, /)\n",
      "    Return x**y (x to the power of y).\n",
      "\n"
     ]
    }
   ],
   "source": [
    "help(math.pow)"
   ]
  },
  {
   "cell_type": "code",
   "execution_count": 11,
   "id": "2f62de6f-e894-40e7-86ae-ae31987201d4",
   "metadata": {},
   "outputs": [
    {
     "name": "stdout",
     "output_type": "stream",
     "text": [
      "Help on built-in function exp in module math:\n",
      "\n",
      "exp(x, /)\n",
      "    Return e raised to the power of x.\n",
      "\n"
     ]
    }
   ],
   "source": [
    "help(math.exp)"
   ]
  },
  {
   "cell_type": "code",
   "execution_count": 12,
   "id": "91b8b8b6-a11d-4411-ac58-c2cca9ca8321",
   "metadata": {},
   "outputs": [
    {
     "name": "stdout",
     "output_type": "stream",
     "text": [
      "Help on built-in function exp2 in module math:\n",
      "\n",
      "exp2(x, /)\n",
      "    Return 2 raised to the power of x.\n",
      "\n"
     ]
    }
   ],
   "source": [
    "help(math.exp2)"
   ]
  },
  {
   "cell_type": "code",
   "execution_count": 18,
   "id": "2c342d38-0bf0-4557-8a68-a1f952aae0a6",
   "metadata": {},
   "outputs": [
    {
     "name": "stdout",
     "output_type": "stream",
     "text": [
      "Help on built-in function expm1 in module math:\n",
      "\n",
      "expm1(x, /)\n",
      "    Return exp(x)-1.\n",
      "\n",
      "    This function avoids the loss of precision involved in the direct evaluation of exp(x)-1 for small x.\n",
      "\n"
     ]
    }
   ],
   "source": [
    "help(math.expm1)"
   ]
  },
  {
   "cell_type": "markdown",
   "id": "cf9bed58-1cac-4c8e-82ec-fa7910f4562d",
   "metadata": {},
   "source": [
    "### $math.pow()$ function\n",
    "\n",
    "$math.pow(x,y)$ function takes 2 arguments: a required base and a required exponent\n",
    "\n",
    "$math.pow(x,y)$ = $x**y$ if simultaneously $x !< 0$ and $y !< 1$; either condition can be true separately"
   ]
  },
  {
   "cell_type": "code",
   "execution_count": 35,
   "id": "51e2d185-a714-4b1a-ba0e-e1f3b983efa6",
   "metadata": {},
   "outputs": [
    {
     "name": "stdout",
     "output_type": "stream",
     "text": [
      "Help on built-in function pow in module math:\n",
      "\n",
      "pow(x, y, /)\n",
      "    Return x**y (x to the power of y).\n",
      "\n"
     ]
    }
   ],
   "source": [
    "help(math.pow)"
   ]
  },
  {
   "cell_type": "code",
   "execution_count": 19,
   "id": "def6540a-6228-46ff-94a1-1d5ba3d6403d",
   "metadata": {},
   "outputs": [
    {
     "name": "stdout",
     "output_type": "stream",
     "text": [
      "pow(2, 4):  16.0\n",
      "pow(8, 1/3):  2.0\n",
      "pow(16, 0):  1.0\n",
      "pow(-7, 3):  -343.0\n",
      "pow(-9, 2):  81.0\n"
     ]
    }
   ],
   "source": [
    "import math\n",
    "\n",
    "print(\"pow(2, 4): \", math.pow(2, 4)) \n",
    "print(\"pow(8, 1/3): \", math.pow(8, 1/3))\n",
    "print(\"pow(16, 0): \", math.pow(16, 0))\n",
    "print(\"pow(-7, 3): \", math.pow(-7, 3))\n",
    "print(\"pow(-9, 2): \", math.pow(-9, 2))"
   ]
  },
  {
   "cell_type": "code",
   "execution_count": 20,
   "id": "f93fcb46-579b-45b1-838c-d8396afcafab",
   "metadata": {},
   "outputs": [
    {
     "ename": "ValueError",
     "evalue": "math domain error",
     "output_type": "error",
     "traceback": [
      "\u001b[31m---------------------------------------------------------------------------\u001b[39m",
      "\u001b[31mValueError\u001b[39m                                Traceback (most recent call last)",
      "\u001b[36mCell\u001b[39m\u001b[36m \u001b[39m\u001b[32mIn[20]\u001b[39m\u001b[32m, line 1\u001b[39m\n\u001b[32m----> \u001b[39m\u001b[32m1\u001b[39m \u001b[38;5;28mprint\u001b[39m(\u001b[33m\"\u001b[39m\u001b[33mpow(-7, 0.5): \u001b[39m\u001b[33m\"\u001b[39m, math.pow(-\u001b[32m7\u001b[39m, \u001b[32m0.5\u001b[39m))\n",
      "\u001b[31mValueError\u001b[39m: math domain error"
     ]
    }
   ],
   "source": [
    "print(\"pow(-7, 0.5): \", math.pow(-7, 0.5)) ## Results in domain error as math.pow() cannot handle negative numbers raised to fractional power"
   ]
  },
  {
   "cell_type": "code",
   "execution_count": 21,
   "id": "9448ba67-de21-4ad2-99dc-5469165845f1",
   "metadata": {},
   "outputs": [
    {
     "ename": "ValueError",
     "evalue": "math domain error",
     "output_type": "error",
     "traceback": [
      "\u001b[31m---------------------------------------------------------------------------\u001b[39m",
      "\u001b[31mValueError\u001b[39m                                Traceback (most recent call last)",
      "\u001b[36mCell\u001b[39m\u001b[36m \u001b[39m\u001b[32mIn[21]\u001b[39m\u001b[32m, line 1\u001b[39m\n\u001b[32m----> \u001b[39m\u001b[32m1\u001b[39m \u001b[38;5;28mprint\u001b[39m(\u001b[33m\"\u001b[39m\u001b[33mpow(-8, -0.5): \u001b[39m\u001b[33m\"\u001b[39m, math.pow(-\u001b[32m8\u001b[39m, -\u001b[32m0.5\u001b[39m))\n",
      "\u001b[31mValueError\u001b[39m: math domain error"
     ]
    }
   ],
   "source": [
    "print(\"pow(-8, -0.5): \", math.pow(-8, -0.5))  ## Results in domain error as math.pow() cannot handle negative numbers raised to fractional power"
   ]
  },
  {
   "cell_type": "code",
   "execution_count": null,
   "id": "308cf858-2c34-404c-8628-413e161703b9",
   "metadata": {},
   "outputs": [],
   "source": []
  },
  {
   "cell_type": "code",
   "execution_count": null,
   "id": "6a2b3092-e2c5-416d-81bf-4179c86cb7e1",
   "metadata": {},
   "outputs": [],
   "source": []
  },
  {
   "cell_type": "markdown",
   "id": "2b97c9b2-35c2-4f94-8af7-167d9b29e20b",
   "metadata": {},
   "source": [
    "#### $math.exp()$ function\n",
    "Specialised exponentiation function that generates $e^x$ where $e$ = 2.718281… is the base of natural logarithms. <br>\n",
    "This is usually more accurate than $math.e ** x$ or $pow(math.e, x)$."
   ]
  },
  {
   "cell_type": "code",
   "execution_count": 36,
   "id": "5280a9a9-39b0-4a49-aa21-88f6b6272bbc",
   "metadata": {},
   "outputs": [
    {
     "name": "stdout",
     "output_type": "stream",
     "text": [
      "Help on built-in function exp in module math:\n",
      "\n",
      "exp(x, /)\n",
      "    Return e raised to the power of x.\n",
      "\n"
     ]
    }
   ],
   "source": [
    "help(math.exp)"
   ]
  },
  {
   "cell_type": "code",
   "execution_count": null,
   "id": "a39baa19-e6dd-499c-a10c-61abab81246a",
   "metadata": {},
   "outputs": [],
   "source": []
  },
  {
   "cell_type": "code",
   "execution_count": 22,
   "id": "7139f6b4-f971-4967-a68c-51d878df7ae9",
   "metadata": {},
   "outputs": [
    {
     "name": "stdout",
     "output_type": "stream",
     "text": [
      "Natural logarithms base:  2.718281828459045\n",
      "math.exp(10):  22026.465794806718\n",
      "math.e ** 10:  22026.465794806703\n",
      "pow(math.e, 10):  22026.465794806703\n"
     ]
    }
   ],
   "source": [
    "print(\"Natural logarithms base: \", math.e)\n",
    "\n",
    "print(\"math.exp(10): \", math.exp(10))\n",
    "print(\"math.e ** 10: \", math.e ** 10)\n",
    "print(\"pow(math.e, 10): \", pow(math.e, 10))"
   ]
  },
  {
   "cell_type": "code",
   "execution_count": null,
   "id": "c5c25c11-14fc-49ec-bf20-b0339929d03e",
   "metadata": {},
   "outputs": [],
   "source": []
  },
  {
   "cell_type": "markdown",
   "id": "c1c256fb-b87a-47b1-af37-c2d44cc689d8",
   "metadata": {},
   "source": [
    "#### $math.exp2(x)$ function\n",
    "Specialised exponentiation function that generates $2^x$"
   ]
  },
  {
   "cell_type": "code",
   "execution_count": 37,
   "id": "df1e33d4-bd7c-4698-979f-39252e5f30e3",
   "metadata": {},
   "outputs": [
    {
     "name": "stdout",
     "output_type": "stream",
     "text": [
      "Help on built-in function exp2 in module math:\n",
      "\n",
      "exp2(x, /)\n",
      "    Return 2 raised to the power of x.\n",
      "\n"
     ]
    }
   ],
   "source": [
    "help(math.exp2)"
   ]
  },
  {
   "cell_type": "code",
   "execution_count": null,
   "id": "f27f68a2-76a7-4830-ac0a-17e82fbbe6ef",
   "metadata": {},
   "outputs": [],
   "source": []
  },
  {
   "cell_type": "code",
   "execution_count": 23,
   "id": "c6c70388-8306-4139-8b7c-1b7007e832c7",
   "metadata": {},
   "outputs": [
    {
     "name": "stdout",
     "output_type": "stream",
     "text": [
      "math.exp2(10):  1024.0\n"
     ]
    }
   ],
   "source": [
    "print(\"math.exp2(10): \", math.exp2(10))"
   ]
  },
  {
   "cell_type": "code",
   "execution_count": null,
   "id": "2242aa71-b73a-408c-8dde-82265626ae3e",
   "metadata": {},
   "outputs": [],
   "source": []
  },
  {
   "cell_type": "markdown",
   "id": "8b34df01-41b2-47fe-88d5-c0c420215e7e",
   "metadata": {},
   "source": [
    "#### $math.expm1(x)$ function\n",
    "Specialised exponentiation function that generates $e^x - 1$ while *maintaining precision* ; $exp(x) - 1$ for small $x$ can result in loss of precision in Python"
   ]
  },
  {
   "cell_type": "code",
   "execution_count": 38,
   "id": "e5ec6b66-0dd3-4ab5-92c1-9135e63c24b9",
   "metadata": {},
   "outputs": [
    {
     "name": "stdout",
     "output_type": "stream",
     "text": [
      "Help on built-in function expm1 in module math:\n",
      "\n",
      "expm1(x, /)\n",
      "    Return exp(x)-1.\n",
      "\n",
      "    This function avoids the loss of precision involved in the direct evaluation of exp(x)-1 for small x.\n",
      "\n"
     ]
    }
   ],
   "source": [
    "help(math.expm1)"
   ]
  },
  {
   "cell_type": "code",
   "execution_count": null,
   "id": "9b229344-6ca0-4342-962a-5183fcff6646",
   "metadata": {},
   "outputs": [],
   "source": []
  },
  {
   "cell_type": "code",
   "execution_count": 24,
   "id": "f8200c2a-eb59-4f45-8be2-140c348f4bbd",
   "metadata": {},
   "outputs": [
    {
     "name": "stdout",
     "output_type": "stream",
     "text": [
      "math.expm1(0.000000000001):  1.0000000000005e-12\n",
      "math.exp(0.000000000001) - 1:  1.000000082740371e-10\n"
     ]
    }
   ],
   "source": [
    "print(\"math.expm1(0.000000000001): \", math.expm1(0.000000000001))\n",
    "print(\"math.exp(0.000000000001) - 1: \", math.exp(0.000000000100) - 1)"
   ]
  },
  {
   "cell_type": "code",
   "execution_count": null,
   "id": "0d7ca8c3-ac30-4ab6-a47b-133020ea1b58",
   "metadata": {},
   "outputs": [],
   "source": []
  },
  {
   "cell_type": "code",
   "execution_count": null,
   "id": "2e23cb49-74c9-41cb-9fc2-1a1378a5fd1f",
   "metadata": {},
   "outputs": [],
   "source": []
  },
  {
   "cell_type": "markdown",
   "id": "895d7322-c766-4304-a2d5-c1b68eb2b368",
   "metadata": {},
   "source": [
    "#### built-in $divmod()$ function"
   ]
  },
  {
   "cell_type": "markdown",
   "id": "1a9aff67",
   "metadata": {},
   "source": [
    "$divmod()$ returns both quotient and remainder of floor division of its arguments. The pair is returned as a tuple.\n",
    "\n",
    "$divmod(x, y)$ = $(x//y, x\\%y)$"
   ]
  },
  {
   "cell_type": "code",
   "execution_count": 7,
   "id": "777825af-0774-4c03-a1c0-6e4b4497b1ee",
   "metadata": {},
   "outputs": [
    {
     "name": "stdout",
     "output_type": "stream",
     "text": [
      "Help on built-in function divmod in module builtins:\n",
      "\n",
      "divmod(x, y, /)\n",
      "    Return the tuple (x//y, x%y).  Invariant: div*y + mod == x.\n",
      "\n"
     ]
    }
   ],
   "source": [
    "help(divmod)"
   ]
  },
  {
   "cell_type": "code",
   "execution_count": null,
   "id": "54bcfabd-2bce-46dc-967d-6292d1995956",
   "metadata": {},
   "outputs": [],
   "source": []
  },
  {
   "cell_type": "code",
   "execution_count": 5,
   "id": "6997cdc8",
   "metadata": {},
   "outputs": [
    {
     "name": "stdout",
     "output_type": "stream",
     "text": [
      "(2, 1)\n"
     ]
    }
   ],
   "source": [
    "print(divmod(5, 2))"
   ]
  },
  {
   "cell_type": "code",
   "execution_count": null,
   "id": "5e6780bb",
   "metadata": {},
   "outputs": [],
   "source": []
  },
  {
   "cell_type": "markdown",
   "id": "867302c1-751e-4ad7-997d-45787f3f1ba5",
   "metadata": {},
   "source": [
    "-----------------------------------"
   ]
  },
  {
   "cell_type": "markdown",
   "id": "1a5e6a77",
   "metadata": {},
   "source": [
    "## Binary Comparison Operators / Relational Operators"
   ]
  },
  {
   "cell_type": "markdown",
   "id": "e14dd80a-e0bb-4e99-ab83-b78c7de30ab4",
   "metadata": {},
   "source": [
    "### Greater Than Operator ($>$)"
   ]
  },
  {
   "cell_type": "code",
   "execution_count": 33,
   "id": "4f56cab1",
   "metadata": {},
   "outputs": [
    {
     "name": "stdout",
     "output_type": "stream",
     "text": [
      "True\n",
      "False\n"
     ]
    }
   ],
   "source": [
    "a = 9\n",
    "b = 5\n",
    "\n",
    "# Output\n",
    "print(a > b)\n",
    "print(b > a)"
   ]
  },
  {
   "cell_type": "markdown",
   "id": "08415dcd",
   "metadata": {},
   "source": [
    "### Greater Than or Equals Operator ($>=$)\n",
    "Returns True if the left operand is greater than or equal to the right operand"
   ]
  },
  {
   "cell_type": "code",
   "execution_count": 34,
   "id": "33705346",
   "metadata": {},
   "outputs": [
    {
     "name": "stdout",
     "output_type": "stream",
     "text": [
      "True\n",
      "True\n",
      "False\n"
     ]
    }
   ],
   "source": [
    "a = 9\n",
    "b = 9\n",
    "c = 5\n",
    "\n",
    "# Output\n",
    "print(a >= b)\n",
    "print(a >= c)\n",
    "print(c >= a)"
   ]
  },
  {
   "cell_type": "markdown",
   "id": "8df5eec6",
   "metadata": {},
   "source": [
    "### Less Than Operator ($<$)\n",
    "Returns True if the left operand is less than the right operand"
   ]
  },
  {
   "cell_type": "code",
   "execution_count": 4,
   "id": "3801c618",
   "metadata": {},
   "outputs": [
    {
     "name": "stdout",
     "output_type": "stream",
     "text": [
      "False\n",
      "True\n"
     ]
    }
   ],
   "source": [
    "a = 9\n",
    "b = 5\n",
    "\n",
    "# Output\n",
    "print(a < b)\n",
    "print(b < a)"
   ]
  },
  {
   "cell_type": "markdown",
   "id": "6fffa986",
   "metadata": {},
   "source": [
    "### Less Than or Equals Operator ($<=$)\n",
    "Returns True if the left operand is less than or equal to the right operand"
   ]
  },
  {
   "cell_type": "code",
   "execution_count": 8,
   "id": "7970821f",
   "metadata": {},
   "outputs": [
    {
     "name": "stdout",
     "output_type": "stream",
     "text": [
      "True\n",
      "False\n",
      "True\n"
     ]
    }
   ],
   "source": [
    "a = 9\n",
    "b = 9\n",
    "c = 5\n",
    "\n",
    "# Output\n",
    "print(a <= b)\n",
    "print(a <= c)\n",
    "print(c <= a)"
   ]
  },
  {
   "cell_type": "code",
   "execution_count": null,
   "id": "a5f48ce0",
   "metadata": {},
   "outputs": [],
   "source": []
  },
  {
   "cell_type": "markdown",
   "id": "23046324",
   "metadata": {},
   "source": [
    "### Equality Operator ($==$)\n",
    "Returns True if the left operand is equal to the right operand"
   ]
  },
  {
   "cell_type": "code",
   "execution_count": 9,
   "id": "24ad127d",
   "metadata": {},
   "outputs": [
    {
     "name": "stdout",
     "output_type": "stream",
     "text": [
      "True\n",
      "False\n"
     ]
    }
   ],
   "source": [
    "a = 9\n",
    "b = 9\n",
    "c = 4\n",
    "\n",
    "\n",
    "# Output\n",
    "print(a == b)\n",
    "print(b == c)"
   ]
  },
  {
   "cell_type": "code",
   "execution_count": 12,
   "id": "6e382c7a",
   "metadata": {},
   "outputs": [
    {
     "name": "stdout",
     "output_type": "stream",
     "text": [
      "True\n",
      "True\n",
      "False\n",
      "True\n"
     ]
    }
   ],
   "source": [
    "a = \"Hello\"\n",
    "b = 'Hello'\n",
    "c = \"Bye\"\n",
    "d = \"\"\"Bye\"\"\"\n",
    "\n",
    "# Output\n",
    "print(a == b)\n",
    "print(b == a)\n",
    "print(a == c)\n",
    "print(c == d)"
   ]
  },
  {
   "cell_type": "markdown",
   "id": "4bd2c595",
   "metadata": {},
   "source": [
    "### Inequality Operator ($!=$)\n",
    "Returns True if the left operand is not equal to the right operand"
   ]
  },
  {
   "cell_type": "code",
   "execution_count": 13,
   "id": "4145ec4b",
   "metadata": {},
   "outputs": [
    {
     "name": "stdout",
     "output_type": "stream",
     "text": [
      "False\n",
      "True\n"
     ]
    }
   ],
   "source": [
    "a = 9\n",
    "b = 9\n",
    "c = 4\n",
    "\n",
    "\n",
    "# Output\n",
    "print(a != b)\n",
    "print(b != c)"
   ]
  },
  {
   "cell_type": "code",
   "execution_count": 15,
   "id": "0b6b51df",
   "metadata": {},
   "outputs": [
    {
     "name": "stdout",
     "output_type": "stream",
     "text": [
      "False\n",
      "True\n",
      "True\n",
      "False\n"
     ]
    }
   ],
   "source": [
    "a = \"Hello\"\n",
    "b = 'Hello'\n",
    "c = \"Bye\"\n",
    "d = \"\"\"Bye\"\"\"\n",
    "\n",
    "# Output\n",
    "print(a != b)\n",
    "print(b != c)\n",
    "print(a != c)\n",
    "print(c != d)"
   ]
  },
  {
   "cell_type": "code",
   "execution_count": null,
   "id": "0cdc8292",
   "metadata": {},
   "outputs": [],
   "source": []
  },
  {
   "cell_type": "code",
   "execution_count": null,
   "id": "6c52951a",
   "metadata": {},
   "outputs": [],
   "source": []
  },
  {
   "cell_type": "markdown",
   "id": "a5fce716",
   "metadata": {},
   "source": [
    "###  Identity ($\\text{is}$ and $\\text{is not}$) Operators\n",
    "\n",
    "Identity Operators are used to compare the objects to determine if both the objects are of the same data type and share the same memory location (i.e. they reference to same object). The result is a boolean (True or False)."
   ]
  },
  {
   "cell_type": "code",
   "execution_count": 16,
   "id": "227c4739",
   "metadata": {},
   "outputs": [
    {
     "name": "stdout",
     "output_type": "stream",
     "text": [
      "False\n",
      "True\n"
     ]
    }
   ],
   "source": [
    "a = 9\n",
    "b = 4\n",
    "\n",
    "c = a\n",
    "\n",
    "# Output\n",
    "print(a is b)\n",
    "print(a is c)"
   ]
  },
  {
   "cell_type": "code",
   "execution_count": null,
   "id": "d14eb30d",
   "metadata": {},
   "outputs": [],
   "source": []
  },
  {
   "cell_type": "code",
   "execution_count": null,
   "id": "8f2f3303",
   "metadata": {},
   "outputs": [],
   "source": []
  },
  {
   "cell_type": "markdown",
   "id": "c6923ec3-f36a-4de2-9622-d19c2bbe1262",
   "metadata": {},
   "source": [
    "---------------------------------------------------"
   ]
  },
  {
   "cell_type": "markdown",
   "id": "6f91ac32",
   "metadata": {},
   "source": [
    "## Binary Logical Operators\n",
    "\n",
    "#### Order of Precedence of Logical Operators\n",
    "In the case of multiple operators, Python always evaluates the expression from left to right."
   ]
  },
  {
   "cell_type": "markdown",
   "id": "b2bc9f6a",
   "metadata": {},
   "source": [
    "### Binary and Operator\n",
    "The Boolean AND operator returns True if both the operands are True else it returns False."
   ]
  },
  {
   "cell_type": "code",
   "execution_count": 28,
   "id": "c92e7d4c",
   "metadata": {},
   "outputs": [
    {
     "name": "stdout",
     "output_type": "stream",
     "text": [
      "The numbers are greater than 0\n",
      "Atleast one number is not greater than 0\n"
     ]
    }
   ],
   "source": [
    "a = 10\n",
    "b = 10\n",
    "c = -10\n",
    "\n",
    "# Output\n",
    "if a > 0 and b > 0:\n",
    "    print(\"The numbers are greater than 0\")\n",
    "if a > 0 and b > 0 and c > 0:\n",
    "    print(\"The numbers are greater than 0\")\n",
    "else:\n",
    "    print(\"Atleast one number is not greater than 0\")"
   ]
  },
  {
   "cell_type": "code",
   "execution_count": 29,
   "id": "8876222a",
   "metadata": {},
   "outputs": [
    {
     "name": "stdout",
     "output_type": "stream",
     "text": [
      "Atleast one number has boolean value as False\n"
     ]
    }
   ],
   "source": [
    "a = 10\n",
    "b = 12\n",
    "c = 0\n",
    "if a and b and c:\n",
    "    print(\"All the numbers have boolean value as True\")\n",
    "else:\n",
    "    print(\"Atleast one number has boolean value as False\")"
   ]
  },
  {
   "cell_type": "code",
   "execution_count": null,
   "id": "70ca7071",
   "metadata": {},
   "outputs": [],
   "source": []
  },
  {
   "cell_type": "markdown",
   "id": "c5184b7a",
   "metadata": {},
   "source": [
    "### Binary or Operator\n",
    "The Boolean OR operator returns True if either of the operands are True else it returns False."
   ]
  },
  {
   "cell_type": "code",
   "execution_count": 30,
   "id": "7068e5ef",
   "metadata": {},
   "outputs": [
    {
     "name": "stdout",
     "output_type": "stream",
     "text": [
      "Either of the number is greater than 0\n",
      "No number is greater than 0\n"
     ]
    }
   ],
   "source": [
    "a = 10\n",
    "b = -10\n",
    "c = 0\n",
    "if a > 0 or b > 0:\n",
    "    print(\"Either of the number is greater than 0\")\n",
    "else:\n",
    "    print(\"No number is greater than 0\")\n",
    "if b > 0 or c > 0:\n",
    "    print(\"Either of the number is greater than 0\")\n",
    "else:\n",
    "    print(\"No number is greater than 0\")"
   ]
  },
  {
   "cell_type": "code",
   "execution_count": 31,
   "id": "169fc9ba",
   "metadata": {},
   "outputs": [
    {
     "name": "stdout",
     "output_type": "stream",
     "text": [
      "Atleast one number has boolean value as True\n"
     ]
    }
   ],
   "source": [
    "a = 10\n",
    "b = 12\n",
    "c = 0\n",
    "if a or b or c:\n",
    "    print(\"Atleast one number has boolean value as True\")\n",
    "else:\n",
    "    print(\"All the numbers have boolean value as False\")"
   ]
  },
  {
   "cell_type": "code",
   "execution_count": null,
   "id": "a87a30fc",
   "metadata": {},
   "outputs": [],
   "source": []
  },
  {
   "cell_type": "code",
   "execution_count": null,
   "id": "cb87ce02",
   "metadata": {},
   "outputs": [],
   "source": []
  },
  {
   "cell_type": "markdown",
   "id": "3c598209-a415-45f2-b00d-0be25d49088a",
   "metadata": {},
   "source": [
    "---------------------------------------------------------------------------------------"
   ]
  },
  {
   "cell_type": "markdown",
   "id": "c34f33d2",
   "metadata": {},
   "source": [
    "## Binary Bitwise Operators\n",
    "\n",
    "Binary bitwise operators are used to perform bitwise calculations on **2 integers**. The integers are first converted into binary and then operations are performed on each bit or corresponding pair of bits. The result is then returned in decimal format.\n",
    "\n",
    "Using non-integers as operands results in error."
   ]
  },
  {
   "cell_type": "markdown",
   "id": "124d6d52",
   "metadata": {},
   "source": [
    "### Binary $\\&$ Operator\n",
    "\n",
    "Bitwise AND (&) compares corresponding bits of two operands - if the bits in the compared positions of the bit patterns are 1, then the resulting bit is 1, otherwise it is 0."
   ]
  },
  {
   "cell_type": "code",
   "execution_count": 6,
   "id": "38732272",
   "metadata": {},
   "outputs": [
    {
     "name": "stdout",
     "output_type": "stream",
     "text": [
      "a & b = 4\n"
     ]
    }
   ],
   "source": [
    "## Bitwise AND on integers\n",
    "a = 7\n",
    "b = 4\n",
    "\n",
    "## Bitwise AND of 111 (7) and 100 (4) results in 100 (4)\n",
    "print(\"a & b =\", a & b)"
   ]
  },
  {
   "cell_type": "code",
   "execution_count": 1,
   "id": "c0fea410",
   "metadata": {},
   "outputs": [
    {
     "ename": "TypeError",
     "evalue": "unsupported operand type(s) for &: 'float' and 'float'",
     "output_type": "error",
     "traceback": [
      "\u001b[1;31m---------------------------------------------------------------------------\u001b[0m",
      "\u001b[1;31mTypeError\u001b[0m                                 Traceback (most recent call last)",
      "Cell \u001b[1;32mIn[1], line 5\u001b[0m\n\u001b[0;32m      2\u001b[0m b \u001b[38;5;241m=\u001b[39m \u001b[38;5;241m4.7\u001b[39m\n\u001b[0;32m      4\u001b[0m \u001b[38;5;66;03m# Print bitwise AND operation\u001b[39;00m\n\u001b[1;32m----> 5\u001b[0m \u001b[38;5;28mprint\u001b[39m(\u001b[38;5;124m\"\u001b[39m\u001b[38;5;124ma & b =\u001b[39m\u001b[38;5;124m\"\u001b[39m, \u001b[43ma\u001b[49m\u001b[43m \u001b[49m\u001b[38;5;241;43m&\u001b[39;49m\u001b[43m \u001b[49m\u001b[43mb\u001b[49m)\n",
      "\u001b[1;31mTypeError\u001b[0m: unsupported operand type(s) for &: 'float' and 'float'"
     ]
    }
   ],
   "source": [
    "## Bitwise AND on float\n",
    "a = 10.6\n",
    "b = 4.7\n",
    "\n",
    "print(\"a & b =\", a & b)"
   ]
  },
  {
   "cell_type": "code",
   "execution_count": 3,
   "id": "617241c4",
   "metadata": {},
   "outputs": [
    {
     "ename": "TypeError",
     "evalue": "unsupported operand type(s) for &: 'str' and 'str'",
     "output_type": "error",
     "traceback": [
      "\u001b[1;31m---------------------------------------------------------------------------\u001b[0m",
      "\u001b[1;31mTypeError\u001b[0m                                 Traceback (most recent call last)",
      "Cell \u001b[1;32mIn[3], line 4\u001b[0m\n\u001b[0;32m      1\u001b[0m a \u001b[38;5;241m=\u001b[39m \u001b[38;5;124m\"\u001b[39m\u001b[38;5;124mhello\u001b[39m\u001b[38;5;124m\"\u001b[39m\n\u001b[0;32m      2\u001b[0m b \u001b[38;5;241m=\u001b[39m \u001b[38;5;124m\"\u001b[39m\u001b[38;5;124mBye\u001b[39m\u001b[38;5;124m\"\u001b[39m\n\u001b[1;32m----> 4\u001b[0m \u001b[38;5;28mprint\u001b[39m(\u001b[38;5;124m\"\u001b[39m\u001b[38;5;124ma & b =\u001b[39m\u001b[38;5;124m\"\u001b[39m, \u001b[43ma\u001b[49m\u001b[43m \u001b[49m\u001b[38;5;241;43m&\u001b[39;49m\u001b[43m \u001b[49m\u001b[43mb\u001b[49m)\n",
      "\u001b[1;31mTypeError\u001b[0m: unsupported operand type(s) for &: 'str' and 'str'"
     ]
    }
   ],
   "source": [
    "## Bitwise AND on string\n",
    "a = \"hello\"\n",
    "b = \"Bye\"\n",
    "\n",
    "print(\"a & b =\", a & b)"
   ]
  },
  {
   "cell_type": "code",
   "execution_count": null,
   "id": "83c60511-99e3-4cb5-8ec6-20d11c05ce20",
   "metadata": {},
   "outputs": [],
   "source": []
  },
  {
   "cell_type": "markdown",
   "id": "8e966032",
   "metadata": {},
   "source": [
    "### Bitwise OR ($|$) Operator\n",
    "\n",
    "Bitwise OR ($|$) Operator compares corresponding bits of two operands -  if the two bits in the looked-at position are 0, the result is 0 otherwise it is 1."
   ]
  },
  {
   "cell_type": "code",
   "execution_count": 8,
   "id": "45434274",
   "metadata": {},
   "outputs": [
    {
     "name": "stdout",
     "output_type": "stream",
     "text": [
      "a | b = 7\n"
     ]
    }
   ],
   "source": [
    "a = 7\n",
    "b = 4\n",
    "\n",
    "## Bitwise OR of 111 (7) and 100 (4) results in 111 (7)\n",
    "print(\"a | b =\", a | b)"
   ]
  },
  {
   "cell_type": "code",
   "execution_count": 4,
   "id": "d46b0992",
   "metadata": {},
   "outputs": [
    {
     "ename": "TypeError",
     "evalue": "unsupported operand type(s) for |: 'float' and 'float'",
     "output_type": "error",
     "traceback": [
      "\u001b[31m---------------------------------------------------------------------------\u001b[39m",
      "\u001b[31mTypeError\u001b[39m                                 Traceback (most recent call last)",
      "\u001b[36mCell\u001b[39m\u001b[36m \u001b[39m\u001b[32mIn[4]\u001b[39m\u001b[32m, line 5\u001b[39m\n\u001b[32m      2\u001b[39m a = \u001b[32m10.6\u001b[39m\n\u001b[32m      3\u001b[39m b = \u001b[32m4.7\u001b[39m\n\u001b[32m----> \u001b[39m\u001b[32m5\u001b[39m \u001b[38;5;28mprint\u001b[39m(\u001b[33m\"\u001b[39m\u001b[33ma | b =\u001b[39m\u001b[33m\"\u001b[39m, a | b)\n",
      "\u001b[31mTypeError\u001b[39m: unsupported operand type(s) for |: 'float' and 'float'"
     ]
    }
   ],
   "source": [
    "## Bitwise OR on float\n",
    "a = 10.6\n",
    "b = 4.7\n",
    "\n",
    "print(\"a | b =\", a | b)"
   ]
  },
  {
   "cell_type": "code",
   "execution_count": 5,
   "id": "49653648-bb32-4ebf-836e-768c1dc41b57",
   "metadata": {},
   "outputs": [
    {
     "ename": "TypeError",
     "evalue": "unsupported operand type(s) for |: 'str' and 'str'",
     "output_type": "error",
     "traceback": [
      "\u001b[31m---------------------------------------------------------------------------\u001b[39m",
      "\u001b[31mTypeError\u001b[39m                                 Traceback (most recent call last)",
      "\u001b[36mCell\u001b[39m\u001b[36m \u001b[39m\u001b[32mIn[5]\u001b[39m\u001b[32m, line 5\u001b[39m\n\u001b[32m      2\u001b[39m a = \u001b[33m\"\u001b[39m\u001b[33mhello\u001b[39m\u001b[33m\"\u001b[39m\n\u001b[32m      3\u001b[39m b = \u001b[33m\"\u001b[39m\u001b[33mBye\u001b[39m\u001b[33m\"\u001b[39m\n\u001b[32m----> \u001b[39m\u001b[32m5\u001b[39m \u001b[38;5;28mprint\u001b[39m(\u001b[33m\"\u001b[39m\u001b[33ma | b =\u001b[39m\u001b[33m\"\u001b[39m, a | b)\n",
      "\u001b[31mTypeError\u001b[39m: unsupported operand type(s) for |: 'str' and 'str'"
     ]
    }
   ],
   "source": [
    "## Bitwise OR on string\n",
    "a = \"hello\"\n",
    "b = \"Bye\"\n",
    "\n",
    "print(\"a | b =\", a | b)"
   ]
  },
  {
   "cell_type": "code",
   "execution_count": null,
   "id": "90164cf6-ef12-44d5-8146-79a009acd243",
   "metadata": {},
   "outputs": [],
   "source": []
  },
  {
   "cell_type": "markdown",
   "id": "c18e6c9f",
   "metadata": {},
   "source": [
    "### Bitwise XOR (^) Operator\n",
    "\n",
    "Bitwise XOR (^) Operator compares corresponding bits of two operands - if the bits are different, it returns 1, otherwise, it returns 0."
   ]
  },
  {
   "cell_type": "code",
   "execution_count": 39,
   "id": "f4acd392",
   "metadata": {},
   "outputs": [
    {
     "name": "stdout",
     "output_type": "stream",
     "text": [
      "a ^ b = 3\n"
     ]
    }
   ],
   "source": [
    "a = 7\n",
    "b = 4\n",
    "\n",
    "# Bitwise XOR of 111 (7) and 100 (4) results in 011 (3)\n",
    "print(\"a ^ b =\", a ^ b)"
   ]
  },
  {
   "cell_type": "code",
   "execution_count": 6,
   "id": "1ac9e780-0e69-4b79-9523-c0a965343924",
   "metadata": {},
   "outputs": [
    {
     "ename": "TypeError",
     "evalue": "unsupported operand type(s) for ^: 'float' and 'float'",
     "output_type": "error",
     "traceback": [
      "\u001b[31m---------------------------------------------------------------------------\u001b[39m",
      "\u001b[31mTypeError\u001b[39m                                 Traceback (most recent call last)",
      "\u001b[36mCell\u001b[39m\u001b[36m \u001b[39m\u001b[32mIn[6]\u001b[39m\u001b[32m, line 5\u001b[39m\n\u001b[32m      2\u001b[39m a = \u001b[32m10.6\u001b[39m\n\u001b[32m      3\u001b[39m b = \u001b[32m4.7\u001b[39m\n\u001b[32m----> \u001b[39m\u001b[32m5\u001b[39m \u001b[38;5;28mprint\u001b[39m(\u001b[33m\"\u001b[39m\u001b[33ma ^ b =\u001b[39m\u001b[33m\"\u001b[39m, a ^ b)\n",
      "\u001b[31mTypeError\u001b[39m: unsupported operand type(s) for ^: 'float' and 'float'"
     ]
    }
   ],
   "source": [
    "## Bitwise XOR on float\n",
    "a = 10.6\n",
    "b = 4.7\n",
    "\n",
    "print(\"a ^ b =\", a ^ b)"
   ]
  },
  {
   "cell_type": "code",
   "execution_count": 7,
   "id": "4fcd45f8-3311-4d5f-bff0-b695085933ef",
   "metadata": {},
   "outputs": [
    {
     "ename": "TypeError",
     "evalue": "unsupported operand type(s) for ^: 'str' and 'str'",
     "output_type": "error",
     "traceback": [
      "\u001b[31m---------------------------------------------------------------------------\u001b[39m",
      "\u001b[31mTypeError\u001b[39m                                 Traceback (most recent call last)",
      "\u001b[36mCell\u001b[39m\u001b[36m \u001b[39m\u001b[32mIn[7]\u001b[39m\u001b[32m, line 5\u001b[39m\n\u001b[32m      2\u001b[39m a = \u001b[33m\"\u001b[39m\u001b[33mhello\u001b[39m\u001b[33m\"\u001b[39m\n\u001b[32m      3\u001b[39m b = \u001b[33m\"\u001b[39m\u001b[33mBye\u001b[39m\u001b[33m\"\u001b[39m\n\u001b[32m----> \u001b[39m\u001b[32m5\u001b[39m \u001b[38;5;28mprint\u001b[39m(\u001b[33m\"\u001b[39m\u001b[33ma ^ b =\u001b[39m\u001b[33m\"\u001b[39m, a ^ b)\n",
      "\u001b[31mTypeError\u001b[39m: unsupported operand type(s) for ^: 'str' and 'str'"
     ]
    }
   ],
   "source": [
    "## Bitwise OR on string\n",
    "a = \"hello\"\n",
    "b = \"Bye\"\n",
    "\n",
    "print(\"a ^ b =\", a ^ b)"
   ]
  },
  {
   "cell_type": "code",
   "execution_count": null,
   "id": "434e1f93",
   "metadata": {},
   "outputs": [],
   "source": []
  },
  {
   "cell_type": "code",
   "execution_count": null,
   "id": "1f95ba05",
   "metadata": {},
   "outputs": [],
   "source": []
  },
  {
   "cell_type": "markdown",
   "id": "2e412231",
   "metadata": {},
   "source": [
    "--------------------------------------------------"
   ]
  },
  {
   "cell_type": "markdown",
   "id": "b0777e00",
   "metadata": {},
   "source": [
    "---------------------------------------------------"
   ]
  },
  {
   "cell_type": "markdown",
   "id": "503a72f1",
   "metadata": {},
   "source": [
    "# Assignment Operators\n",
    "Assignment operations involve a variable on left side and a constant or another variable on the right side.\n",
    "\n",
    "Assignment operations can be simple assignment of value to a variable using '=' operator or combine '=' with arithmetic operators when assigning a new value based the old value of a variable to the same variable itself: eg. increment, decrement"
   ]
  },
  {
   "cell_type": "markdown",
   "id": "0e45e640",
   "metadata": {},
   "source": [
    "## Simple Assignment"
   ]
  },
  {
   "cell_type": "code",
   "execution_count": 31,
   "id": "1f640109",
   "metadata": {},
   "outputs": [
    {
     "name": "stdout",
     "output_type": "stream",
     "text": [
      "5 6 7\n"
     ]
    }
   ],
   "source": [
    "x = 5          ### Assigns the value 5 to variable x\n",
    "x,y,z = 5,6,7  ### Simultaneous assignment of the values 5,6,7 to variables x,y,z\n",
    "\n",
    "\n",
    "print(x,y,z)"
   ]
  },
  {
   "cell_type": "code",
   "execution_count": 32,
   "id": "f171e7f1",
   "metadata": {
    "scrolled": true
   },
   "outputs": [
    {
     "ename": "ValueError",
     "evalue": "too many values to unpack (expected 3)",
     "output_type": "error",
     "traceback": [
      "\u001b[1;31m---------------------------------------------------------------------------\u001b[0m",
      "\u001b[1;31mValueError\u001b[0m                                Traceback (most recent call last)",
      "Cell \u001b[1;32mIn[32], line 1\u001b[0m\n\u001b[1;32m----> 1\u001b[0m x,y,z \u001b[38;5;241m=\u001b[39m \u001b[38;5;241m5\u001b[39m,\u001b[38;5;241m6\u001b[39m,\u001b[38;5;241m7\u001b[39m, \u001b[38;5;241m8\u001b[39m\n\u001b[0;32m      2\u001b[0m \u001b[38;5;28mprint\u001b[39m(x,y,z)\n",
      "\u001b[1;31mValueError\u001b[0m: too many values to unpack (expected 3)"
     ]
    }
   ],
   "source": [
    "x,y,z = 5,6,7, 8\n",
    "print(x,y,z)"
   ]
  },
  {
   "cell_type": "code",
   "execution_count": null,
   "id": "f24ba05f",
   "metadata": {},
   "outputs": [],
   "source": []
  },
  {
   "cell_type": "markdown",
   "id": "9e425547",
   "metadata": {},
   "source": [
    "## Shortening Arithmetic Operations with Assignment Operator <- Increment & Decrement Operators\n",
    "\n",
    "Arithmetic operations re-assigning a new value based on older value of a variable can be shortened by typing operator and assignment operator together."
   ]
  },
  {
   "cell_type": "code",
   "execution_count": 43,
   "id": "b7f5c1aa",
   "metadata": {},
   "outputs": [
    {
     "name": "stdout",
     "output_type": "stream",
     "text": [
      "Shortening Increment / Addition\n",
      "Output for z = z + 1 : 8\n",
      "Output for z+=1 : 8\n",
      "Shortening Decrement / Subtraction\n",
      "Output for z = z - 1 : 6\n",
      "Output for z-=1 : 6\n",
      "Shortening Multiplication\n",
      "Output for x = x * 2 : 10\n",
      "Output for x*=2 : 10\n",
      "Shortening Exponentiation\n",
      "Output for x = x**2 : 25\n",
      "Output for x**=2 : 25\n",
      "Shortening Division\n",
      "Output for y = y / 2 : 2.5\n",
      "Output for y/=2 : 2.5\n",
      "Shortening Floor Division\n",
      "Output for y = y // 2 : 2\n",
      "Output for y//=2 : 2\n",
      "Shortening Modulus\n",
      "Output for w = w % 2 : 0\n",
      "Output for w%=2 : 0\n"
     ]
    }
   ],
   "source": [
    "#### Shortening Increment\n",
    "print(\"Shortening Increment / Addition\")\n",
    "z = 7\n",
    "z = z + 1\n",
    "print(\"Output for z = z + 1 : \" + str(z))\n",
    "\n",
    "z = 7\n",
    "z += 1\n",
    "print(\"Output for z+=1 : \" + str(z))\n",
    "\n",
    "\n",
    "#### Shortening Decrement\n",
    "print(\"Shortening Decrement / Subtraction\")\n",
    "z = 7\n",
    "z = z - 1\n",
    "print(\"Output for z = z - 1 : \" + str(z))\n",
    "\n",
    "z = 7\n",
    "z -= 1\n",
    "print(\"Output for z-=1 : \" + str(z))\n",
    "\n",
    "\n",
    "#### Shortening Multiplication\n",
    "print(\"Shortening Multiplication\")\n",
    "x = 5\n",
    "x = x * 2\n",
    "print(\"Output for x = x * 2 : \" + str(x))\n",
    "\n",
    "x = 5\n",
    "x *= 2\n",
    "print(\"Output for x*=2 : \" + str(x))\n",
    "\n",
    "\n",
    "#### Shortening Exponentiation\n",
    "print(\"Shortening Exponentiation\")\n",
    "x = 5\n",
    "x = x**2\n",
    "print(\"Output for x = x**2 : \" + str(x))\n",
    "\n",
    "x = 5\n",
    "x **= 2\n",
    "print(\"Output for x**=2 : \" + str(x))\n",
    "\n",
    "\n",
    "#### Shortening Division\n",
    "print(\"Shortening Division\")\n",
    "y = 5\n",
    "y = y / 2\n",
    "print(\"Output for y = y / 2 : \" + str(y))\n",
    "\n",
    "y = 5\n",
    "y /= 2\n",
    "print(\"Output for y/=2 : \" + str(y))\n",
    "\n",
    "\n",
    "#### Shortening Floor Division\n",
    "print(\"Shortening Floor Division\")\n",
    "y = 5\n",
    "y = y // 2\n",
    "print(\"Output for y = y // 2 : \" + str(y))\n",
    "\n",
    "y = 5\n",
    "y //= 2\n",
    "print(\"Output for y//=2 : \" + str(y))\n",
    "\n",
    "\n",
    "#### Shortening Modulus\n",
    "print(\"Shortening Modulus\")\n",
    "w = 10\n",
    "w = w % 2\n",
    "print(\"Output for w = w % 2 : \" + str(w))\n",
    "\n",
    "w = 10\n",
    "w %= 2\n",
    "print(\"Output for w%=2 : \" + str(w))"
   ]
  },
  {
   "cell_type": "code",
   "execution_count": null,
   "id": "07a12627",
   "metadata": {},
   "outputs": [],
   "source": []
  },
  {
   "cell_type": "markdown",
   "id": "89f85fb8",
   "metadata": {},
   "source": [
    "## Shortening Bitwise Operations with Assignment Operator\n",
    "\n",
    "Binary Bitwise Operations can be shortened by assigning the resultant value to one of the variables as part of the operation expression itself.\n",
    "Expression shortening is not applicable to Unary Bitwise Operators as the value is assigned to the operand variable itself."
   ]
  },
  {
   "cell_type": "code",
   "execution_count": 44,
   "id": "b387378a",
   "metadata": {},
   "outputs": [
    {
     "name": "stdout",
     "output_type": "stream",
     "text": [
      "Shortening Bitwise AND\n",
      "Output for a & b = : 4\n",
      "Output for a&=b : 4\n",
      "Shortening Bitwise OR\n",
      "Output for a | b = : 7\n",
      "Output for a|=b : 7\n",
      "Shortening Bitwise OR\n",
      "Output for a | b = : 7\n",
      "Output for a|=b : 7\n",
      "Shortening Bitwise XOR\n",
      "Output for a | b = : 3\n",
      "Output for a|=b : 3\n"
     ]
    }
   ],
   "source": [
    "#### Shortening Bitwise AND\n",
    "print(\"Shortening Bitwise AND\")\n",
    "a = 7\n",
    "b = 4\n",
    "\n",
    "print(\"Output for a & b = :\", a & b)\n",
    "\n",
    "a&=b\n",
    "print(\"Output for a&=b :\", a)\n",
    "\n",
    "\n",
    "#### Shortening Bitwise OR\n",
    "print(\"Shortening Bitwise OR\")\n",
    "a = 7\n",
    "b = 4\n",
    "\n",
    "print(\"Output for a | b = :\", a | b)\n",
    "\n",
    "a|=b\n",
    "print(\"Output for a|=b :\", a)\n",
    "\n",
    "\n",
    "#### Shortening Bitwise XOR\n",
    "print(\"Shortening Bitwise XOR\")\n",
    "a = 7\n",
    "b = 4\n",
    "\n",
    "print(\"Output for a ^ b = :\", a ^ b)\n",
    "\n",
    "a^=b\n",
    "print(\"Output for a^=b :\", a)"
   ]
  },
  {
   "cell_type": "code",
   "execution_count": null,
   "id": "a8b167cd",
   "metadata": {},
   "outputs": [],
   "source": []
  },
  {
   "cell_type": "markdown",
   "id": "67ea27bb",
   "metadata": {},
   "source": [
    "## Shortening Logical Operations with Assignment Operator -> Results in error\n",
    "\n",
    "Binary Logical Operations cannot be shortened. Trying to do so generates SyntaxError."
   ]
  },
  {
   "cell_type": "code",
   "execution_count": 51,
   "id": "9a838a54",
   "metadata": {},
   "outputs": [
    {
     "ename": "SyntaxError",
     "evalue": "invalid syntax (3713995852.py, line 8)",
     "output_type": "error",
     "traceback": [
      "\u001b[1;36m  Cell \u001b[1;32mIn[51], line 8\u001b[1;36m\u001b[0m\n\u001b[1;33m    a and = b\u001b[0m\n\u001b[1;37m          ^\u001b[0m\n\u001b[1;31mSyntaxError\u001b[0m\u001b[1;31m:\u001b[0m invalid syntax\n"
     ]
    }
   ],
   "source": [
    "#### Shortening Logical AND\n",
    "print(\"Shortening Logical AND\")\n",
    "a = 7\n",
    "b = 4\n",
    "\n",
    "print(\"Output for a & b = :\", a and b)\n",
    "\n",
    "a and = b\n",
    "print(\"Output for a and= b :\", a)\n",
    "\n",
    "\n",
    "#### Shortening Logical OR\n",
    "print(\"Shortening Logical OR\")\n",
    "a = 7\n",
    "b = 4\n",
    "\n",
    "print(\"Output for a or b = :\", a or b)\n",
    "\n",
    "a or = b\n",
    "print(\"Output for a or= b :\", a)"
   ]
  },
  {
   "cell_type": "code",
   "execution_count": null,
   "id": "2f633cc5",
   "metadata": {},
   "outputs": [],
   "source": []
  },
  {
   "cell_type": "code",
   "execution_count": null,
   "id": "42d7dd3f",
   "metadata": {},
   "outputs": [],
   "source": []
  },
  {
   "cell_type": "markdown",
   "id": "95a1827b",
   "metadata": {},
   "source": [
    "## Walrus Operator"
   ]
  },
  {
   "cell_type": "markdown",
   "id": "4f54fd5a",
   "metadata": {},
   "source": [
    "Walrus Operator allows assigning a value to a variable within an expression. This can be useful when it is needed to use the value multiple times in a loop without repeating the calculation.\n",
    "\n",
    "**References:**\n",
    "\n",
    "https://www.geeksforgeeks.org/walrus-operator-in-python-3-8/\n",
    "\n",
    "https://www.codingninjas.com/studio/library/python-walrus-operator"
   ]
  },
  {
   "cell_type": "code",
   "execution_count": 57,
   "id": "3aba02a9",
   "metadata": {
    "scrolled": true
   },
   "outputs": [
    {
     "name": "stdout",
     "output_type": "stream",
     "text": [
      "With Walrus Operator:\n",
      "Found name: \"rahul\"\n",
      "Found name: \"rohit\"\n",
      "Found name: \"ram\"\n",
      "Found name: \"madhav\"\n",
      "\n",
      "\n",
      "Without Walrus operator:\n",
      "Found name: \"rahul\"\n",
      "Found name: \"rohit\"\n",
      "Found name: \"ram\"\n",
      "Found name: \"madhav\"\n"
     ]
    }
   ],
   "source": [
    "sample_data = [\n",
    "    {\"userId\": 1,  \"name\": \"rahul\", \"completed\": False},\n",
    "    {\"userId\": 2, \"name\": \"rohit\", \"completed\": True},\n",
    "    {\"userId\": 3,  \"name\": \"ram\", \"completed\": False},\n",
    "    {\"userId\": 4,  \"name\": \"madhav\", \"completed\": True}\n",
    "]\n",
    " \n",
    "print(\"With Walrus Operator:\") \n",
    "for entry in sample_data: \n",
    "    if name := entry.get(\"name\"):\n",
    "        print(f'Found name: \"{name}\"')\n",
    "\n",
    "print('\\n')\n",
    "print(\"Without Walrus operator:\")\n",
    "for entry in sample_data:\n",
    "    name = entry.get(\"name\")\n",
    "    if name:\n",
    "        print(f'Found name: \"{name}\"')"
   ]
  },
  {
   "cell_type": "code",
   "execution_count": 58,
   "id": "d1efd4e6",
   "metadata": {},
   "outputs": [
    {
     "name": "stdout",
     "output_type": "stream",
     "text": [
      "Without Walrus Operator:\n",
      "What food do you like?: Apple\n",
      "What food do you like?: Orange\n",
      "What food do you like?: quit\n",
      "\n",
      "\n",
      "With Walrus operator:\n",
      "What food do you like:=  Mango\n",
      "What food do you like:=  Plum\n",
      "What food do you like:=  quit\n"
     ]
    }
   ],
   "source": [
    "## Without Walrus Operator\n",
    "print(\"Without Walrus Operator:\") \n",
    "foods = list()\n",
    "while True:\n",
    "    food = input(\"What food do you like?: \")\n",
    "    if food == \"quit\":\n",
    "        break\n",
    "        foods.append(food)\n",
    "\n",
    "print('\\n')\n",
    "# With Walrus Operator\n",
    "print(\"With Walrus operator:\")\n",
    "foods1 = list()\n",
    "while (food := input(\"What food do you like:=  \")) != \"quit\":\n",
    "    foods.append(food)"
   ]
  },
  {
   "cell_type": "code",
   "execution_count": null,
   "id": "b0ac0c42",
   "metadata": {},
   "outputs": [],
   "source": []
  },
  {
   "cell_type": "markdown",
   "id": "a998ac8b",
   "metadata": {},
   "source": [
    "## Self Documenting Assignment Operator\n",
    "\n",
    "Assignment(=) operator in f-string can be used for self documenting the strings in Python 3.8.2 & above. With the help of this expression, words same as variable names can be specified allowing simultaneous usage as string and variable."
   ]
  },
  {
   "cell_type": "code",
   "execution_count": null,
   "id": "67c92d46",
   "metadata": {},
   "outputs": [],
   "source": []
  },
  {
   "cell_type": "code",
   "execution_count": 30,
   "id": "2d295d5b",
   "metadata": {},
   "outputs": [
    {
     "name": "stdout",
     "output_type": "stream",
     "text": [
      "Regular usage of f'{expr}'\n",
      "The length of BeginnerPython is 14.\n",
      "\n",
      "\n",
      "Using f'{expr =}' expression\n",
      "The length of BeginnerPython is length=14.\n"
     ]
    }
   ],
   "source": [
    "length = len('BeginnerPython') \n",
    "\n",
    "## Regular usage of f'{expr}' allows mentioning variable name to get its value\n",
    "print(\"Regular usage of f'{expr}'\")\n",
    "bp = f'The length of BeginnerPython is {length}.'\n",
    "print(bp) \n",
    "\n",
    "print('\\n')\n",
    "\n",
    "## f'{expr=}' allows mentioning variable name as string while simultaneously also able to get its value\n",
    "print(\"Using f'{expr =}' expression\")\n",
    "bp = f'The length of BeginnerPython is {length=}.'\n",
    "print(bp) "
   ]
  },
  {
   "cell_type": "markdown",
   "id": "a9d5b102",
   "metadata": {},
   "source": [
    "---------------------------------------------------"
   ]
  },
  {
   "cell_type": "markdown",
   "id": "f614374e",
   "metadata": {},
   "source": [
    "## Binary Membership Operators\n",
    "\n",
    "Python membership operators test for the membership of an object in a sequence, like strings, lists, or tuples. The result is a boolean (True or False).\n",
    "\n",
    "* For sequence collections like strings, tuples, lists, setsc etc, 'in' operator checks for membership in elements of the collection.\n",
    "* For key-value collections like dictionaries, 'in' operator checks for membership in KEYS of the collection."
   ]
  },
  {
   "cell_type": "markdown",
   "id": "39056a77",
   "metadata": {},
   "source": [
    "### Binary $\\text{in}$ and $\\text{not in}$ Operators"
   ]
  },
  {
   "cell_type": "code",
   "execution_count": 3,
   "id": "120380fa",
   "metadata": {},
   "outputs": [
    {
     "name": "stdout",
     "output_type": "stream",
     "text": [
      "Membership 'in' operator\n",
      "\"e\" in \"Hello\":  True\n",
      "Membership 'not in' operator\n",
      "\"e\" not in \"Hello\":  False\n"
     ]
    }
   ],
   "source": [
    "## For sequence collections like strings, tuples, lists, sets etc, 'IN' operator checks for membership in elements of the collection.\n",
    "\n",
    "print(\"Membership 'in' operator\")\n",
    "print('\"e\" in \"Hello\": ', \"e\" in \"Hello\")\n",
    "\n",
    "\n",
    "print(\"Membership 'not in' operator\")\n",
    "print('\"e\" not in \"Hello\": ', \"e\" not in \"Hello\")"
   ]
  },
  {
   "cell_type": "code",
   "execution_count": 7,
   "id": "4fbcdf2b",
   "metadata": {},
   "outputs": [
    {
     "name": "stdout",
     "output_type": "stream",
     "text": [
      "True\n",
      "True\n",
      "False\n"
     ]
    }
   ],
   "source": [
    "## For key-value collections like dictionaries, 'IN' operator checks for membership in keys of the collection.\n",
    "\n",
    "dict1 = {\"a\": 1, 3: 8, \"c\": \"Hello\"}\n",
    "print(\"a\" in dict1)\n",
    "print(3 in dict1)\n",
    "print(\"Hello\" in dict1)\n"
   ]
  },
  {
   "cell_type": "code",
   "execution_count": null,
   "id": "d7578550",
   "metadata": {},
   "outputs": [],
   "source": []
  },
  {
   "cell_type": "markdown",
   "id": "710e42ea",
   "metadata": {},
   "source": [
    "### Binary $contains()$ function\n",
    "\n",
    "This function, available in built-in operator library, checks if its 2nd argument is a member of its 1st argument."
   ]
  },
  {
   "cell_type": "code",
   "execution_count": 41,
   "id": "5f526180-b0ad-48f8-b374-211a9b02207e",
   "metadata": {},
   "outputs": [
    {
     "name": "stdout",
     "output_type": "stream",
     "text": [
      "Help on built-in function contains in module _operator:\n",
      "\n",
      "contains(a, b, /)\n",
      "    Same as b in a (note reversed operands).\n",
      "\n"
     ]
    }
   ],
   "source": [
    "import operator\n",
    "help(operator.contains)"
   ]
  },
  {
   "cell_type": "code",
   "execution_count": null,
   "id": "34c8f3d6-c19d-40f1-8de5-22834124300c",
   "metadata": {},
   "outputs": [],
   "source": []
  },
  {
   "cell_type": "code",
   "execution_count": 6,
   "id": "e1df1021",
   "metadata": {},
   "outputs": [
    {
     "name": "stdout",
     "output_type": "stream",
     "text": [
      "False\n",
      "True\n"
     ]
    }
   ],
   "source": [
    "import operator\n",
    "\n",
    "print(operator.contains(\"Hello\", \"h\"))\n",
    "print(operator.contains([1,2,3,4,6], 1))"
   ]
  },
  {
   "cell_type": "code",
   "execution_count": null,
   "id": "66d7544a",
   "metadata": {},
   "outputs": [],
   "source": []
  },
  {
   "cell_type": "code",
   "execution_count": null,
   "id": "e83740a8",
   "metadata": {},
   "outputs": [],
   "source": []
  }
 ],
 "metadata": {
  "kernelspec": {
   "display_name": "Python 3 (ipykernel)",
   "language": "python",
   "name": "python3"
  },
  "language_info": {
   "codemirror_mode": {
    "name": "ipython",
    "version": 3
   },
   "file_extension": ".py",
   "mimetype": "text/x-python",
   "name": "python",
   "nbconvert_exporter": "python",
   "pygments_lexer": "ipython3",
   "version": "3.13.2"
  }
 },
 "nbformat": 4,
 "nbformat_minor": 5
}
