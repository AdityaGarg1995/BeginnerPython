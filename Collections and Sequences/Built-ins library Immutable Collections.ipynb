{
 "cells": [
  {
   "cell_type": "markdown",
   "id": "567b0b96-a57a-4433-bb89-fae0542da8bc",
   "metadata": {},
   "source": [
    "# Python built-in `built-ins` library Immutable Collections"
   ]
  },
  {
   "cell_type": "markdown",
   "id": "1b759ef3-c8be-4e26-862d-d9d6428c1712",
   "metadata": {},
   "source": [
    "This notebook covers collections available in built-ins library of Python:\n",
    "- tuples\n",
    "- ranges\n",
    "- frozensets\n",
    "- strings\n",
    "\n",
    "Following operations are covered for these collections:\n",
    "- Initialising an empty immutable collection\n",
    "- Initialising a general non-empty immutable collection\n",
    "  "
   ]
  },
  {
   "cell_type": "markdown",
   "id": "26079dc8-9bac-4d8e-93d7-d1103cc62f7f",
   "metadata": {},
   "source": [
    "# Collection Classifications\n",
    "\n",
    "Python Collections can be classified as follows based on mutability:\n",
    "\n",
    "- Mutable : Can be updated after creation\n",
    "- Immutable : Cannot be updated after creation\n",
    "\n",
    "Python Collections can be classified as follows based on ordering of elements:\n",
    "\n",
    "- Ordered : order of input elements is maintained\n",
    "- Unordered : order of input elements is not maintained\n",
    "\n",
    "A sequence or collection can therofore be classified on basis of mutability and orderedness."
   ]
  },
  {
   "cell_type": "code",
   "execution_count": null,
   "id": "d1a6c72f-a6dd-46bd-b027-44e48d7831ab",
   "metadata": {},
   "outputs": [],
   "source": []
  },
  {
   "cell_type": "markdown",
   "id": "0a986266-1f85-4bee-95ed-59b226981e6c",
   "metadata": {},
   "source": [
    "# Built-ins library Collections"
   ]
  },
  {
   "cell_type": "markdown",
   "id": "23e9f022-dd1e-4866-90f2-b5e9c65090a3",
   "metadata": {},
   "source": [
    "## Built-ins library Immutable Collections"
   ]
  },
  {
   "cell_type": "markdown",
   "id": "2d4668b6-02d8-4213-a9f2-a533d80ee05e",
   "metadata": {},
   "source": [
    "### `tuple`\n",
    "\n",
    "`tuple` is an immutable ordered sequence of heterogenous elements.\n",
    "\n",
    "`tuple()` constructor can take a tuple, list or range as input to construct a tuple.\n",
    "Tuples can be given as input iterators to `list()` constructor to construct a list.\n",
    "\n",
    "**Initialising tuples:**\n",
    "- Empty parenthesis`()` without arguments or the `tuple()` constructor without arguments initialise an empty tuple.\n",
    "  - An empty tuple can also be created by inputting an empty sequence of any type as argument to `tuple()`constructor or `()`. <br>\n",
    " \n",
    "- A non-empty tuple can be initiliased by giving a sequence of values and/or variables as input to `()` or `tuple()`.\n",
    "  - `()` can take input sequence directly -> `(1,2,3,4,6, \"Hello\", 0)` is a tuple in itself.\n",
    "  - `tuple()`constructor takes a sequence as its single argument as input -> `tuple((1,2,3,4,6, \"Hello\", 0))` generates an actual tuple. \n",
    "\n",
    "**Mutability of tuple elements:**\n",
    "- It is not possible to modify items of a tuple, however it is possible to create tuples which contain mutable objects, such as lists. <br>\n",
    "  Reference: [Python Docs](https://docs.python.org/3/tutorial/datastructures.html)"
   ]
  },
  {
   "cell_type": "markdown",
   "id": "3fdf23ed-a52a-4e04-9419-55e3baf2dce4",
   "metadata": {},
   "source": []
  },
  {
   "cell_type": "markdown",
   "id": "024d48e7-3095-4dd1-9fb5-8433f9c24a38",
   "metadata": {},
   "source": [
    "#### Initialise an empty tuple\n",
    "Empty parenthesis`()` without arguments or the `tuple()` constructor without arguments initialise an empty tuple. <br>\n",
    "An empty tuple can also be created by inputting an empty sequence of any type as argument to `tuple()`constructor or `()`."
   ]
  },
  {
   "cell_type": "code",
   "execution_count": 110,
   "id": "6e5ef821-0fd4-44cd-9a22-54d50c93b6aa",
   "metadata": {},
   "outputs": [
    {
     "name": "stdout",
     "output_type": "stream",
     "text": [
      "Empty tuple created using empty parenthesis `()`: ()\n",
      "Empty tuple created using `tuple()` constructor with no arguments ()\n"
     ]
    }
   ],
   "source": [
    "### Initiliase an empty tuple\n",
    "\n",
    "emptyTuple1 = ()\n",
    "emptyTuple2 = tuple()\n",
    "\n",
    "print(f\"Empty tuple created using empty parenthesis `()`: {emptyTuple1}\")\n",
    "print(f\"Empty tuple created using `tuple()` constructor with no arguments {emptyTuple2}\")\n"
   ]
  },
  {
   "cell_type": "code",
   "execution_count": 114,
   "id": "c80402db-221c-4026-82a3-5c5d082c49c6",
   "metadata": {},
   "outputs": [
    {
     "name": "stdout",
     "output_type": "stream",
     "text": [
      "Empty tuple created using `()` inside tuple(): ()\n",
      "Empty tuple created using `()` inside `()`: ()\n",
      "Empty tuple created using `[]` inside tuple(): ()\n",
      "Empty tuple created using `[]` inside `()`: ()\n",
      "Empty tuple created using empty string inside tuple(): ()\n",
      "Empty tuple created using empty string inside `()`: ()\n"
     ]
    }
   ],
   "source": [
    "emptyTuple3 = tuple(())\n",
    "print(f\"Empty tuple created using `()` inside tuple(): {emptyTuple3}\")\n",
    "\n",
    "emptyTuple4 = (())\n",
    "print(f\"Empty tuple created using `()` inside `()`: {emptyTuple4}\")\n",
    "\n",
    "\n",
    "emptyTuple5 = tuple([])\n",
    "print(f\"Empty tuple created using `[]` inside tuple(): {emptyTuple3}\")\n",
    "\n",
    "emptyTuple6 = ([])\n",
    "print(f\"Empty tuple created using `[]` inside `()`: {emptyTuple4}\")\n",
    "\n",
    "\n",
    "emptyTuple5 = tuple(\"\")\n",
    "print(f\"Empty tuple created using empty string inside tuple(): {emptyTuple3}\")\n",
    "\n",
    "emptyTuple6 = (\"\")\n",
    "print(f\"Empty tuple created using empty string inside `()`: {emptyTuple4}\")"
   ]
  },
  {
   "cell_type": "code",
   "execution_count": null,
   "id": "5b553c52-7696-4608-9751-9101c6dc77a9",
   "metadata": {},
   "outputs": [],
   "source": []
  },
  {
   "cell_type": "code",
   "execution_count": null,
   "id": "6917c2e3-5b7b-44c2-b330-09332649dd53",
   "metadata": {},
   "outputs": [],
   "source": []
  },
  {
   "cell_type": "code",
   "execution_count": null,
   "id": "cb0ab4ab-2d50-406c-b6bf-5439730bdc3f",
   "metadata": {},
   "outputs": [],
   "source": []
  },
  {
   "cell_type": "markdown",
   "id": "c0c8c2cd-0769-4c4f-86d4-44470747b58d",
   "metadata": {},
   "source": [
    "#### Initialise a general non-empty tuple\n",
    "\n",
    "A non-empty tuple can be initiliased by giving a sequence of values and/or variables as input to `()` or `tuple()`.\n",
    "\n",
    "- `()` can take input sequence directly -> `(1,2,3,4,6, \"Hello\", 0)` is a tuple in itself.\n",
    "- `tuple()`constructor takes a sequence as its single argument as input -> `tuple((1,2,3,4,6, \"Hello\", 0))` generates an actual tuple."
   ]
  },
  {
   "cell_type": "code",
   "execution_count": null,
   "id": "6ac88bb6-7e9e-4392-87c5-41e98ce7131e",
   "metadata": {},
   "outputs": [],
   "source": [
    "### Initialise tuple by providing input sequence to `()`\n",
    "\n",
    "tuple1 = (1,2,3,4,6, \"Hello\", 0)\n",
    "print(f\"Tuple initialised by providing input sequence to `()`: {tuple1}\")\n",
    "\n",
    "### Initialise tuple by providing input sequence to `tuple()`\n",
    "tuple2 = tuple((1,2,3,4,6, \"Hello\", 0))  ## `tuple()` constructor \n",
    "print(f\"Tuple initialised by providing input sequence to `tuple()` constructor: {tuple2}\")"
   ]
  },
  {
   "cell_type": "code",
   "execution_count": null,
   "id": "6dd40b48-dba8-44c7-8074-275f33f65a1a",
   "metadata": {},
   "outputs": [],
   "source": []
  },
  {
   "cell_type": "code",
   "execution_count": null,
   "id": "1d8826f9-ff38-4353-910b-626f1659c72f",
   "metadata": {},
   "outputs": [],
   "source": []
  },
  {
   "cell_type": "markdown",
   "id": "c67f4339-6d06-4091-b794-57fccd418cbb",
   "metadata": {},
   "source": [
    "#### Updating mutable elements of a tuple\n",
    "\n",
    "While individual elements of a tuple cannot be modified, it is possible to create tuples which contain mutable objects, such as lists.\n",
    "\n",
    "- It should be noted that while string class provides a replace() method for \"replacing\" existing characters with new characters, this method actually generates a new string, leaving original string unchanged. Hence, if a string is an element in a tuple, using replace() method will not modify the actual element."
   ]
  },
  {
   "cell_type": "code",
   "execution_count": 89,
   "id": "8253f347-451f-4632-a600-9c2d03cd0f2e",
   "metadata": {},
   "outputs": [
    {
     "name": "stdout",
     "output_type": "stream",
     "text": [
      "Initialise tuple with a list element: ([1, 2, 3, 4], 'Hello', 9, 8, 7)\n",
      "Tuple with its list element updated: ([1, 9, 3, 4], 'Hello', 9, 8, 7)\n"
     ]
    }
   ],
   "source": [
    "tuple_withMutableElement = tuple(([1,2,3,4], \"Hello\", 9,8,7,))\n",
    "print(f\"Initialise tuple with a list element: {tuple_withMutableElement}\")\n",
    "\n",
    "tuple_withMutableElement[0][1] = 9\n",
    "print(f\"Tuple with its list element updated: {tuple_withMutableElement}\")"
   ]
  },
  {
   "cell_type": "code",
   "execution_count": null,
   "id": "7624b092-08cc-42d4-87f0-8b7e1b41f0b4",
   "metadata": {},
   "outputs": [],
   "source": []
  },
  {
   "cell_type": "code",
   "execution_count": 94,
   "id": "345ebc3e-fd00-4290-886c-52c6a722e49c",
   "metadata": {},
   "outputs": [
    {
     "name": "stdout",
     "output_type": "stream",
     "text": [
      "Replacing characters of string element of a tuple: hello\n",
      "Printing tuple after replacing characters of its string element: ([1, 9, 3, 4], 'Hello', 9, 8, 7)\n"
     ]
    }
   ],
   "source": [
    "### It should be noted that while string class provides a replace() method for \"replacing\" existing characters with new characters,\n",
    "### this method actually generates a new string, leaving original string unchanged.\n",
    "### Hence, if a string is an element in a tuple, using replace() method will not modify the actual element.\n",
    "\n",
    "print(f\"Replacing characters of string element of a tuple: {tuple_withMutableElement[1].replace(\"H\", \"h\")}\")\n",
    "print(f\"Printing tuple after replacing characters of its string element: {tuple_withMutableElement}\")"
   ]
  },
  {
   "cell_type": "code",
   "execution_count": null,
   "id": "ced7af2f-3042-4a6c-9a8f-6c399380a0df",
   "metadata": {},
   "outputs": [],
   "source": []
  },
  {
   "cell_type": "code",
   "execution_count": null,
   "id": "693a1945-bccd-492a-b0fb-be9ce7348ded",
   "metadata": {},
   "outputs": [],
   "source": []
  },
  {
   "cell_type": "code",
   "execution_count": null,
   "id": "dffbaca9-9c28-4587-9b49-551327b5ee5c",
   "metadata": {},
   "outputs": [],
   "source": []
  },
  {
   "cell_type": "code",
   "execution_count": null,
   "id": "35673746-35df-4aa0-afff-2dfca0843eae",
   "metadata": {},
   "outputs": [],
   "source": []
  },
  {
   "cell_type": "code",
   "execution_count": null,
   "id": "900e4a82-ec6d-4fd2-8d69-631407b77376",
   "metadata": {},
   "outputs": [],
   "source": []
  },
  {
   "cell_type": "code",
   "execution_count": null,
   "id": "7f17cca3-1c99-41c4-abfa-e90e70b90fc8",
   "metadata": {},
   "outputs": [],
   "source": []
  },
  {
   "cell_type": "markdown",
   "id": "c6ffe9f1-f03f-42df-afe7-e1be9c4040ef",
   "metadata": {},
   "source": [
    "### `frozenset`\n",
    "\n",
    "`frozenset` is an unordered, immutable and hashable set — its contents cannot be altered after it is created; it can therefore be used as a dictionary key or as an element of another set.\n",
    "\n",
    "To represent sets of sets, the inner sets must be frozenset objects.\n",
    "\n",
    "An frozenset can be initialised using `frozenset([iterable])`constructor. <br>\n",
    "If iterable is not specified, a new empty set is returned.\n"
   ]
  },
  {
   "cell_type": "code",
   "execution_count": null,
   "id": "6cd2b050-1062-45ff-afad-c6cb5742ee71",
   "metadata": {},
   "outputs": [],
   "source": []
  },
  {
   "cell_type": "markdown",
   "id": "209fdab1-cd80-4bca-bcca-f484900877c5",
   "metadata": {},
   "source": [
    "#### Initialise frozen set\n",
    "\n",
    "- An empty frozenset can be initialised using empty `frozenset()`constructor.\n",
    "- A non-empty frozenset can be initialised by providing a sequence like a list or tuple as input to `frozenset()`constructor."
   ]
  },
  {
   "cell_type": "code",
   "execution_count": 117,
   "id": "526487d9-0eca-42e2-ad5c-fee74cc5bd75",
   "metadata": {},
   "outputs": [
    {
     "name": "stdout",
     "output_type": "stream",
     "text": [
      "Empty frozenset: frozenset()\n"
     ]
    }
   ],
   "source": [
    "# Initialise an empty frozenset\n",
    "emptyFrozenSet = frozenset()\n",
    "print(f\"Empty frozenset: {emptyFrozenSet}\")"
   ]
  },
  {
   "cell_type": "code",
   "execution_count": 118,
   "id": "abe8edd9-c3b6-45b1-b032-51517e7136e4",
   "metadata": {},
   "outputs": [
    {
     "name": "stdout",
     "output_type": "stream",
     "text": [
      "Non-empty frozenset created using tuple as input to `frozenset()`constructor : frozenset({'cherry', 'apple', 'banana'})\n",
      "Non-empty frozenset created using list as input to `frozenset()`constructor : frozenset({'cherry', 'apple', 'banana'})\n"
     ]
    }
   ],
   "source": [
    "# Initialise a non-empty frozenset with arbitrary values\n",
    "nonemptyFrozenSet1 = frozenset((\"apple\", \"banana\", \"cherry\", \"apple\"))\n",
    "nonemptyFrozenSet2 = frozenset([\"apple\", \"banana\", \"cherry\", \"apple\"])\n",
    "\n",
    "# Print both frozensets using f-strings\n",
    "print(f\"Non-empty frozenset created using tuple as input to `frozenset()`constructor : {nonemptyFrozenSet1}\")\n",
    "print(f\"Non-empty frozenset created using list as input to `frozenset()`constructor : {nonemptyFrozenSet2}\")"
   ]
  },
  {
   "cell_type": "code",
   "execution_count": null,
   "id": "3a218b6b-f55f-48eb-bda9-6a9ffe41dffc",
   "metadata": {},
   "outputs": [],
   "source": []
  },
  {
   "cell_type": "code",
   "execution_count": null,
   "id": "7d4fee18-e8c5-41e0-a878-9206f5d615e9",
   "metadata": {},
   "outputs": [],
   "source": []
  },
  {
   "cell_type": "markdown",
   "id": "04d9a624-fd4c-4cf1-8773-a15687173140",
   "metadata": {},
   "source": [
    "### `range`\n",
    "\n",
    "`range` is an immutable ordered sequence of numbers.\n",
    "\n",
    "Ranges implement all of the common sequence operations except concatenation and repetition (due to the fact that range objects can only represent sequences that follow a strict pattern and repetition and concatenation will usually violate that pattern).\n",
    "\n",
    "\n",
    "`range([start], stop, [step=1])` function generates an immutable sequence of numbers, starting from the optional argument `start`, ending one `step` (by default 1) before the mandatory `end` argument. <br>\n",
    "<font color=\"#df2234\">All arguments in range() function should be integers. </font>\n",
    "\n",
    "Printing a range requires it to first input to a list:\n",
    "- Either input the range to `list()` constructor\n",
    "- Or unpack the range using Unpacking operator `*` inside `[]`\n"
   ]
  },
  {
   "cell_type": "code",
   "execution_count": null,
   "id": "0819024a-c0ac-488e-b243-d5a816085285",
   "metadata": {},
   "outputs": [],
   "source": []
  },
  {
   "cell_type": "markdown",
   "id": "ddd1c081-2baf-4ed1-a2b4-5cc8c88b7a5f",
   "metadata": {},
   "source": [
    "#### Initialise an empty range\n",
    "\n",
    "An empty range can be initialised using following methods:\n",
    "- `range(0)`\n",
    "- `range(x,x)` -> keep start and stop as same\n",
    "- `range(start,stop,step)` where start>stop and step>stop, so start never reaches stop and generates an empty range\n",
    "- `range(start,stop,step)` where stop>start and step<0, so start never reaches stop and generates an empty range"
   ]
  },
  {
   "cell_type": "code",
   "execution_count": 138,
   "id": "96f2fc44-b4fd-4123-8658-11971fa5c76f",
   "metadata": {},
   "outputs": [
    {
     "name": "stdout",
     "output_type": "stream",
     "text": [
      "range(0): []\n",
      "range(5, 5): []\n",
      "range(10, 0, 1): []\n",
      "range(0, 10, -1): []\n"
     ]
    }
   ],
   "source": [
    "### Zero stop\n",
    "print(f\"range(0): {[*range(0)]}\")\n",
    "\n",
    "### Start = stop\n",
    "print(f\"range(5, 5): {[*range(5, 5)]}\")\n",
    "\n",
    "### Start>Stop and Positive step that skips past the stop\n",
    "print(f\"range(10, 0, 1): {[*range(10, 0, 1)]}\")\n",
    "\n",
    "### Stop>Start and Negative step so start never reaches stop and generates an empty range\n",
    "print(f\"range(0, 10, -1): {[*range(0, 10, -1)]}\")"
   ]
  },
  {
   "cell_type": "code",
   "execution_count": null,
   "id": "65f89f4b-6ce8-45ac-99e1-cd5fcd95cc62",
   "metadata": {},
   "outputs": [],
   "source": []
  },
  {
   "cell_type": "markdown",
   "id": "5e53499a-457e-4bc5-97e3-2ac9487bdb33",
   "metadata": {},
   "source": [
    "#### Initialise a general non-empty range\n",
    "\n",
    "Non-Empty Ranges can be used to create numeric sequences of integers in ascending order or descending order."
   ]
  },
  {
   "cell_type": "code",
   "execution_count": 103,
   "id": "527901b8-71cc-4391-9b91-9def62c4b5e3",
   "metadata": {},
   "outputs": [
    {
     "name": "stdout",
     "output_type": "stream",
     "text": [
      "Printing range using unpacking operator inside `[]`\n",
      "Range of natural numbers in increasing order: [0, 1, 2, 3, 4, 5, 6, 7, 8, 9]\n",
      "Range of natural numbers in increasing order starting from 5: [5, 6, 7, 8, 9]\n",
      "Printing range using `list()` constructor\n",
      "Range of natural numbers in increasing order: [0, 1, 2, 3, 4, 5, 6, 7, 8, 9]\n",
      "Range of natural numbers in increasing order starting from 5: [5, 6, 7, 8, 9]\n"
     ]
    }
   ],
   "source": [
    "### Create a range of numbers in increasing order\n",
    "\n",
    "print(\"Printing range using unpacking operator inside `[]`\")\n",
    "print(f\"Range of natural numbers in increasing order: {[*range(10)]}\")\n",
    "print(f\"Range of natural numbers in increasing order starting from 5: {[*range(5, 10)]}\")\n",
    "\n",
    "print(\"Printing range using `list()` constructor\")\n",
    "print(f\"Range of natural numbers in increasing order: {list(range(10))}\")\n",
    "print(f\"Range of natural numbers in increasing order starting from 5: {list(range(5, 10))}\")"
   ]
  },
  {
   "cell_type": "code",
   "execution_count": null,
   "id": "616c32da-614d-4262-a311-f0b2a6ffe8c3",
   "metadata": {},
   "outputs": [],
   "source": []
  },
  {
   "cell_type": "code",
   "execution_count": null,
   "id": "f5c1ad88-7d41-41a8-881a-eb653efc0c58",
   "metadata": {},
   "outputs": [],
   "source": []
  },
  {
   "cell_type": "markdown",
   "id": "e81ddd3c-c7dc-4318-a96a-5ac6333244a2",
   "metadata": {},
   "source": [
    "### `string`\n",
    "\n",
    "Strings are immutable sequences of Unicode code points.\n",
    "Single quoted and Double quoted strings can span only single lines.\n",
    "Triple quoted strings may span multiple lines - all associated whitespace will be included in the string literal.\n",
    "\n",
    "String literals that are part of a single expression and have only whitespace between them will be implicitly converted to a single string literal. That is, `(\"spam \" \"eggs\")` == `\"spam eggs\"`.\n",
    "\n",
    "Strings implement all of the common sequence operations, along with additional methods of String class.\n",
    "\n",
    "Empty quotes of any type, `''`, `\"\"` or `\"\"\"\"\"\"` , or `str()` constructor without arguments initialise an empty string.\n"
   ]
  },
  {
   "cell_type": "markdown",
   "id": "9c7900c4-c749-4692-962a-e227e46e9760",
   "metadata": {},
   "source": [
    "#### Initialise an empty string\n",
    "Empty quotes of any type, `''`, `\"\"` or `\"\"\"\"\"\"` , or `str()` constructor without arguments initialise an empty string."
   ]
  },
  {
   "cell_type": "code",
   "execution_count": 12,
   "id": "c3515c24-78cf-4249-800c-48cfc57a1c25",
   "metadata": {},
   "outputs": [
    {
     "name": "stdout",
     "output_type": "stream",
     "text": [
      "Empty string created using empty single quotes `''`: \n",
      "Empty string created using empty double quotes `\"\"`: \n",
      "Empty string created using empty triple double quotes `\"\"\"\"\"\"`: \n",
      "Empty string created using empty str() constructor `''`: \n"
     ]
    }
   ],
   "source": [
    "### Initiliase an empty string\n",
    "\n",
    "emptyString_SingleQuotes = ''\n",
    "emptyString_DoubleQuotes = \"\"\n",
    "emptyString_TripleDoubleQuotes = \"\"\"\"\"\"\n",
    "emptyString_strConstructor = str()\n",
    "\n",
    "\n",
    "print(f\"Empty string created using empty single quotes `''`: {emptyString_SingleQuotes}\")\n",
    "print(f\"Empty string created using empty double quotes `\\\"\\\"`: {emptyString_DoubleQuotes}\")  ## inner quotes `\"` escaped using `\\` character\n",
    " print(f'Empty string created using empty triple double quotes `\"\"\"\"\"\"`: {emptyString_TripleDoubleQuotes}')\n",
    "print(f\"Empty string created using empty str() constructor `''`: {emptyString_strConstructor}\")"
   ]
  },
  {
   "cell_type": "code",
   "execution_count": null,
   "id": "56dd0b63-7a14-41f3-accf-282e0c0e6a7c",
   "metadata": {},
   "outputs": [],
   "source": []
  },
  {
   "cell_type": "markdown",
   "id": "045b14a2-d666-4469-87b9-7a6b9b991c3e",
   "metadata": {},
   "source": [
    "#### Initialise a general string\n",
    "\n",
    "A string can be initiliased by directly proding the string value in quotes of any type, or by providing the string in `str()` constructor\n",
    "\n",
    "Multi-line strings need to be initialised using triple double quotes.\n",
    "Multi-line strings retain the internal formatting including line feeds.\n",
    "\n",
    "- If quotes need to be provided inside a string, they should be given as follows:\n",
    "  - either the quotes inside string need to be of different type from the actual string's initialisers: double quotes inside single quote string, or single quotes inside double quote string\n",
    "  - or each quote character needs to be escaped using '\\' character\n",
    "\n",
    "- Double quoted strings remove the need for escaping apostrophes, which are essentially a single quote character\n",
    "  - Characters like single quotes / apostrophe can be optionally preceded by an escape character '\\' as well\n",
    "\n",
    "- `r` character can be used before the starting quote to indicate a raw string. It can be used as an indicator to escape all special characters inside the string.\n",
    "   - Inside f-strings, characters or strings to be escaped can be enclosed inside curly braces and then quotes preceded by - `r` character."
   ]
  },
  {
   "cell_type": "code",
   "execution_count": 14,
   "id": "91ba0e10-fa83-4a20-a15a-a2a9ac2b549d",
   "metadata": {},
   "outputs": [
    {
     "name": "stdout",
     "output_type": "stream",
     "text": [
      "Single line string initialsed using single quotes: Hello World\n",
      "Single line string initialsed using double quotes: Hello World\n"
     ]
    }
   ],
   "source": [
    "### Initialising single line strings\n",
    "\n",
    "x = 'Hello World' ### Initialising single line string using single quotes\n",
    "print(f\"Single line string initialsed using single quotes: {x}\")\n",
    "\n",
    "y = \"Hello World\" ### Initialising single line string using double quotes\n",
    "print(f\"Single line string initialsed using double quotes: {y}\")"
   ]
  },
  {
   "cell_type": "code",
   "execution_count": null,
   "id": "0948c8e1-c651-43d9-83e3-fbeddf08f385",
   "metadata": {},
   "outputs": [],
   "source": []
  },
  {
   "cell_type": "code",
   "execution_count": 17,
   "id": "03c9737b-9ad6-4a20-806a-5f991343cdb8",
   "metadata": {},
   "outputs": [
    {
     "name": "stdout",
     "output_type": "stream",
     "text": [
      "Single line string initialsed using single quotes: Hello World. I'm Admin\n",
      "Single line string initialsed using double quotes: Hello World. I'm Admin\n",
      "Single line string initialsed using double quotes: Hello World. I'm Admin\n"
     ]
    }
   ],
   "source": [
    "x = 'Hello World. I\\'m Admin' ### Initialising single line string with apostrophe using single quotes, using escape character\n",
    "print(f\"Single line string initialsed using single quotes: {x}\")\n",
    "\n",
    "y = \"Hello World. I'm Admin\" ### Initialising single line string with apostrophe using double quotes, without escape character\n",
    "print(f\"Single line string initialsed using double quotes: {y}\")\n",
    "\n",
    "z = \"Hello World. I\\'m Admin\" ### Initialising single line string with apostrophe using double quotes, using escape character\n",
    "print(f\"Single line string initialsed using double quotes: {z}\")"
   ]
  },
  {
   "cell_type": "code",
   "execution_count": null,
   "id": "41a155c5-64dc-4997-a715-a464386c5ba9",
   "metadata": {},
   "outputs": [],
   "source": []
  },
  {
   "cell_type": "code",
   "execution_count": 4,
   "id": "db2ce045-ac40-4ac3-9109-c68dc5969c7d",
   "metadata": {},
   "outputs": [
    {
     "ename": "SyntaxError",
     "evalue": "unterminated string literal (detected at line 3) (2528530074.py, line 3)",
     "output_type": "error",
     "traceback": [
      "  \u001b[36mCell\u001b[39m\u001b[36m \u001b[39m\u001b[32mIn[4]\u001b[39m\u001b[32m, line 3\u001b[39m\n\u001b[31m    \u001b[39m\u001b[31mx = 'Hello\u001b[39m\n        ^\n\u001b[31mSyntaxError\u001b[39m\u001b[31m:\u001b[39m unterminated string literal (detected at line 3)\n"
     ]
    }
   ],
   "source": [
    "### Initialise multi-line strings using single quotes -> generates error\n",
    "\n",
    "x = 'Hello \n",
    "World' ## Initialises with single quotes"
   ]
  },
  {
   "cell_type": "code",
   "execution_count": 5,
   "id": "ab437d4c-a700-46f8-a228-78e9b6484a20",
   "metadata": {},
   "outputs": [
    {
     "ename": "SyntaxError",
     "evalue": "unterminated string literal (detected at line 3) (450213136.py, line 3)",
     "output_type": "error",
     "traceback": [
      "  \u001b[36mCell\u001b[39m\u001b[36m \u001b[39m\u001b[32mIn[5]\u001b[39m\u001b[32m, line 3\u001b[39m\n\u001b[31m    \u001b[39m\u001b[31my = \"Hello\u001b[39m\n        ^\n\u001b[31mSyntaxError\u001b[39m\u001b[31m:\u001b[39m unterminated string literal (detected at line 3)\n"
     ]
    }
   ],
   "source": [
    "### Initialise multi-line strings using double quotes -> generates error\n",
    "\n",
    "y = \"Hello \n",
    "World\" ## Initialises with double quotes"
   ]
  },
  {
   "cell_type": "code",
   "execution_count": 6,
   "id": "9d0567ca-6951-4959-810d-108db9d50c96",
   "metadata": {},
   "outputs": [
    {
     "ename": "SyntaxError",
     "evalue": "unterminated string literal (detected at line 2) (1241559799.py, line 2)",
     "output_type": "error",
     "traceback": [
      "  \u001b[36mCell\u001b[39m\u001b[36m \u001b[39m\u001b[32mIn[6]\u001b[39m\u001b[32m, line 2\u001b[39m\n\u001b[31m    \u001b[39m\u001b[31mv = str('Hello\u001b[39m\n            ^\n\u001b[31mSyntaxError\u001b[39m\u001b[31m:\u001b[39m unterminated string literal (detected at line 2)\n"
     ]
    }
   ],
   "source": [
    "### Initialise multi-line strings using single quotes in str() constructor-> generates error\n",
    "v = str('Hello \n",
    "        World')  ## Initialise using constructor with single quotes"
   ]
  },
  {
   "cell_type": "code",
   "execution_count": 7,
   "id": "485f5aea-066d-43e5-aa4c-72309e077359",
   "metadata": {},
   "outputs": [
    {
     "ename": "SyntaxError",
     "evalue": "unterminated string literal (detected at line 2) (2486735363.py, line 2)",
     "output_type": "error",
     "traceback": [
      "  \u001b[36mCell\u001b[39m\u001b[36m \u001b[39m\u001b[32mIn[7]\u001b[39m\u001b[32m, line 2\u001b[39m\n\u001b[31m    \u001b[39m\u001b[31mw = str(\"Hello\u001b[39m\n            ^\n\u001b[31mSyntaxError\u001b[39m\u001b[31m:\u001b[39m unterminated string literal (detected at line 2)\n"
     ]
    }
   ],
   "source": [
    "### Initialise multi-line strings using double quotes in str() constructor -> generates error\n",
    "w = str(\"Hello \n",
    "        World\")  ## Initialise using constructor with double quotes"
   ]
  },
  {
   "cell_type": "code",
   "execution_count": null,
   "id": "866dafd2-86a8-4f35-b549-746686c7e8f3",
   "metadata": {},
   "outputs": [],
   "source": []
  },
  {
   "cell_type": "code",
   "execution_count": 31,
   "id": "ef31b20d-0857-4d69-b6f5-cadecb9d939c",
   "metadata": {},
   "outputs": [
    {
     "name": "stdout",
     "output_type": "stream",
     "text": [
      "Hello \n",
      "World\n",
      "\n"
     ]
    }
   ],
   "source": [
    "### Initialise multi-line strings using triple double quotes\n",
    "\n",
    "multiline_string = \"\"\"Hello \n",
    "World\n",
    "\"\"\"\n",
    "\n",
    "print(multiline_string)"
   ]
  },
  {
   "cell_type": "code",
   "execution_count": null,
   "id": "40866591-a64f-47b3-a867-4d9b15ab8074",
   "metadata": {},
   "outputs": [],
   "source": []
  },
  {
   "cell_type": "markdown",
   "id": "a2d94238-1b0f-4c05-a445-a28d2ca5b610",
   "metadata": {},
   "source": [
    "#### Escape characters usage\n",
    "\n",
    "- If quotes need to be provided inside a string, they should be given as follows:\n",
    "  - either the quotes inside string need to be of different type from the actual string's initialisers: double quotes inside single quote string, or single quotes inside double quote string\n",
    "  - or each quote character needs to be escaped using '\\' character\n",
    "\n",
    "- Double quoted strings remove the need for escaping apostrophes, which are essentially a single quote character\n",
    "  - Characters like single quotes / apostrophe can be optionally preceded by an escape character '\\' as well\n",
    "\n",
    "- `r` character can be used before the starting quote to indicate a raw string. It can be used as an indicator to escape all special characters inside the string.\n",
    "   - Inside f-strings, characters or strings to be escaped can be enclosed inside curly braces and then quotes preceded by - `r` character. This is not applicable for quote characters themselves as they indicate start of strings."
   ]
  },
  {
   "cell_type": "code",
   "execution_count": null,
   "id": "fb88f0ad-55d2-45c8-9d89-911148f1c934",
   "metadata": {},
   "outputs": [],
   "source": []
  },
  {
   "cell_type": "code",
   "execution_count": 78,
   "id": "72035582-9745-45b2-8a41-99deea0119bc",
   "metadata": {},
   "outputs": [
    {
     "name": "stdout",
     "output_type": "stream",
     "text": [
      "Double Quote String with Double Quote Character inside, escaped using '\\' character: Hello \" World\n"
     ]
    }
   ],
   "source": [
    "### `\\` character used to escape both the double quote character inside input string,\n",
    "### as well as `\\` character itself inside the outer f-string expression.\n",
    "print(f\"Double Quote String with Double Quote Character inside, escaped using '\\\\' character: {\"Hello \\\" World\"}\")"
   ]
  },
  {
   "cell_type": "code",
   "execution_count": null,
   "id": "c6aaf27e-8c2c-4545-bf2d-dc8d5d8fd3b3",
   "metadata": {},
   "outputs": [],
   "source": []
  },
  {
   "cell_type": "code",
   "execution_count": 79,
   "id": "c4970fa3-97ed-4402-a156-63ad7898fe54",
   "metadata": {},
   "outputs": [
    {
     "name": "stdout",
     "output_type": "stream",
     "text": [
      "Double Quote String with {} inside\n"
     ]
    }
   ],
   "source": [
    "### using `r` character to escape {} as string characters\n",
    "print(f\"Double Quote String with {r\"{}\"} inside\")"
   ]
  },
  {
   "cell_type": "code",
   "execution_count": null,
   "id": "c3a25f53-8a6a-4757-960a-ac8c7f25516a",
   "metadata": {},
   "outputs": [],
   "source": []
  },
  {
   "cell_type": "code",
   "execution_count": null,
   "id": "3f57770e-121a-44c6-a562-f22458649f8a",
   "metadata": {},
   "outputs": [],
   "source": []
  },
  {
   "cell_type": "markdown",
   "id": "788da379-ebae-4344-8092-20b282f29c63",
   "metadata": {},
   "source": [
    "#### Extracting individual string characters using other collection classes"
   ]
  },
  {
   "cell_type": "markdown",
   "id": "29e028be-7ef8-475d-8567-f781fe9fb645",
   "metadata": {},
   "source": [
    "##### **Extracting individual string characters including duplicates**\n",
    "\n",
    "`tuple()` constructor, `list()` constructor and tuple operator `()` can be used extract individual characters of a string, including duplicate characters.\n",
    "- If a string has whitespace characters, they are extracted as individual whitespace characters in the tuple / list.\n",
    "- For `tuple()` constructor and `list()` constructor, the string should be input as the single entry inside its own parenthesis i.e. the constructors essentially receive a tuple with single entry as input : `tuple((string))` or `list((string))`\n",
    "\n",
    "- `tuple()` constructor and parenthesis `()` output a tuple of characters while `list()` constructor outputs a list of characters\n",
    "- Inputting a single-entry tuple of string to brackets `[]` output a list with the whole string as entry instead"
   ]
  },
  {
   "cell_type": "code",
   "execution_count": null,
   "id": "283db423-45b3-4866-9bd7-991f66dd79ab",
   "metadata": {},
   "outputs": [],
   "source": []
  },
  {
   "cell_type": "code",
   "execution_count": null,
   "id": "f29d94bf-aa2a-492c-861a-ed243f8ca62c",
   "metadata": {},
   "outputs": [],
   "source": []
  },
  {
   "cell_type": "code",
   "execution_count": 52,
   "id": "731c2230-3328-48bc-8123-b8002415ddcb",
   "metadata": {},
   "outputs": [
    {
     "name": "stdout",
     "output_type": "stream",
     "text": [
      "Extracting individual string characters including duplicates using `tuple()` constructor: ('H', 'e', 'l', 'l', 'o')\n",
      "Extracting individual string characters including duplicates using `tuple()` constructor: ('H', 'e', 'l', 'l', 'o', ' ', ' ', 'W', 'o', 'r', 'l', 'd')\n"
     ]
    }
   ],
   "source": [
    "### Extracting individual string characters including duplicates using `tuple()` constructor\n",
    "\n",
    "string_tuple1 = tuple((\"Hello\"))\n",
    "print(f\"Extracting individual string characters including duplicates using `tuple()` constructor: {string_tuple1}\")\n",
    "\n",
    "string_tuple2 = tuple((\"Hello  World\"))\n",
    "print(f\"Extracting individual string characters including duplicates using `tuple()` constructor: {string_tuple2}\")"
   ]
  },
  {
   "cell_type": "code",
   "execution_count": null,
   "id": "87a65d0a-bac2-447f-a6bc-7562e9b98db0",
   "metadata": {},
   "outputs": [],
   "source": []
  },
  {
   "cell_type": "code",
   "execution_count": 53,
   "id": "df2042a6-fe83-441c-9a7a-4a97ba47bd64",
   "metadata": {},
   "outputs": [
    {
     "name": "stdout",
     "output_type": "stream",
     "text": [
      "Extracting individual string characters including duplicates using `()`: Hello\n",
      "Extracting individual string characters including duplicates using `()`: Hello  World\n"
     ]
    }
   ],
   "source": [
    "string_tuple1 = (\"Hello\")\n",
    "print(f\"Extracting individual string characters including duplicates using `()`: {string_tuple1}\")\n",
    "\n",
    "string_tuple2 = (\"Hello  World\")\n",
    "print(f\"Extracting individual string characters including duplicates using `()`: {string_tuple2}\")"
   ]
  },
  {
   "cell_type": "code",
   "execution_count": null,
   "id": "23340e9b-25c5-4f5c-8b5b-e8ab760b3dee",
   "metadata": {},
   "outputs": [],
   "source": []
  },
  {
   "cell_type": "code",
   "execution_count": 57,
   "id": "137f7ebb-40a5-49d9-87f4-47e45b1c53bb",
   "metadata": {},
   "outputs": [
    {
     "name": "stdout",
     "output_type": "stream",
     "text": [
      "Extracting individual string characters including duplicates using `list()` constructor: ['H', 'e', 'l', 'l', 'o']\n",
      "Extracting individual string characters including duplicates  `list()` constructor: ['H', 'e', 'l', 'l', 'o', ' ', ' ', 'W', 'o', 'r', 'l', 'd']\n"
     ]
    }
   ],
   "source": [
    "### Extracting individual string characters including duplicates using `list()` constructor\n",
    "\n",
    "string_list1 = list((\"Hello\"))\n",
    "print(f\"Extracting individual string characters including duplicates using `list()` constructor: {string_list1}\")\n",
    "\n",
    "string_list2 = list((\"Hello  World\"))\n",
    "print(f\"Extracting individual string characters including duplicates  `list()` constructor: {string_list2}\")"
   ]
  },
  {
   "cell_type": "code",
   "execution_count": null,
   "id": "07f60b03-94c8-4546-8bad-e94bbf6dd134",
   "metadata": {},
   "outputs": [],
   "source": []
  },
  {
   "cell_type": "code",
   "execution_count": 58,
   "id": "32de385b-d054-4341-b698-68d9898105c2",
   "metadata": {},
   "outputs": [
    {
     "name": "stdout",
     "output_type": "stream",
     "text": [
      "Inputting `(string)` to `[]`: ['Hello']\n",
      "Inputting `(string)` to `[]`: ['Hello  World']\n"
     ]
    }
   ],
   "source": [
    "string_list1 = [(\"Hello\")]\n",
    "print(f\"Inputting `(string)` to `[]`: {string_list1}\")\n",
    "\n",
    "string_list2 = [(\"Hello  World\")]\n",
    "print(f\"Inputting `(string)` to `[]`: {string_list2}\")"
   ]
  },
  {
   "cell_type": "code",
   "execution_count": null,
   "id": "5d6c25b5-8c3d-4268-a9d7-808ef8b09de2",
   "metadata": {},
   "outputs": [],
   "source": []
  },
  {
   "cell_type": "code",
   "execution_count": 50,
   "id": "94aa5f93-cc19-44d5-8776-54d279a87f68",
   "metadata": {},
   "outputs": [
    {
     "name": "stdout",
     "output_type": "stream",
     "text": [
      "Inputting multiple strings to `list()` constructor: ['Hello', 'World']\n"
     ]
    }
   ],
   "source": [
    "### Inputting multiple strings to `list()` constructor\n",
    "\n",
    "string_list = list((\"Hello\", \"World\"))\n",
    "print(f\"Inputting multiple strings to `list()` constructor: {string_list}\")"
   ]
  },
  {
   "cell_type": "code",
   "execution_count": null,
   "id": "66342568-f500-44a0-8cb8-316d0d221138",
   "metadata": {},
   "outputs": [],
   "source": []
  },
  {
   "cell_type": "code",
   "execution_count": null,
   "id": "4d81c77c-09e0-4579-ac89-3df6b7ec42a9",
   "metadata": {},
   "outputs": [],
   "source": []
  },
  {
   "cell_type": "markdown",
   "id": "44095f14-ff7b-4902-b1b2-20a59b12121d",
   "metadata": {},
   "source": [
    "##### **Extracting individual string characters excluding duplicates**\n",
    "\n",
    "`set()` constructor and `frozenset()` constructor can be used extract individual characters of a string, excluding duplicate characters.\n",
    "- For `set()` constructor and `frozenset()` constructor, the string should be input as the single entry inside its own parenthesis i.e. the constructors essentially receive a tuple with single entry as input : `set((string))` or `frozenset((string))`\n",
    "\n",
    "- Inputting `(string)` to curly braces `{}` generates a singleton set with that string as entry"
   ]
  },
  {
   "cell_type": "code",
   "execution_count": null,
   "id": "d3a388ce-e54c-462d-ba4b-2e91c10eccac",
   "metadata": {},
   "outputs": [],
   "source": []
  },
  {
   "cell_type": "code",
   "execution_count": 82,
   "id": "595915b8-f6de-47a1-a382-417faab3afcd",
   "metadata": {},
   "outputs": [
    {
     "name": "stdout",
     "output_type": "stream",
     "text": [
      "Extracting individual string characters including duplicates using `set()` constructor: {'d', 'e', 'W', 'r', 'H', ' ', 'l', 'o'}\n",
      "Extracting individual string characters including duplicates using `frozenset()` constructor: frozenset({'d', 'e', 'W', 'r', 'H', ' ', 'l', 'o'})\n"
     ]
    }
   ],
   "source": [
    "### Extracting individual string characters including duplicates using `list()` constructor\n",
    "\n",
    "string_set1 = set((\"Hello  World\"))\n",
    "print(f\"Extracting individual string characters including duplicates using `set()` constructor: {string_set1}\")\n",
    "\n",
    "string_frozenset1 = frozenset((\"Hello World\"))\n",
    "print(f\"Extracting individual string characters including duplicates using `frozenset()` constructor: {string_frozenset1}\")"
   ]
  },
  {
   "cell_type": "code",
   "execution_count": null,
   "id": "6fa94170-3205-4775-aa4a-78f76f45f2de",
   "metadata": {},
   "outputs": [],
   "source": []
  },
  {
   "cell_type": "code",
   "execution_count": 81,
   "id": "32429396-e7f9-4f37-b799-f95319de3900",
   "metadata": {},
   "outputs": [
    {
     "name": "stdout",
     "output_type": "stream",
     "text": [
      "Inputting `(string)` to {}: {'Hello  World'}\n"
     ]
    }
   ],
   "source": [
    "string_set2 = {(\"Hello  World\")}\n",
    "print(f\"Inputting `(string)` to {r\"{}\"}: {string_set2}\")"
   ]
  },
  {
   "cell_type": "code",
   "execution_count": null,
   "id": "12c31966-54de-43a7-b11c-2e4dc9887513",
   "metadata": {},
   "outputs": [],
   "source": []
  },
  {
   "cell_type": "markdown",
   "id": "fd04309c-ef80-48f9-a38b-d4d867385e04",
   "metadata": {},
   "source": [
    "#### Joining sequence of strings into single valid string\n",
    "\n",
    "Sequence of characters can be joined into a single string using string class' `.join()` function.\n",
    "\n",
    "Calling this function using an empty string, or a prefix non-empty string, and using the required string sequence inside `()` as argument, the required string can be created.\n",
    "- The input sequence should be an iterable so, it cannot be a set or frozenset.\n",
    "- The prefix string is added before each entry in the input iterable sequence."
   ]
  },
  {
   "cell_type": "code",
   "execution_count": null,
   "id": "0fe204fe-7077-458d-a066-d63de6a90e30",
   "metadata": {},
   "outputs": [],
   "source": []
  },
  {
   "cell_type": "code",
   "execution_count": 124,
   "id": "d0db5c25-0efb-48db-966f-e57db6568320",
   "metadata": {},
   "outputs": [
    {
     "name": "stdout",
     "output_type": "stream",
     "text": [
      "Hello\n"
     ]
    }
   ],
   "source": [
    "print(\"\".join((\"Hello\")))"
   ]
  },
  {
   "cell_type": "code",
   "execution_count": 130,
   "id": "09f15da9-49ba-47c0-8c92-77c585ceadf5",
   "metadata": {},
   "outputs": [
    {
     "name": "stdout",
     "output_type": "stream",
     "text": [
      "HelloWorld!\n"
     ]
    }
   ],
   "source": [
    "print(\"\".join((\"Hello\", \"World\", \"!\")))"
   ]
  },
  {
   "cell_type": "code",
   "execution_count": 131,
   "id": "89b7a50c-c143-44aa-9a45-00444e1b848b",
   "metadata": {},
   "outputs": [
    {
     "name": "stdout",
     "output_type": "stream",
     "text": [
      "Hello\n"
     ]
    }
   ],
   "source": [
    "print(\"\".join(('H', 'e', 'l', 'l', 'o')))"
   ]
  },
  {
   "cell_type": "code",
   "execution_count": 126,
   "id": "aaa9e99d-b490-40d1-aa1a-dbf1a507c47d",
   "metadata": {},
   "outputs": [
    {
     "name": "stdout",
     "output_type": "stream",
     "text": [
      "H e l l o\n"
     ]
    }
   ],
   "source": [
    "print(\" \".join(('H', 'e', 'l', 'l', 'o')))"
   ]
  },
  {
   "cell_type": "code",
   "execution_count": null,
   "id": "ba142163-965a-47d9-87bd-27ec20ed0cef",
   "metadata": {},
   "outputs": [],
   "source": []
  },
  {
   "cell_type": "code",
   "execution_count": 127,
   "id": "b4a93fa2-64c6-4862-9ad0-aa64bc44d6ea",
   "metadata": {},
   "outputs": [
    {
     "name": "stdout",
     "output_type": "stream",
     "text": [
      "Hello\n"
     ]
    }
   ],
   "source": [
    "print(\"\".join([\"Hello\"]))"
   ]
  },
  {
   "cell_type": "code",
   "execution_count": 132,
   "id": "6680ea44-8391-4b7d-9089-9f2a038e28f0",
   "metadata": {},
   "outputs": [
    {
     "name": "stdout",
     "output_type": "stream",
     "text": [
      "Hello World !\n"
     ]
    }
   ],
   "source": [
    "print(\" \".join([\"Hello\", \"World\", \"!\"]))"
   ]
  },
  {
   "cell_type": "code",
   "execution_count": 133,
   "id": "9faa203b-0413-4712-bcd4-7500c3467ff4",
   "metadata": {},
   "outputs": [
    {
     "name": "stdout",
     "output_type": "stream",
     "text": [
      "Hello\n"
     ]
    }
   ],
   "source": [
    "print(\"\".join(['H', 'e', 'l', 'l', 'o']))"
   ]
  },
  {
   "cell_type": "code",
   "execution_count": 129,
   "id": "d7f7ebef-ec9b-4874-b50d-5794cd27c485",
   "metadata": {},
   "outputs": [
    {
     "name": "stdout",
     "output_type": "stream",
     "text": [
      "H e l l o\n"
     ]
    }
   ],
   "source": [
    "print(\" \".join(['H', 'e', 'l', 'l', 'o']))"
   ]
  },
  {
   "cell_type": "code",
   "execution_count": null,
   "id": "690cd958-5130-4336-88c9-e7300899c701",
   "metadata": {},
   "outputs": [],
   "source": []
  }
 ],
 "metadata": {
  "kernelspec": {
   "display_name": "Python 3 (ipykernel)",
   "language": "python",
   "name": "python3"
  },
  "language_info": {
   "codemirror_mode": {
    "name": "ipython",
    "version": 3
   },
   "file_extension": ".py",
   "mimetype": "text/x-python",
   "name": "python",
   "nbconvert_exporter": "python",
   "pygments_lexer": "ipython3",
   "version": "3.13.2"
  }
 },
 "nbformat": 4,
 "nbformat_minor": 5
}
