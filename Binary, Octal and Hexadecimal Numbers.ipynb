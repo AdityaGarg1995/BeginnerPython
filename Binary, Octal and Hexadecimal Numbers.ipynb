{
 "cells": [
  {
   "cell_type": "markdown",
   "id": "12234356",
   "metadata": {},
   "source": [
    "## Converting from Any Built-in base to Any other Built-in base"
   ]
  },
  {
   "cell_type": "code",
   "execution_count": 24,
   "id": "5b3c5c0c",
   "metadata": {},
   "outputs": [
    {
     "name": "stdout",
     "output_type": "stream",
     "text": [
      "11111111\n",
      "293\n",
      "772\n",
      "ff\n",
      "Octal to binary 0b10101011\n",
      "<class 'str'>\n",
      "Hexadecimal to Decimal 595\n",
      "<class 'int'>\n",
      "Binary to Hexadecimal 0x24\n",
      "<class 'str'>\n",
      "Binary to Octal 0o44\n",
      "<class 'str'>\n"
     ]
    }
   ],
   "source": [
    "print(format(255, 'b')) # base 10 to base 2\n",
    "print(format(0b100100101, 'd')) # Base 2 to base 10\n",
    "print(format(0x1fa, 'o')) # base 16 to base 8\n",
    "print(format(255, 'x')) # Base 10 base 16\n",
    "\n",
    "\n",
    "print(\"Octal to binary\", bin(0o253))\n",
    "print(type(bin(0o253)))\n",
    "print(\"Hexadecimal to Decimal\", int(0x253))\n",
    "print(type(int(0x253)))\n",
    "print(\"Binary to Hexadecimal\", hex(0b100100))\n",
    "print(type(hex(0b100100)))\n",
    "print(\"Binary to Octal\", oct(0b100100))\n",
    "print(type(oct(0b100100)))"
   ]
  },
  {
   "cell_type": "markdown",
   "id": "3aa16454",
   "metadata": {},
   "source": [
    "## Converting Bas-10 to Non-Base-10"
   ]
  },
  {
   "cell_type": "markdown",
   "id": "cdc830dc",
   "metadata": {},
   "source": [
    "Python provides built-in functions to convert from Base 10 integer to Binary, Octal and Hexadecimal representations.\n",
    "The respective functions are bin(), oct() and hex(). The returned values are of String type"
   ]
  },
  {
   "cell_type": "code",
   "execution_count": 1,
   "id": "2583188b",
   "metadata": {},
   "outputs": [
    {
     "name": "stdout",
     "output_type": "stream",
     "text": [
      "Help on built-in function bin in module builtins:\n",
      "\n",
      "bin(number, /)\n",
      "    Return the binary representation of an integer.\n",
      "    \n",
      "    >>> bin(2796202)\n",
      "    '0b1010101010101010101010'\n",
      "\n"
     ]
    }
   ],
   "source": [
    "help(bin)\n",
    "'''Output of bin() function is a string starting with \"0b\" '''"
   ]
  },
  {
   "cell_type": "code",
   "execution_count": 2,
   "id": "97201b1d",
   "metadata": {},
   "outputs": [
    {
     "name": "stdout",
     "output_type": "stream",
     "text": [
      "Help on built-in function oct in module builtins:\n",
      "\n",
      "oct(number, /)\n",
      "    Return the octal representation of an integer.\n",
      "    \n",
      "    >>> oct(342391)\n",
      "    '0o1234567'\n",
      "\n"
     ]
    }
   ],
   "source": [
    "help(oct)\n",
    "'''Output of oct() function is a string starting with \"0o\" '''"
   ]
  },
  {
   "cell_type": "code",
   "execution_count": 3,
   "id": "12ad6aa4",
   "metadata": {},
   "outputs": [
    {
     "name": "stdout",
     "output_type": "stream",
     "text": [
      "Help on built-in function hex in module builtins:\n",
      "\n",
      "hex(number, /)\n",
      "    Return the hexadecimal representation of an integer.\n",
      "    \n",
      "    >>> hex(12648430)\n",
      "    '0xc0ffee'\n",
      "\n"
     ]
    }
   ],
   "source": [
    "help(hex)\n",
    "'''Output of hex() function is a string starting with \"0x\" '''"
   ]
  },
  {
   "cell_type": "code",
   "execution_count": 22,
   "id": "a663edbc",
   "metadata": {},
   "outputs": [
    {
     "name": "stdout",
     "output_type": "stream",
     "text": [
      "Integer to Binary 0b1001\n",
      "<class 'str'>\n",
      "Integer to Octal 0o11\n",
      "<class 'str'>\n",
      "Integer to Hexadecimal 0x9\n",
      "<class 'str'>\n"
     ]
    }
   ],
   "source": [
    "## Example with input integer = 9\n",
    "\n",
    "print(\"Integer to Binary\", bin(9))\n",
    "print(type(bin(9)))\n",
    "print(\"Integer to Octal\", oct(9))\n",
    "print(type(oct(9)))\n",
    "print(\"Integer to Hexadecimal\", hex(9))\n",
    "print(type(hex(9)))\n"
   ]
  },
  {
   "cell_type": "code",
   "execution_count": 20,
   "id": "d17dcdad",
   "metadata": {},
   "outputs": [
    {
     "name": "stdout",
     "output_type": "stream",
     "text": [
      "Integer to Binary -0b1001\n",
      "<class 'str'>\n",
      "Integer to Octal -0o11\n",
      "<class 'str'>\n",
      "Integer to Hexadecimal -0x9\n",
      "<class 'str'>\n"
     ]
    }
   ],
   "source": [
    "## Example with input integer = -9\n",
    "\n",
    "print(\"Integer to Binary\", bin(-9))\n",
    "print(type(bin(9)))\n",
    "print(\"Integer to Octal\", oct(-9))\n",
    "print(type(oct(9)))\n",
    "print(\"Integer to Hexadecimal\", hex(-9))\n",
    "print(type(hex(9)))"
   ]
  },
  {
   "cell_type": "markdown",
   "id": "b2ec0318",
   "metadata": {},
   "source": [
    "<span style='color: red;'> Please note that only numbers with bases 2, 8, 10 and 16 (i.e. binary, octal, decimal and hexadecimal numbers) can be given as input to bin(), oct() and hex() </span>"
   ]
  },
  {
   "cell_type": "code",
   "execution_count": 10,
   "id": "c738c944",
   "metadata": {},
   "outputs": [
    {
     "ename": "TypeError",
     "evalue": "'float' object cannot be interpreted as an integer",
     "output_type": "error",
     "traceback": [
      "\u001b[1;31m---------------------------------------------------------------------------\u001b[0m",
      "\u001b[1;31mTypeError\u001b[0m                                 Traceback (most recent call last)",
      "Cell \u001b[1;32mIn[10], line 3\u001b[0m\n\u001b[0;32m      1\u001b[0m \u001b[38;5;66;03m## Example with input integer = 9\u001b[39;00m\n\u001b[1;32m----> 3\u001b[0m \u001b[38;5;28mprint\u001b[39m(\u001b[38;5;124m\"\u001b[39m\u001b[38;5;124mInteger to Binary\u001b[39m\u001b[38;5;124m\"\u001b[39m, \u001b[38;5;28;43mbin\u001b[39;49m\u001b[43m(\u001b[49m\u001b[38;5;241;43m1.89\u001b[39;49m\u001b[43m)\u001b[49m)\n\u001b[0;32m      4\u001b[0m \u001b[38;5;28mprint\u001b[39m(\u001b[38;5;28mtype\u001b[39m(\u001b[38;5;28mbin\u001b[39m(\u001b[38;5;241m9\u001b[39m)))\n\u001b[0;32m      5\u001b[0m \u001b[38;5;28mprint\u001b[39m(\u001b[38;5;124m\"\u001b[39m\u001b[38;5;124mInteger to Octal\u001b[39m\u001b[38;5;124m\"\u001b[39m, \u001b[38;5;28moct\u001b[39m(\u001b[38;5;241m1.89\u001b[39m))\n",
      "\u001b[1;31mTypeError\u001b[0m: 'float' object cannot be interpreted as an integer"
     ]
    }
   ],
   "source": [
    "## Example with input float = 1.89 --> This is an invalid input\n",
    "\n",
    "print(\"Integer to Binary\", bin(1.89))\n",
    "print(type(bin(9)))\n",
    "print(\"Integer to Octal\", oct(1.89))\n",
    "print(type(oct(9)))\n",
    "print(\"Integer to Hexadecimal\", hex(1.89))\n",
    "print(type(hex(9)))"
   ]
  },
  {
   "cell_type": "code",
   "execution_count": 9,
   "id": "959aa646",
   "metadata": {},
   "outputs": [
    {
     "ename": "TypeError",
     "evalue": "'complex' object cannot be interpreted as an integer",
     "output_type": "error",
     "traceback": [
      "\u001b[1;31m---------------------------------------------------------------------------\u001b[0m",
      "\u001b[1;31mTypeError\u001b[0m                                 Traceback (most recent call last)",
      "Cell \u001b[1;32mIn[9], line 1\u001b[0m\n\u001b[1;32m----> 1\u001b[0m \u001b[38;5;28mprint\u001b[39m(\u001b[38;5;124m\"\u001b[39m\u001b[38;5;124mInteger to Binary\u001b[39m\u001b[38;5;124m\"\u001b[39m, \u001b[38;5;28;43mbin\u001b[39;49m\u001b[43m(\u001b[49m\u001b[38;5;28;43mcomplex\u001b[39;49m\u001b[43m(\u001b[49m\u001b[38;5;241;43m1\u001b[39;49m\u001b[43m,\u001b[49m\u001b[43m \u001b[49m\u001b[38;5;241;43m4\u001b[39;49m\u001b[43m)\u001b[49m\u001b[43m)\u001b[49m)\n\u001b[0;32m      2\u001b[0m \u001b[38;5;28mprint\u001b[39m(\u001b[38;5;28mtype\u001b[39m(\u001b[38;5;28mbin\u001b[39m(\u001b[38;5;241m9\u001b[39m)))\n\u001b[0;32m      3\u001b[0m \u001b[38;5;28mprint\u001b[39m(\u001b[38;5;124m\"\u001b[39m\u001b[38;5;124mInteger to Octal\u001b[39m\u001b[38;5;124m\"\u001b[39m, \u001b[38;5;28moct\u001b[39m(\u001b[38;5;28mcomplex\u001b[39m(\u001b[38;5;241m1\u001b[39m, \u001b[38;5;241m4\u001b[39m)))\n",
      "\u001b[1;31mTypeError\u001b[0m: 'complex' object cannot be interpreted as an integer"
     ]
    }
   ],
   "source": [
    "## Example with complex number as input --> This is an invalid input\n",
    "\n",
    "print(\"Integer to Binary\", bin(complex(1, 4)))\n",
    "print(type(bin(complex(1, 4))))\n",
    "print(\"Integer to Octal\", oct(complex(1, 4)))\n",
    "print(type(oct(complex(1, 4))))\n",
    "print(\"Integer to Hexadecimal\", hex(complex(1, 4)))\n",
    "print(type(hex(complex(1, 4))))"
   ]
  },
  {
   "cell_type": "code",
   "execution_count": null,
   "id": "d1bbcdfd",
   "metadata": {},
   "outputs": [],
   "source": []
  },
  {
   "cell_type": "markdown",
   "id": "bd6e975e",
   "metadata": {},
   "source": [
    "## Converting Non-Base-10 numbers to Base-10 (Integers)"
   ]
  },
  {
   "cell_type": "markdown",
   "id": "ce36a581",
   "metadata": {},
   "source": [
    "Inputting Binary, Octal or Hexadecimal values into print() function results in their corresponding integer value being displayed as output"
   ]
  },
  {
   "cell_type": "code",
   "execution_count": 5,
   "id": "085c2906",
   "metadata": {},
   "outputs": [
    {
     "name": "stdout",
     "output_type": "stream",
     "text": [
      "Binary to Integer using print() function: 9\n",
      "Octal to Integer using print() function: 9\n",
      "Hexaecimal to Integer using print() function: 9\n"
     ]
    }
   ],
   "source": [
    "print(\"Binary to Integer using print() function: \", end='')\n",
    "print(0b1001)\n",
    "print(\"Octal to Integer using print() function: \", end='')\n",
    "print(0o11)\n",
    "print(\"Hexadecimal to Integer using print() function: \", end='')\n",
    "print(0x9)"
   ]
  },
  {
   "cell_type": "markdown",
   "id": "273ce34c",
   "metadata": {},
   "source": [
    "Inputting Binary, Octal or Hexadecimal values into int() function results in their corresponding integer value being returned as output"
   ]
  },
  {
   "cell_type": "code",
   "execution_count": 17,
   "id": "9f3bc7db",
   "metadata": {},
   "outputs": [
    {
     "name": "stdout",
     "output_type": "stream",
     "text": [
      "Binary to Integer using int() function: 2253\n",
      "Octal to Integer using int() function: 8821\n",
      "Hexadecimal to Integer using int() function: 156793\n"
     ]
    }
   ],
   "source": [
    "print(\"Binary to Integer using int() function: \", end='')\n",
    "print((int(0b100011001101)))\n",
    "print(\"Octal to Integer using int() function: \", end='')\n",
    "print(int(0o21165))\n",
    "print(\"Hexadecimal to Integer using int() function: \", end='')\n",
    "print(int(0x26479))"
   ]
  },
  {
   "cell_type": "code",
   "execution_count": null,
   "id": "e5a5e578",
   "metadata": {},
   "outputs": [],
   "source": []
  },
  {
   "cell_type": "code",
   "execution_count": null,
   "id": "05d6e62b",
   "metadata": {},
   "outputs": [],
   "source": []
  },
  {
   "cell_type": "code",
   "execution_count": null,
   "id": "1ebdfd39",
   "metadata": {},
   "outputs": [],
   "source": []
  },
  {
   "cell_type": "markdown",
   "id": "1920436f",
   "metadata": {},
   "source": [
    "## Converting from Any Built-in base to Any other Built-in base"
   ]
  },
  {
   "cell_type": "code",
   "execution_count": 18,
   "id": "b26f55a9",
   "metadata": {
    "scrolled": true
   },
   "outputs": [
    {
     "name": "stdout",
     "output_type": "stream",
     "text": [
      "11111111\n",
      "293\n",
      "772\n",
      "ff\n"
     ]
    }
   ],
   "source": [
    "## Format function to convert between bases\n",
    "\n",
    "print(format(255, 'b')) # base 10 to base 2\n",
    "print(format(0b100100101, 'd')) # Base 2 to base 10\n",
    "print(format(0x1fa, 'o')) # base 16 to base 8\n",
    "print(format(255, 'x')) # Base 10 base 16"
   ]
  },
  {
   "cell_type": "code",
   "execution_count": null,
   "id": "df51b7b3",
   "metadata": {},
   "outputs": [],
   "source": []
  },
  {
   "cell_type": "code",
   "execution_count": 19,
   "id": "c73c604c",
   "metadata": {},
   "outputs": [
    {
     "data": {
      "text/plain": [
       "'0b11101000111'"
      ]
     },
     "execution_count": 19,
     "metadata": {},
     "output_type": "execute_result"
    }
   ],
   "source": []
  },
  {
   "cell_type": "code",
   "execution_count": null,
   "id": "039fbdaf",
   "metadata": {},
   "outputs": [],
   "source": []
  },
  {
   "cell_type": "code",
   "execution_count": null,
   "id": "057e41be",
   "metadata": {},
   "outputs": [],
   "source": []
  },
  {
   "cell_type": "code",
   "execution_count": null,
   "id": "2f92be0d",
   "metadata": {},
   "outputs": [],
   "source": []
  },
  {
   "cell_type": "code",
   "execution_count": null,
   "id": "c272556e",
   "metadata": {},
   "outputs": [],
   "source": []
  },
  {
   "cell_type": "code",
   "execution_count": null,
   "id": "6cd82926",
   "metadata": {},
   "outputs": [],
   "source": []
  },
  {
   "cell_type": "code",
   "execution_count": null,
   "id": "5151bd35",
   "metadata": {},
   "outputs": [],
   "source": []
  },
  {
   "cell_type": "code",
   "execution_count": null,
   "id": "defcd71f",
   "metadata": {},
   "outputs": [],
   "source": []
  }
 ],
 "metadata": {
  "kernelspec": {
   "display_name": "Python 3 (ipykernel)",
   "language": "python",
   "name": "python3"
  },
  "language_info": {
   "codemirror_mode": {
    "name": "ipython",
    "version": 3
   },
   "file_extension": ".py",
   "mimetype": "text/x-python",
   "name": "python",
   "nbconvert_exporter": "python",
   "pygments_lexer": "ipython3",
   "version": "3.10.9"
  }
 },
 "nbformat": 4,
 "nbformat_minor": 5
}
