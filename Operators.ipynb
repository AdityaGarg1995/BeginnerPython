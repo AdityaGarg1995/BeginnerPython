{
 "cells": [
  {
   "cell_type": "markdown",
   "id": "350011b6",
   "metadata": {},
   "source": [
    "## Unary Operators\n",
    "Unary Operators take only one operand.\n",
    "Examples of such operators include sign change, logical negation, factorial etc.\n",
    "\n",
    "Unary operators have higher priority than binary operators, and are evaluated first in any expression\n",
    "\n",
    "Factorial and other unary operators that need libraries to be installed are not covered in this notebook"
   ]
  },
  {
   "cell_type": "code",
   "execution_count": 72,
   "id": "26eb0603",
   "metadata": {},
   "outputs": [
    {
     "name": "stdout",
     "output_type": "stream",
     "text": [
      "-4\n",
      "-4.5\n",
      "4\n",
      "-11\n"
     ]
    }
   ],
   "source": [
    "### Unary - operator changes the sign of the input numeric data type\n",
    "\n",
    "print(-4)  ### print an integer with negative sign\n",
    "print(-4.5)  ### print an integer with negative sign\n",
    "print(-(-4))  ### sign change a negative value integer\n",
    "print(-0b1011) ### convert binary number to integer and change sign"
   ]
  },
  {
   "cell_type": "code",
   "execution_count": 73,
   "id": "1c0ad992",
   "metadata": {},
   "outputs": [
    {
     "name": "stdout",
     "output_type": "stream",
     "text": [
      "4\n",
      "4.5\n",
      "4j\n",
      "11\n"
     ]
    }
   ],
   "source": [
    "### Unary + operator doesnt actually do anything - the input remains unchanged and is yielded as output\n",
    "\n",
    "print(+4)  \n",
    "print(+4.5)  \n",
    "print(+4j)  \n",
    "print(+0b1011)"
   ]
  },
  {
   "cell_type": "code",
   "execution_count": 79,
   "id": "0f1d1b4d",
   "metadata": {},
   "outputs": [
    {
     "name": "stdout",
     "output_type": "stream",
     "text": [
      "False\n",
      "True\n",
      "False\n",
      "False\n",
      "True\n"
     ]
    }
   ],
   "source": [
    "### Unary not operator is the logical negation operator. It changes boolean values to opposite one : False to True and True to False\n",
    "print(not (True))\n",
    "print(not (False))\n",
    "\n",
    "print(not (-4j))     ### changing boolean value of a numeric datatype\n",
    "print(not (\"Hello\")) ### changing boolean value of a string datatype\n",
    "print(not (0))       ### changing boolean value of 0"
   ]
  },
  {
   "cell_type": "markdown",
   "id": "f85240c2",
   "metadata": {},
   "source": [
    "### Built-in Unary Arithmetic Operators"
   ]
  },
  {
   "cell_type": "markdown",
   "id": "3aea72e6",
   "metadata": {},
   "source": [
    "abs() function results in absolute value i.e. magnitude of a number: \n",
    "1. For Rational Numbers, it corresponds to the value without minus sign for negative number and the number itself for a non-negative number.\n",
    "2. For Complex Numbers, it corresponds to the magnitude. for a complex number a+jb, magnitude = √a² + b²"
   ]
  },
  {
   "cell_type": "code",
   "execution_count": 16,
   "id": "5e22b3c0",
   "metadata": {},
   "outputs": [
    {
     "name": "stdout",
     "output_type": "stream",
     "text": [
      "7.25\n",
      "5.830951894845301\n"
     ]
    }
   ],
   "source": [
    "print(abs(-7.25))\n",
    "print(abs(3+5j))"
   ]
  },
  {
   "cell_type": "markdown",
   "id": "bba1e375",
   "metadata": {},
   "source": [
    "round() function returns a floating point number that is a rounded version of the specified number, with the specified number of decimals.\n",
    "    The default number of decimals is 0, meaning that the function will return the nearest integer."
   ]
  },
  {
   "cell_type": "code",
   "execution_count": 17,
   "id": "3abbf13b",
   "metadata": {},
   "outputs": [
    {
     "name": "stdout",
     "output_type": "stream",
     "text": [
      "6\n",
      "5.77\n"
     ]
    }
   ],
   "source": [
    "print(round(5.76543))\n",
    "print(round(5.76543, 2))"
   ]
  },
  {
   "cell_type": "code",
   "execution_count": null,
   "id": "0c3f0f55",
   "metadata": {},
   "outputs": [],
   "source": []
  },
  {
   "cell_type": "markdown",
   "id": "c81728e1",
   "metadata": {},
   "source": [
    "-------------------------------------------------------------------------------------------------------------------------------"
   ]
  },
  {
   "cell_type": "markdown",
   "id": "21ecfa58",
   "metadata": {},
   "source": [
    "## Binary Operators\n",
    "Binary operators take 2 operands and return a single value as output.\n",
    "Operand priority is applicable in cases where multiple operators are used in single line eg. 2 + 3 * 8 / 4"
   ]
  },
  {
   "cell_type": "markdown",
   "id": "5cd4b426",
   "metadata": {},
   "source": [
    "##### + Operator\n",
    "Can be used for numeric addition, string concatenation, list joining, tuple joining\n",
    "\n",
    "For floating point operations visit: https://docs.python.org/3/tutorial/floatingpoint.html"
   ]
  },
  {
   "cell_type": "code",
   "execution_count": 18,
   "id": "5ae9986d",
   "metadata": {},
   "outputs": [
    {
     "name": "stdout",
     "output_type": "stream",
     "text": [
      "4\n",
      "9\n",
      "24\n"
     ]
    }
   ],
   "source": [
    "### Addition of non-float numeric datatypes\n",
    "print(2 + 2)\n",
    "print(2 + 3 + 4)\n",
    "print(0b01011 + 0b1101)"
   ]
  },
  {
   "cell_type": "code",
   "execution_count": 20,
   "id": "cbe24322",
   "metadata": {},
   "outputs": [
    {
     "name": "stdout",
     "output_type": "stream",
     "text": [
      "2.9\n",
      "1.9100000000000001\n",
      "0.8333333333333333\n",
      "False\n"
     ]
    }
   ],
   "source": [
    "### Addition of float & fractional numeric data types: please refer https://docs.python.org/3/tutorial/floatingpoint.html\n",
    "### Floating points and fractions are only approximate representations, so operations may not yield expected results\n",
    "\n",
    "print(1.90 + 1)\n",
    "print(0.90 + 1.01)\n",
    "print(1/6 + 2/3)\n",
    "\n",
    "print((0.1 + 0.1 + 0.1) == 0.3)"
   ]
  },
  {
   "cell_type": "code",
   "execution_count": 15,
   "id": "f4aab2ca",
   "metadata": {},
   "outputs": [
    {
     "name": "stdout",
     "output_type": "stream",
     "text": [
      "Hello World\n",
      "Hello World\n",
      "Hello World\n"
     ]
    }
   ],
   "source": [
    "### String concatenation\n",
    "print(\"Hello \" + \"World\")   ### String concatenation with both strings in double quotes\n",
    "print(\"Hello \" + 'World')   ### String concatenation with one string in double quotes, other in single quotes\n",
    "print('Hello ' + 'World')   ### String concatenation with both strings in single quotes"
   ]
  },
  {
   "cell_type": "code",
   "execution_count": 10,
   "id": "49beee77",
   "metadata": {},
   "outputs": [
    {
     "name": "stdout",
     "output_type": "stream",
     "text": [
      "['a', 'b', 20, 40, True, 'c', 'd', 30, 50, False]\n"
     ]
    }
   ],
   "source": [
    "## Joining lists and tuples\n",
    "\n",
    "list1 = ['a', 'b', 20, 40, True]\n",
    "list2 = ['c', 'd', 30, 50, False]\n",
    "print(list1 + list2)\n",
    "\n",
    "tuple1 = ('a', 'b', 20, 40, True)\n",
    "tuple2 = ('c', 'd', 30, 50, False)\n",
    "print(tuple1 + tuple2)"
   ]
  },
  {
   "cell_type": "code",
   "execution_count": 23,
   "id": "76fa3140",
   "metadata": {
    "scrolled": true
   },
   "outputs": [
    {
     "ename": "TypeError",
     "evalue": "unsupported operand type(s) for +: 'dict' and 'dict'",
     "output_type": "error",
     "traceback": [
      "\u001b[1;31m---------------------------------------------------------------------------\u001b[0m",
      "\u001b[1;31mTypeError\u001b[0m                                 Traceback (most recent call last)",
      "Cell \u001b[1;32mIn[23], line 3\u001b[0m\n\u001b[0;32m      1\u001b[0m dict1 \u001b[38;5;241m=\u001b[39m \u001b[38;5;28mdict\u001b[39m(foo\u001b[38;5;241m=\u001b[39m\u001b[38;5;241m100\u001b[39m, bar\u001b[38;5;241m=\u001b[39m\u001b[38;5;241m200\u001b[39m)\n\u001b[0;32m      2\u001b[0m dict2 \u001b[38;5;241m=\u001b[39m \u001b[38;5;28mdict\u001b[39m(clu\u001b[38;5;241m=\u001b[39m\u001b[38;5;241m300\u001b[39m, riq\u001b[38;5;241m=\u001b[39m\u001b[38;5;241m400\u001b[39m)\n\u001b[1;32m----> 3\u001b[0m \u001b[38;5;28mprint\u001b[39m(\u001b[43mdict1\u001b[49m\u001b[43m \u001b[49m\u001b[38;5;241;43m+\u001b[39;49m\u001b[43m \u001b[49m\u001b[43mdict2\u001b[49m)\n",
      "\u001b[1;31mTypeError\u001b[0m: unsupported operand type(s) for +: 'dict' and 'dict'"
     ]
    }
   ],
   "source": [
    "dict1 = dict(foo=100, bar=200)\n",
    "dict2 = dict(clu=300, riq=400)\n",
    "print(dict1 + dict2)"
   ]
  },
  {
   "cell_type": "code",
   "execution_count": 29,
   "id": "b3471ff1",
   "metadata": {},
   "outputs": [
    {
     "ename": "TypeError",
     "evalue": "unsupported operand type(s) for +: 'set' and 'set'",
     "output_type": "error",
     "traceback": [
      "\u001b[1;31m---------------------------------------------------------------------------\u001b[0m",
      "\u001b[1;31mTypeError\u001b[0m                                 Traceback (most recent call last)",
      "Cell \u001b[1;32mIn[29], line 3\u001b[0m\n\u001b[0;32m      1\u001b[0m set1 \u001b[38;5;241m=\u001b[39m \u001b[38;5;28mset\u001b[39m((\u001b[38;5;124m'\u001b[39m\u001b[38;5;124ma\u001b[39m\u001b[38;5;124m'\u001b[39m, \u001b[38;5;124m'\u001b[39m\u001b[38;5;124mb\u001b[39m\u001b[38;5;124m'\u001b[39m, \u001b[38;5;241m20\u001b[39m, \u001b[38;5;241m40\u001b[39m, \u001b[38;5;28;01mTrue\u001b[39;00m))\n\u001b[0;32m      2\u001b[0m set2 \u001b[38;5;241m=\u001b[39m \u001b[38;5;28mset\u001b[39m((\u001b[38;5;124m'\u001b[39m\u001b[38;5;124mc\u001b[39m\u001b[38;5;124m'\u001b[39m, \u001b[38;5;124m'\u001b[39m\u001b[38;5;124md\u001b[39m\u001b[38;5;124m'\u001b[39m, \u001b[38;5;241m30\u001b[39m, \u001b[38;5;241m50\u001b[39m, \u001b[38;5;28;01mFalse\u001b[39;00m))\n\u001b[1;32m----> 3\u001b[0m \u001b[38;5;28mprint\u001b[39m(\u001b[43mset1\u001b[49m\u001b[43m \u001b[49m\u001b[38;5;241;43m+\u001b[39;49m\u001b[43m \u001b[49m\u001b[43mset2\u001b[49m)\n",
      "\u001b[1;31mTypeError\u001b[0m: unsupported operand type(s) for +: 'set' and 'set'"
     ]
    }
   ],
   "source": [
    "set1 = set(('a', 'b', 20, 40, True))\n",
    "set2 = set(('c', 'd', 30, 50, False))\n",
    "print(set1 + set2)"
   ]
  },
  {
   "cell_type": "markdown",
   "id": "15f0262c",
   "metadata": {},
   "source": [
    "##### - Operator\n",
    "Cannot be overridden for any string operations"
   ]
  },
  {
   "cell_type": "code",
   "execution_count": 25,
   "id": "a50ef396",
   "metadata": {},
   "outputs": [
    {
     "name": "stdout",
     "output_type": "stream",
     "text": [
      "6\n",
      "2\n"
     ]
    }
   ],
   "source": [
    "### Subtraction\n",
    "print(9 - 3)\n",
    "print(9 - 3 - 4) ### --> Left-sided binding hence result is 9-3=6 then 6-4=2"
   ]
  },
  {
   "cell_type": "code",
   "execution_count": 27,
   "id": "926ee6fe",
   "metadata": {},
   "outputs": [
    {
     "ename": "TypeError",
     "evalue": "unsupported operand type(s) for -: 'list' and 'list'",
     "output_type": "error",
     "traceback": [
      "\u001b[1;31m---------------------------------------------------------------------------\u001b[0m",
      "\u001b[1;31mTypeError\u001b[0m                                 Traceback (most recent call last)",
      "Cell \u001b[1;32mIn[27], line 4\u001b[0m\n\u001b[0;32m      1\u001b[0m list1 \u001b[38;5;241m=\u001b[39m [\u001b[38;5;124m'\u001b[39m\u001b[38;5;124ma\u001b[39m\u001b[38;5;124m'\u001b[39m, \u001b[38;5;124m'\u001b[39m\u001b[38;5;124mb\u001b[39m\u001b[38;5;124m'\u001b[39m, \u001b[38;5;241m20\u001b[39m, \u001b[38;5;241m40\u001b[39m, \u001b[38;5;28;01mTrue\u001b[39;00m]\n\u001b[0;32m      2\u001b[0m list2 \u001b[38;5;241m=\u001b[39m [\u001b[38;5;124m'\u001b[39m\u001b[38;5;124ma\u001b[39m\u001b[38;5;124m'\u001b[39m, \u001b[38;5;124m'\u001b[39m\u001b[38;5;124mb\u001b[39m\u001b[38;5;124m'\u001b[39m, \u001b[38;5;241m30\u001b[39m, \u001b[38;5;241m50\u001b[39m, \u001b[38;5;28;01mFalse\u001b[39;00m]\n\u001b[1;32m----> 4\u001b[0m \u001b[38;5;28mprint\u001b[39m(\u001b[43mlist1\u001b[49m\u001b[43m \u001b[49m\u001b[38;5;241;43m-\u001b[39;49m\u001b[43m \u001b[49m\u001b[43mlist2\u001b[49m)\n",
      "\u001b[1;31mTypeError\u001b[0m: unsupported operand type(s) for -: 'list' and 'list'"
     ]
    }
   ],
   "source": [
    "list1 = ['a', 'b', 20, 40, True]\n",
    "list2 = ['a', 'b', 30, 50, False]\n",
    "\n",
    "print(list1 - list2)"
   ]
  },
  {
   "cell_type": "code",
   "execution_count": 28,
   "id": "e90ba8f9",
   "metadata": {},
   "outputs": [
    {
     "ename": "TypeError",
     "evalue": "set expected at most 1 argument, got 5",
     "output_type": "error",
     "traceback": [
      "\u001b[1;31m---------------------------------------------------------------------------\u001b[0m",
      "\u001b[1;31mTypeError\u001b[0m                                 Traceback (most recent call last)",
      "Cell \u001b[1;32mIn[28], line 1\u001b[0m\n\u001b[1;32m----> 1\u001b[0m set1 \u001b[38;5;241m=\u001b[39m \u001b[38;5;28;43mset\u001b[39;49m\u001b[43m(\u001b[49m\u001b[38;5;124;43m'\u001b[39;49m\u001b[38;5;124;43ma\u001b[39;49m\u001b[38;5;124;43m'\u001b[39;49m\u001b[43m,\u001b[49m\u001b[43m \u001b[49m\u001b[38;5;124;43m'\u001b[39;49m\u001b[38;5;124;43mb\u001b[39;49m\u001b[38;5;124;43m'\u001b[39;49m\u001b[43m,\u001b[49m\u001b[43m \u001b[49m\u001b[38;5;241;43m20\u001b[39;49m\u001b[43m,\u001b[49m\u001b[43m \u001b[49m\u001b[38;5;241;43m40\u001b[39;49m\u001b[43m,\u001b[49m\u001b[43m \u001b[49m\u001b[38;5;28;43;01mTrue\u001b[39;49;00m\u001b[43m)\u001b[49m\n\u001b[0;32m      2\u001b[0m set2 \u001b[38;5;241m=\u001b[39m \u001b[38;5;28mset\u001b[39m(\u001b[38;5;124m'\u001b[39m\u001b[38;5;124mc\u001b[39m\u001b[38;5;124m'\u001b[39m, \u001b[38;5;124m'\u001b[39m\u001b[38;5;124md\u001b[39m\u001b[38;5;124m'\u001b[39m, \u001b[38;5;241m30\u001b[39m, \u001b[38;5;241m50\u001b[39m, \u001b[38;5;28;01mFalse\u001b[39;00m)\n\u001b[0;32m      3\u001b[0m \u001b[38;5;28mprint\u001b[39m(set1 \u001b[38;5;241m-\u001b[39m set2)\n",
      "\u001b[1;31mTypeError\u001b[0m: set expected at most 1 argument, got 5"
     ]
    }
   ],
   "source": [
    "set1 = set('a', 'b', 20, 40, True)\n",
    "set2 = set('c', 'd', 30, 50, False)\n",
    "print(set1 - set2)"
   ]
  },
  {
   "cell_type": "code",
   "execution_count": null,
   "id": "4e0d4478",
   "metadata": {},
   "outputs": [],
   "source": []
  },
  {
   "cell_type": "markdown",
   "id": "fa37f75b",
   "metadata": {},
   "source": [
    "##### * Operator\n",
    "Can be overridden for string repetition"
   ]
  },
  {
   "cell_type": "code",
   "execution_count": 71,
   "id": "8da61173",
   "metadata": {},
   "outputs": [
    {
     "name": "stdout",
     "output_type": "stream",
     "text": [
      "27\n",
      "108\n",
      "Hello Hello Hello \n",
      "8\n",
      "256\n",
      "3.0\n"
     ]
    }
   ],
   "source": [
    "### Multiplication\n",
    "print(9 * 3)\n",
    "print(9 * 3 * 4)\n",
    "print('Hello ' * 3)      ### Prints the string Hello 3 times\n",
    "\n",
    "\n",
    "### Exponentiation\n",
    "print(2 ** 3)\n",
    "print(2 ** 2 ** 3)       ### --> Right-sided binding hence result is 2**3=8 then 2**8=256\n",
    "print(9 ** 0.5)          ### --> Square root of 9\n",
    "print(9 ** -0.5)         ### --> 9 to the power -1/2"
   ]
  },
  {
   "cell_type": "markdown",
   "id": "b48e9e95",
   "metadata": {},
   "source": [
    "##### / Operator\n",
    "Cannot be overridden for any string operations"
   ]
  },
  {
   "cell_type": "code",
   "execution_count": 64,
   "id": "92d41dde",
   "metadata": {},
   "outputs": [
    {
     "name": "stdout",
     "output_type": "stream",
     "text": [
      "1.5\n",
      "1.5\n",
      "1.5\n",
      "1.5\n",
      "1.25\n",
      "-2\n",
      "1.0\n",
      "1.0\n",
      "-2.0\n",
      "1\n"
     ]
    }
   ],
   "source": [
    "### Default Division --> Always results in float output\n",
    "print(6 / 4)\n",
    "print(6 / 4.)\n",
    "print(6. / 4)\n",
    "print(6. / 4.)\n",
    "\n",
    "print(10/4/2) ### --> Left-sided binding hence result is 10/4=2.5 then 2.5/2=1.25\n",
    "\n",
    "\n",
    "## Integer Division --> Results in integer IF both operands are ineteger and the division output is an integer\n",
    "print(6 // -4) ### Integer by Integer division --> Only scenario to yield integer output\n",
    "print(-6. // -4)\n",
    "print(6 // 4.)\n",
    "print(-6. // 4.)\n",
    "\n",
    "print(10//4//2) ### --> Left-sided binding hence result is 10/4=2 then 2/2=1"
   ]
  },
  {
   "cell_type": "markdown",
   "id": "b44d0ea5",
   "metadata": {},
   "source": [
    "##### % Operator\n",
    "Cannot be overridden for any string operations"
   ]
  },
  {
   "cell_type": "code",
   "execution_count": 65,
   "id": "378831a2",
   "metadata": {},
   "outputs": [
    {
     "name": "stdout",
     "output_type": "stream",
     "text": [
      "2\n",
      "-2.9000000000000004\n",
      "-2\n",
      "194.94647400000002\n",
      "64.14647400000001\n",
      "64.14647400000001\n"
     ]
    }
   ],
   "source": [
    "### Remainder Operation\n",
    "print(14 % 4)\n",
    "print(-14.9 % -4)\n",
    "print(14 % -4)\n",
    "\n",
    "print(394.946474 % 200)\n",
    "print(194.94647400000002 % 65.4)\n",
    "print(394.946474 % 200 % 65.4)   ### --> Left-sided binding hence result is 394.946474 % 200=194.94647400000002 \n",
    "                                 ### then 194.94647400000002 % 65.4=64.14647400000001\n"
   ]
  },
  {
   "cell_type": "code",
   "execution_count": null,
   "id": "76ce426f",
   "metadata": {},
   "outputs": [],
   "source": []
  },
  {
   "cell_type": "markdown",
   "id": "ee4e4ba7",
   "metadata": {},
   "source": [
    "#### Exponentation\n",
    "Exponentiation can be done by many ways in python:\n",
    "most common being ** operator, as well as math.pow() function after importing math library\n",
    "\n",
    "The expression of the form xey where x & y are both integers yields the result x * (10^y) but as a float"
   ]
  },
  {
   "cell_type": "code",
   "execution_count": 8,
   "id": "23d09b8f",
   "metadata": {},
   "outputs": [
    {
     "name": "stdout",
     "output_type": "stream",
     "text": [
      "100000\n",
      "100000.0\n",
      "100000.0\n",
      "<class 'int'>\n",
      "<class 'float'>\n",
      "<class 'float'>\n"
     ]
    }
   ],
   "source": [
    "print(10 ** 5)   ## Results in integer type output\n",
    "print(1e5)       ## Results in float type output\n",
    "print(1E5)       ## Results in float type output\n",
    "\n",
    "print(type(10 ** 5)) \n",
    "print(type(1e5))\n",
    "print(type(1E5)) "
   ]
  },
  {
   "cell_type": "code",
   "execution_count": 9,
   "id": "01021cb8",
   "metadata": {},
   "outputs": [
    {
     "name": "stdout",
     "output_type": "stream",
     "text": [
      "1e-05\n",
      "1e-05\n",
      "1e-05\n",
      "<class 'float'>\n",
      "<class 'float'>\n",
      "<class 'float'>\n"
     ]
    }
   ],
   "source": [
    "print(10 ** -5)   ## Results in integer float output\n",
    "print(1e-5)       ## Results in float type output\n",
    "print(1E-5)       ## Results in float type output\n",
    "\n",
    "print(type(10 ** -5)) \n",
    "print(type(1e-5))\n",
    "print(type(1E-5)) "
   ]
  },
  {
   "cell_type": "code",
   "execution_count": 51,
   "id": "9ba4935a",
   "metadata": {},
   "outputs": [
    {
     "ename": "SyntaxError",
     "evalue": "invalid decimal literal (2990928907.py, line 2)",
     "output_type": "error",
     "traceback": [
      "\u001b[1;36m  Cell \u001b[1;32mIn[51], line 2\u001b[1;36m\u001b[0m\n\u001b[1;33m    print(1e(str(x)))\u001b[0m\n\u001b[1;37m          ^\u001b[0m\n\u001b[1;31mSyntaxError\u001b[0m\u001b[1;31m:\u001b[0m invalid decimal literal\n"
     ]
    }
   ],
   "source": [
    "x = 5\n",
    "print(10e(str(x)))"
   ]
  },
  {
   "cell_type": "code",
   "execution_count": null,
   "id": "75fac199",
   "metadata": {},
   "outputs": [],
   "source": []
  },
  {
   "cell_type": "code",
   "execution_count": null,
   "id": "76b5553f",
   "metadata": {},
   "outputs": [],
   "source": []
  },
  {
   "cell_type": "markdown",
   "id": "a53b6597",
   "metadata": {},
   "source": [
    "### Built-in Binary Arithmetic Operators"
   ]
  },
  {
   "cell_type": "markdown",
   "id": "704c8134",
   "metadata": {},
   "source": [
    "pow() function returns the value of x to the power of y (x^y).\n",
    "If a third parameter is present, it returns x to the power of y, modulus z ((x^y)%z))."
   ]
  },
  {
   "cell_type": "code",
   "execution_count": 20,
   "id": "bb6bc091",
   "metadata": {},
   "outputs": [
    {
     "name": "stdout",
     "output_type": "stream",
     "text": [
      "64\n",
      "4\n"
     ]
    }
   ],
   "source": [
    "print(pow(4, 3))    ## 4 to the power 3 : 4**3\n",
    "print(pow(4, 3, 5)) ## 4 to the power 3, then the result being input to modulus 5 : 4**3 % 5"
   ]
  },
  {
   "cell_type": "markdown",
   "id": "b0eee025",
   "metadata": {},
   "source": [
    "divmod() returns both quotient and remainder of division of its arguments. The pair is returned as a tuple."
   ]
  },
  {
   "cell_type": "code",
   "execution_count": 13,
   "id": "6997cdc8",
   "metadata": {},
   "outputs": [
    {
     "name": "stdout",
     "output_type": "stream",
     "text": [
      "(2, 1)\n"
     ]
    }
   ],
   "source": [
    "print(divmod(5, 2))"
   ]
  },
  {
   "cell_type": "code",
   "execution_count": null,
   "id": "dae0c362",
   "metadata": {},
   "outputs": [],
   "source": []
  },
  {
   "cell_type": "code",
   "execution_count": null,
   "id": "7457caf0",
   "metadata": {},
   "outputs": [],
   "source": []
  },
  {
   "cell_type": "code",
   "execution_count": null,
   "id": "f950f9f9",
   "metadata": {},
   "outputs": [],
   "source": []
  },
  {
   "cell_type": "code",
   "execution_count": null,
   "id": "dab50d3f",
   "metadata": {},
   "outputs": [],
   "source": []
  },
  {
   "cell_type": "markdown",
   "id": "4818f6bc",
   "metadata": {},
   "source": [
    "--------------------------------------------------------------------------------------------------------------------------------"
   ]
  },
  {
   "cell_type": "markdown",
   "id": "503a72f1",
   "metadata": {},
   "source": [
    "### Assignment Operators\n",
    "Assignment operations involve a variable on left side and a constant or another variable on the right side.\n",
    "\n",
    "Assignment operations can be simple assignment of value to a variable using '=' operator or combine '=' with arithmetic operators when assigning a new value based the old value of a variable to the same variable itself: eg. increment, decrement"
   ]
  },
  {
   "cell_type": "markdown",
   "id": "a6d52464",
   "metadata": {},
   "source": [
    "#### Simple Assignment"
   ]
  },
  {
   "cell_type": "code",
   "execution_count": 1,
   "id": "1f640109",
   "metadata": {},
   "outputs": [
    {
     "name": "stdout",
     "output_type": "stream",
     "text": [
      "5 6 7\n"
     ]
    }
   ],
   "source": [
    "x = 5          ### Assigns the value 5 to variable x\n",
    "x,y,z = 5,6,7  ### Simultaneous assignment of the values 5,6,7 to variables x,y,z\n",
    "\n",
    "\n",
    "print(x,y,z)"
   ]
  },
  {
   "cell_type": "markdown",
   "id": "6b429bfa",
   "metadata": {},
   "source": [
    "#### Shortening Arithmetic Operations with Assignment Operator"
   ]
  },
  {
   "cell_type": "code",
   "execution_count": 6,
   "id": "b7f5c1aa",
   "metadata": {},
   "outputs": [
    {
     "name": "stdout",
     "output_type": "stream",
     "text": [
      "Shortening Addition\n",
      "Output for z = z + 1 : 8\n",
      "Output for z+=1 : 8\n",
      "Output for z = z - 1 : 6\n",
      "Output for z-=1 : 6\n",
      "Output for x = x * 2 : 10\n",
      "Output for x*=2 : 10\n",
      "Output for x = x**2 : 25\n",
      "Output for x**=2 : 25\n",
      "Output for y = y / 2 : 2.5\n",
      "Output for y/=2 : 2.5\n",
      "Output for y = y // 2 : 2\n",
      "Output for y//=2 : 2\n",
      "Output for w = w % 2 : 0\n",
      "Output for w%=2 : 0\n"
     ]
    }
   ],
   "source": [
    "### Arithmetic operations re-assigning a new value based on older value of a variable can be shortened \n",
    "### by typing operator and assignment operator together\n",
    "\n",
    "#### Shortening Increment\n",
    "print(\"Shortening Addition\")\n",
    "z = 7\n",
    "z = z + 1\n",
    "print(\"Output for z = z + 1 : \" + str(z))\n",
    "\n",
    "z = 7\n",
    "z +=1\n",
    "print(\"Output for z+=1 : \" + str(z))\n",
    "\n",
    "\n",
    "#### Shortening Decrement\n",
    "z = 7\n",
    "z = z - 1\n",
    "print(\"Output for z = z - 1 : \" + str(z))\n",
    "\n",
    "z = 7\n",
    "z -=1\n",
    "print(\"Output for z-=1 : \" + str(z))\n",
    "\n",
    "\n",
    "#### Shortening Multiplication\n",
    "x = 5\n",
    "x = x * 2\n",
    "print(\"Output for x = x * 2 : \" + str(x))\n",
    "\n",
    "x = 5\n",
    "x *= 2\n",
    "print(\"Output for x*=2 : \" + str(x))\n",
    "\n",
    "\n",
    "#### Shortening Exponentiation\n",
    "x = 5\n",
    "x = x**2\n",
    "print(\"Output for x = x**2 : \" + str(x))\n",
    "\n",
    "x = 5\n",
    "x **= 2\n",
    "print(\"Output for x**=2 : \" + str(x))\n",
    "\n",
    "\n",
    "#### Shortening Division\n",
    "y = 5\n",
    "y = y / 2\n",
    "print(\"Output for y = y / 2 : \" + str(y))\n",
    "\n",
    "y = 5\n",
    "y /= 2\n",
    "print(\"Output for y/=2 : \" + str(y))\n",
    "\n",
    "\n",
    "#### Shortening Floor Division\n",
    "y = 5\n",
    "y = y // 2\n",
    "print(\"Output for y = y // 2 : \" + str(y))\n",
    "\n",
    "y = 5\n",
    "y //= 2\n",
    "print(\"Output for y//=2 : \" + str(y))\n",
    "\n",
    "\n",
    "#### Shortening Modulus\n",
    "w = 10\n",
    "w = w % 2\n",
    "print(\"Output for w = w % 2 : \" + str(w))\n",
    "\n",
    "w = 10\n",
    "w %= 2\n",
    "print(\"Output for w%=2 : \" + str(w))"
   ]
  },
  {
   "cell_type": "code",
   "execution_count": null,
   "id": "011b963f",
   "metadata": {},
   "outputs": [],
   "source": []
  },
  {
   "cell_type": "code",
   "execution_count": null,
   "id": "ab3d52ba",
   "metadata": {},
   "outputs": [],
   "source": []
  },
  {
   "cell_type": "code",
   "execution_count": null,
   "id": "1d0e93e6",
   "metadata": {},
   "outputs": [],
   "source": []
  },
  {
   "cell_type": "code",
   "execution_count": null,
   "id": "bf179819",
   "metadata": {},
   "outputs": [],
   "source": []
  },
  {
   "cell_type": "code",
   "execution_count": null,
   "id": "0b17947a",
   "metadata": {},
   "outputs": [],
   "source": []
  }
 ],
 "metadata": {
  "kernelspec": {
   "display_name": "Python 3 (ipykernel)",
   "language": "python",
   "name": "python3"
  },
  "language_info": {
   "codemirror_mode": {
    "name": "ipython",
    "version": 3
   },
   "file_extension": ".py",
   "mimetype": "text/x-python",
   "name": "python",
   "nbconvert_exporter": "python",
   "pygments_lexer": "ipython3",
   "version": "3.10.9"
  }
 },
 "nbformat": 4,
 "nbformat_minor": 5
}
