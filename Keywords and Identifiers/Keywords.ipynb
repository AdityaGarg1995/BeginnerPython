{
 "cells": [
  {
   "cell_type": "markdown",
   "id": "bcc76991-090b-4104-bb13-a9a300afdf99",
   "metadata": {},
   "source": [
    "# Python Keywords"
   ]
  },
  {
   "cell_type": "code",
   "execution_count": null,
   "id": "030ed286-e51b-4370-89c1-c45da16e7e97",
   "metadata": {},
   "outputs": [],
   "source": []
  },
  {
   "cell_type": "markdown",
   "id": "02ccd909-d7dc-4281-93c6-d2f45ff0b59e",
   "metadata": {},
   "source": [
    "## $pass$\n",
    "$pass$ is the simplest Python keyword, being a placeholder for empty code. A $pass$ statement simply doesnt perform anything.\n",
    "\n",
    "Being a statement in itself, $pass$ doesnt have a Boolean value."
   ]
  },
  {
   "cell_type": "code",
   "execution_count": 10,
   "id": "16db1059-f4e5-40a4-b389-9e5ad495e789",
   "metadata": {},
   "outputs": [
    {
     "ename": "SyntaxError",
     "evalue": "invalid syntax (1945400997.py, line 1)",
     "output_type": "error",
     "traceback": [
      "  \u001b[36mCell\u001b[39m\u001b[36m \u001b[39m\u001b[32mIn[10]\u001b[39m\u001b[32m, line 1\u001b[39m\n\u001b[31m    \u001b[39m\u001b[31mprint(bool(pass))\u001b[39m\n               ^\n\u001b[31mSyntaxError\u001b[39m\u001b[31m:\u001b[39m invalid syntax\n"
     ]
    }
   ],
   "source": [
    "print(bool(pass))"
   ]
  },
  {
   "cell_type": "code",
   "execution_count": null,
   "id": "41f130a9-9f77-42dc-ac49-4d2dcf556fdf",
   "metadata": {},
   "outputs": [],
   "source": []
  },
  {
   "cell_type": "code",
   "execution_count": null,
   "id": "d9718fdb-a18a-4429-9f75-54270fa6a2c7",
   "metadata": {},
   "outputs": [],
   "source": []
  },
  {
   "cell_type": "markdown",
   "id": "c5bc4221-72b1-42d4-a334-e26f27d9b91d",
   "metadata": {},
   "source": [
    "## $None$\n",
    "\n",
    "[$None$](https://www.w3schools.com/python/ref_keyword_none.asp) keyword is used to define a null value, or no value at all. $None$ is not the same as 0, $False$, or an empty string. $None$ is a data type of its own : $NoneType$.\n",
    "\n",
    "$None$ does have its correspdonding Boolean value as $False$.\n",
    "- A corresponding Boolean value of False implies that adding False and bool(None) to a set() results in a singleton set with one member: $False$.\n",
    "- Conversely, as $None$ itself is a $NoneType$, adding $None$ and $False$ to a set results in a set with both members."
   ]
  },
  {
   "cell_type": "code",
   "execution_count": 8,
   "id": "3baa3ba1-3520-435e-9a10-8b61d013d6a2",
   "metadata": {},
   "outputs": [
    {
     "name": "stdout",
     "output_type": "stream",
     "text": [
      "False\n"
     ]
    }
   ],
   "source": [
    "## Boolean Value of None\n",
    "print(bool(None))"
   ]
  },
  {
   "cell_type": "code",
   "execution_count": 9,
   "id": "cfb46e08-22b8-4365-a99d-f9a23cc29383",
   "metadata": {},
   "outputs": [
    {
     "name": "stdout",
     "output_type": "stream",
     "text": [
      "Set of bool(None) and False: {False}\n",
      "Set of None and False:  {None, False}\n"
     ]
    }
   ],
   "source": [
    "## A corresponding Boolean value of False implies that adding False and bool(None) to a set() results in a singleton set with one member: False\n",
    "print(\"Set of bool(None) and False:\", set((bool(None), False)))\n",
    "\n",
    "## Conversely, as None itself is a NoneType, adding None and False to a set results in a set with both members\n",
    "print(\"Set of None and False: \", set((None, False)))"
   ]
  },
  {
   "cell_type": "code",
   "execution_count": null,
   "id": "b3d57069-bb40-4eaf-ad3d-8fb99623b35f",
   "metadata": {},
   "outputs": [],
   "source": []
  },
  {
   "cell_type": "code",
   "execution_count": null,
   "id": "3c5ff36a-047c-4f46-bb64-2aaa9f1d04b5",
   "metadata": {},
   "outputs": [],
   "source": []
  },
  {
   "cell_type": "markdown",
   "id": "49b2c6f2-4463-4ee0-a94b-b9c39f4b92e5",
   "metadata": {},
   "source": [
    "## return\n",
    "\n",
    "A $return$ statement is used to end the execution of the function call and it \"returns\" the value of the expression following the $return$ keyword to the caller. The output of $return$ can be printed to console, stored in variables, used as inputs to another function etc.\n",
    "\n",
    "1. If the return statement is without any expression, then the special value `None` is returned.\n",
    "2. The statements after the return statements are not executed."
   ]
  },
  {
   "cell_type": "code",
   "execution_count": null,
   "id": "be872997-2450-4136-8929-9a3208885d9a",
   "metadata": {},
   "outputs": [],
   "source": []
  },
  {
   "cell_type": "code",
   "execution_count": 1,
   "id": "afa99ad2-b4cb-4fe1-9333-264e98256c93",
   "metadata": {},
   "outputs": [],
   "source": [
    "def noneReturner():\n",
    "    return"
   ]
  },
  {
   "cell_type": "code",
   "execution_count": 3,
   "id": "681c0b02-6ca6-4b2f-b3e9-1c795c9e0f9d",
   "metadata": {},
   "outputs": [
    {
     "name": "stdout",
     "output_type": "stream",
     "text": [
      "None\n",
      "<class 'NoneType'>\n"
     ]
    }
   ],
   "source": [
    "print(noneReturner())\n",
    "print(type(noneReturner()))"
   ]
  },
  {
   "cell_type": "code",
   "execution_count": null,
   "id": "0d61ab61-4aa7-47df-bb38-e44bf5885fcb",
   "metadata": {},
   "outputs": [],
   "source": []
  },
  {
   "cell_type": "code",
   "execution_count": 4,
   "id": "87ab395e-0c46-420d-819c-e505eddd0a63",
   "metadata": {},
   "outputs": [
    {
     "ename": "SyntaxError",
     "evalue": "invalid syntax (533966373.py, line 1)",
     "output_type": "error",
     "traceback": [
      "  \u001b[36mCell\u001b[39m\u001b[36m \u001b[39m\u001b[32mIn[4]\u001b[39m\u001b[32m, line 1\u001b[39m\n\u001b[31m    \u001b[39m\u001b[31mprint(bool(return))\u001b[39m\n               ^\n\u001b[31mSyntaxError\u001b[39m\u001b[31m:\u001b[39m invalid syntax\n"
     ]
    }
   ],
   "source": [
    "print(bool(return))"
   ]
  },
  {
   "cell_type": "code",
   "execution_count": null,
   "id": "257456cc-ca58-4a21-ab40-d3614f7bef33",
   "metadata": {},
   "outputs": [],
   "source": []
  }
 ],
 "metadata": {
  "kernelspec": {
   "display_name": "Python 3 (ipykernel)",
   "language": "python",
   "name": "python3"
  },
  "language_info": {
   "codemirror_mode": {
    "name": "ipython",
    "version": 3
   },
   "file_extension": ".py",
   "mimetype": "text/x-python",
   "name": "python",
   "nbconvert_exporter": "python",
   "pygments_lexer": "ipython3",
   "version": "3.13.2"
  }
 },
 "nbformat": 4,
 "nbformat_minor": 5
}
