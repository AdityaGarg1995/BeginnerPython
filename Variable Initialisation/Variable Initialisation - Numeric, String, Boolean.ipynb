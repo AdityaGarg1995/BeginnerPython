{
 "cells": [
  {
   "cell_type": "markdown",
   "id": "3c6ee153",
   "metadata": {},
   "source": [
    "### Initialising Integer variables"
   ]
  },
  {
   "cell_type": "code",
   "execution_count": 5,
   "id": "a58b2cdb",
   "metadata": {},
   "outputs": [
    {
     "name": "stdout",
     "output_type": "stream",
     "text": [
      "Value of x = \n",
      "9\n",
      "Data type of x is: \n",
      "<class 'int'>\n",
      "Value of y = \n",
      "-9\n",
      "Data type of y is: \n",
      "<class 'int'>\n",
      "Value of z = \n",
      "0\n",
      "Data type of z is: \n",
      "<class 'int'>\n"
     ]
    }
   ],
   "source": [
    "### Assigning a value explicitly\n",
    "x = 9 ## Initialises x as integer with value = 9\n",
    "y = -9 ## Initialises y as integer with value = -9\n",
    "\n",
    "### Without assigning a value explicitly\n",
    "z = int() ## Initialises z as integer with value = 0\n",
    "\n",
    "print('Value of x = ')\n",
    "print(x) \n",
    "print('Data type of x is: ')\n",
    "print(type(x))\n",
    "\n",
    "print('Value of y = ')\n",
    "print(y)\n",
    "print('Data type of y is: ')\n",
    "print(type(y))\n",
    "\n",
    "print('Value of z = ')\n",
    "print(z)\n",
    "print('Data type of z is: ')\n",
    "print(type(z))"
   ]
  },
  {
   "cell_type": "code",
   "execution_count": null,
   "id": "107f0410",
   "metadata": {},
   "outputs": [],
   "source": []
  },
  {
   "cell_type": "markdown",
   "id": "c89e79dc",
   "metadata": {},
   "source": [
    "### Initialising Float variables"
   ]
  },
  {
   "cell_type": "code",
   "execution_count": 7,
   "id": "797b345a",
   "metadata": {},
   "outputs": [
    {
     "name": "stdout",
     "output_type": "stream",
     "text": [
      "Value of x = \n",
      "1.5\n",
      "Data type of x is: \n",
      "<class 'float'>\n",
      "Value of y = \n",
      "-1.5\n",
      "Data type of y is: \n",
      "<class 'float'>\n",
      "Value of z = \n",
      "0.0\n",
      "Data type of z is: \n",
      "<class 'float'>\n"
     ]
    }
   ],
   "source": [
    "## Initialising floats\n",
    "### Assigning a value explicitly\n",
    "x = 1.5 ## Initialises x as float with value = 1.5\n",
    "y = -1.5 ## Initialises y as float with value = -1.5\n",
    "\n",
    "### Without assigning a value explicitly\n",
    "z = float() ## Initialises z as float with value = 0.0\n",
    "\n",
    "print('Value of x = ')\n",
    "print(x) \n",
    "print('Data type of x is: ')\n",
    "print(type(x))\n",
    "\n",
    "print('Value of y = ')\n",
    "print(y)\n",
    "print('Data type of y is: ')\n",
    "print(type(y))\n",
    "\n",
    "print('Value of z = ')\n",
    "print(z)\n",
    "print('Data type of z is: ')\n",
    "print(type(z))"
   ]
  },
  {
   "cell_type": "code",
   "execution_count": null,
   "id": "8a2284f5",
   "metadata": {},
   "outputs": [],
   "source": []
  },
  {
   "cell_type": "code",
   "execution_count": null,
   "id": "fcece58e",
   "metadata": {},
   "outputs": [],
   "source": []
  },
  {
   "cell_type": "markdown",
   "id": "89c9de90",
   "metadata": {},
   "source": [
    "### Initialising Complex Number variables"
   ]
  },
  {
   "cell_type": "code",
   "execution_count": 6,
   "id": "ecda90b0",
   "metadata": {},
   "outputs": [
    {
     "name": "stdout",
     "output_type": "stream",
     "text": [
      "Value of x = \n",
      "(1+5j)\n",
      "Data type of x is: \n",
      "<class 'complex'>\n",
      "Value of y = \n",
      "(-1.5+9.7j)\n",
      "Data type of y is: \n",
      "<class 'complex'>\n",
      "Value of z = \n",
      "(6.889-9.006j)\n",
      "Data type of z is: \n",
      "<class 'complex'>\n"
     ]
    }
   ],
   "source": [
    "## Initialise complex number\n",
    "\n",
    "### Initialise complex number by explicitly providing real and imaginary values\n",
    "x = complex (1, 5) \n",
    "y = complex (-1.5, 9.7)\n",
    "z = complex (6.889, -9.006)\n",
    "\n",
    "\n",
    "print('Value of x = ')\n",
    "print(x) \n",
    "print('Data type of x is: ')\n",
    "print(type(x))\n",
    "\n",
    "print('Value of y = ')\n",
    "print(y)\n",
    "print('Data type of y is: ')\n",
    "print(type(y))\n",
    "\n",
    "print('Value of z = ')\n",
    "print(z)\n",
    "print('Data type of z is: ')\n",
    "print(type(z))"
   ]
  },
  {
   "cell_type": "markdown",
   "id": "65220a2d",
   "metadata": {},
   "source": [
    "#### Initialise complex number using other variables for real and imaginary values"
   ]
  },
  {
   "cell_type": "code",
   "execution_count": 7,
   "id": "2a13a132",
   "metadata": {},
   "outputs": [
    {
     "name": "stdout",
     "output_type": "stream",
     "text": [
      "Value of x = \n",
      "(1.5+9.7j)\n",
      "Data type of x is: \n",
      "<class 'complex'>\n",
      "Value of y = \n",
      "(-1.5+9.7j)\n",
      "Data type of y is: \n",
      "<class 'complex'>\n",
      "Value of z = \n",
      "(1.5-9.7j)\n",
      "Data type of z is: \n",
      "<class 'complex'>\n"
     ]
    }
   ],
   "source": [
    "## Initialise complex number\n",
    "\n",
    "### Initialise complex number using other variables for real and imaginary values\n",
    "\n",
    "a = 1.5\n",
    "b = 9.7\n",
    "\n",
    "x = complex(a,b)\n",
    "y = complex (-a, b)\n",
    "z = complex (a, -b)\n",
    "\n",
    "print('Value of x = ')\n",
    "print(x) \n",
    "print('Data type of x is: ')\n",
    "print(type(x))\n",
    "\n",
    "print('Value of y = ')\n",
    "print(y)\n",
    "print('Data type of y is: ')\n",
    "print(type(y))\n",
    "\n",
    "print('Value of z = ')\n",
    "print(z)\n",
    "print('Data type of z is: ')\n",
    "print(type(z))\n"
   ]
  },
  {
   "cell_type": "markdown",
   "id": "77b552b6",
   "metadata": {},
   "source": [
    "#### Initialise complex number using other variables for real and imaginary values"
   ]
  },
  {
   "cell_type": "code",
   "execution_count": 1,
   "id": "b96519bd",
   "metadata": {},
   "outputs": [
    {
     "name": "stdout",
     "output_type": "stream",
     "text": [
      "Value of x = \n",
      "(1.5+9.7j)\n",
      "Data type of x is: \n",
      "<class 'complex'>\n",
      "Value of y = \n",
      "(-1.5+9.7j)\n",
      "Data type of y is: \n",
      "<class 'complex'>\n",
      "Value of z = \n",
      "(1.5-9.7j)\n",
      "Data type of z is: \n",
      "<class 'complex'>\n"
     ]
    }
   ],
   "source": [
    "## Initialise complex number\n",
    "\n",
    "### Initialise complex number using other variables for real and imaginary values\n",
    "\n",
    "a = 1.5\n",
    "b = 9.7\n",
    "\n",
    "x = complex(a,b)\n",
    "y = complex (-a, b)\n",
    "z = complex (a, -b)\n",
    "\n",
    "print('Value of x = ')\n",
    "print(x) \n",
    "print('Data type of x is: ')\n",
    "print(type(x))\n",
    "\n",
    "print('Value of y = ')\n",
    "print(y)\n",
    "print('Data type of y is: ')\n",
    "print(type(y))\n",
    "\n",
    "print('Value of z = ')\n",
    "print(z)\n",
    "print('Data type of z is: ')\n",
    "print(type(z))\n"
   ]
  },
  {
   "cell_type": "code",
   "execution_count": null,
   "id": "dbeffa58",
   "metadata": {},
   "outputs": [],
   "source": []
  },
  {
   "cell_type": "code",
   "execution_count": null,
   "id": "efabb021",
   "metadata": {},
   "outputs": [],
   "source": []
  },
  {
   "cell_type": "code",
   "execution_count": null,
   "id": "7520d8ca",
   "metadata": {},
   "outputs": [],
   "source": []
  },
  {
   "cell_type": "markdown",
   "id": "e5399532",
   "metadata": {},
   "source": [
    "#### Initialise complex number using string input\n",
    "\n",
    "Note When converting from a string, the string must not contain whitespace around the central + or - operator. For example, complex('1+2j') is fine, but complex('1 + 2j') raises ValueError."
   ]
  },
  {
   "cell_type": "code",
   "execution_count": 8,
   "id": "916c8766",
   "metadata": {},
   "outputs": [
    {
     "name": "stdout",
     "output_type": "stream",
     "text": [
      "Value of x = \n",
      "(1+2j)\n",
      "Data type of x is: \n",
      "<class 'complex'>\n",
      "Value of y = \n",
      "(1-2j)\n",
      "Data type of y is: \n",
      "<class 'complex'>\n",
      "Value of z = \n",
      "(-1+2j)\n",
      "Data type of z is: \n",
      "<class 'complex'>\n"
     ]
    }
   ],
   "source": [
    "## Initialise complex number\n",
    "\n",
    "### Initialise complex number using string input\n",
    "\n",
    "\n",
    "x = complex('1+2j')\n",
    "y = complex('1-2j')\n",
    "z = complex('-1+2j')\n",
    "\n",
    "print('Value of x = ')\n",
    "print(x) \n",
    "print('Data type of x is: ')\n",
    "print(type(x))\n",
    "\n",
    "print('Value of y = ')\n",
    "print(y)\n",
    "print('Data type of y is: ')\n",
    "print(type(y))\n",
    "\n",
    "print('Value of z = ')\n",
    "print(z)\n",
    "print('Data type of z is: ')\n",
    "print(type(z))"
   ]
  },
  {
   "cell_type": "code",
   "execution_count": null,
   "id": "73b3bf15",
   "metadata": {},
   "outputs": [],
   "source": []
  },
  {
   "cell_type": "markdown",
   "id": "0ddcaf4f",
   "metadata": {},
   "source": [
    "### Initialise complex number with 0 real and 0 imaginary parts"
   ]
  },
  {
   "cell_type": "code",
   "execution_count": 4,
   "id": "fb8624ef",
   "metadata": {},
   "outputs": [
    {
     "name": "stdout",
     "output_type": "stream",
     "text": [
      "Value of x = \n",
      "0j\n",
      "Data type of x is: \n",
      "<class 'complex'>\n",
      "Boolean value of x is: \n",
      "False\n"
     ]
    }
   ],
   "source": [
    "### When initialised with zero as real and imaginary parts, a complex number variable is initialied as 0j. \n",
    "### This corresponds to False as boolean value\n",
    "\n",
    "x = complex (0,0)\n",
    "print('Value of x = ')\n",
    "print(x) \n",
    "print('Data type of x is: ')\n",
    "print(type(x))\n",
    "print(\"Boolean value of x is: \")\n",
    "print(bool(x))"
   ]
  },
  {
   "cell_type": "code",
   "execution_count": null,
   "id": "8237a0f6",
   "metadata": {},
   "outputs": [],
   "source": []
  },
  {
   "cell_type": "markdown",
   "id": "a666b67d",
   "metadata": {},
   "source": [
    "###  Initialising String variables"
   ]
  },
  {
   "cell_type": "code",
   "execution_count": 13,
   "id": "492fdee2",
   "metadata": {},
   "outputs": [
    {
     "name": "stdout",
     "output_type": "stream",
     "text": [
      "Value of x = \n",
      "Hello World\n",
      "Data type of x is: \n",
      "<class 'str'>\n",
      "Value of y = \n",
      "Hello World\n",
      "Data type of y is: \n",
      "<class 'str'>\n",
      "Value of v = \n",
      "Hello World\n",
      "Data type of v is: \n",
      "<class 'str'>\n",
      "Value of w = \n",
      "Hello World\n",
      "Data type of w is: \n",
      "<class 'str'>\n"
     ]
    }
   ],
   "source": [
    "## Initialise non-empty single line string variables\n",
    "\n",
    "x = 'Hello World' ## Initialises with single quotes\n",
    "y = \"Hello World\" ## Initialises with double quotes\n",
    "\n",
    "v = str('Hello World')  ## Initialise using constructor with single quotes\n",
    "w = str(\"Hello World\")  ## Initialise using constructor with double quotes\n",
    "\n",
    "\n",
    "print('Value of x = ')\n",
    "print(x) \n",
    "print('Data type of x is: ')\n",
    "print(type(x))\n",
    "\n",
    "print('Value of y = ')\n",
    "print(y)\n",
    "print('Data type of y is: ')\n",
    "print(type(y))\n",
    "\n",
    "\n",
    "\n",
    "print('Value of v = ')\n",
    "print(v)\n",
    "print('Data type of v is: ')\n",
    "print(type(v))\n",
    "\n",
    "print('Value of w = ')\n",
    "print(w)\n",
    "print('Data type of w is: ')\n",
    "print(type(w))"
   ]
  },
  {
   "cell_type": "code",
   "execution_count": 15,
   "id": "b0bd51fe",
   "metadata": {},
   "outputs": [
    {
     "ename": "SyntaxError",
     "evalue": "unterminated string literal (detected at line 3) (4131276113.py, line 3)",
     "output_type": "error",
     "traceback": [
      "\u001b[1;36m  Cell \u001b[1;32mIn[15], line 3\u001b[1;36m\u001b[0m\n\u001b[1;33m    x = 'Hello\u001b[0m\n\u001b[1;37m        ^\u001b[0m\n\u001b[1;31mSyntaxError\u001b[0m\u001b[1;31m:\u001b[0m unterminated string literal (detected at line 3)\n"
     ]
    }
   ],
   "source": [
    "## Initialise multi-line string variables\n",
    "\n",
    "x = 'Hello \n",
    "World' ## Initialises with single quotes\n",
    "y = \"Hello \n",
    "World\" ## Initialises with double quotes\n",
    "\n",
    "v = str('Hello \n",
    "        World')  ## Initialise using constructor with single quotes\n",
    "w = str(\"Hello \n",
    "        World\")  ## Initialise using constructor with double quotes"
   ]
  },
  {
   "cell_type": "code",
   "execution_count": 16,
   "id": "e0b8bcbe",
   "metadata": {},
   "outputs": [
    {
     "name": "stdout",
     "output_type": "stream",
     "text": [
      "Value of x = \n",
      "Hello \n",
      "World\n",
      "Data type of x is: \n",
      "<class 'str'>\n",
      "Value of y = \n",
      "Hello \n",
      "World\n",
      "Data type of y is: \n",
      "<class 'str'>\n",
      "Value of v = \n",
      "Hello \n",
      "World\n",
      "Data type of v is: \n",
      "<class 'str'>\n",
      "Value of w = \n",
      "Hello \n",
      "World\n",
      "Data type of w is: \n",
      "<class 'str'>\n"
     ]
    }
   ],
   "source": [
    "## Initialise multi-line string variables --> Needs triple quoting\n",
    "\n",
    "## Initialises multi-line string variable by triple quoting using single quotes\n",
    "x = '''Hello \n",
    "World''' \n",
    "## Initialises multi-line string variable by triple quoting using single quotes\n",
    "y = \"\"\"Hello \n",
    "World\"\"\"\n",
    "\n",
    "\n",
    "## Initialises multi-line string variable by triple quoting using single quotes\n",
    "v = str('''Hello \n",
    "World''')\n",
    "## Initialises multi-line string variable by triple quoting using single quotes\n",
    "w = str(\"\"\"Hello \n",
    "World\"\"\") \n",
    "\n",
    "\n",
    "print('Value of x = ')\n",
    "print(x) \n",
    "print('Data type of x is: ')\n",
    "print(type(x))\n",
    "\n",
    "print('Value of y = ')\n",
    "print(y)\n",
    "print('Data type of y is: ')\n",
    "print(type(y))\n",
    "\n",
    "\n",
    "\n",
    "print('Value of v = ')\n",
    "print(v)\n",
    "print('Data type of v is: ')\n",
    "print(type(v))\n",
    "\n",
    "print('Value of w = ')\n",
    "print(w)\n",
    "print('Data type of w is: ')\n",
    "print(type(w))"
   ]
  },
  {
   "cell_type": "code",
   "execution_count": 12,
   "id": "e31a8ea6",
   "metadata": {},
   "outputs": [
    {
     "name": "stdout",
     "output_type": "stream",
     "text": [
      "Value of x = \n",
      "\n",
      "Data type of x is: \n",
      "<class 'str'>\n",
      "Value of y = \n",
      "\n",
      "Data type of y is: \n",
      "<class 'str'>\n",
      "Value of z = \n",
      "\n",
      "Data type of z is: \n",
      "<class 'str'>\n"
     ]
    }
   ],
   "source": [
    "## Initialise empty string\n",
    "x = '' ## Initialises with single quotes\n",
    "y = \"\" ## Initialises with double quotes\n",
    "z = str() ## Initialises using constructor\n",
    "\n",
    "\n",
    "print('Value of x = ')\n",
    "print(x) \n",
    "print('Data type of x is: ')\n",
    "print(type(x))\n",
    "\n",
    "print('Value of y = ')\n",
    "print(y)\n",
    "print('Data type of y is: ')\n",
    "print(type(y))\n",
    "\n",
    "print('Value of z = ')\n",
    "print(z)\n",
    "print('Data type of z is: ')\n",
    "print(type(z))"
   ]
  },
  {
   "cell_type": "code",
   "execution_count": null,
   "id": "ccb4c394",
   "metadata": {},
   "outputs": [],
   "source": []
  },
  {
   "cell_type": "code",
   "execution_count": null,
   "id": "c49e9b1a",
   "metadata": {},
   "outputs": [],
   "source": []
  },
  {
   "cell_type": "markdown",
   "id": "27b7a565",
   "metadata": {},
   "source": [
    "### Boolean Variables"
   ]
  },
  {
   "cell_type": "code",
   "execution_count": 17,
   "id": "dfda9488",
   "metadata": {},
   "outputs": [
    {
     "name": "stdout",
     "output_type": "stream",
     "text": [
      "Value of x = \n",
      "True\n",
      "Data type of x is: \n",
      "<class 'bool'>\n",
      "Value of y = \n",
      "False\n",
      "Data type of y is: \n",
      "<class 'bool'>\n"
     ]
    }
   ],
   "source": [
    "## Intialising Boolean variables using True and False keywords\n",
    "x = True\n",
    "y = False\n",
    "\n",
    "print('Value of x = ')\n",
    "print(x) \n",
    "print('Data type of x is: ')\n",
    "print(type(x))\n",
    "\n",
    "print('Value of y = ')\n",
    "print(y)\n",
    "print('Data type of y is: ')\n",
    "print(type(y))"
   ]
  },
  {
   "cell_type": "code",
   "execution_count": 5,
   "id": "6f79f4ed",
   "metadata": {},
   "outputs": [
    {
     "name": "stdout",
     "output_type": "stream",
     "text": [
      "Value of x = \n",
      "True\n",
      "Data type of x is: \n",
      "<class 'bool'>\n",
      "Value of y = \n",
      "True\n",
      "Data type of y is: \n",
      "<class 'bool'>\n",
      "Value of z = \n",
      "False\n",
      "Data type of z is: \n",
      "<class 'bool'>\n"
     ]
    }
   ],
   "source": [
    "## All non-zero numeric types and non-empty strings evaluate to True if given as bool() constructor input\n",
    "\n",
    "### Initialising boolean using Numeric inputs to constructor\n",
    "x = bool(20)\n",
    "y = bool(-30)\n",
    "z = bool(0)\n",
    "\n",
    "\n",
    "print('Value of x = ')\n",
    "print(x) \n",
    "print('Data type of x is: ')\n",
    "print(type(x))\n",
    "\n",
    "print('Value of y = ')\n",
    "print(y)\n",
    "print('Data type of y is: ')\n",
    "print(type(y))\n",
    "\n",
    "print('Value of z = ')\n",
    "print(z)\n",
    "print('Data type of z is: ')\n",
    "print(type(z))"
   ]
  },
  {
   "cell_type": "code",
   "execution_count": 6,
   "id": "41c09668",
   "metadata": {},
   "outputs": [
    {
     "name": "stdout",
     "output_type": "stream",
     "text": [
      "Value of x = \n",
      "True\n",
      "Data type of x is: \n",
      "<class 'bool'>\n",
      "Value of y = \n",
      "True\n",
      "Data type of y is: \n",
      "<class 'bool'>\n",
      "Value of z = \n",
      "False\n",
      "Data type of z is: \n",
      "<class 'bool'>\n"
     ]
    }
   ],
   "source": [
    "## All non-zero numeric types and non-empty strings evaluate to True if given as bool() constructor input\n",
    "\n",
    "### Initialising boolean using Complex Number inputs to constructor\n",
    "\n",
    "x = bool(complex(20, 30))\n",
    "y = bool(complex(-10, -30))\n",
    "z = bool(complex(0,0))\n",
    "\n",
    "\n",
    "print('Value of x = ')\n",
    "print(x) \n",
    "print('Data type of x is: ')\n",
    "print(type(x))\n",
    "\n",
    "print('Value of y = ')\n",
    "print(y)\n",
    "print('Data type of y is: ')\n",
    "print(type(y))\n",
    "\n",
    "print('Value of z = ')\n",
    "print(z)\n",
    "print('Data type of z is: ')\n",
    "print(type(z))"
   ]
  },
  {
   "cell_type": "code",
   "execution_count": 19,
   "id": "b9d6a90a",
   "metadata": {},
   "outputs": [
    {
     "name": "stdout",
     "output_type": "stream",
     "text": [
      "Value of x = \n",
      "True\n",
      "Data type of x is: \n",
      "<class 'bool'>\n",
      "Value of y = \n",
      "True\n",
      "Data type of y is: \n",
      "<class 'bool'>\n",
      "Value of z = \n",
      "False\n",
      "Data type of z is: \n",
      "<class 'bool'>\n"
     ]
    }
   ],
   "source": [
    "## All non-zero numeric types and non-empty strings evaluate to True if given as bool() constructor input\n",
    "\n",
    "### Initialising boolean using String inputs to constructor\n",
    "x = bool('Hello')\n",
    "y = bool(\"Hello\")\n",
    "z = bool('')\n",
    "\n",
    "\n",
    "print('Value of x = ')\n",
    "print(x) \n",
    "print('Data type of x is: ')\n",
    "print(type(x))\n",
    "\n",
    "print('Value of y = ')\n",
    "print(y)\n",
    "print('Data type of y is: ')\n",
    "print(type(y))\n",
    "\n",
    "print('Value of z = ')\n",
    "print(z)\n",
    "print('Data type of z is: ')\n",
    "print(type(z))"
   ]
  },
  {
   "cell_type": "code",
   "execution_count": null,
   "id": "05388f73",
   "metadata": {},
   "outputs": [],
   "source": []
  },
  {
   "cell_type": "code",
   "execution_count": null,
   "id": "bac02a72",
   "metadata": {},
   "outputs": [],
   "source": []
  },
  {
   "cell_type": "code",
   "execution_count": null,
   "id": "a70782ed",
   "metadata": {},
   "outputs": [],
   "source": []
  },
  {
   "cell_type": "markdown",
   "id": "40b24a99",
   "metadata": {},
   "source": [
    "### Disallowed Initialisations"
   ]
  },
  {
   "cell_type": "code",
   "execution_count": 20,
   "id": "b589fde5",
   "metadata": {},
   "outputs": [
    {
     "ename": "SyntaxError",
     "evalue": "invalid decimal literal (4202219848.py, line 3)",
     "output_type": "error",
     "traceback": [
      "\u001b[1;36m  Cell \u001b[1;32mIn[20], line 3\u001b[1;36m\u001b[0m\n\u001b[1;33m    1z = 8\u001b[0m\n\u001b[1;37m    ^\u001b[0m\n\u001b[1;31mSyntaxError\u001b[0m\u001b[1;31m:\u001b[0m invalid decimal literal\n"
     ]
    }
   ],
   "source": [
    "## Variable names cannot start with a number - if so initialised, an error is thrown, as in below example.\n",
    "\n",
    "1z = 8"
   ]
  },
  {
   "cell_type": "code",
   "execution_count": null,
   "id": "ce126c7f",
   "metadata": {},
   "outputs": [],
   "source": []
  }
 ],
 "metadata": {
  "kernelspec": {
   "display_name": "Python 3 (ipykernel)",
   "language": "python",
   "name": "python3"
  },
  "language_info": {
   "codemirror_mode": {
    "name": "ipython",
    "version": 3
   },
   "file_extension": ".py",
   "mimetype": "text/x-python",
   "name": "python",
   "nbconvert_exporter": "python",
   "pygments_lexer": "ipython3",
   "version": "3.13.2"
  }
 },
 "nbformat": 4,
 "nbformat_minor": 5
}
