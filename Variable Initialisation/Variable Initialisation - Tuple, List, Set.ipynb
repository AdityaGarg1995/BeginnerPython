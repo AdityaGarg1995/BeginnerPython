{
 "cells": [
  {
   "cell_type": "markdown",
   "id": "e09b72e4",
   "metadata": {},
   "source": [
    "## Intialising Tuples"
   ]
  },
  {
   "cell_type": "markdown",
   "id": "94ea404a",
   "metadata": {},
   "source": [
    "### Initialising Tuples with explicit values"
   ]
  },
  {
   "cell_type": "code",
   "execution_count": 17,
   "id": "879bf331",
   "metadata": {},
   "outputs": [
    {
     "name": "stdout",
     "output_type": "stream",
     "text": [
      "Value of explicitValuesTuple =  ('a', 'b', 'c', 'defgh', True, 'a')\n",
      "Data type of explicitValuesTuple=  <class 'tuple'>\n",
      "Value of singleValueTuple=  ('a',)\n",
      "Data type of singleValueTuple=  <class 'tuple'>\n",
      "Value of invalidSingleValueTuple=  a\n",
      "Data type of invalidSingleValueTuple=  <class 'str'>\n"
     ]
    }
   ],
   "source": [
    "### Initialising Tuples with explicit values ###\n",
    "\n",
    "## Tuple with values explicitly given -- duplicate values are allowed\n",
    "explicitValuesTuple = ('a', 'b', \"c\", \"defgh\", True, 'a')\n",
    "\n",
    "print('Value of explicitValuesTuple = ',  end =\" \")\n",
    "print(explicitValuesTuple)\n",
    "print('Data type of explicitValuesTuple = ',  end =\" \")\n",
    "print(type(explicitValuesTuple))\n",
    "\n",
    "\n",
    "## Initialise Singleton Tuple --> requires comma after the value\n",
    "singleValueTuple = ('a',)\n",
    "print('Value of singleValueTuple = ',  end =\" \")\n",
    "print(singleValueTuple)\n",
    "print('Data type of singleValueTuple = ', end =\" \")\n",
    "print(type(singleValueTuple))\n",
    "\n",
    "### Trying to initialise without comma results in a string variable\n",
    "invalidSingleValueTuple = ('a')\n",
    "print('Value of invalidSingleValueTuple = ',  end =\" \")\n",
    "print(invalidSingleValueTuple)\n",
    "print('Data type of invalidSingleValueTuple = ', end =\" \")\n",
    "print(type(invalidSingleValueTuple))"
   ]
  },
  {
   "cell_type": "code",
   "execution_count": 16,
   "id": "3024321c",
   "metadata": {},
   "outputs": [
    {
     "name": "stdout",
     "output_type": "stream",
     "text": [
      "Value = ('a', 'b', 'c', 'defgh', True, 'a')\n",
      "Data type =  <class 'tuple'>\n",
      "Value = ('a', 'b', 'c', 'defgh', True, 'a')\n",
      "Data type =  <class 'tuple'>\n"
     ]
    }
   ],
   "source": [
    "## Tuple constructor takes input as zero or one argument --> an interable can be given as input to tuple() constructor\n",
    "explicitValuesTupleUsingConstructor_tupleInput = tuple(('a', 'b', \"c\", \"defgh\", True, 'a'))\n",
    "explicitValuesTupleUsingConstructor_listInput = tuple(['a', 'b', \"c\", \"defgh\", True, 'a'])\n",
    "\n",
    "print('Value of explicitValuesTupleUsingConstructor_tupleInput = ',  end =\" \")\n",
    "print(explicitValuesTupleUsingConstructor_tupleInput)\n",
    "print('Data type of explicitValuesTupleUsingConstructor_tupleInput = ',  end =\" \")\n",
    "print(type(explicitValuesTupleUsingConstructor_tupleInput))\n",
    "\n",
    "print('Value of explicitValuesTupleUsingConstructor_listInput = ',  end =\" \")\n",
    "print(explicitValuesTupleUsingConstructor_listInput)\n",
    "print('Data type of explicitValuesTupleUsingConstructor_listInput = ',  end =\" \")\n",
    "print(type(explicitValuesTupleUsingConstructor_listInput))"
   ]
  },
  {
   "cell_type": "code",
   "execution_count": null,
   "id": "98d7a45e",
   "metadata": {},
   "outputs": [],
   "source": []
  },
  {
   "cell_type": "markdown",
   "id": "5d9e1b16",
   "metadata": {},
   "source": [
    "### Initialising Tuples using range() function"
   ]
  },
  {
   "cell_type": "code",
   "execution_count": 14,
   "id": "7ba7b37f",
   "metadata": {},
   "outputs": [
    {
     "name": "stdout",
     "output_type": "stream",
     "text": [
      "Value =  (0, 1, 2, 3, 4, 5, 6, 7, 8, 9)\n",
      "Data type =  <class 'tuple'>\n",
      "Value =  (0, 1, 2, 3, 4, 5, 6, 7, 8, 9)\n",
      "Data type =  <class 'tuple'>\n",
      "Value =  (0, 2, 4, 6, 8)\n",
      "Data type =  <class 'tuple'>\n"
     ]
    }
   ],
   "source": [
    "### Initialising Tuples using range() function ###\n",
    "\n",
    "rangeTuple_MaxValueOnly = tuple(range(10))\n",
    "rangeTuple_MinAndMaxValue = tuple(range(0,10))\n",
    "rangeTuple_MinValueMaxValueStep = tuple(range(0,10,2))\n",
    "\n",
    "\n",
    "print('Value = ',  end =\" \")\n",
    "print(rangeTuple_MaxValueOnly)\n",
    "print('Data type = ', end =\" \")\n",
    "print(type(rangeTuple_MaxValueOnly))\n",
    "\n",
    "print('Value = ',  end =\" \")\n",
    "print(rangeTuple_MinAndMaxValue)\n",
    "print('Data type = ', end =\" \")\n",
    "print(type(rangeTuple_MinAndMaxValue))\n",
    "\n",
    "print('Value = ',  end =\" \")\n",
    "print(rangeTuple_MinValueMaxValueStep)\n",
    "print('Data type = ', end =\" \")\n",
    "print(type(rangeTuple_MinValueMaxValueStep))"
   ]
  },
  {
   "cell_type": "code",
   "execution_count": 15,
   "id": "c5511bf4",
   "metadata": {},
   "outputs": [
    {
     "ename": "TypeError",
     "evalue": "'str' object cannot be interpreted as an integer",
     "output_type": "error",
     "traceback": [
      "\u001b[1;31m---------------------------------------------------------------------------\u001b[0m",
      "\u001b[1;31mTypeError\u001b[0m                                 Traceback (most recent call last)",
      "Cell \u001b[1;32mIn[15], line 1\u001b[0m\n\u001b[1;32m----> 1\u001b[0m rangeTuple_MinAndMaxValue \u001b[38;5;241m=\u001b[39m \u001b[38;5;28mtuple\u001b[39m(\u001b[38;5;28;43mrange\u001b[39;49m\u001b[43m(\u001b[49m\u001b[38;5;124;43m'\u001b[39;49m\u001b[38;5;124;43ma\u001b[39;49m\u001b[38;5;124;43m'\u001b[39;49m\u001b[43m,\u001b[49m\u001b[43m \u001b[49m\u001b[38;5;124;43m'\u001b[39;49m\u001b[38;5;124;43mz\u001b[39;49m\u001b[38;5;124;43m'\u001b[39;49m\u001b[43m)\u001b[49m)\n\u001b[0;32m      2\u001b[0m rangeTuple_MinAndMaxValue\n",
      "\u001b[1;31mTypeError\u001b[0m: 'str' object cannot be interpreted as an integer"
     ]
    }
   ],
   "source": [
    "rangeTuple_MinAndMaxValue = tuple(range('a', 'z'))\n",
    "rangeTuple_MinAndMaxValue"
   ]
  },
  {
   "cell_type": "markdown",
   "id": "85cf4d4f",
   "metadata": {},
   "source": [
    "### Initialising Empty Tuples"
   ]
  },
  {
   "cell_type": "code",
   "execution_count": 13,
   "id": "d3c2023c",
   "metadata": {},
   "outputs": [
    {
     "name": "stdout",
     "output_type": "stream",
     "text": [
      "Value =  ()\n",
      "Data type =  <class 'tuple'>\n",
      "Value =  ()\n",
      "Data type =  <class 'tuple'>\n"
     ]
    }
   ],
   "source": [
    "### Initialising Empty Tuples ###\n",
    "\n",
    "emptyTuple = ()  ## empty tuple\n",
    "emptyTupleUsingConstructor = tuple()  ## empty tuple using tuple constructor\n",
    "\n",
    "\n",
    "print('Value = ',  end =\" \")\n",
    "print(emptyTuple)\n",
    "print('Data type = ', end =\" \")\n",
    "print(type(emptyTuple))\n",
    "\n",
    "\n",
    "print('Value = ',  end =\" \")\n",
    "print(emptyTupleUsingConstructor)\n",
    "print('Data type = ', end =\" \")\n",
    "print(type(emptyTupleUsingConstructor))"
   ]
  },
  {
   "cell_type": "markdown",
   "id": "1b79bfa5",
   "metadata": {},
   "source": [
    "#############################################################################################################################"
   ]
  },
  {
   "cell_type": "markdown",
   "id": "1bf28de6",
   "metadata": {},
   "source": [
    "## Initialising Lists"
   ]
  },
  {
   "cell_type": "markdown",
   "id": "5f73392d",
   "metadata": {},
   "source": [
    "### Initialising Lists with explicit values"
   ]
  },
  {
   "cell_type": "code",
   "execution_count": 20,
   "id": "86ebaaae",
   "metadata": {},
   "outputs": [
    {
     "name": "stdout",
     "output_type": "stream",
     "text": [
      "Value of explicitValuesList =  ['a', 'b', 20, 40, True]\n",
      "Data type of explicitValuesList =  <class 'list'>\n",
      "Value of singletonExplicitValueList =  [80]\n",
      "Data type of singletonExplicitValueList =  <class 'list'>\n"
     ]
    }
   ],
   "source": [
    "### Initialising Lists with explicit values ###\n",
    "\n",
    "## List with values explicitly given -- duplicate values are allowed\n",
    "explicitValuesList = ['a', 'b', 20, 40, True]\n",
    "\n",
    "## Singleton List\n",
    "singletonExplicitValueList = [80]\n",
    "\n",
    "\n",
    "\n",
    "print('Value of explicitValuesList = ',  end =\" \")\n",
    "print(explicitValuesList)\n",
    "print('Data type of explicitValuesList = ',  end =\" \")\n",
    "print(type(explicitValuesList))\n",
    "\n",
    "\n",
    "print('Value of singletonExplicitValueList = ',  end =\" \")\n",
    "print(singletonExplicitValueList)\n",
    "print('Data type of singletonExplicitValueList = ',  end =\" \")\n",
    "print(type(singletonExplicitValueList))"
   ]
  },
  {
   "cell_type": "code",
   "execution_count": 23,
   "id": "8fbe1352",
   "metadata": {},
   "outputs": [
    {
     "name": "stdout",
     "output_type": "stream",
     "text": [
      "Value of explicitValuesListUsingConstructor_tupleInput =  [True, 'a', 'b', 1, 5]\n",
      "Data type of explicitValuesListUsingConstructor_tupleInput =  <class 'list'>\n",
      "Value of explicitValuesListUsingConstructor_listInput =  ['a', 'b', 20, 40, True]\n",
      "Data type of explicitValuesListUsingConstructor_listInput =  <class 'list'>\n"
     ]
    }
   ],
   "source": [
    "### Initialising Lists with explicit values ###\n",
    "#### Passing another iterable as input to list() constructor ####\n",
    "\n",
    "explicitValuesListUsingConstructor_tupleInput = list((True, 'a', 'b', 1, 5))\n",
    "explicitValuesListUsingConstructor_listInput = list(['a', 'b', 20, 40, True])\n",
    "\n",
    "\n",
    "print('Value of explicitValuesListUsingConstructor_tupleInput = ',  end =\" \")\n",
    "print(explicitValuesListUsingConstructor_tupleInput)\n",
    "print('Data type of explicitValuesListUsingConstructor_tupleInput = ',  end =\" \")\n",
    "print(type(explicitValuesListUsingConstructor_tupleInput))\n",
    "\n",
    "print('Value of explicitValuesListUsingConstructor_listInput = ',  end =\" \")\n",
    "print(explicitValuesListUsingConstructor_listInput)\n",
    "print('Data type of explicitValuesListUsingConstructor_listInput = ',  end =\" \")\n",
    "print(type(explicitValuesListUsingConstructor_listInput))"
   ]
  },
  {
   "cell_type": "markdown",
   "id": "bbc98d2d",
   "metadata": {},
   "source": [
    "### Initialising Lists using range() function"
   ]
  },
  {
   "cell_type": "code",
   "execution_count": 43,
   "id": "30871389",
   "metadata": {},
   "outputs": [
    {
     "name": "stdout",
     "output_type": "stream",
     "text": [
      "Value of rangedValuesList_MaxValueOnly =  [0, 1, 2, 3, 4, 5, 6, 7, 8, 9]\n",
      "Data type of rangedValuesList_MaxValueOnly =  <class 'list'>\n",
      "Value of rangedValuesList_MinAndMaxValue =  [0, 1, 2, 3, 4, 5, 6, 7, 8, 9]\n",
      "Data type of rangedValuesList_MinAndMaxValue =  <class 'list'>\n",
      "Value of rangedValuesList_MinValueMaxValueStep =  [0, 2, 4, 6, 8]\n",
      "Data type of rangedValuesList_MinValueMaxValueStep =  <class 'list'>\n"
     ]
    }
   ],
   "source": [
    "### Initialising Lists using range() function ###\n",
    "\n",
    "rangedValuesList_MaxValueOnly = list(range(10))\n",
    "rangedValuesList_MinAndMaxValue = list(range(0,10))\n",
    "rangedValuesList_MinValueMaxValueStep = list(range(0, 10, 2))\n",
    "\n",
    "\n",
    "print('Value of rangedValuesList_MaxValueOnly = ',  end =\" \")\n",
    "print(rangedValuesList_MaxValueOnly)\n",
    "print('Data type of rangedValuesList_MaxValueOnly = ', end =\" \")\n",
    "print(type(rangedValuesList_MaxValueOnly))\n",
    "\n",
    "print('Value of rangedValuesList_MinAndMaxValue = ',  end =\" \")\n",
    "print(rangedValuesList_MinAndMaxValue)\n",
    "print('Data type of rangedValuesList_MinAndMaxValue = ', end =\" \")\n",
    "print(type(rangedValuesList_MinAndMaxValue))\n",
    "\n",
    "print('Value of rangedValuesList_MinValueMaxValueStep = ',  end =\" \")\n",
    "print(rangedValuesList_MinValueMaxValueStep)\n",
    "print('Data type of rangedValuesList_MinValueMaxValueStep = ', end =\" \")\n",
    "print(type(rangedValuesList_MinValueMaxValueStep))\n"
   ]
  },
  {
   "cell_type": "code",
   "execution_count": 26,
   "id": "34173f55",
   "metadata": {},
   "outputs": [
    {
     "name": "stdout",
     "output_type": "stream",
     "text": [
      "Value of rangedList =  [0, 4, 8, 12, 16]\n",
      "Data type of rangedList =  <class 'list'>\n"
     ]
    }
   ],
   "source": [
    "rangedList = [x for x in range(0, 20, 4)]\n",
    "print('Value of rangedList = ',  end =\" \")\n",
    "print(rangedList)\n",
    "print('Data type of rangedList = ', end =\" \")\n",
    "print(type(rangedList))"
   ]
  },
  {
   "cell_type": "code",
   "execution_count": null,
   "id": "08d79cd8",
   "metadata": {},
   "outputs": [],
   "source": []
  },
  {
   "cell_type": "markdown",
   "id": "99cd59ec",
   "metadata": {},
   "source": [
    "### Initialising Empty Lists"
   ]
  },
  {
   "cell_type": "code",
   "execution_count": 22,
   "id": "59fde91f",
   "metadata": {},
   "outputs": [
    {
     "name": "stdout",
     "output_type": "stream",
     "text": [
      "Value of emptyList =  []\n",
      "Data type of emptyList =  <class 'list'>\n",
      "Value of emptyListUsingConstructor =  []\n",
      "Data type of emptyListUsingConstructor =  <class 'list'>\n"
     ]
    }
   ],
   "source": [
    "### Initialising Empty Lists ###\n",
    "\n",
    "emptyList = []\n",
    "emptyListUsingConstructor = list()\n",
    "\n",
    "\n",
    "print('Value of emptyList = ',  end =\" \")\n",
    "print(emptyList)\n",
    "print('Data type of emptyList = ', end =\" \")\n",
    "print(type(emptyList))\n",
    "\n",
    "print('Value of emptyListUsingConstructor = ',  end =\" \")\n",
    "print(emptyListUsingConstructor)\n",
    "print('Data type of emptyListUsingConstructor = ', end =\" \")\n",
    "print(type(emptyListUsingConstructor))\n"
   ]
  },
  {
   "cell_type": "code",
   "execution_count": null,
   "id": "69ea09c5",
   "metadata": {},
   "outputs": [],
   "source": []
  },
  {
   "cell_type": "markdown",
   "id": "d0618440",
   "metadata": {},
   "source": [
    "#############################################################################################################################"
   ]
  },
  {
   "cell_type": "markdown",
   "id": "8eed977a",
   "metadata": {},
   "source": [
    "## Initialise Sets"
   ]
  },
  {
   "cell_type": "markdown",
   "id": "3de2dca1",
   "metadata": {},
   "source": [
    "### Initialising Lists with explicit values"
   ]
  },
  {
   "cell_type": "code",
   "execution_count": 28,
   "id": "9e17a93f",
   "metadata": {},
   "outputs": [
    {
     "name": "stdout",
     "output_type": "stream",
     "text": [
      "Value of explicitValuesSet =  {'d', True, 'b', 50, 'c', 'a', 30}\n",
      "Data type of explicitValuesSet =  <class 'set'>\n",
      "Value of singletonExplicitValueList =  {'A'}\n",
      "Data type of singletonExplicitValueList =  <class 'set'>\n"
     ]
    }
   ],
   "source": [
    "### Initialising Sets with explicit values ###\n",
    "\n",
    "## Set with values explicitly given -- duplicate values are not  allowed, hence, if given as input, duplicate values are removed\n",
    "explicitValuesSet = {'a', 'b', 'c', 'a', 'd', 30, 50, True, True}\n",
    "\n",
    "\n",
    "## Singleton Set\n",
    "singletonExplicitValueList = {'A'}\n",
    "\n",
    "\n",
    "\n",
    "print('Value of explicitValuesSet = ',  end =\" \")\n",
    "print(explicitValuesSet)\n",
    "print('Data type of explicitValuesSet = ',  end =\" \")\n",
    "print(type(explicitValuesSet))\n",
    "\n",
    "\n",
    "print('Value of singletonExplicitValueList = ',  end =\" \")\n",
    "print(singletonExplicitValueList)\n",
    "print('Data type of singletonExplicitValueList = ',  end =\" \")\n",
    "print(type(singletonExplicitValueList))"
   ]
  },
  {
   "cell_type": "code",
   "execution_count": 39,
   "id": "6d8f7625",
   "metadata": {},
   "outputs": [
    {
     "name": "stdout",
     "output_type": "stream",
     "text": [
      "Value of explicitValuesSetUsingConstructor_tupleInput =  {'b', 1, 'a', 5}\n",
      "Data type of explicitValuesSetUsingConstructor_tupleInput =  <class 'set'>\n",
      "Value of explicitValuesSetUsingConstructor_listInput =  {1, 40, 'a', 'b', 20}\n",
      "Data type of explicitValuesSetUsingConstructor_listInput =  <class 'set'>\n"
     ]
    }
   ],
   "source": [
    "### Initialise Sets  by passing another iterable as input to set() constructor\n",
    "#### Passing another iterable as input to set() constructor ####\n",
    "\n",
    "\n",
    "explicitValuesSetUsingConstructor_tupleInput = set(('a', 'b', 5, 5, 1, 'a'))\n",
    "explicitValuesSetUsingConstructor_listInput = set([1, 'a', 'b', 20, 40, True, 40])\n",
    "\n",
    "\n",
    "print('Value of explicitValuesSetUsingConstructor_tupleInput = ',  end =\" \")\n",
    "print(explicitValuesSetUsingConstructor_tupleInput)\n",
    "print('Data type of explicitValuesSetUsingConstructor_tupleInput = ',  end =\" \")\n",
    "print(type(explicitValuesSetUsingConstructor_tupleInput))\n",
    "\n",
    "print('Value of explicitValuesSetUsingConstructor_listInput = ',  end =\" \")\n",
    "print(explicitValuesSetUsingConstructor_listInput)\n",
    "print('Data type of explicitValuesSetUsingConstructor_listInput = ',  end =\" \")\n",
    "print(type(explicitValuesSetUsingConstructor_listInput))"
   ]
  },
  {
   "cell_type": "code",
   "execution_count": 42,
   "id": "de68d9bf",
   "metadata": {},
   "outputs": [
    {
     "name": "stdout",
     "output_type": "stream",
     "text": [
      "Singleton Sets with 1 or True\n",
      "{True}\n",
      "{1}\n",
      "\n",
      "Singleton Sets with 0 or False\n",
      "{False}\n",
      "{0}\n"
     ]
    }
   ],
   "source": [
    "\"\"\"\n",
    "Values True and 1 are treated as equal. Likewise values False and 0 are treated as equal. \n",
    "Therefore, on passing both of them as part of input, the first one among them is considered as a member of the set.\n",
    "\"\"\"\n",
    "\n",
    "print(\"Singleton Sets with 1 or True\")\n",
    "print(set((True, 1)))\n",
    "print(set((1, True)))\n",
    "\n",
    "print()\n",
    "print(\"Singleton Sets with 0 or False\")\n",
    "print(set((False, 0)))\n",
    "print(set((0, False)))\n"
   ]
  },
  {
   "cell_type": "code",
   "execution_count": null,
   "id": "a153df11",
   "metadata": {},
   "outputs": [],
   "source": []
  },
  {
   "cell_type": "markdown",
   "id": "13d92be5",
   "metadata": {},
   "source": [
    "### Initialise Sets using range() function"
   ]
  },
  {
   "cell_type": "code",
   "execution_count": 45,
   "id": "c2408be5",
   "metadata": {},
   "outputs": [
    {
     "name": "stdout",
     "output_type": "stream",
     "text": [
      "Value of rangedValuesSet_MaxValueOnly =  {0, 1, 2, 3, 4, 5, 6, 7, 8, 9}\n",
      "Data type of rangedValuesSet_MaxValueOnly =  <class 'set'>\n",
      "Value of rangedValuesSet_MinAndMaxValue =  {0, 1, 2, 3, 4, 5, 6, 7, 8, 9}\n",
      "Data type of rangedValuesSet_MinAndMaxValue =  <class 'set'>\n",
      "Value of rangedValuesSet_MinValueMaxValueStep =  {0, 2, 4, 6, 8}\n",
      "Data type of rangedValuesSet_MinValueMaxValueStep =  <class 'set'>\n"
     ]
    }
   ],
   "source": [
    "### Initialising sets using range() function ###\n",
    "\n",
    "rangedValuesSet_MaxValueOnly = set(range(10))\n",
    "rangedValuesSet_MinAndMaxValue = set(range(0,10))\n",
    "rangedValuesSet_MinValueMaxValueStep = set(range(0, 10, 2))\n",
    "\n",
    "\n",
    "print('Value of rangedValuesSet_MaxValueOnly = ',  end =\" \")\n",
    "print(rangedValuesSet_MaxValueOnly)\n",
    "print('Data type of rangedValuesSet_MaxValueOnly = ', end =\" \")\n",
    "print(type(rangedValuesSet_MaxValueOnly))\n",
    "\n",
    "print('Value of rangedValuesSet_MinAndMaxValue = ',  end =\" \")\n",
    "print(rangedValuesSet_MinAndMaxValue)\n",
    "print('Data type of rangedValuesSet_MinAndMaxValue = ', end =\" \")\n",
    "print(type(rangedValuesSet_MinAndMaxValue))\n",
    "\n",
    "print('Value of rangedValuesSet_MinValueMaxValueStep = ',  end =\" \")\n",
    "print(rangedValuesSet_MinValueMaxValueStep)\n",
    "print('Data type of rangedValuesSet_MinValueMaxValueStep = ', end =\" \")\n",
    "print(type(rangedValuesSet_MinValueMaxValueStep))"
   ]
  },
  {
   "cell_type": "code",
   "execution_count": null,
   "id": "f2d9ba17",
   "metadata": {},
   "outputs": [],
   "source": []
  },
  {
   "cell_type": "markdown",
   "id": "90332e1e",
   "metadata": {},
   "source": [
    "### Initialising empty set"
   ]
  },
  {
   "cell_type": "code",
   "execution_count": 46,
   "id": "b180609d",
   "metadata": {},
   "outputs": [
    {
     "name": "stdout",
     "output_type": "stream",
     "text": [
      "Value of invalidEmptySet =  ()\n",
      "Data type of invalidEmptySet =  <class 'tuple'>\n",
      "Value of emptySetUsingConstructor =  set()\n",
      "Data type of emptySetUsingConstructor =  <class 'set'>\n"
     ]
    }
   ],
   "source": [
    "\"\"\"\n",
    "Initiaising Empty Set : can be done using set() constructor but not parenthesis itself. \n",
    "Using standalone () created empty tuple\n",
    "\"\"\"\n",
    "\n",
    "invalidEmptySet = ()\n",
    "emptySetUsingConstructor = set()\n",
    "\n",
    "\n",
    "print('Value of invalidEmptySet = ',  end =\" \")\n",
    "print(invalidEmptySet)\n",
    "print('Data type of invalidEmptySet = ', end =\" \")\n",
    "print(type(invalidEmptySet))\n",
    "\n",
    "print('Value of emptySetUsingConstructor = ',  end =\" \")\n",
    "print(emptySetUsingConstructor)\n",
    "print('Data type of emptySetUsingConstructor = ', end =\" \")\n",
    "print(type(emptySetUsingConstructor))"
   ]
  },
  {
   "cell_type": "code",
   "execution_count": null,
   "id": "129accbd",
   "metadata": {},
   "outputs": [],
   "source": []
  },
  {
   "cell_type": "code",
   "execution_count": null,
   "id": "f6975785",
   "metadata": {},
   "outputs": [],
   "source": []
  },
  {
   "cell_type": "markdown",
   "id": "3ede7a1d",
   "metadata": {},
   "source": [
    "### Boolean Values of Collections"
   ]
  },
  {
   "cell_type": "code",
   "execution_count": 6,
   "id": "ab6835f1",
   "metadata": {},
   "outputs": [
    {
     "name": "stdout",
     "output_type": "stream",
     "text": [
      "Boolean Value of Empty String = False\n",
      "Boolean Value of Empty Tuple = False\n",
      "Boolean Value of Empty List = False\n",
      "Boolean Value of Empty Set = False\n"
     ]
    }
   ],
   "source": [
    "print(\"Boolean Value of Empty String = \", end=\"\") ## Empty String Boolean Value for reference \n",
    "print(bool(\"\"))\n",
    "\n",
    "print(\"Boolean Value of Empty Tuple = \", end=\"\") \n",
    "print(bool(tuple()))\n",
    "print(\"Boolean Value of Empty List = \", end=\"\") \n",
    "print(bool(list()))\n",
    "print(\"Boolean Value of Empty Set = \", end=\"\") \n",
    "print(bool(set()))"
   ]
  },
  {
   "cell_type": "code",
   "execution_count": 15,
   "id": "d449e684",
   "metadata": {},
   "outputs": [
    {
     "name": "stdout",
     "output_type": "stream",
     "text": [
      "Boolean Value of Non-Empty String = True\n",
      "\n",
      "Boolean Value of Non-Empty Tuple = True\n",
      "(1, 'D', 'ghi', 1.346, 45)\n",
      "Boolean Value of Non-Empty List = True\n",
      "['A', 5, 7.9]\n",
      "Boolean Value of Non-Empty Set = True\n",
      "{'B', 20, 5.6, 30}\n"
     ]
    }
   ],
   "source": [
    "print(\"Boolean Value of Non-Empty String = \", end=\"\") ## Non-Empty String Boolean Value for reference \n",
    "print(bool(\"Hello\"))\n",
    "print(\"\")\n",
    "\n",
    "print(\"Boolean Value of Non-Empty Tuple = \", end=\"\") \n",
    "print(bool(tuple((1, \"D\", \"ghi\", 1.346, 45))))\n",
    "print(tuple((1, \"D\", \"ghi\", 1.346, 45)))\n",
    "print(\"Boolean Value of Non-Empty List = \", end=\"\") \n",
    "print(bool(list((\"A\", 5, 7.9))))\n",
    "print(list((\"A\", 5, 7.9)))\n",
    "print(\"Boolean Value of Non-Empty Set = \", end=\"\") \n",
    "print(bool(set((20, 30, \"B\", 5.6))))\n",
    "print(set((20, 30, \"B\", 5.6)))"
   ]
  },
  {
   "cell_type": "code",
   "execution_count": null,
   "id": "82df9287",
   "metadata": {},
   "outputs": [],
   "source": []
  },
  {
   "cell_type": "code",
   "execution_count": null,
   "id": "a38942b5",
   "metadata": {},
   "outputs": [],
   "source": []
  },
  {
   "cell_type": "markdown",
   "id": "964dd485",
   "metadata": {},
   "source": [
    "#### Set Mutability"
   ]
  },
  {
   "cell_type": "code",
   "execution_count": 4,
   "id": "093a457b",
   "metadata": {},
   "outputs": [
    {
     "name": "stdout",
     "output_type": "stream",
     "text": [
      "{1, 2, 3, 4, 5}\n",
      "2651048272704\n",
      "{1, 2, 3, 4, 5, 6}\n",
      "2651048272704\n"
     ]
    }
   ],
   "source": [
    "### Regular Set is Mutable --> Id remains same after add() operation\n",
    "\n",
    "set1 = {1,2,3,4,5}   ## Initialise\n",
    "print(set1)\n",
    "print(id(set1))\n",
    "\n",
    "set1.add(6)          ## Add another item \n",
    "print(set1)\n",
    "print(id(set1))"
   ]
  },
  {
   "cell_type": "code",
   "execution_count": 8,
   "id": "6c5a166f",
   "metadata": {},
   "outputs": [
    {
     "name": "stdout",
     "output_type": "stream",
     "text": [
      "frozenset({1, 2, 3, 4, 5})\n",
      "2651090091616\n",
      "frozenset({1, 2, 3, 4, 5})\n",
      "2651090091616\n"
     ]
    }
   ],
   "source": [
    "### Frozen Set is Immutable --> Doesn't support add() operation. Remains unchanged after any operation\n",
    "\n",
    "frozenSet1 = frozenset((1,2,3,4,5))   ## Initialise\n",
    "print(frozenSet1)\n",
    "print(id(frozenSet1))\n",
    "\n",
    "\n",
    "frozenSet1.union({6,7})\n",
    "print(frozenSet1)\n",
    "print(id(frozenSet1))"
   ]
  },
  {
   "cell_type": "code",
   "execution_count": null,
   "id": "7d7d7f2e",
   "metadata": {},
   "outputs": [],
   "source": []
  },
  {
   "cell_type": "code",
   "execution_count": null,
   "id": "3b7cc3bc",
   "metadata": {},
   "outputs": [],
   "source": []
  },
  {
   "cell_type": "code",
   "execution_count": null,
   "id": "0bc7bea4",
   "metadata": {},
   "outputs": [],
   "source": []
  },
  {
   "cell_type": "code",
   "execution_count": null,
   "id": "10632287",
   "metadata": {},
   "outputs": [],
   "source": []
  }
 ],
 "metadata": {
  "kernelspec": {
   "display_name": "Python 3 (ipykernel)",
   "language": "python",
   "name": "python3"
  },
  "language_info": {
   "codemirror_mode": {
    "name": "ipython",
    "version": 3
   },
   "file_extension": ".py",
   "mimetype": "text/x-python",
   "name": "python",
   "nbconvert_exporter": "python",
   "pygments_lexer": "ipython3",
   "version": "3.10.9"
  }
 },
 "nbformat": 4,
 "nbformat_minor": 5
}
