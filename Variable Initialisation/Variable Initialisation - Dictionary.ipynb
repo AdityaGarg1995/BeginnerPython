{
 "cells": [
  {
   "cell_type": "markdown",
   "id": "f3465335",
   "metadata": {},
   "source": [
    "## Dictionaries"
   ]
  },
  {
   "cell_type": "code",
   "execution_count": null,
   "id": "23a4fd07",
   "metadata": {},
   "outputs": [],
   "source": []
  },
  {
   "cell_type": "markdown",
   "id": "0be2ed21",
   "metadata": {},
   "source": [
    "#### Reference: https://docs.python.org/3/library/stdtypes.html#mapping-types-dict"
   ]
  },
  {
   "cell_type": "code",
   "execution_count": 8,
   "id": "a75860cc",
   "metadata": {},
   "outputs": [
    {
     "name": "stdout",
     "output_type": "stream",
     "text": [
      "Dictionary Using Key:Value Pairs: \n",
      "{'jack': 4098, 'sjoerd': 4127}\n",
      "{4098: 'jack', 4127: 'sjoerd'}\n",
      "\n",
      "Dictionary Using Range: \n",
      "{0: 0, 1: 1, 2: 4, 3: 9, 4: 16, 5: 25, 6: 36, 7: 49, 8: 64, 9: 81}\n",
      "\n",
      "Dictionary Using Constructor: \n",
      "{'foo': 100, 'bar': 200}\n",
      "{'foo': 100, 'bar': 200}\n",
      "{'foo': 100, 'bar': 200}\n",
      "\n",
      "Dictionary Using Key:Value Pairs and Constructor: \n",
      "{'foo': 100, 'bar': 200}\n",
      "\n"
     ]
    }
   ],
   "source": [
    "## Dictionary using key:value pairs\n",
    "dictionaryUsingKeyValuePairs1 = {'jack': 4098, 'sjoerd': 4127}\n",
    "dictionaryUsingKeyValuePairs2 = {4098: 'jack', 4127: 'sjoerd'}\n",
    "print(\"Dictionary Using Key:Value Pairs: \")\n",
    "print(dictionaryUsingKeyValuePairs1)\n",
    "print(dictionaryUsingKeyValuePairs2)\n",
    "print()\n",
    "\n",
    "## Dictionary using range() function\n",
    "dictionaryUsingRange = {x: x ** 2 for x in range(10)}\n",
    "print(\"Dictionary Using Range: \")\n",
    "print(dictionaryUsingRange)\n",
    "print()\n",
    "\n",
    "## Dictionary using dict() constructor\n",
    "dictionaryUsingConstructor1 = dict([('foo', 100), ('bar', 200)])\n",
    "dictionaryUsingConstructor2 = dict(foo=100, bar=200)\n",
    "dictionaryUsingConstructor3 = dict(zip(['foo', 'bar'], [100, 200]))\n",
    "print(\"Dictionary Using Constructor: \")\n",
    "print(dictionaryUsingConstructor1)\n",
    "print(dictionaryUsingConstructor2)\n",
    "print(dictionaryUsingConstructor3)\n",
    "print()\n",
    "\n",
    "## Dictionary using Key:Value pairs and constructor\n",
    "dictionaryUsingKeyValueConstructor = dict({'foo': 100, 'bar': 200})\n",
    "print(\"Dictionary Using Key:Value Pairs and Constructor: \")\n",
    "print(dictionaryUsingKeyValueConstructor)\n",
    "print()"
   ]
  },
  {
   "cell_type": "code",
   "execution_count": null,
   "id": "32d96198",
   "metadata": {},
   "outputs": [],
   "source": []
  },
  {
   "cell_type": "code",
   "execution_count": 9,
   "id": "9211cc2b",
   "metadata": {},
   "outputs": [
    {
     "name": "stdout",
     "output_type": "stream",
     "text": [
      "{'one': 1, 'two': 2, 'three': 3}\n",
      "{'one': 1, 'two': 2, 'three': 3}\n",
      "{'one': 1, 'two': 2, 'three': 3}\n",
      "{'two': 2, 'one': 1, 'three': 3}\n",
      "{'three': 3, 'one': 1, 'two': 2}\n",
      "{'one': 1, 'three': 3, 'two': 2}\n",
      "True\n"
     ]
    }
   ],
   "source": [
    "## Example  from Pythn Docs https://docs.python.org/3/library/stdtypes.html#mapping-types-dict\n",
    "## The following examples all return a dictionary equal to {\"one\": 1, \"two\": 2, \"three\": 3}:\n",
    "\n",
    "a = dict(one=1, two=2, three=3)\n",
    "b = {'one': 1, 'two': 2, 'three': 3}\n",
    "c = dict(zip(['one', 'two', 'three'], [1, 2, 3]))\n",
    "d = dict([('two', 2), ('one', 1), ('three', 3)])\n",
    "e = dict({'three': 3, 'one': 1, 'two': 2})\n",
    "f = dict({'one': 1, 'three': 3}, two=2)\n",
    "print(a)\n",
    "print(b)\n",
    "print(c)\n",
    "print(d)\n",
    "print(e)\n",
    "print(f)\n",
    "print(a == b == c == d == e == f)"
   ]
  },
  {
   "cell_type": "code",
   "execution_count": null,
   "id": "9d266635",
   "metadata": {},
   "outputs": [],
   "source": []
  },
  {
   "cell_type": "code",
   "execution_count": null,
   "id": "07c76a05",
   "metadata": {},
   "outputs": [],
   "source": []
  },
  {
   "cell_type": "markdown",
   "id": "1c51a507",
   "metadata": {},
   "source": [
    "### Boolean Values of dictionaries"
   ]
  },
  {
   "cell_type": "code",
   "execution_count": 19,
   "id": "2ae76c92",
   "metadata": {},
   "outputs": [
    {
     "name": "stdout",
     "output_type": "stream",
     "text": [
      "Boolean Value of Empty Dictionary = \n",
      "False\n",
      "Boolean Value of Non-Empty Dictionaries = \n",
      "True\n",
      "True\n"
     ]
    }
   ],
   "source": [
    "print(\"Boolean Value of Empty Dictionary = \") \n",
    "print(bool(dict()))\n",
    "\n",
    "print(\"Boolean Value of Non-Empty Dictionaries = \") \n",
    "print(bool(dict(one=1, two=2, three=3)))\n",
    "print(bool({'one': 1, 'two': 2, 'three': 3}))"
   ]
  },
  {
   "cell_type": "code",
   "execution_count": null,
   "id": "36ab014f",
   "metadata": {},
   "outputs": [],
   "source": []
  },
  {
   "cell_type": "code",
   "execution_count": null,
   "id": "30c76a4e",
   "metadata": {},
   "outputs": [],
   "source": []
  },
  {
   "cell_type": "code",
   "execution_count": null,
   "id": "82716be6",
   "metadata": {},
   "outputs": [],
   "source": []
  },
  {
   "cell_type": "code",
   "execution_count": null,
   "id": "423ee764",
   "metadata": {},
   "outputs": [],
   "source": []
  }
 ],
 "metadata": {
  "kernelspec": {
   "display_name": "Python 3 (ipykernel)",
   "language": "python",
   "name": "python3"
  },
  "language_info": {
   "codemirror_mode": {
    "name": "ipython",
    "version": 3
   },
   "file_extension": ".py",
   "mimetype": "text/x-python",
   "name": "python",
   "nbconvert_exporter": "python",
   "pygments_lexer": "ipython3",
   "version": "3.10.9"
  }
 },
 "nbformat": 4,
 "nbformat_minor": 5
}
