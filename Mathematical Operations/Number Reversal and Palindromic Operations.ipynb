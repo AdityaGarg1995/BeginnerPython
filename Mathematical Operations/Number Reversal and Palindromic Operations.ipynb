{
 "cells": [
  {
   "cell_type": "code",
   "execution_count": null,
   "id": "901a94dd-f7b7-4d4e-823c-581323815f14",
   "metadata": {},
   "outputs": [],
   "source": []
  },
  {
   "cell_type": "code",
   "execution_count": null,
   "id": "6d76b2c5-3d13-4977-a837-f4f2e3fc6016",
   "metadata": {},
   "outputs": [],
   "source": []
  },
  {
   "cell_type": "markdown",
   "id": "af5933a0-212d-4a4d-8b50-17b2f863232a",
   "metadata": {},
   "source": [
    "## Integer Reversal\n",
    "\n",
    "An Integer can be reversed in following ways:\n",
    "1. Keep another integer for a sign, so that the reversed integer maintains the sign. Then convert the absolute value of integer to string, reverse it, convert back to integer, and multiply with sign.\n",
    "Approach : If input = $x$: $sign$ = -1 if x < 0 else 1. return sign * int(reversed(str(abs(x)))\n",
    "- The sign is needed to be stored as reversal of a negative number directly results negative sign at end of the string: if x = -w, reversed(strx)) = reversed(str(w))+\"-\"\n",
    "\n",
    "2. Iterate over the integer, keeping a quotient and remainder of division by 10. Multiply the quotient by 10, add the remainder to it, and iterate over the iterator input number updated to itd division by 10.\n",
    "\n",
    "\n",
    "An extension of this reversal is to check whether an integer is a palindrome or not.\n",
    "This can be performed by simply comparing the originak number with its reverse."
   ]
  },
  {
   "cell_type": "markdown",
   "id": "1ab199e4-61d5-4482-a46e-eb11c7c2484c",
   "metadata": {},
   "source": [
    "### Integer Reversal using conversion to string\n",
    "\n",
    "**Time Complexity:** <br>\n",
    "1. String reversal for a string of length $m$ has $O(m)$ time complexity.\n",
    "2. For a number $n$ with digit count $d$, its corresponding string also has length $d$.\n",
    "3. The time complexity of $abs()$ function is $O(1)$\n",
    "\n",
    "Therefore, for an input integer $n$, with corresponding digit count $d$, integer reversal by string conversion has $O(d)$ time complexity. "
   ]
  },
  {
   "cell_type": "code",
   "execution_count": 6,
   "id": "85ac8fc3-9887-4393-bc8c-35a51f03ff97",
   "metadata": {},
   "outputs": [],
   "source": [
    "def integerReversalUsingStringConversion(x : int) -> int:\n",
    "    sign = -1 if x < 0 else 1 ## Inline if-else statement for sign check\n",
    "    \n",
    "    numberString = str(abs(x))\n",
    "    reversedNumberString = numberString[::-1]\n",
    "\n",
    "    return sign * int(reversedNumberString)"
   ]
  },
  {
   "cell_type": "code",
   "execution_count": 33,
   "id": "ba049b11-3fc8-4286-ad45-96597877f9b8",
   "metadata": {},
   "outputs": [
    {
     "name": "stdout",
     "output_type": "stream",
     "text": [
      "987654321\n",
      "0:00:00.000501\n"
     ]
    }
   ],
   "source": [
    "import datetime\n",
    "\n",
    "start = datetime.datetime.now()\n",
    "print(integerReversalUsingStringConversion(123456789))\n",
    "end = datetime.datetime.now()\n",
    "print(end - start)"
   ]
  },
  {
   "cell_type": "code",
   "execution_count": null,
   "id": "e9d404b7-03fa-453a-9052-5895ec3472c2",
   "metadata": {},
   "outputs": [],
   "source": []
  },
  {
   "cell_type": "code",
   "execution_count": 34,
   "id": "bfb6b54f-5766-4b77-b4a0-c6217fb745b8",
   "metadata": {},
   "outputs": [],
   "source": [
    "def integerReversalUsingStringConversion2(x : int) -> int:\n",
    "    ## A base case can be added for single digit input integers, as their reversal is the same number\n",
    "    if (-9 < x < 9):\n",
    "        return x\n",
    "        \n",
    "    sign = -1 if x < 0 else 1 ## Inline if-else statement for sign check\n",
    "    \n",
    "    numberString = str(abs(x))\n",
    "    reversedNumberString = numberString[::-1]\n",
    "\n",
    "    return sign * int(reversedNumberString)"
   ]
  },
  {
   "cell_type": "code",
   "execution_count": 35,
   "id": "aae51058-2d85-4224-b09b-485934b255d9",
   "metadata": {},
   "outputs": [
    {
     "name": "stdout",
     "output_type": "stream",
     "text": [
      "987654321\n",
      "0:00:00.002025\n"
     ]
    }
   ],
   "source": [
    "import datetime\n",
    "\n",
    "start = datetime.datetime.now()\n",
    "print(integerReversalUsingStringConversion2(123456789))\n",
    "end = datetime.datetime.now()\n",
    "print(end - start)"
   ]
  },
  {
   "cell_type": "code",
   "execution_count": null,
   "id": "0a01dd25-8242-422a-88e6-d3fef9afdb95",
   "metadata": {},
   "outputs": [],
   "source": []
  },
  {
   "cell_type": "markdown",
   "id": "f0430c5a-5585-4ac0-8804-3e69458e8457",
   "metadata": {},
   "source": [
    "### Integer Reversal using iterative division\n",
    "\n",
    "**Time Complexity:** <br>\n",
    "1. A division operation is $O(1)$ time complexity operation for integers in Python.\n",
    "2. The number of divisions depend on the count if digits in the input number -> for a number with digit count $d$, $d$ divisions will be performed. \n",
    "\n",
    "Hence, for an input number $n$ with number of digits $d$, Iterative Division method has O(d) time complexity."
   ]
  },
  {
   "cell_type": "code",
   "execution_count": 36,
   "id": "896c2fbd-679e-4311-b4b7-e05e80f8a577",
   "metadata": {},
   "outputs": [],
   "source": [
    "def integerReversalUsingIterativeDivision(x : int) -> int:\n",
    "    r = 0\n",
    "    while (x != 0):\n",
    "        r = r*10 + x%10\n",
    "        # x /= 10   ## Using regular division will cause x to update to float, leading to incorrect subsequent division\n",
    "        x //= 10    ## Use floor division to ensure x updates to integer\n",
    "        # print(x, r)\n",
    "\n",
    "    return r"
   ]
  },
  {
   "cell_type": "code",
   "execution_count": 37,
   "id": "90d7c5df-2652-431d-9153-5ebfb0d0f5d5",
   "metadata": {
    "scrolled": true
   },
   "outputs": [
    {
     "name": "stdout",
     "output_type": "stream",
     "text": [
      "987654321\n",
      "0:00:00.000306\n"
     ]
    }
   ],
   "source": [
    "import datetime\n",
    "\n",
    "start = datetime.datetime.now()\n",
    "print(integerReversalUsingIterativeDivision(123456789))\n",
    "end = datetime.datetime.now()\n",
    "print(end - start)"
   ]
  },
  {
   "cell_type": "code",
   "execution_count": null,
   "id": "1a993bb6-b24c-42e9-bfdb-8bc5d3127482",
   "metadata": {},
   "outputs": [],
   "source": []
  },
  {
   "cell_type": "code",
   "execution_count": 38,
   "id": "eaf89375-de44-4f35-9c1f-735655cc1144",
   "metadata": {},
   "outputs": [],
   "source": [
    "def integerReversalUsingIterativeDivision2(x : int) -> int:\n",
    "    ## A base case can be added for single digit input integers, as their reversal is the same number\n",
    "    if (-9 < x < 9):\n",
    "        return x\n",
    "        \n",
    "    r = 0\n",
    "    while (x != 0):\n",
    "        r = r*10 + x%10\n",
    "        # x /= 10   ## Using regular division will cause x to update to float, leading to incorrect subsequent division\n",
    "        x //= 10    ## Use floor division to ensure x updates to integer\n",
    "        # print(x, r)\n",
    "\n",
    "    return r"
   ]
  },
  {
   "cell_type": "code",
   "execution_count": 39,
   "id": "87741b57-2688-431d-ae80-ce6fed11a6d2",
   "metadata": {},
   "outputs": [
    {
     "name": "stdout",
     "output_type": "stream",
     "text": [
      "987654321\n",
      "0:00:00.000916\n"
     ]
    }
   ],
   "source": [
    "import datetime\n",
    "\n",
    "start = datetime.datetime.now()\n",
    "print(integerReversalUsingIterativeDivision2(123456789))\n",
    "end = datetime.datetime.now()\n",
    "print(end - start)"
   ]
  },
  {
   "cell_type": "code",
   "execution_count": null,
   "id": "6a36d873-5edc-40f5-8a2f-e9acd09dd1bc",
   "metadata": {},
   "outputs": [],
   "source": []
  },
  {
   "cell_type": "markdown",
   "id": "83196cc4-703f-45d2-a225-b05b7111e5b2",
   "metadata": {},
   "source": [
    "### Integer Palindrome Check\n",
    "\n",
    "Reverse the input integer and compare with original to check if the input integer is a palindrome.\n",
    "This can be performed by comparing input integer with results of integer reversal function.\n",
    "\n",
    "**Time Complexity:** <br>\n",
    "1. The time complexity $O(d)$ for an integer $n$ of digit count $d$ holds for integer reversal.\n",
    "2. Number comparison in Python is an $O(log(n))$ time complexity operation, as it is proportional to the number of bits in a number.\n",
    "\n",
    "Therefore, time complexity of palindrome check for input integer $n$ with digit count $d$ is: $O(d * log(n))$."
   ]
  },
  {
   "cell_type": "code",
   "execution_count": null,
   "id": "3146d40b-9004-4873-8a4a-a5da04d2ade2",
   "metadata": {},
   "outputs": [],
   "source": []
  },
  {
   "cell_type": "code",
   "execution_count": 40,
   "id": "e0817fbf-6523-446e-9cb5-e5ec3820ad94",
   "metadata": {},
   "outputs": [
    {
     "name": "stdout",
     "output_type": "stream",
     "text": [
      "True\n"
     ]
    }
   ],
   "source": [
    "inputInteger = 12345678987654321\n",
    "print(inputInteger == integerReversalUsingStringConversion(inputInteger))"
   ]
  },
  {
   "cell_type": "code",
   "execution_count": null,
   "id": "efc679f7-031f-410f-ad6c-da0356b2be7b",
   "metadata": {},
   "outputs": [],
   "source": []
  },
  {
   "cell_type": "code",
   "execution_count": null,
   "id": "d8dcc8e9-9ba4-49d5-b3cd-2be7121aeb09",
   "metadata": {},
   "outputs": [],
   "source": []
  },
  {
   "cell_type": "code",
   "execution_count": null,
   "id": "9c647f4b-a107-47d9-b279-c9005f8c0771",
   "metadata": {},
   "outputs": [],
   "source": []
  },
  {
   "cell_type": "code",
   "execution_count": null,
   "id": "790bdda2-415e-4c13-b871-672c06c33474",
   "metadata": {},
   "outputs": [],
   "source": []
  },
  {
   "cell_type": "code",
   "execution_count": null,
   "id": "8cf15942-5c28-486b-938c-49abef805c73",
   "metadata": {},
   "outputs": [],
   "source": []
  },
  {
   "cell_type": "code",
   "execution_count": null,
   "id": "706e6360-6b76-4221-b065-cd3ab5bc15d3",
   "metadata": {},
   "outputs": [],
   "source": []
  },
  {
   "cell_type": "code",
   "execution_count": null,
   "id": "0cc51395-b8b9-4157-bfba-1a287e5a4ee8",
   "metadata": {},
   "outputs": [],
   "source": []
  },
  {
   "cell_type": "code",
   "execution_count": null,
   "id": "c6c505e6-870c-4372-85da-a779d5fded70",
   "metadata": {},
   "outputs": [],
   "source": []
  }
 ],
 "metadata": {
  "kernelspec": {
   "display_name": "Python 3 (ipykernel)",
   "language": "python",
   "name": "python3"
  },
  "language_info": {
   "codemirror_mode": {
    "name": "ipython",
    "version": 3
   },
   "file_extension": ".py",
   "mimetype": "text/x-python",
   "name": "python",
   "nbconvert_exporter": "python",
   "pygments_lexer": "ipython3",
   "version": "3.13.2"
  }
 },
 "nbformat": 4,
 "nbformat_minor": 5
}
