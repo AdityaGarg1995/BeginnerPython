{
 "cells": [
  {
   "cell_type": "markdown",
   "id": "a8bfef30-c3b6-4a59-b81b-bb96664f8709",
   "metadata": {},
   "source": [
    "# Simple Primality Tests"
   ]
  },
  {
   "cell_type": "markdown",
   "id": "a73a658f-913d-4e49-935b-144710818204",
   "metadata": {},
   "source": [
    "## Brute Force Method"
   ]
  },
  {
   "cell_type": "markdown",
   "id": "4947f9ef-9cdd-4a90-aacd-0ad95ebb839a",
   "metadata": {},
   "source": [
    "### Divide input number n by each number smaller than itself starting from 2 to n-1"
   ]
  },
  {
   "cell_type": "code",
   "execution_count": 15,
   "id": "7d1ec78e-75ae-4f77-a885-031706f986a1",
   "metadata": {},
   "outputs": [],
   "source": [
    "# This method utilises core Python itself, without use of any libraries\n",
    "## A natural number n > 1 is not divisible by a number n-1. Hence, the loop starts with 2 (smallest prime number) ans end at n-1\n",
    "\n",
    "def isPrime_brute_force(inputNumber):\n",
    "    isPrime = True\n",
    "    \n",
    "    if (inputNumber <= 1):\n",
    "        return False\n",
    "\n",
    "    ## Brute Force method -> divide input number n by each number smaller than itself starting from 2 to n-1\n",
    "    ## For inputNumber = 2, the loop cannot run since stop range (i.e. 2-1 = 1) is less than start range (i.e. 2). Result is the default True.\n",
    "    for i in range(2, inputNumber, 1):\n",
    "        print(i) ## the current factor may be printed for debugging\n",
    "        ## If the input number is divisible by any number smaller than itself, it is not a prime. Break the flow and output False.\n",
    "        if (inputNumber%i == 0):\n",
    "            isPrime = False\n",
    "            break\n",
    "    return isPrime\n",
    "\n",
    "\n"
   ]
  },
  {
   "cell_type": "code",
   "execution_count": 24,
   "id": "b28bf5fc-0126-43e0-a990-36963ff62d3d",
   "metadata": {},
   "outputs": [
    {
     "name": "stdout",
     "output_type": "stream",
     "text": [
      "2\n",
      "3\n",
      "4\n",
      "5\n",
      "6\n"
     ]
    },
    {
     "data": {
      "text/plain": [
       "True"
      ]
     },
     "execution_count": 24,
     "metadata": {},
     "output_type": "execute_result"
    }
   ],
   "source": [
    "## Example with input = 7, divides by every number from 2 to 6\n",
    "isPrime_brute_force(int(7))"
   ]
  },
  {
   "cell_type": "code",
   "execution_count": 17,
   "id": "51c327df-8217-4b28-b6bc-e4f9099c20f1",
   "metadata": {},
   "outputs": [
    {
     "data": {
      "text/plain": [
       "True"
      ]
     },
     "execution_count": 17,
     "metadata": {},
     "output_type": "execute_result"
    }
   ],
   "source": [
    "## Example with input = 2 -> the loop cannot run since stop range (i.e. 2-1 = 1) is less than start range (i.e. 2). Result is the default True.\n",
    "isPrime_brute_force(int(2))"
   ]
  },
  {
   "cell_type": "markdown",
   "id": "ed9f98ab-eeb4-4760-87fb-709a95e0849b",
   "metadata": {},
   "source": [
    "### Divide input number n by each number smaller than itself starting from 2 to n-2"
   ]
  },
  {
   "cell_type": "code",
   "execution_count": 21,
   "id": "928e47c2-d3d8-4534-ab04-cb82709e1592",
   "metadata": {},
   "outputs": [],
   "source": [
    "def isPrime_brute_force2(inputNumber):\n",
    "    isPrime = True\n",
    "    \n",
    "    if (inputNumber <= 1):\n",
    "        return False\n",
    "\n",
    "    ## Brute Force method -> divide input number n by each number smaller than itself starting from 2 to n-1\n",
    "    ## For inputNumber = 2, the loop cannot run since stop range (i.e. 2-2 = 0) is less than start range (i.e. 2). Result is the default True.\n",
    "    for i in range(2, inputNumber-1, 1):\n",
    "        print(i) ## the current factor may be printed for debugging\n",
    "        ## If the input number is divisible by any number smaller than itself, it is not a prime. Break the flow and output False.\n",
    "        if (inputNumber%i == 0):\n",
    "            isPrime = False\n",
    "            break\n",
    "    return isPrime"
   ]
  },
  {
   "cell_type": "code",
   "execution_count": 22,
   "id": "77c42d0d-db79-46ca-9911-0f05d8ad3ba0",
   "metadata": {},
   "outputs": [
    {
     "name": "stdout",
     "output_type": "stream",
     "text": [
      "2\n",
      "False\n"
     ]
    }
   ],
   "source": [
    "isPrime_brute_force2(int(4))"
   ]
  },
  {
   "cell_type": "code",
   "execution_count": 26,
   "id": "dd4f7c96-23a2-47a4-adeb-439a95392756",
   "metadata": {},
   "outputs": [
    {
     "name": "stdout",
     "output_type": "stream",
     "text": [
      "2\n",
      "3\n",
      "4\n",
      "5\n"
     ]
    },
    {
     "data": {
      "text/plain": [
       "True"
      ]
     },
     "execution_count": 26,
     "metadata": {},
     "output_type": "execute_result"
    }
   ],
   "source": [
    "## Example with input = 7, divides by every number from 2 to 5\n",
    "isPrime_brute_force2(int(7))"
   ]
  },
  {
   "cell_type": "code",
   "execution_count": 27,
   "id": "c3fb25e0-f4c1-482e-99c8-31cee3fffb0c",
   "metadata": {},
   "outputs": [
    {
     "data": {
      "text/plain": [
       "True"
      ]
     },
     "execution_count": 27,
     "metadata": {},
     "output_type": "execute_result"
    }
   ],
   "source": [
    "## Example with input = 2 -> the loop cannot run since stop range (i.e. 2-2 = 0) is less than start range (i.e. 2). Result is the default True.\n",
    "isPrime_brute_force2(int(2))"
   ]
  },
  {
   "cell_type": "code",
   "execution_count": null,
   "id": "5f8bed63-09fc-4795-a3d8-abf4cfa1adf1",
   "metadata": {},
   "outputs": [],
   "source": []
  },
  {
   "cell_type": "markdown",
   "id": "d4bd7e10-2753-40f7-bb15-5e97a4f0d40e",
   "metadata": {},
   "source": [
    "## Trial Division"
   ]
  },
  {
   "cell_type": "markdown",
   "id": "fd6e3b72-e12e-4a47-9ac3-2310599cd545",
   "metadata": {},
   "source": [
    "### Divide input number n by each number smaller than itself starting from 2 to √n"
   ]
  },
  {
   "cell_type": "markdown",
   "id": "8427f357-21ed-45e6-9227-5ed2d2464a89",
   "metadata": {},
   "source": [
    "#### Calculate Square Root using the Python Exponentation function ** -> √n can be calculated as n**(0.5)\n",
    "#### An alternative is to use the built-in pow() function -> -> √n can be calculated as pow(n, 0.5)"
   ]
  },
  {
   "cell_type": "code",
   "execution_count": 3,
   "id": "02a97d7e-3119-4f35-a013-574113d83e20",
   "metadata": {},
   "outputs": [],
   "source": [
    "def isPrime_trial_division (n):\n",
    "    isPrime = True\n",
    "    if n <= 1:\n",
    "        isPrime = False\n",
    "    else:\n",
    "        ## Divide by every number starting from 2 to √n\n",
    "        for i in range(2, int(n**0.5) + 1):\n",
    "            print(i) ## the current factor may be printed for debugging\n",
    "            if n % i == 0:\n",
    "                isPrime = False\n",
    "                break\n",
    "    return isPrime"
   ]
  },
  {
   "cell_type": "code",
   "execution_count": 6,
   "id": "44142bcc-6255-4846-9a65-13755c8d6196",
   "metadata": {},
   "outputs": [
    {
     "name": "stdout",
     "output_type": "stream",
     "text": [
      "2\n",
      "3\n",
      "4\n",
      "5\n",
      "6\n",
      "7\n",
      "8\n",
      "9\n",
      "10\n",
      "11\n",
      "12\n",
      "13\n"
     ]
    },
    {
     "data": {
      "text/plain": [
       "True"
      ]
     },
     "execution_count": 6,
     "metadata": {},
     "output_type": "execute_result"
    }
   ],
   "source": [
    "isPrime_trial_division(179)"
   ]
  },
  {
   "cell_type": "code",
   "execution_count": 8,
   "id": "b6285c5c-8dce-4b1b-ab8f-ac90455ff954",
   "metadata": {},
   "outputs": [
    {
     "name": "stdout",
     "output_type": "stream",
     "text": [
      "2\n"
     ]
    },
    {
     "data": {
      "text/plain": [
       "False"
      ]
     },
     "execution_count": 8,
     "metadata": {},
     "output_type": "execute_result"
    }
   ],
   "source": [
    "## Example with input = 4. Square root of 4 is 2, so divides by every number till 2 only\n",
    "isPrime_trial_division(4)"
   ]
  },
  {
   "cell_type": "code",
   "execution_count": null,
   "id": "46131dd5-97e2-4961-bb7e-cc452e6c1dc3",
   "metadata": {},
   "outputs": [],
   "source": [
    "## Example with input = 7. Square root of 7 is less than 3, so divides by every number till 2 only\n",
    "isPrime_trial_division(7)"
   ]
  },
  {
   "cell_type": "code",
   "execution_count": null,
   "id": "42e08c5f-7246-4554-beab-deb6a6e4a6d1",
   "metadata": {},
   "outputs": [],
   "source": []
  },
  {
   "cell_type": "markdown",
   "id": "cbd586e6-86e2-44f3-839d-4b49809b8f18",
   "metadata": {},
   "source": [
    "#### Calculate Square Root using the math.sqrt() function\n",
    "This is given as example in https://www.geeksforgeeks.org/python-program-to-check-whether-a-number-is-prime-or-not/"
   ]
  },
  {
   "cell_type": "code",
   "execution_count": 5,
   "id": "5e6062aa-9c81-4fe2-b41c-e560a7b9de32",
   "metadata": {},
   "outputs": [],
   "source": [
    "import math\n",
    "\n",
    "def isPrime_trial_division2 (n):\n",
    "    isPrime = True\n",
    "    if n <= 1:\n",
    "        isPrime = False\n",
    "    else:\n",
    "        ## Divide by every number starting from 2 to √n\n",
    "        for i in range(2, int(math.sqrt(n)) + 1):\n",
    "            print(i) ## the current factor may be printed for debugging\n",
    "            if n % i == 0:\n",
    "                isPrime = False\n",
    "                break\n",
    "    return isPrime"
   ]
  },
  {
   "cell_type": "code",
   "execution_count": null,
   "id": "89c04301-3e83-49ed-b953-7b884f7f6340",
   "metadata": {},
   "outputs": [],
   "source": []
  },
  {
   "cell_type": "code",
   "execution_count": 35,
   "id": "0ead74de-017d-4ca7-bfa1-59864aff7342",
   "metadata": {},
   "outputs": [
    {
     "name": "stdout",
     "output_type": "stream",
     "text": [
      "2\n"
     ]
    },
    {
     "data": {
      "text/plain": [
       "False"
      ]
     },
     "execution_count": 35,
     "metadata": {},
     "output_type": "execute_result"
    }
   ],
   "source": [
    "## Example with input = 4. Square root of 4 is 2, so divides by every number till 2 only\n",
    "isPrime_trial_division2(4)"
   ]
  },
  {
   "cell_type": "code",
   "execution_count": 36,
   "id": "151c988c-9a9f-4f7c-a4ab-fe424c7c9724",
   "metadata": {},
   "outputs": [
    {
     "name": "stdout",
     "output_type": "stream",
     "text": [
      "2\n"
     ]
    },
    {
     "data": {
      "text/plain": [
       "True"
      ]
     },
     "execution_count": 36,
     "metadata": {},
     "output_type": "execute_result"
    }
   ],
   "source": [
    "## Example with input = 7. Square root of 7 is less than 3, so divides by every number till 2 only\n",
    "isPrime_trial_division2(7)"
   ]
  },
  {
   "cell_type": "code",
   "execution_count": 37,
   "id": "b0fb5e8b-85b4-41af-b6a0-f5d2f247fb19",
   "metadata": {},
   "outputs": [
    {
     "data": {
      "text/plain": [
       "True"
      ]
     },
     "execution_count": 37,
     "metadata": {},
     "output_type": "execute_result"
    }
   ],
   "source": [
    "## Example with input = 2\n",
    "isPrime_trial_division2(2)"
   ]
  },
  {
   "cell_type": "markdown",
   "id": "fd552e27-6521-4678-9f6c-833df9d0d93c",
   "metadata": {},
   "source": [
    "**The effect of dividing till square root only is visible with larger numbers,\n",
    "where dividing by every factor till n-2 would result in larger time complexity**"
   ]
  },
  {
   "cell_type": "code",
   "execution_count": 48,
   "id": "8f935f4e-de9e-4e6a-b338-4c12d478308a",
   "metadata": {},
   "outputs": [
    {
     "name": "stdout",
     "output_type": "stream",
     "text": [
      "13.379088160259652\n"
     ]
    }
   ],
   "source": [
    "print(math.sqrt(179))"
   ]
  },
  {
   "cell_type": "code",
   "execution_count": 49,
   "id": "d3708de4-775d-4c34-80cd-b6869c206de5",
   "metadata": {},
   "outputs": [
    {
     "name": "stdout",
     "output_type": "stream",
     "text": [
      "2\n",
      "3\n",
      "4\n",
      "5\n",
      "6\n",
      "7\n",
      "8\n",
      "9\n",
      "10\n",
      "11\n",
      "12\n",
      "13\n"
     ]
    },
    {
     "data": {
      "text/plain": [
       "True"
      ]
     },
     "execution_count": 49,
     "metadata": {},
     "output_type": "execute_result"
    }
   ],
   "source": [
    "## Example with input = 179. Square root of 179 is less than 14, so divides by every number till 13 only\n",
    "isPrime_trial_division(int(179))"
   ]
  },
  {
   "cell_type": "code",
   "execution_count": null,
   "id": "a56e4f1c-cac7-4975-ae16-4ce05795b005",
   "metadata": {},
   "outputs": [],
   "source": []
  },
  {
   "cell_type": "code",
   "execution_count": null,
   "id": "f7456cc9-bba3-41d9-8216-d5c4543fd2ea",
   "metadata": {},
   "outputs": [],
   "source": []
  },
  {
   "cell_type": "code",
   "execution_count": null,
   "id": "fb5c67b8-4e0f-4bb9-bf98-1a723384b04f",
   "metadata": {},
   "outputs": [],
   "source": []
  },
  {
   "cell_type": "markdown",
   "id": "d5dabbe3-ab08-4a37-ac07-a10601bacf4d",
   "metadata": {},
   "source": [
    "### Recursively Divide input number n by each number smaller than itself starting from 2 to √n"
   ]
  },
  {
   "cell_type": "code",
   "execution_count": 58,
   "id": "37fe2488-da41-4eb5-b5ba-71a976d1ffd0",
   "metadata": {},
   "outputs": [],
   "source": [
    "import math\n",
    "\n",
    "## helper function to generate greatest integer less than √n\n",
    "def squareRootInteger(n):\n",
    "    return int(math.sqrt(n) + 1)\n",
    "\n",
    "def isPrime_trial_division_recursive (n, i):\n",
    "    ## Here n is actual input and i is greatest integer less than √n\n",
    "\n",
    "    ## Define the base cases.\n",
    "    if i == 1 or i == 2:  \n",
    "        return True\n",
    "    if n % i == 0:  \n",
    "        return False\n",
    "\n",
    "    ## Recursive call\n",
    "    return isPrime_trial_division_recursive(n, i - 1)"
   ]
  },
  {
   "cell_type": "code",
   "execution_count": null,
   "id": "f8fc2725-184c-42e7-ac63-4ce4ae8c559c",
   "metadata": {},
   "outputs": [],
   "source": [
    "n = 13\n",
    "isPrime_trial_division_recursive(n, squareRootInteger(n))"
   ]
  },
  {
   "cell_type": "code",
   "execution_count": 60,
   "id": "b201a6b4-8393-4787-b3b5-9566913fd210",
   "metadata": {},
   "outputs": [
    {
     "data": {
      "text/plain": [
       "True"
      ]
     },
     "execution_count": 60,
     "metadata": {},
     "output_type": "execute_result"
    }
   ],
   "source": [
    "n = 179\n",
    "isPrime_trial_division_recursive(n, squareRootInteger(n))"
   ]
  },
  {
   "cell_type": "code",
   "execution_count": 61,
   "id": "d1f7d897-8dea-49cc-b5c5-8d97dd6394fa",
   "metadata": {},
   "outputs": [
    {
     "data": {
      "text/plain": [
       "False"
      ]
     },
     "execution_count": 61,
     "metadata": {},
     "output_type": "execute_result"
    }
   ],
   "source": [
    "n = 9\n",
    "isPrime_trial_division_recursive(n, squareRootInteger(n))"
   ]
  },
  {
   "cell_type": "code",
   "execution_count": null,
   "id": "a9465c61-1a94-46a6-b667-c6b24733dc77",
   "metadata": {},
   "outputs": [],
   "source": []
  },
  {
   "cell_type": "code",
   "execution_count": null,
   "id": "4213e0f9-637d-4f8e-90a1-efa0b6d039ba",
   "metadata": {},
   "outputs": [],
   "source": []
  },
  {
   "cell_type": "markdown",
   "id": "7fc02867-c458-4ac0-a4be-a465cd4eb50a",
   "metadata": {},
   "source": [
    "## Primality Check using SymPy"
   ]
  },
  {
   "cell_type": "code",
   "execution_count": null,
   "id": "61f430fb-6bb1-4c01-bd25-328dfb065da7",
   "metadata": {},
   "outputs": [],
   "source": []
  },
  {
   "cell_type": "code",
   "execution_count": 47,
   "id": "275b8be5-9e37-4615-a4d5-f36cf39695db",
   "metadata": {},
   "outputs": [
    {
     "name": "stdout",
     "output_type": "stream",
     "text": [
      "True\n",
      "True\n",
      "False\n",
      "False\n"
     ]
    }
   ],
   "source": [
    "import sympy\n",
    "\n",
    "print(sympy.isprime(5))\n",
    "print(sympy.isprime(179))\n",
    "print(sympy.isprime(20))\n",
    "print(sympy.isprime(49))"
   ]
  },
  {
   "cell_type": "code",
   "execution_count": null,
   "id": "e5b1d66d-244c-4ea4-b35b-bb5f551375f7",
   "metadata": {},
   "outputs": [],
   "source": []
  },
  {
   "cell_type": "markdown",
   "id": "495fc53b-9c22-44e3-9860-a393ddce4fba",
   "metadata": {},
   "source": [
    "-----------------------------------"
   ]
  },
  {
   "cell_type": "code",
   "execution_count": null,
   "id": "2abe80c0-12d8-44a5-b669-06f055af539d",
   "metadata": {},
   "outputs": [],
   "source": []
  },
  {
   "cell_type": "markdown",
   "id": "e2992011-08db-4e63-a011-9bcc1b3569fc",
   "metadata": {},
   "source": [
    "# Special Primality Tests\n",
    "Test to check whether a Prime number falls in one of the special classes of primes"
   ]
  },
  {
   "cell_type": "markdown",
   "id": "3e817ee5-3c16-4826-bdb2-efe307583706",
   "metadata": {},
   "source": [
    "## Formulaic Prime\n",
    "Prime Number that can be expressed as a formula"
   ]
  },
  {
   "cell_type": "code",
   "execution_count": null,
   "id": "8c0c0b0f-d359-426b-b633-2800643f9f5e",
   "metadata": {},
   "outputs": [],
   "source": []
  },
  {
   "cell_type": "markdown",
   "id": "e79c72e1-b30b-44a0-8fff-f7450f816450",
   "metadata": {},
   "source": [
    "### Pythagorean Prime\n",
    "Prime number of the form 4n + 1"
   ]
  },
  {
   "cell_type": "markdown",
   "id": "f936ef43-a19a-4962-ae9f-39c483ff5fec",
   "metadata": {},
   "source": [
    "If a number n is prime, then it is Pythagorean prime if n%4 == 1"
   ]
  },
  {
   "cell_type": "code",
   "execution_count": 1,
   "id": "4e45cc80-25a9-48df-aa22-6f28aa48f243",
   "metadata": {},
   "outputs": [],
   "source": [
    "import sympy\n",
    "\n",
    "def isPythagoreanPrime(n):\n",
    "    isPythagoreanPrime = False\n",
    "    if(sympy.isprime(n) and (n%4 == 1)):\n",
    "        isPythagoreanPrime = True\n",
    "    return isPythagoreanPrime"
   ]
  },
  {
   "cell_type": "code",
   "execution_count": 2,
   "id": "395b0ec7-0031-401a-bdee-d51ce84c8ee4",
   "metadata": {},
   "outputs": [
    {
     "data": {
      "text/plain": [
       "False"
      ]
     },
     "execution_count": 2,
     "metadata": {},
     "output_type": "execute_result"
    }
   ],
   "source": [
    "isPythagoreanPrime(2)"
   ]
  },
  {
   "cell_type": "code",
   "execution_count": 3,
   "id": "382ec160-23ef-4321-80c6-4dfa2a44b8d8",
   "metadata": {},
   "outputs": [
    {
     "data": {
      "text/plain": [
       "True"
      ]
     },
     "execution_count": 3,
     "metadata": {},
     "output_type": "execute_result"
    }
   ],
   "source": [
    "isPythagoreanPrime(5)"
   ]
  },
  {
   "cell_type": "code",
   "execution_count": 4,
   "id": "8902b603-c5ba-441c-a7d4-b867fc590e8f",
   "metadata": {},
   "outputs": [
    {
     "data": {
      "text/plain": [
       "True"
      ]
     },
     "execution_count": 4,
     "metadata": {},
     "output_type": "execute_result"
    }
   ],
   "source": [
    "isPythagoreanPrime(113)"
   ]
  },
  {
   "cell_type": "code",
   "execution_count": null,
   "id": "b0e5c242-785e-4587-bdf8-8f477d7d8893",
   "metadata": {},
   "outputs": [],
   "source": []
  },
  {
   "cell_type": "code",
   "execution_count": null,
   "id": "4ee57003-925b-4b53-a7b1-1feacaf6bdc7",
   "metadata": {},
   "outputs": [],
   "source": []
  },
  {
   "cell_type": "markdown",
   "id": "c66115a5-5aae-42a7-a116-0c64bdbb1ec4",
   "metadata": {},
   "source": [
    "### Mersenne Prime\n",
    "Prime number of the form $2^n$ -1"
   ]
  },
  {
   "cell_type": "markdown",
   "id": "0844be69-0bbb-44dc-94cb-67d5bbe3d906",
   "metadata": {},
   "source": [
    "A number n is a Mersenne prime if it is a prime and (n+1) is an integral power of 2.\n",
    "\n",
    "math.log2() function takes advantage of the fact that loga($a^n$) = n\n",
    "Hence, if a number is an integral power of 2 i.e. $2^n$, then log2($2^n$) would result in n which should be an integer."
   ]
  },
  {
   "cell_type": "code",
   "execution_count": 19,
   "id": "845cca6d-6e65-4ac7-94b5-1fd7b4bd9e4e",
   "metadata": {},
   "outputs": [],
   "source": [
    "import math\n",
    "import sympy\n",
    "\n",
    "def isMersennePrime(n):\n",
    "    if(sympy.isprime(n)):\n",
    "        ## If n+1 is less than or equal to zero, return False; 1 is 2^0, so it should return True\n",
    "        if (n+1 >= 1):\n",
    "            return (math.log2(n+1).is_integer())\n",
    "        else:\n",
    "            return False\n",
    "    else:\n",
    "        return False"
   ]
  },
  {
   "cell_type": "code",
   "execution_count": 20,
   "id": "c8602cc4-2c9f-42b8-9813-5b1642711dbd",
   "metadata": {},
   "outputs": [
    {
     "data": {
      "text/plain": [
       "True"
      ]
     },
     "execution_count": 20,
     "metadata": {},
     "output_type": "execute_result"
    }
   ],
   "source": [
    "## 3 is 2^2 - 1\n",
    "isMersennePrime(3)"
   ]
  },
  {
   "cell_type": "code",
   "execution_count": 21,
   "id": "4a1fe3ce-e867-4783-baea-1796c37bf363",
   "metadata": {},
   "outputs": [
    {
     "data": {
      "text/plain": [
       "True"
      ]
     },
     "execution_count": 21,
     "metadata": {},
     "output_type": "execute_result"
    }
   ],
   "source": [
    "## 2147483647 is 2^31 - 1\n",
    "isMersennePrime(2147483647)"
   ]
  },
  {
   "cell_type": "code",
   "execution_count": 22,
   "id": "43e18dc1-0d48-4192-ac02-d6a3be691dcb",
   "metadata": {},
   "outputs": [],
   "source": [
    "import math\n",
    "import sympy\n",
    "\n",
    "## An alternative check is for n>=3, since the smallest Mersenne Prime is 3\n",
    "def isMersennePrime2(n):\n",
    "    if(sympy.isprime(n)):\n",
    "        if (n >= 3):\n",
    "            return (math.log2(n+1).is_integer())\n",
    "        else:\n",
    "            return False\n",
    "    else:\n",
    "        return False"
   ]
  },
  {
   "cell_type": "code",
   "execution_count": 23,
   "id": "e6990acb-a641-4702-9c23-d13ab8a5f3f7",
   "metadata": {},
   "outputs": [
    {
     "data": {
      "text/plain": [
       "True"
      ]
     },
     "execution_count": 23,
     "metadata": {},
     "output_type": "execute_result"
    }
   ],
   "source": [
    "## 3 is 2^2 - 1\n",
    "isMersennePrime2(3)"
   ]
  },
  {
   "cell_type": "code",
   "execution_count": 18,
   "id": "3fe92582-d665-4156-9ec1-581bffa5e44f",
   "metadata": {},
   "outputs": [
    {
     "data": {
      "text/plain": [
       "True"
      ]
     },
     "execution_count": 18,
     "metadata": {},
     "output_type": "execute_result"
    }
   ],
   "source": [
    "## 2147483647 is 2^31 - 1\n",
    "isMersennePrime2(2147483647)"
   ]
  },
  {
   "cell_type": "code",
   "execution_count": null,
   "id": "e4cbee34-b671-422b-bbf1-67dc3630b894",
   "metadata": {},
   "outputs": [],
   "source": []
  },
  {
   "cell_type": "code",
   "execution_count": null,
   "id": "b9901f8c-4b5d-47d3-8b4a-8cafd7a1b491",
   "metadata": {},
   "outputs": [],
   "source": []
  },
  {
   "cell_type": "code",
   "execution_count": null,
   "id": "2b3e2aca-ec7b-4cc2-9387-dd8a54cde1c3",
   "metadata": {},
   "outputs": [],
   "source": []
  },
  {
   "cell_type": "code",
   "execution_count": null,
   "id": "ab7ebf95-3890-4ec3-9b16-37574474d4c3",
   "metadata": {},
   "outputs": [],
   "source": []
  },
  {
   "cell_type": "markdown",
   "id": "e31542d9-291c-4d31-9dd8-fdce8bf1b11a",
   "metadata": {},
   "source": [
    "## Beastly Prime\n",
    "Beastly Prime is a prime with the digit sequence '666' as its part.\n",
    "Beastly numbers are called so due to superstitious beliefs regarding the number '666'."
   ]
  },
  {
   "cell_type": "markdown",
   "id": "de961e7d-caef-41ea-a899-4f31f0d7f144",
   "metadata": {},
   "source": [
    "A straightforward check is to first test for primality, then convert the number to string and check for the sequence '666'."
   ]
  },
  {
   "cell_type": "code",
   "execution_count": 41,
   "id": "d1598c0f-bea3-4a70-bbd6-03141d66e996",
   "metadata": {},
   "outputs": [],
   "source": [
    "import sympy\n",
    "\n",
    "def isBeastlyPrime (n):\n",
    "    isBeastlyPrime = False\n",
    "    if (sympy.isprime(n) and '666' in str(n)):\n",
    "        isBeastlyPrime = True\n",
    "\n",
    "    return isBeastlyPrime"
   ]
  },
  {
   "cell_type": "code",
   "execution_count": 43,
   "id": "fc1e0a9f-0bdd-4cf2-b43e-cce4cce93b02",
   "metadata": {},
   "outputs": [
    {
     "name": "stdout",
     "output_type": "stream",
     "text": [
      "True\n"
     ]
    }
   ],
   "source": [
    "print(sympy.isprime(6660000000001))"
   ]
  },
  {
   "cell_type": "code",
   "execution_count": 44,
   "id": "ac6a0381-83b2-4bc4-925b-e4cb446384c7",
   "metadata": {},
   "outputs": [
    {
     "data": {
      "text/plain": [
       "True"
      ]
     },
     "execution_count": 44,
     "metadata": {},
     "output_type": "execute_result"
    }
   ],
   "source": [
    "isBeastlyPrime(6660000000001)"
   ]
  },
  {
   "cell_type": "code",
   "execution_count": null,
   "id": "3a501288-2225-4499-b871-1d8d385a4085",
   "metadata": {},
   "outputs": [],
   "source": []
  },
  {
   "cell_type": "code",
   "execution_count": null,
   "id": "26f118f7-6110-4438-b773-47ceceb36270",
   "metadata": {},
   "outputs": [],
   "source": []
  },
  {
   "cell_type": "markdown",
   "id": "acd029b9-6cd3-4291-892a-c29362956485",
   "metadata": {},
   "source": [
    "## Palindromic Prime\n",
    "Palindromic prime (sometimes called a palprime) is a prime number that is also a palindromic number i.e. remains the same when its digits are reversed. Palindromicity depends on the base of the number system and its notational conventions, while primality is independent of such concerns."
   ]
  },
  {
   "cell_type": "markdown",
   "id": "e33cb6cf-3094-462b-8c98-73c8f2155c6f",
   "metadata": {},
   "source": [
    "The most straightforward method to check for a prime being palindrom is to take advantage of Python's string functions.\n",
    "\n",
    "Check whether a number is prime. Then convert to string and check whether the reversed string is same as original string.\n",
    "\n",
    "All single digit numbers are palindromic numbers, so all single-digit primes are palindromic primes."
   ]
  },
  {
   "cell_type": "code",
   "execution_count": 29,
   "id": "7f707c12-313c-41cf-8432-7b2f68e10c56",
   "metadata": {},
   "outputs": [],
   "source": [
    "import sympy\n",
    "\n",
    "def isPalindromicPrime(n):\n",
    "    isPalindromicPrime = False\n",
    "    \n",
    "    if (sympy.isprime(n) and str(n) == str(n)[::-1]):\n",
    "            isPalindromicPrime = True\n",
    "\n",
    "    return isPalindromicPrime"
   ]
  },
  {
   "cell_type": "code",
   "execution_count": 32,
   "id": "89cc6055-7db5-42c2-a536-cd3f4dc84b40",
   "metadata": {},
   "outputs": [
    {
     "data": {
      "text/plain": [
       "False"
      ]
     },
     "execution_count": 32,
     "metadata": {},
     "output_type": "execute_result"
    }
   ],
   "source": [
    "isPalindromicPrime(151)"
   ]
  },
  {
   "cell_type": "code",
   "execution_count": 31,
   "id": "1629380a-13a9-4134-be5f-374d08b18a54",
   "metadata": {},
   "outputs": [
    {
     "data": {
      "text/plain": [
       "True"
      ]
     },
     "execution_count": 31,
     "metadata": {},
     "output_type": "execute_result"
    }
   ],
   "source": [
    "isPalindromicPrime(2)"
   ]
  },
  {
   "cell_type": "code",
   "execution_count": 33,
   "id": "89b8b404-531e-4717-bbc0-56fd661a6308",
   "metadata": {},
   "outputs": [
    {
     "data": {
      "text/plain": [
       "False"
      ]
     },
     "execution_count": 33,
     "metadata": {},
     "output_type": "execute_result"
    }
   ],
   "source": [
    "isPalindromicPrime(1331)"
   ]
  },
  {
   "cell_type": "code",
   "execution_count": null,
   "id": "9feee4f5-0d8f-4e9d-9a8b-2a0982395bfb",
   "metadata": {},
   "outputs": [],
   "source": []
  },
  {
   "cell_type": "markdown",
   "id": "be9d8fc1-51c3-4243-8002-ece2d4b7c677",
   "metadata": {},
   "source": [
    "### Beastly Palindromic Prime\n",
    "Beastly Palindromic Prime is a Palindromic prime with the digit sequence '666' as its part.\n",
    "Beastly numbers are called so due to superstitious beliefs regarding the number '666'.\n",
    "\n",
    "#### Belphegor's Prime\n",
    "A subset of Beastly Palindromic Primes - named after Belphegor, one of the Seven Princes of Hell.\n",
    "It is the number 1000000000000066600000000000001 ($10^{30}$ + 666 × $10^{14}$ + 1).\n",
    "This number is surrounded on either side by thirteen zeroes and is 31 digits in length (thirteen reversed), with thirteen itself long regarded superstitiously as an unlucky number in Western culture.\n"
   ]
  },
  {
   "cell_type": "markdown",
   "id": "b0d0d0ca-293c-4371-aad4-36ec0397ac33",
   "metadata": {},
   "source": [
    "A straighforward check for Beastly Palindromic prime to test for both Beastly Primality and Palindromic Primality"
   ]
  },
  {
   "cell_type": "code",
   "execution_count": 42,
   "id": "cb305765-26d9-496f-8ac3-97ea9eb7b6d5",
   "metadata": {},
   "outputs": [],
   "source": [
    "## Use the previously defined functions isPalindromicPrime() and isBeastlyPrime()\n",
    "## -> A number satisfying both conditions is a Beastly Palindromic Prime\n",
    "def isBeastlyPalindromicPrime(n):\n",
    "    isBeastlyPalindromicPrime = False\n",
    "    \n",
    "    if(isPalindromicPrime(n) and isBeastlyPrime(n)):\n",
    "        isBeastlyPalindromicPrime = True\n",
    "\n",
    "    return isBeastlyPalindromicPrime\n",
    "    "
   ]
  },
  {
   "cell_type": "code",
   "execution_count": 45,
   "id": "def76e65-de5c-4549-8033-db84a40512c0",
   "metadata": {},
   "outputs": [
    {
     "data": {
      "text/plain": [
       "False"
      ]
     },
     "execution_count": 45,
     "metadata": {},
     "output_type": "execute_result"
    }
   ],
   "source": [
    "isBeastlyPalindromicPrime(6660000000001)"
   ]
  },
  {
   "cell_type": "code",
   "execution_count": 46,
   "id": "2b23a359-709b-4b4c-86a4-e5ff32951895",
   "metadata": {},
   "outputs": [
    {
     "data": {
      "text/plain": [
       "True"
      ]
     },
     "execution_count": 46,
     "metadata": {},
     "output_type": "execute_result"
    }
   ],
   "source": [
    "isBeastlyPalindromicPrime(700666007)"
   ]
  },
  {
   "cell_type": "code",
   "execution_count": null,
   "id": "db180e78-2ab1-4838-9a4a-8bdc96f1fc2d",
   "metadata": {},
   "outputs": [],
   "source": []
  },
  {
   "cell_type": "code",
   "execution_count": null,
   "id": "82d89158-e6c0-4ac9-9f07-4f83ec4a9f7d",
   "metadata": {},
   "outputs": [],
   "source": []
  },
  {
   "cell_type": "code",
   "execution_count": null,
   "id": "3f5940e6-72e6-44d8-851f-80a2abce248a",
   "metadata": {},
   "outputs": [],
   "source": []
  },
  {
   "cell_type": "markdown",
   "id": "46430979-ff06-4fae-9f44-86aa3dc43a1f",
   "metadata": {},
   "source": [
    "### Triply palindromic prime\n",
    "Triply palindromic prime as a prime p for which: p is a palindromic prime with q digits, where q is a palindromic prime with r digits, where r is also a palindromic prime.\n",
    "\n",
    "The first base-10 triply palindromic prime is the 11-digit number 10000500001: 10000500001 is a palindromic prime with 11 digits, 11 is a palindromic prime with 2 digits, and 2 is a palindromic prime with 1 digit."
   ]
  },
  {
   "cell_type": "markdown",
   "id": "40a15150-1873-4377-9fcc-67437573d047",
   "metadata": {},
   "source": [
    "A straightforward check for triply palindromic primality is apply palindromic primality on the input number, on the length of the input number, and finally on the length of the length of the input number."
   ]
  },
  {
   "cell_type": "code",
   "execution_count": 37,
   "id": "2db1bf11-1006-4af4-8c9b-2151240b29a4",
   "metadata": {},
   "outputs": [],
   "source": [
    "def isTriplyPalindromicPrime(n):\n",
    "    isTriplyPalindromicPrime = False\n",
    "\n",
    "    ## Convert the input number n into string to get its length m\n",
    "    ## Repeat the same process for the number m to get its length k\n",
    "    m = len(str(n))\n",
    "    k = len(str(m))\n",
    "    \n",
    "    ## Apply the iPalindromic Primality check on all 3 numbers\n",
    "    if (isPalindromicPrime(n) and isPalindromicPrime(m) and isPalindromicPrime(k)):\n",
    "        isTriplyPalindromicPrime = True\n",
    "\n",
    "    return isTriplyPalindromicPrime"
   ]
  },
  {
   "cell_type": "code",
   "execution_count": 38,
   "id": "faaf98c6-4ca0-434c-9f8b-b63a7b08a3c5",
   "metadata": {},
   "outputs": [
    {
     "data": {
      "text/plain": [
       "True"
      ]
     },
     "execution_count": 38,
     "metadata": {},
     "output_type": "execute_result"
    }
   ],
   "source": [
    "isTriplyPalindromicPrime(10000500001)"
   ]
  },
  {
   "cell_type": "code",
   "execution_count": 40,
   "id": "f6f21d88-b61e-413b-b147-323aac526d09",
   "metadata": {},
   "outputs": [
    {
     "data": {
      "text/plain": [
       "False"
      ]
     },
     "execution_count": 40,
     "metadata": {},
     "output_type": "execute_result"
    }
   ],
   "source": [
    "isTriplyPalindromicPrime(1000066600001)"
   ]
  },
  {
   "cell_type": "code",
   "execution_count": 48,
   "id": "c1abf22f-b398-4bd8-8a6d-424179f4abc4",
   "metadata": {},
   "outputs": [
    {
     "data": {
      "text/plain": [
       "False"
      ]
     },
     "execution_count": 48,
     "metadata": {},
     "output_type": "execute_result"
    }
   ],
   "source": [
    "isTriplyPalindromicPrime(1000000000000066600000000000001)"
   ]
  },
  {
   "cell_type": "code",
   "execution_count": null,
   "id": "e1e9a7cc-158e-4a17-977f-3e6e5b5cddc4",
   "metadata": {},
   "outputs": [],
   "source": []
  },
  {
   "cell_type": "code",
   "execution_count": null,
   "id": "eae02a57-a9dc-401a-9aa7-298ec8f28227",
   "metadata": {},
   "outputs": [],
   "source": []
  },
  {
   "cell_type": "code",
   "execution_count": null,
   "id": "c247926b-e421-44fd-9334-e15f5c152a11",
   "metadata": {},
   "outputs": [],
   "source": []
  },
  {
   "cell_type": "code",
   "execution_count": null,
   "id": "0093b3ab-90ad-451a-b0f1-35b2ac484978",
   "metadata": {},
   "outputs": [],
   "source": []
  },
  {
   "cell_type": "markdown",
   "id": "c872d143-0558-43da-b7b7-ecc9f4221eb9",
   "metadata": {},
   "source": [
    "## Emirp\n",
    "Primes that become a different prime when their decimal digits are reversed. The name \"emirp\" is the reverse of the word \"prime\".\n",
    "\n",
    "The difference in all pairs of emirps is always a multiple of 18. This follows from all primes bigger than 2 being odd (making their differences even, i.e. multiples of 2) and from differences between pairs of natural numbers with reversed digits being multiples of 9 (which itself is a consequence of \n",
    "$10^n$ − 1 being a multiple of 9 for every non-negative integer n).\n",
    "\n",
    "Unlike Palindromic primes, emirps don't include single digit primes, as they yield the same number when reversed.\n"
   ]
  },
  {
   "cell_type": "markdown",
   "id": "581db11e-ab6a-4ef2-86f7-de320fac6d23",
   "metadata": {},
   "source": [
    "The straightforward check is to reverse the number and check if the reversed result is also a prime, but not equal to the original number.\n",
    "This can be performed by converting the number to string, reverse it and then reconvert to number.\n",
    "\n",
    "An optional check can be placed for verifying whether the difference between input number and reversed number is 18."
   ]
  },
  {
   "cell_type": "code",
   "execution_count": 28,
   "id": "f628363c-682a-4b97-8d83-2a7efbc52f7c",
   "metadata": {},
   "outputs": [],
   "source": [
    "import sympy\n",
    "\n",
    "def isEmirp(n):\n",
    "    isEmirp = False\n",
    "    reversedInputNumber = int(str(n)[::-1])\n",
    "    \n",
    "    if (sympy.isprime(n)):\n",
    "        if (sympy.isprime(reversedInputNumber) and n != reversedInputNumber\n",
    "           ## An optional check can be placed for verifying whether the difference between input number and reversed number is 18\n",
    "           and abs(n - reversedInputNumber) == 18\n",
    "           ):       \n",
    "            print(\"Reverse of input number is a prime: \", reversedInputNumber, \".\\nSo input number is a emirp.\")\n",
    "            isEmirp = True\n",
    "\n",
    "    return isEmirp"
   ]
  },
  {
   "cell_type": "code",
   "execution_count": 27,
   "id": "f584279e-b10d-4bee-b25a-c4a9336feb6b",
   "metadata": {},
   "outputs": [
    {
     "name": "stdout",
     "output_type": "stream",
     "text": [
      "Reverse of input number is a prime:  31 .\n",
      "So input number is a emirp.\n"
     ]
    },
    {
     "data": {
      "text/plain": [
       "True"
      ]
     },
     "execution_count": 27,
     "metadata": {},
     "output_type": "execute_result"
    }
   ],
   "source": [
    "isEmirp(13)"
   ]
  },
  {
   "cell_type": "code",
   "execution_count": null,
   "id": "b4eae477-0b1b-4957-8de6-444c36aadc40",
   "metadata": {},
   "outputs": [],
   "source": []
  },
  {
   "cell_type": "code",
   "execution_count": null,
   "id": "f9ace4c5-c276-4186-92fc-fa81e46a65a1",
   "metadata": {},
   "outputs": [],
   "source": []
  },
  {
   "cell_type": "markdown",
   "id": "e41717aa-1ae1-4b5e-a805-a79a0cba30b8",
   "metadata": {},
   "source": [
    "----------------------------------------------------"
   ]
  },
  {
   "cell_type": "markdown",
   "id": "754cd102-e4ab-4db2-86b4-b5b45bf1b0a0",
   "metadata": {},
   "source": [
    "# Semiprimality Tests"
   ]
  },
  {
   "cell_type": "markdown",
   "id": "b9821054-08f3-42b9-9582-11eababdcb37",
   "metadata": {},
   "source": [
    "Semiprime is a natural number that is the product of exactly two prime numbers - the two primes in the product may equal each other, so the semiprimes include the squares of prime numbers."
   ]
  },
  {
   "cell_type": "code",
   "execution_count": null,
   "id": "c52a6c5d-b7a2-4d59-b090-bb9c0a8d484c",
   "metadata": {},
   "outputs": [],
   "source": []
  },
  {
   "cell_type": "code",
   "execution_count": 69,
   "id": "2cbd4386-5b22-4bd5-82ca-ca301aaff6b1",
   "metadata": {},
   "outputs": [],
   "source": [
    "## Check whether a number has only 2 factors. If so, check whether both are prime numbers\n",
    "## The below function uses Sympy library function for primality test, but any of the above created functions can also be used.\n",
    "def isSemiprime(n):\n",
    "\n",
    "    for i in range(2, n//2+1):\n",
    "        if n % i == 0:\n",
    "            quotient = n//i\n",
    "            if sympy.isprime(i) and sympy.isprime (quotient):\n",
    "                return True\n",
    "    return False"
   ]
  },
  {
   "cell_type": "code",
   "execution_count": 70,
   "id": "7177e2d0-5be4-41f0-a396-4afe50ed1dbf",
   "metadata": {},
   "outputs": [
    {
     "data": {
      "text/plain": [
       "True"
      ]
     },
     "execution_count": 70,
     "metadata": {},
     "output_type": "execute_result"
    }
   ],
   "source": [
    "isSemiprime(6)"
   ]
  },
  {
   "cell_type": "code",
   "execution_count": 71,
   "id": "9cff6fba-c469-4a5f-9289-093d41c83933",
   "metadata": {},
   "outputs": [
    {
     "data": {
      "text/plain": [
       "False"
      ]
     },
     "execution_count": 71,
     "metadata": {},
     "output_type": "execute_result"
    }
   ],
   "source": [
    "isSemiprime(7)"
   ]
  },
  {
   "cell_type": "code",
   "execution_count": null,
   "id": "05e57800-bd33-4026-8f15-0561bb5ce23d",
   "metadata": {},
   "outputs": [],
   "source": []
  },
  {
   "cell_type": "markdown",
   "id": "13f84db0-67cc-4ccb-b481-fc6d24b19a17",
   "metadata": {},
   "source": [
    "---------------------------------------"
   ]
  },
  {
   "cell_type": "markdown",
   "id": "1ee3212d-c363-41c7-ae84-949f19884a8a",
   "metadata": {},
   "source": [
    "# Complex Primes"
   ]
  },
  {
   "cell_type": "markdown",
   "id": "94a60d81-cb0d-4ab9-a95d-bdae503fae4c",
   "metadata": {},
   "source": [
    "## Gaussian Primality Test\n",
    "\n",
    "Gaussian integer is a complex number whose real and imaginary parts are both integers. Gaussian integers, with ordinary addition and multiplication of complex numbers, form an integral domain, usually written as Z[i].\n",
    "\n",
    "A Gaussian integer a + bi is a Gaussian prime if and only if either:\n",
    "- one of a, b is 0  and the absolute value of the other is a prime number of the form 4n + 3 (with n being a nonnegative integer), or\n",
    "- both are nonzero and $a^2$ + $b^2$ is a prime number (which will never be of the form 4n + 3)."
   ]
  },
  {
   "cell_type": "markdown",
   "id": "4534cf5d-79ea-4d0f-8242-988eab15ba89",
   "metadata": {},
   "source": [
    "An important detail to note with Gaussian Primality Test, and with Gaussian Number Test in general, is the fact that for a number z = a + ib, **either or both of a & b can be negative or 0**.\n",
    "Hence, when performing Gaussian Primality Test, the <font style=\"color:orange\"> **absolute values of a & b** </font> should be tested for primality."
   ]
  },
  {
   "cell_type": "code",
   "execution_count": null,
   "id": "85209be2-0931-4b27-81eb-eb2cd3e5d67b",
   "metadata": {},
   "outputs": [],
   "source": []
  },
  {
   "cell_type": "code",
   "execution_count": 24,
   "id": "b48a9ce4-af96-4c8f-9ea3-46b9571dc1fa",
   "metadata": {},
   "outputs": [],
   "source": [
    "import sympy\n",
    "\n",
    "def isGaussianPrime(z):\n",
    "    isGaussianPrime = False\n",
    "    \n",
    "    # if isinstance(z, complex):\n",
    "    a = z.real\n",
    "    b = z.imag\n",
    "    squareSum = a**2 + b**2\n",
    "\n",
    "    print(a, b, squareSum)\n",
    "    \n",
    "    if(a != 0 and b!= 0 and sympy.isprime(int(squareSum))):\n",
    "        isGaussianPrime = True\n",
    "    elif (a == 0 and ((b)%4 == 3) and sympy.isprime(abs(b))):\n",
    "        isGaussianPrime = True\n",
    "    elif (b == 0 and ((a)%4 == 3) and sympy.isprime(abs(a))):\n",
    "        isGaussianPrime = True\n",
    "\n",
    "    return isGaussianPrime"
   ]
  },
  {
   "cell_type": "code",
   "execution_count": 25,
   "id": "837a96ff-273e-4b09-bff8-b86cccf7432e",
   "metadata": {},
   "outputs": [
    {
     "name": "stdout",
     "output_type": "stream",
     "text": [
      "3 0 9\n"
     ]
    },
    {
     "data": {
      "text/plain": [
       "True"
      ]
     },
     "execution_count": 25,
     "metadata": {},
     "output_type": "execute_result"
    }
   ],
   "source": [
    "isGaussianPrime(3)"
   ]
  },
  {
   "cell_type": "code",
   "execution_count": 26,
   "id": "ddda99e8-e12a-47d0-9f1b-a93a953872c9",
   "metadata": {},
   "outputs": [
    {
     "name": "stdout",
     "output_type": "stream",
     "text": [
      "-5.0 -4.0 41.0\n"
     ]
    },
    {
     "data": {
      "text/plain": [
       "True"
      ]
     },
     "execution_count": 26,
     "metadata": {},
     "output_type": "execute_result"
    }
   ],
   "source": [
    "isGaussianPrime(complex(-5, -4))"
   ]
  },
  {
   "cell_type": "code",
   "execution_count": 27,
   "id": "c247e775-9b9b-480c-9af1-553c2e009c3e",
   "metadata": {},
   "outputs": [
    {
     "name": "stdout",
     "output_type": "stream",
     "text": [
      "1.0 2.0 5.0\n"
     ]
    },
    {
     "data": {
      "text/plain": [
       "True"
      ]
     },
     "execution_count": 27,
     "metadata": {},
     "output_type": "execute_result"
    }
   ],
   "source": [
    "isGaussianPrime(complex(1, 2))"
   ]
  },
  {
   "cell_type": "code",
   "execution_count": 28,
   "id": "dedce6ff-5142-4b97-84f2-daf38f7618d6",
   "metadata": {},
   "outputs": [
    {
     "name": "stdout",
     "output_type": "stream",
     "text": [
      "4.0 5.0 41.0\n"
     ]
    },
    {
     "data": {
      "text/plain": [
       "True"
      ]
     },
     "execution_count": 28,
     "metadata": {},
     "output_type": "execute_result"
    }
   ],
   "source": [
    "isGaussianPrime(complex(4, 5))"
   ]
  },
  {
   "cell_type": "code",
   "execution_count": null,
   "id": "82bda72e-4cd3-4fd3-b9d9-292e80b9bc21",
   "metadata": {},
   "outputs": [],
   "source": []
  },
  {
   "cell_type": "code",
   "execution_count": null,
   "id": "ae8fddd8-b91e-43e4-bf1d-03b82394d7d8",
   "metadata": {},
   "outputs": [],
   "source": []
  },
  {
   "cell_type": "code",
   "execution_count": null,
   "id": "bb3d808a-b645-4c9d-b2d7-c384125206db",
   "metadata": {},
   "outputs": [],
   "source": []
  },
  {
   "cell_type": "code",
   "execution_count": null,
   "id": "053059a3-b09a-45de-a36a-9c16407f5647",
   "metadata": {},
   "outputs": [],
   "source": []
  },
  {
   "cell_type": "code",
   "execution_count": null,
   "id": "de25074f-53c9-4cb0-8a3f-8eba376b1ab2",
   "metadata": {},
   "outputs": [],
   "source": []
  },
  {
   "cell_type": "code",
   "execution_count": null,
   "id": "deda6db8-235a-4c33-a1a5-378642ac3f17",
   "metadata": {},
   "outputs": [],
   "source": []
  },
  {
   "cell_type": "code",
   "execution_count": null,
   "id": "e5e81ecd-3f90-4bd9-a472-e504fb3cb3be",
   "metadata": {},
   "outputs": [],
   "source": []
  },
  {
   "cell_type": "code",
   "execution_count": null,
   "id": "6a03876a-a570-4475-97e6-53a976527f0e",
   "metadata": {},
   "outputs": [],
   "source": []
  },
  {
   "cell_type": "code",
   "execution_count": null,
   "id": "621c8fd5-6124-40a7-844b-309765e11df0",
   "metadata": {},
   "outputs": [],
   "source": []
  },
  {
   "cell_type": "code",
   "execution_count": null,
   "id": "a9591ee5-6ec7-42cc-a7b5-63d2b49cbece",
   "metadata": {},
   "outputs": [],
   "source": []
  }
 ],
 "metadata": {
  "kernelspec": {
   "display_name": "Python 3 (ipykernel)",
   "language": "python",
   "name": "python3"
  },
  "language_info": {
   "codemirror_mode": {
    "name": "ipython",
    "version": 3
   },
   "file_extension": ".py",
   "mimetype": "text/x-python",
   "name": "python",
   "nbconvert_exporter": "python",
   "pygments_lexer": "ipython3",
   "version": "3.13.2"
  }
 },
 "nbformat": 4,
 "nbformat_minor": 5
}
