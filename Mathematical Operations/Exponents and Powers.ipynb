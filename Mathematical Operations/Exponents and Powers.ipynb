{
 "cells": [
  {
   "cell_type": "code",
   "execution_count": null,
   "id": "b74065ac-d7f1-47e3-a36c-2057ef38ccbf",
   "metadata": {},
   "outputs": [],
   "source": []
  },
  {
   "cell_type": "code",
   "execution_count": null,
   "id": "c887386d-a189-4a4a-8774-1cc78c8fde9c",
   "metadata": {},
   "outputs": [],
   "source": []
  },
  {
   "cell_type": "markdown",
   "id": "a2663157-dcbe-4484-8994-42d787214ddd",
   "metadata": {},
   "source": [
    "## Verify if a number is a power of another number"
   ]
  },
  {
   "cell_type": "markdown",
   "id": "e5a5b90a-38c0-481b-8b06-d4a514456cdb",
   "metadata": {},
   "source": [
    "### General Verification for a number n and power m\n",
    "Verify for a given number n if it is a power of m i.e. n = $m^k$,"
   ]
  },
  {
   "cell_type": "markdown",
   "id": "3520c799-e95a-404e-8455-a44ef474c28d",
   "metadata": {},
   "source": [
    "#### Brute Force Method - / and % operators\n",
    "A number n can be checked for being an integral power of m in Brute force way by looping and repeatedly dividing by m."
   ]
  },
  {
   "cell_type": "code",
   "execution_count": 66,
   "id": "c71a8871-53ee-485e-b068-4c6adc8a8f6d",
   "metadata": {},
   "outputs": [],
   "source": [
    "def isPowerOfNumber_floorDivision_BruteForce(n, m):\n",
    "    ## If a number is less than or equal to zero, return False; 1 is m^0 for all m!=0, so it should return True\n",
    "    if n <= 0:\n",
    "        return False\n",
    "    \n",
    "    while n % m == 0:\n",
    "        n = n // m\n",
    "        print(n)\n",
    "    \n",
    "    return n == 1"
   ]
  },
  {
   "cell_type": "code",
   "execution_count": 67,
   "id": "906dd08f-7ba5-4ed8-a916-14c7579965d8",
   "metadata": {},
   "outputs": [
    {
     "name": "stdout",
     "output_type": "stream",
     "text": [
      "10\n",
      "1\n"
     ]
    },
    {
     "data": {
      "text/plain": [
       "True"
      ]
     },
     "execution_count": 67,
     "metadata": {},
     "output_type": "execute_result"
    }
   ],
   "source": [
    "isPowerOfNumber_floorDivision_BruteForce(100, 10)"
   ]
  },
  {
   "cell_type": "code",
   "execution_count": 65,
   "id": "aee841e6-6f56-43e3-ba96-9436f3de583d",
   "metadata": {},
   "outputs": [
    {
     "name": "stdout",
     "output_type": "stream",
     "text": [
      "4\n",
      "2\n",
      "1\n"
     ]
    },
    {
     "data": {
      "text/plain": [
       "True"
      ]
     },
     "execution_count": 65,
     "metadata": {},
     "output_type": "execute_result"
    }
   ],
   "source": [
    "isPowerOfNumber_floorDivision_BruteForce(8, 2)"
   ]
  },
  {
   "cell_type": "code",
   "execution_count": null,
   "id": "ba808ad5-b996-4a61-aba6-f67aca95ad38",
   "metadata": {},
   "outputs": [],
   "source": []
  },
  {
   "cell_type": "markdown",
   "id": "525cc0b5-04fc-40e6-bd63-14e3d2e7e90d",
   "metadata": {},
   "source": [
    "#### Logarithmic method - math.log(x, y) function\n",
    "For any given number n, it can be verified if it is a power of m i.e. n = $m^k$, using the math.log() function.\n",
    "\n",
    "This takes advantage of the fact that loga($a^n$) = n\n",
    "Hence, if a number n is an integral power of another number m i.e. n = $m^k$, then logm(n) would result in an integer k."
   ]
  },
  {
   "cell_type": "markdown",
   "id": "ba40690a-4afd-450e-baa2-758026662067",
   "metadata": {},
   "source": [
    "The arguments for the function math.log() are to be n & m: math.log(n, m). This results in a float output.\n",
    "\n",
    "Check if the float is equivalent to an integer without precision loss using the float class's [is_integer()](https://python-reference.readthedocs.io/en/latest/docs/float/is_integer.html) function"
   ]
  },
  {
   "cell_type": "code",
   "execution_count": 57,
   "id": "b76f73a2-c2be-49ff-b734-10137b7d3e28",
   "metadata": {},
   "outputs": [
    {
     "data": {
      "text/plain": [
       "True"
      ]
     },
     "execution_count": 57,
     "metadata": {},
     "output_type": "execute_result"
    }
   ],
   "source": [
    "## 100 is 10^2, 2 is integer: so result is True\n",
    "math.log(100, 10).is_integer()"
   ]
  },
  {
   "cell_type": "code",
   "execution_count": 59,
   "id": "ff8e3836-968a-44e4-9ea7-4ef4aacd4a71",
   "metadata": {
    "scrolled": true
   },
   "outputs": [
    {
     "data": {
      "text/plain": [
       "False"
      ]
     },
     "execution_count": 59,
     "metadata": {},
     "output_type": "execute_result"
    }
   ],
   "source": [
    "## 1000 is not a power of 11, a non-integer is result, so the result is False\n",
    "math.log(1000, 11).is_integer()"
   ]
  },
  {
   "cell_type": "code",
   "execution_count": null,
   "id": "4f29ad56-846d-41f3-82f4-0c89ab9b3441",
   "metadata": {},
   "outputs": [],
   "source": []
  },
  {
   "cell_type": "code",
   "execution_count": null,
   "id": "c22e7304-fe67-4069-9bd8-87aabdf8ebf4",
   "metadata": {},
   "outputs": [],
   "source": []
  },
  {
   "cell_type": "code",
   "execution_count": null,
   "id": "ffce6c0c-69cc-4683-a6f2-ffc88acc7179",
   "metadata": {},
   "outputs": [],
   "source": []
  },
  {
   "cell_type": "markdown",
   "id": "5102b435-bfd9-4909-8f25-3117a83a5947",
   "metadata": {},
   "source": [
    "### Verify if a number is a power of 2\n",
    "This applies for only natural numbers; negative integers are powers of complex numbers of the form '0 + ιn' -> So -4 is actually power of $(2ι)^2$"
   ]
  },
  {
   "cell_type": "markdown",
   "id": "139b3fcf-acb1-4ae3-b052-ffa4de8e9b03",
   "metadata": {},
   "source": [
    "#### Brute Force Method - / and % operators\n",
    "A number can be checked for being an integral power of 2 in Brute force way by looping and repeatedly dividing by 2."
   ]
  },
  {
   "cell_type": "code",
   "execution_count": 38,
   "id": "88d1a6d4-057c-440e-85da-807aa4a8836e",
   "metadata": {},
   "outputs": [],
   "source": [
    "def isPowerOf2_simpleBruteForce(n):\n",
    "    currentNumber = n\n",
    "    isPowerOf2 = True\n",
    "    remainder = 0\n",
    "\n",
    "    ## If a number is less than or equal to zero, return False; 1 is 2^0, so it should return True\n",
    "    if(n <= 0):\n",
    "        return False\n",
    "    \n",
    "    ## A preliminary check to verify input is a integer or a float with zero decimal places\n",
    "    if(isinstance(n, int) or (isinstance(n, float) and n.is_integer())): \n",
    "        while currentNumber != 1:\n",
    "            quotient, remainder = currentNumber/2, currentNumber%2\n",
    "            print(quotient, remainder)\n",
    "            ## If either remainder is non-zero or the obtained quotient is non-integer, the input number cannot be a power of 2\n",
    "            if(remainder != 0 or not quotient.is_integer()):\n",
    "                isPowerOf2 = False\n",
    "                break\n",
    "            currentNumber = quotient\n",
    "    else:\n",
    "        isPowerOf2 = False\n",
    "\n",
    "    return isPowerOf2"
   ]
  },
  {
   "cell_type": "code",
   "execution_count": 39,
   "id": "5bfb732e-7262-4c43-b41e-334d3d5ba12b",
   "metadata": {},
   "outputs": [
    {
     "data": {
      "text/plain": [
       "False"
      ]
     },
     "execution_count": 39,
     "metadata": {},
     "output_type": "execute_result"
    }
   ],
   "source": [
    "isPowerOf2_simpleBruteForce (32.32)"
   ]
  },
  {
   "cell_type": "code",
   "execution_count": 40,
   "id": "1f18a5d3-26be-43ca-97d0-9f9eee55f3ab",
   "metadata": {},
   "outputs": [
    {
     "name": "stdout",
     "output_type": "stream",
     "text": [
      "17.5 1\n"
     ]
    },
    {
     "data": {
      "text/plain": [
       "False"
      ]
     },
     "execution_count": 40,
     "metadata": {},
     "output_type": "execute_result"
    }
   ],
   "source": [
    "isPowerOf2_simpleBruteForce (35)"
   ]
  },
  {
   "cell_type": "code",
   "execution_count": 41,
   "id": "e635bc90-9e5b-45e6-a033-473241a03edf",
   "metadata": {},
   "outputs": [
    {
     "name": "stdout",
     "output_type": "stream",
     "text": [
      "32.0 0\n",
      "16.0 0.0\n",
      "8.0 0.0\n",
      "4.0 0.0\n",
      "2.0 0.0\n",
      "1.0 0.0\n"
     ]
    },
    {
     "data": {
      "text/plain": [
       "True"
      ]
     },
     "execution_count": 41,
     "metadata": {},
     "output_type": "execute_result"
    }
   ],
   "source": [
    "isPowerOf2_simpleBruteForce (64)"
   ]
  },
  {
   "cell_type": "code",
   "execution_count": null,
   "id": "5250bf7d-e45d-49da-bb38-99fa761d99aa",
   "metadata": {},
   "outputs": [],
   "source": []
  },
  {
   "cell_type": "code",
   "execution_count": null,
   "id": "a5627ebc-682a-41c6-86e2-d6b11f8c489f",
   "metadata": {},
   "outputs": [],
   "source": []
  },
  {
   "cell_type": "markdown",
   "id": "8d11c162-d60b-4a6f-b2f5-2c3bb63e5b70",
   "metadata": {},
   "source": [
    "#### Brute Force Method - // and % operators\n",
    "A number can be checked for being an integral power of 2 in Brute force way by looping and repeatedly dividing by 2.\n",
    "A variation is to directly use Integer Floor Division to obtain an integer quotient to assign as current value to be divided by 2."
   ]
  },
  {
   "cell_type": "code",
   "execution_count": 47,
   "id": "588227a2-3f31-42fa-8dcb-269eabd36cd8",
   "metadata": {},
   "outputs": [],
   "source": [
    "def isPowerOf2_floorDivision_BruteForce(n):\n",
    "    ## If a number is less than or equal to zero, return False; 1 is 2^0, so it should return True\n",
    "    if n <= 0:\n",
    "        return False\n",
    "    \n",
    "    while n % 2 == 0:\n",
    "        n = n // 2\n",
    "        print(n)\n",
    "    \n",
    "    return n == 1"
   ]
  },
  {
   "cell_type": "code",
   "execution_count": 48,
   "id": "ecc8c434-0a59-47a8-bea3-54ae0b667fa1",
   "metadata": {},
   "outputs": [
    {
     "name": "stdout",
     "output_type": "stream",
     "text": [
      "32\n",
      "16\n",
      "8\n",
      "4\n",
      "2\n",
      "1\n"
     ]
    },
    {
     "data": {
      "text/plain": [
       "True"
      ]
     },
     "execution_count": 48,
     "metadata": {},
     "output_type": "execute_result"
    }
   ],
   "source": [
    "isPowerOf2_floorDivision_BruteForce(64)"
   ]
  },
  {
   "cell_type": "code",
   "execution_count": 49,
   "id": "61c6bc8f-942d-4807-892f-fd95012261c0",
   "metadata": {},
   "outputs": [
    {
     "data": {
      "text/plain": [
       "False"
      ]
     },
     "execution_count": 49,
     "metadata": {},
     "output_type": "execute_result"
    }
   ],
   "source": [
    "isPowerOf2_floorDivision_BruteForce(35)"
   ]
  },
  {
   "cell_type": "code",
   "execution_count": 50,
   "id": "d4cd2561-9ac0-4f0b-bd2d-434c76590043",
   "metadata": {},
   "outputs": [
    {
     "data": {
      "text/plain": [
       "True"
      ]
     },
     "execution_count": 50,
     "metadata": {},
     "output_type": "execute_result"
    }
   ],
   "source": [
    "isPowerOf2_floorDivision_BruteForce(1)"
   ]
  },
  {
   "cell_type": "code",
   "execution_count": 51,
   "id": "91bf6e26-011e-4493-8afc-8c99d426c572",
   "metadata": {},
   "outputs": [
    {
     "data": {
      "text/plain": [
       "False"
      ]
     },
     "execution_count": 51,
     "metadata": {},
     "output_type": "execute_result"
    }
   ],
   "source": [
    "isPowerOf2_floorDivision_BruteForce(-87)"
   ]
  },
  {
   "cell_type": "code",
   "execution_count": null,
   "id": "1e17e46c-b7dd-4ef7-a01b-720055825713",
   "metadata": {},
   "outputs": [],
   "source": []
  },
  {
   "cell_type": "code",
   "execution_count": null,
   "id": "d5c298c0-9810-4b6e-b49c-ef97c9ff992f",
   "metadata": {},
   "outputs": [],
   "source": []
  },
  {
   "cell_type": "code",
   "execution_count": null,
   "id": "e0aa87f8-d73c-4c76-b8a9-151151716455",
   "metadata": {},
   "outputs": [],
   "source": []
  },
  {
   "cell_type": "markdown",
   "id": "930f98e4-a00e-4bd3-95d9-2439a0ef6daa",
   "metadata": {},
   "source": [
    "#### Brute Force Method - divmod() function\n",
    "The built-in divmod() function can be used inside the loop to simultaneously obtain quotient and remainder.\n",
    "Since divmod() uses integral floor division (//), non-integer quotients are not obtained, so the check for integrer quotients is redundant."
   ]
  },
  {
   "cell_type": "code",
   "execution_count": 28,
   "id": "c1149295-ae15-4e95-9604-9da1cdfbe025",
   "metadata": {},
   "outputs": [],
   "source": [
    "def isPowerOf2_dvimod_BruteForce(n):\n",
    "    currentNumber = n\n",
    "    isPowerOf2 = True\n",
    "    remainder = 0\n",
    "\n",
    "    ## If a number is less than or equal to zero, return False; 1 is 2^0, so it should return True\n",
    "    if(n <= 0):\n",
    "        return False\n",
    "    \n",
    "    ## A preliminary check to verify input is a integer or a float with zero decimal places\n",
    "    if(isinstance(n, int) or (isinstance(n, float) and n.is_integer())): \n",
    "        while currentNumber != 1:\n",
    "            quotient, remainder = divmod (currentNumber, 2)\n",
    "            print(quotient, remainder)\n",
    "\n",
    "            ## Check if remainder is non-zero\n",
    "            if(remainder != 0):\n",
    "                isPowerOf2 = False\n",
    "                break\n",
    "            currentNumber = quotient\n",
    "    else:\n",
    "        isPowerOf2 = False\n",
    "\n",
    "    return isPowerOf2"
   ]
  },
  {
   "cell_type": "code",
   "execution_count": 29,
   "id": "e0099674-62f4-42b1-b3fd-aae598243060",
   "metadata": {},
   "outputs": [
    {
     "data": {
      "text/plain": [
       "False"
      ]
     },
     "execution_count": 29,
     "metadata": {},
     "output_type": "execute_result"
    }
   ],
   "source": [
    "isPowerOf2_dvimod_BruteForce (32.32)"
   ]
  },
  {
   "cell_type": "code",
   "execution_count": 30,
   "id": "a2c2eb9d-c771-4987-a510-620aa583fbcc",
   "metadata": {},
   "outputs": [
    {
     "name": "stdout",
     "output_type": "stream",
     "text": [
      "17 1\n"
     ]
    },
    {
     "data": {
      "text/plain": [
       "False"
      ]
     },
     "execution_count": 30,
     "metadata": {},
     "output_type": "execute_result"
    }
   ],
   "source": [
    "isPowerOf2_dvimod_BruteForce (35)"
   ]
  },
  {
   "cell_type": "code",
   "execution_count": 31,
   "id": "c1731944-b4fd-4276-8b20-7368f42694be",
   "metadata": {},
   "outputs": [
    {
     "name": "stdout",
     "output_type": "stream",
     "text": [
      "32 0\n",
      "16 0\n",
      "8 0\n",
      "4 0\n",
      "2 0\n",
      "1 0\n"
     ]
    },
    {
     "data": {
      "text/plain": [
       "True"
      ]
     },
     "execution_count": 31,
     "metadata": {},
     "output_type": "execute_result"
    }
   ],
   "source": [
    "isPowerOf2_dvimod_BruteForce (64)"
   ]
  },
  {
   "cell_type": "code",
   "execution_count": null,
   "id": "bd640e7f-3270-4288-945d-07f409b26378",
   "metadata": {},
   "outputs": [],
   "source": []
  },
  {
   "cell_type": "code",
   "execution_count": null,
   "id": "6f366507-8e0e-493b-a815-3a90e9557d06",
   "metadata": {},
   "outputs": [],
   "source": []
  },
  {
   "cell_type": "markdown",
   "id": "1aa4522f-78af-42c5-86ac-f893b46dae3d",
   "metadata": {},
   "source": [
    "#### math.log2() function\n",
    "math.log2() is a specialist variant of log() function with predefined base as 2.\n",
    "\n",
    "As with the generic math.log() function, this takes advantage of the fact that loga($a^n$) = n\n",
    "Hence, if a number is an integral power of 2 i.e. $2^n$, then log2($2^n$) would result in n which should be an integer."
   ]
  },
  {
   "cell_type": "code",
   "execution_count": 52,
   "id": "52c76baa-d04c-4e80-a235-8b0a513ebe7a",
   "metadata": {},
   "outputs": [],
   "source": [
    "import math\n",
    "\n",
    "def isPowerOf2_log2(n):\n",
    "    ## If a number is less than or equal to zero, return False; 1 is 2^0, so it should return True\n",
    "    if(n>=1):\n",
    "        return (math.log2(n).is_integer())       \n",
    "    else:\n",
    "        return False"
   ]
  },
  {
   "cell_type": "code",
   "execution_count": 53,
   "id": "32c534a8-19c2-4ed3-85b7-c7f4f5c5d46b",
   "metadata": {},
   "outputs": [
    {
     "data": {
      "text/plain": [
       "True"
      ]
     },
     "execution_count": 53,
     "metadata": {},
     "output_type": "execute_result"
    }
   ],
   "source": [
    "isPowerOf2_log2(32)"
   ]
  },
  {
   "cell_type": "code",
   "execution_count": 54,
   "id": "e69bda32-eede-4744-887f-5ffce3370a79",
   "metadata": {},
   "outputs": [
    {
     "data": {
      "text/plain": [
       "False"
      ]
     },
     "execution_count": 54,
     "metadata": {},
     "output_type": "execute_result"
    }
   ],
   "source": [
    "isPowerOf2_log2 (-64)"
   ]
  },
  {
   "cell_type": "code",
   "execution_count": 55,
   "id": "f5b0a494-1c96-4af0-8edb-bcf99950361a",
   "metadata": {},
   "outputs": [
    {
     "data": {
      "text/plain": [
       "True"
      ]
     },
     "execution_count": 55,
     "metadata": {},
     "output_type": "execute_result"
    }
   ],
   "source": [
    "isPowerOf2_log2(1)"
   ]
  },
  {
   "cell_type": "code",
   "execution_count": null,
   "id": "fffb72a4-64f3-43dc-b9f2-ee50312ee262",
   "metadata": {},
   "outputs": [],
   "source": []
  },
  {
   "cell_type": "code",
   "execution_count": null,
   "id": "b595ae92-85d1-4ec1-8fb0-51d58b069ef9",
   "metadata": {},
   "outputs": [],
   "source": []
  },
  {
   "cell_type": "code",
   "execution_count": null,
   "id": "2975a896-8c7c-4d0e-b65a-97a17b6a203d",
   "metadata": {},
   "outputs": [],
   "source": []
  }
 ],
 "metadata": {
  "kernelspec": {
   "display_name": "Python 3 (ipykernel)",
   "language": "python",
   "name": "python3"
  },
  "language_info": {
   "codemirror_mode": {
    "name": "ipython",
    "version": 3
   },
   "file_extension": ".py",
   "mimetype": "text/x-python",
   "name": "python",
   "nbconvert_exporter": "python",
   "pygments_lexer": "ipython3",
   "version": "3.13.2"
  }
 },
 "nbformat": 4,
 "nbformat_minor": 5
}
