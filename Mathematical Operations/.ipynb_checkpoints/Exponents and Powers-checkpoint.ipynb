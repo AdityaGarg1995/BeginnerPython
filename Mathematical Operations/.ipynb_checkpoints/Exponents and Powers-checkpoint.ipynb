{
 "cells": [
  {
   "cell_type": "code",
   "execution_count": null,
   "id": "b74065ac-d7f1-47e3-a36c-2057ef38ccbf",
   "metadata": {},
   "outputs": [],
   "source": []
  },
  {
   "cell_type": "code",
   "execution_count": null,
   "id": "c887386d-a189-4a4a-8774-1cc78c8fde9c",
   "metadata": {},
   "outputs": [],
   "source": []
  },
  {
   "cell_type": "markdown",
   "id": "a2663157-dcbe-4484-8994-42d787214ddd",
   "metadata": {},
   "source": [
    "## Verify if a number is a power of another number"
   ]
  },
  {
   "cell_type": "markdown",
   "id": "5102b435-bfd9-4909-8f25-3117a83a5947",
   "metadata": {},
   "source": [
    "### Verify if a number is a power of 2\n",
    "This applies for only natural numbers; negative integers are powers of complex numbers of the form '0 + ιn' -> So -4 is actually power of $(2ι)^2$"
   ]
  },
  {
   "cell_type": "markdown",
   "id": "139b3fcf-acb1-4ae3-b052-ffa4de8e9b03",
   "metadata": {},
   "source": [
    "#### Brute Force Method - / and % operators\n",
    "A number can be checked for being an integral power of 2 in Brute force way by looping and repeatedly dividing by 2."
   ]
  },
  {
   "cell_type": "code",
   "execution_count": 38,
   "id": "88d1a6d4-057c-440e-85da-807aa4a8836e",
   "metadata": {},
   "outputs": [],
   "source": [
    "def isPowerOf2_simpleBruteForce(n):\n",
    "    currentNumber = n\n",
    "    isPowerOf2 = True\n",
    "    remainder = 0\n",
    "\n",
    "    ## If a number is less than or equal to zero, return False; 1 is 2^0, so it should return True\n",
    "    if(n <= 0):\n",
    "        return False\n",
    "    \n",
    "    ## A preliminary check to verify input is a integer or a float with zero decimal places\n",
    "    if(isinstance(n, int) or (isinstance(n, float) and n.is_integer())): \n",
    "        while currentNumber != 1:\n",
    "            quotient, remainder = currentNumber/2, currentNumber%2\n",
    "            print(quotient, remainder)\n",
    "            ## If either remainder is non-zero or the obtained quotient is non-integer, the input number cannot be a power of 2\n",
    "            if(remainder != 0 or not quotient.is_integer()):\n",
    "                isPowerOf2 = False\n",
    "                break\n",
    "            currentNumber = quotient\n",
    "    else:\n",
    "        isPowerOf2 = False\n",
    "\n",
    "    return isPowerOf2"
   ]
  },
  {
   "cell_type": "code",
   "execution_count": 39,
   "id": "5bfb732e-7262-4c43-b41e-334d3d5ba12b",
   "metadata": {},
   "outputs": [
    {
     "data": {
      "text/plain": [
       "False"
      ]
     },
     "execution_count": 39,
     "metadata": {},
     "output_type": "execute_result"
    }
   ],
   "source": [
    "isPowerOf2_simpleBruteForce (32.32)"
   ]
  },
  {
   "cell_type": "code",
   "execution_count": 40,
   "id": "1f18a5d3-26be-43ca-97d0-9f9eee55f3ab",
   "metadata": {},
   "outputs": [
    {
     "name": "stdout",
     "output_type": "stream",
     "text": [
      "17.5 1\n"
     ]
    },
    {
     "data": {
      "text/plain": [
       "False"
      ]
     },
     "execution_count": 40,
     "metadata": {},
     "output_type": "execute_result"
    }
   ],
   "source": [
    "isPowerOf2_simpleBruteForce (35)"
   ]
  },
  {
   "cell_type": "code",
   "execution_count": 41,
   "id": "e635bc90-9e5b-45e6-a033-473241a03edf",
   "metadata": {},
   "outputs": [
    {
     "name": "stdout",
     "output_type": "stream",
     "text": [
      "32.0 0\n",
      "16.0 0.0\n",
      "8.0 0.0\n",
      "4.0 0.0\n",
      "2.0 0.0\n",
      "1.0 0.0\n"
     ]
    },
    {
     "data": {
      "text/plain": [
       "True"
      ]
     },
     "execution_count": 41,
     "metadata": {},
     "output_type": "execute_result"
    }
   ],
   "source": [
    "isPowerOf2_simpleBruteForce (64)"
   ]
  },
  {
   "cell_type": "code",
   "execution_count": null,
   "id": "5250bf7d-e45d-49da-bb38-99fa761d99aa",
   "metadata": {},
   "outputs": [],
   "source": []
  },
  {
   "cell_type": "code",
   "execution_count": null,
   "id": "a5627ebc-682a-41c6-86e2-d6b11f8c489f",
   "metadata": {},
   "outputs": [],
   "source": []
  },
  {
   "cell_type": "markdown",
   "id": "8d11c162-d60b-4a6f-b2f5-2c3bb63e5b70",
   "metadata": {},
   "source": [
    "#### Brute Force Method - // and % operators\n",
    "A number can be checked for being an integral power of 2 in Brute force way by looping and repeatedly dividing by 2.\n",
    "A variation is to directly use Integer Floor Division to obtain an integer quotient to assign as current value to be divided by 2."
   ]
  },
  {
   "cell_type": "code",
   "execution_count": 47,
   "id": "588227a2-3f31-42fa-8dcb-269eabd36cd8",
   "metadata": {},
   "outputs": [],
   "source": [
    "def isPowerOf2_floorDivision_BruteForce(n):\n",
    "    ## If a number is less than or equal to zero, return False; 1 is 2^0, so it should return True\n",
    "    if n <= 0:\n",
    "        return False\n",
    "    \n",
    "    while n % 2 == 0:\n",
    "        n = n // 2\n",
    "        print(n)\n",
    "    \n",
    "    return n == 1"
   ]
  },
  {
   "cell_type": "code",
   "execution_count": 48,
   "id": "ecc8c434-0a59-47a8-bea3-54ae0b667fa1",
   "metadata": {},
   "outputs": [
    {
     "name": "stdout",
     "output_type": "stream",
     "text": [
      "32\n",
      "16\n",
      "8\n",
      "4\n",
      "2\n",
      "1\n"
     ]
    },
    {
     "data": {
      "text/plain": [
       "True"
      ]
     },
     "execution_count": 48,
     "metadata": {},
     "output_type": "execute_result"
    }
   ],
   "source": [
    "isPowerOf2_floorDivision_BruteForce(64)"
   ]
  },
  {
   "cell_type": "code",
   "execution_count": 49,
   "id": "61c6bc8f-942d-4807-892f-fd95012261c0",
   "metadata": {},
   "outputs": [
    {
     "data": {
      "text/plain": [
       "False"
      ]
     },
     "execution_count": 49,
     "metadata": {},
     "output_type": "execute_result"
    }
   ],
   "source": [
    "isPowerOf2_floorDivision_BruteForce(35)"
   ]
  },
  {
   "cell_type": "code",
   "execution_count": 50,
   "id": "d4cd2561-9ac0-4f0b-bd2d-434c76590043",
   "metadata": {},
   "outputs": [
    {
     "data": {
      "text/plain": [
       "True"
      ]
     },
     "execution_count": 50,
     "metadata": {},
     "output_type": "execute_result"
    }
   ],
   "source": [
    "isPowerOf2_floorDivision_BruteForce(1)"
   ]
  },
  {
   "cell_type": "code",
   "execution_count": 51,
   "id": "91bf6e26-011e-4493-8afc-8c99d426c572",
   "metadata": {},
   "outputs": [
    {
     "data": {
      "text/plain": [
       "False"
      ]
     },
     "execution_count": 51,
     "metadata": {},
     "output_type": "execute_result"
    }
   ],
   "source": [
    "isPowerOf2_floorDivision_BruteForce(-87)"
   ]
  },
  {
   "cell_type": "code",
   "execution_count": null,
   "id": "1e17e46c-b7dd-4ef7-a01b-720055825713",
   "metadata": {},
   "outputs": [],
   "source": []
  },
  {
   "cell_type": "code",
   "execution_count": null,
   "id": "d5c298c0-9810-4b6e-b49c-ef97c9ff992f",
   "metadata": {},
   "outputs": [],
   "source": []
  },
  {
   "cell_type": "code",
   "execution_count": null,
   "id": "e0aa87f8-d73c-4c76-b8a9-151151716455",
   "metadata": {},
   "outputs": [],
   "source": []
  },
  {
   "cell_type": "markdown",
   "id": "930f98e4-a00e-4bd3-95d9-2439a0ef6daa",
   "metadata": {},
   "source": [
    "#### Brute Force Method - divmod() function\n",
    "The built-in divmod() function can be used inside the loop to simultaneously obtain quotient and remainder.\n",
    "Since divmod() uses integral floor division (//), non-integer quotients are not obtained, so the check for integrer quotients is redundant."
   ]
  },
  {
   "cell_type": "code",
   "execution_count": 28,
   "id": "c1149295-ae15-4e95-9604-9da1cdfbe025",
   "metadata": {},
   "outputs": [],
   "source": [
    "def isPowerOf2_dvimod_BruteForce(n):\n",
    "    currentNumber = n\n",
    "    isPowerOf2 = True\n",
    "    remainder = 0\n",
    "\n",
    "    ## If a number is less than or equal to zero, return False; 1 is 2^0, so it should return True\n",
    "    if(n <= 0):\n",
    "        return False\n",
    "    \n",
    "    ## A preliminary check to verify input is a integer or a float with zero decimal places\n",
    "    if(isinstance(n, int) or (isinstance(n, float) and n.is_integer())): \n",
    "        while currentNumber != 1:\n",
    "            quotient, remainder = divmod (currentNumber, 2)\n",
    "            print(quotient, remainder)\n",
    "\n",
    "            ## Check if remainder is non-zero\n",
    "            if(remainder != 0):\n",
    "                isPowerOf2 = False\n",
    "                break\n",
    "            currentNumber = quotient\n",
    "    else:\n",
    "        isPowerOf2 = False\n",
    "\n",
    "    return isPowerOf2"
   ]
  },
  {
   "cell_type": "code",
   "execution_count": 29,
   "id": "e0099674-62f4-42b1-b3fd-aae598243060",
   "metadata": {},
   "outputs": [
    {
     "data": {
      "text/plain": [
       "False"
      ]
     },
     "execution_count": 29,
     "metadata": {},
     "output_type": "execute_result"
    }
   ],
   "source": [
    "isPowerOf2_dvimod_BruteForce (32.32)"
   ]
  },
  {
   "cell_type": "code",
   "execution_count": 30,
   "id": "a2c2eb9d-c771-4987-a510-620aa583fbcc",
   "metadata": {},
   "outputs": [
    {
     "name": "stdout",
     "output_type": "stream",
     "text": [
      "17 1\n"
     ]
    },
    {
     "data": {
      "text/plain": [
       "False"
      ]
     },
     "execution_count": 30,
     "metadata": {},
     "output_type": "execute_result"
    }
   ],
   "source": [
    "isPowerOf2_dvimod_BruteForce (35)"
   ]
  },
  {
   "cell_type": "code",
   "execution_count": 31,
   "id": "c1731944-b4fd-4276-8b20-7368f42694be",
   "metadata": {},
   "outputs": [
    {
     "name": "stdout",
     "output_type": "stream",
     "text": [
      "32 0\n",
      "16 0\n",
      "8 0\n",
      "4 0\n",
      "2 0\n",
      "1 0\n"
     ]
    },
    {
     "data": {
      "text/plain": [
       "True"
      ]
     },
     "execution_count": 31,
     "metadata": {},
     "output_type": "execute_result"
    }
   ],
   "source": [
    "isPowerOf2_dvimod_BruteForce (64)"
   ]
  },
  {
   "cell_type": "code",
   "execution_count": null,
   "id": "bd640e7f-3270-4288-945d-07f409b26378",
   "metadata": {},
   "outputs": [],
   "source": []
  },
  {
   "cell_type": "code",
   "execution_count": null,
   "id": "6f366507-8e0e-493b-a815-3a90e9557d06",
   "metadata": {},
   "outputs": [],
   "source": []
  },
  {
   "cell_type": "markdown",
   "id": "1aa4522f-78af-42c5-86ac-f893b46dae3d",
   "metadata": {},
   "source": [
    "#### math.log2() function\n",
    "This takes advantage of the fact that loga($a^n$) = n\n",
    "Hence, if a number is an integral power of 2 i.e. $2^n$, then log2($2^n$) would result in n which should be an integer."
   ]
  },
  {
   "cell_type": "code",
   "execution_count": 52,
   "id": "52c76baa-d04c-4e80-a235-8b0a513ebe7a",
   "metadata": {},
   "outputs": [],
   "source": [
    "import math\n",
    "\n",
    "def isPowerOf2_log2(n):\n",
    "    ## If a number is less than or equal to zero, return False; 1 is 2^0, so it should return True\n",
    "    if(n>=1):\n",
    "        return (math.log2(n).is_integer())       \n",
    "    else:\n",
    "        return False"
   ]
  },
  {
   "cell_type": "code",
   "execution_count": 53,
   "id": "32c534a8-19c2-4ed3-85b7-c7f4f5c5d46b",
   "metadata": {},
   "outputs": [
    {
     "data": {
      "text/plain": [
       "True"
      ]
     },
     "execution_count": 53,
     "metadata": {},
     "output_type": "execute_result"
    }
   ],
   "source": [
    "isPowerOf2_log2(32)"
   ]
  },
  {
   "cell_type": "code",
   "execution_count": 54,
   "id": "e69bda32-eede-4744-887f-5ffce3370a79",
   "metadata": {},
   "outputs": [
    {
     "data": {
      "text/plain": [
       "False"
      ]
     },
     "execution_count": 54,
     "metadata": {},
     "output_type": "execute_result"
    }
   ],
   "source": [
    "isPowerOf2_log2 (-64)"
   ]
  },
  {
   "cell_type": "code",
   "execution_count": 55,
   "id": "f5b0a494-1c96-4af0-8edb-bcf99950361a",
   "metadata": {},
   "outputs": [
    {
     "data": {
      "text/plain": [
       "True"
      ]
     },
     "execution_count": 55,
     "metadata": {},
     "output_type": "execute_result"
    }
   ],
   "source": [
    "isPowerOf2_log2(1)"
   ]
  },
  {
   "cell_type": "code",
   "execution_count": null,
   "id": "fffb72a4-64f3-43dc-b9f2-ee50312ee262",
   "metadata": {},
   "outputs": [],
   "source": []
  }
 ],
 "metadata": {
  "kernelspec": {
   "display_name": "Python 3 (ipykernel)",
   "language": "python",
   "name": "python3"
  },
  "language_info": {
   "codemirror_mode": {
    "name": "ipython",
    "version": 3
   },
   "file_extension": ".py",
   "mimetype": "text/x-python",
   "name": "python",
   "nbconvert_exporter": "python",
   "pygments_lexer": "ipython3",
   "version": "3.13.2"
  }
 },
 "nbformat": 4,
 "nbformat_minor": 5
}
