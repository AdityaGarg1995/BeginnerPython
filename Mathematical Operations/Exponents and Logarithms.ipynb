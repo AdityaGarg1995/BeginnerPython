{
 "cells": [
  {
   "cell_type": "code",
   "execution_count": null,
   "id": "b74065ac-d7f1-47e3-a36c-2057ef38ccbf",
   "metadata": {},
   "outputs": [],
   "source": []
  },
  {
   "cell_type": "markdown",
   "id": "df72680b-60c3-43b4-a90a-85ad725c1de2",
   "metadata": {},
   "source": [
    "#### Terminology\n",
    "\n",
    "**Exponentiation**\n",
    "[Exponentiation](https://en.wikipedia.org/wiki/Exponentiation) denoted $b^n$, is an operation involving two numbers: the base, b, and the exponent or power, n.\n",
    "\n",
    "**nth root**\n",
    "[nth root](https://en.wikipedia.org/wiki/Nth_root) of a number $x$ is a number $r$  which, when raised to the power of $n$, yields $x$: $r^n$ = $x$\n",
    "nth root of a number $x$ is equivalent to exponentiation of $x$ with power $1/n$: $^n√x$ = $x^{1/n}$ \n",
    "\n",
    "\n",
    "**Logarithm**\n",
    "[Logarithm](https://en.wikipedia.org/wiki/Logarithm) of a number is the exponent by which another fixed value, the base, must be raised to produce that number.\n",
    "If $x$ = $b^y$, then $y$ = $log_b(x)$"
   ]
  },
  {
   "cell_type": "markdown",
   "id": "a2663157-dcbe-4484-8994-42d787214ddd",
   "metadata": {},
   "source": [
    "# Exponentiation\n",
    "Exponentiation can be performed using either of the following:\n",
    "\n",
    "1. Built-in Exponentiation operators and functions\n",
    "- built-in Exponentiation operator ($**$)\n",
    "    - specialised built-in exponentiation operator $e$ -> $xey$ generates $x * 10^y$ for x >= 0\n",
    "- built-in $pow(x, y, mod=None)$ function\n",
    "\n",
    "2. Built-in math library functions\n",
    "- built-in $math.pow(x, y)$ function -> if $x$ < 0 then $y$ should be > 1\n",
    "    - specialised $math.exp(x)$ generates $e^x$ where $e$ = 2.718281… is the base of natural logarithms. <br>\n",
    "      This is usually more accurate than math.e ** x or pow(math.e, x).\n",
    "    - specialised $math.exp2(x)$ generates $2^x$\n",
    "    - specialised $math.expm1(x)$ generates $e^x - 1$ while *maintaining precision* ; $exp(x) - 1$ for small $x$ can result in loss of precision in Python\n",
    "\n",
    "\n",
    "3. Built-in cmath library functions\n",
    "- $cmath.exp(x)$ generates $e^x$ where $e$ = 2.718281… is the base of natural logarithms. <br>\n",
    "\n",
    "\n",
    "4. numpy library functions\n",
    "- $np.pow(x, y)$ ≡ $np.power(x, y)$ returns ${x^y}$ : First array elements raised to powers from second array, element-wise.\n",
    "- $np.exp(x)$ returns ${e^x}$ for all elements in $x$\n",
    "    - specialised $np.exp2(x)$ returns ${2^x}$ for all elements in $x$\n",
    "    - specialised $np.expm1(x)$ returns ${e^x} - 1$ for all elements in $x$\n"
   ]
  },
  {
   "cell_type": "code",
   "execution_count": 83,
   "id": "91a08c89-917e-422a-87a9-080d79c2e2bb",
   "metadata": {},
   "outputs": [
    {
     "name": "stdout",
     "output_type": "stream",
     "text": [
      "Help on built-in function pow in module builtins:\n",
      "\n",
      "pow(base, exp, mod=None)\n",
      "    Equivalent to base**exp with 2 arguments or base**exp % mod with 3 arguments\n",
      "\n",
      "    Some types, such as ints, are able to use a more efficient algorithm when\n",
      "    invoked using the three argument form.\n",
      "\n"
     ]
    }
   ],
   "source": [
    "help(pow)"
   ]
  },
  {
   "cell_type": "code",
   "execution_count": 26,
   "id": "cf3167b2-a0e9-49a4-bab3-b54527306569",
   "metadata": {},
   "outputs": [
    {
     "name": "stdout",
     "output_type": "stream",
     "text": [
      "Help on built-in function pow in module math:\n",
      "\n",
      "pow(x, y, /)\n",
      "    Return x**y (x to the power of y).\n",
      "\n"
     ]
    }
   ],
   "source": [
    "help(math.pow)"
   ]
  },
  {
   "cell_type": "code",
   "execution_count": 29,
   "id": "00b03495-b5a5-4054-a445-c96977c34c70",
   "metadata": {},
   "outputs": [
    {
     "name": "stdout",
     "output_type": "stream",
     "text": [
      "Help on built-in function exp in module math:\n",
      "\n",
      "exp(x, /)\n",
      "    Return e raised to the power of x.\n",
      "\n"
     ]
    }
   ],
   "source": [
    "help(math.exp)"
   ]
  },
  {
   "cell_type": "code",
   "execution_count": 31,
   "id": "121c8e37-137e-4fa2-a0b6-d0f7912b49dc",
   "metadata": {},
   "outputs": [
    {
     "name": "stdout",
     "output_type": "stream",
     "text": [
      "Help on built-in function exp2 in module math:\n",
      "\n",
      "exp2(x, /)\n",
      "    Return 2 raised to the power of x.\n",
      "\n"
     ]
    }
   ],
   "source": [
    "help(math.exp2)"
   ]
  },
  {
   "cell_type": "code",
   "execution_count": 32,
   "id": "2283580e-7056-4d72-9dca-39d2fc5e88ad",
   "metadata": {},
   "outputs": [
    {
     "name": "stdout",
     "output_type": "stream",
     "text": [
      "Help on built-in function expm1 in module math:\n",
      "\n",
      "expm1(x, /)\n",
      "    Return exp(x)-1.\n",
      "\n",
      "    This function avoids the loss of precision involved in the direct evaluation of exp(x)-1 for small x.\n",
      "\n"
     ]
    }
   ],
   "source": [
    "help(math.expm1)"
   ]
  },
  {
   "cell_type": "code",
   "execution_count": 23,
   "id": "5ba94dbc-3d43-42f4-9689-a03486bb5292",
   "metadata": {},
   "outputs": [
    {
     "name": "stdout",
     "output_type": "stream",
     "text": [
      "Help on built-in function exp in module cmath:\n",
      "\n",
      "exp(z, /)\n",
      "    Return the exponential value e**z.\n",
      "\n"
     ]
    }
   ],
   "source": [
    "import cmath\n",
    "help(cmath.exp)"
   ]
  },
  {
   "cell_type": "code",
   "execution_count": null,
   "id": "0c2ccc7a-85bc-493b-82f5-6ad44dd44d7c",
   "metadata": {},
   "outputs": [],
   "source": []
  },
  {
   "cell_type": "code",
   "execution_count": null,
   "id": "a3432f33-7125-485e-aa57-234949ff5590",
   "metadata": {},
   "outputs": [],
   "source": []
  },
  {
   "cell_type": "code",
   "execution_count": null,
   "id": "bec7300c-39e7-421b-9d53-064b2a4fb262",
   "metadata": {},
   "outputs": [],
   "source": []
  },
  {
   "cell_type": "code",
   "execution_count": null,
   "id": "a4ed4f4a-6ab7-43e3-94d4-2b4e9e99927f",
   "metadata": {},
   "outputs": [],
   "source": []
  },
  {
   "cell_type": "markdown",
   "id": "7f9b322b-7e0c-493b-b1c4-10c7e5125b4a",
   "metadata": {},
   "source": [
    "## Built-in Exponentiation Operators"
   ]
  },
  {
   "cell_type": "markdown",
   "id": "8ec18835-ec00-47fb-aa1a-3d27fdd51b43",
   "metadata": {},
   "source": [
    "### $**$ Operator\n",
    "\n",
    "$x**y$ is evaluated as $x^y$.\n",
    "\n",
    "If the base $x$ is a negative number, it should be enclosed in brackets.\n",
    "Otherwise ** operator assumes the negative sign as unary negation of the result, and calculates the exponent of the magnitude of the number.\n",
    "\n",
    "i.e. if $x$ = $-w$, then $x**y$ is actually calculated as $-(w**y)$, while $(x)**y$ is correctly calculated."
   ]
  },
  {
   "cell_type": "code",
   "execution_count": 103,
   "id": "53a8bbe2-76d7-4011-87a7-a86973ec8327",
   "metadata": {},
   "outputs": [
    {
     "name": "stdout",
     "output_type": "stream",
     "text": [
      "2**4: 16\n",
      "8**(1/3):  2.0\n",
      "16**0:  1\n",
      "-7**0.5:  -2.6457513110645907\n",
      "(-7)**0.5:  (1.6200554372175822e-16+2.6457513110645907j)\n",
      "-7**4:  -2401\n",
      "(-7)**4:  2401\n"
     ]
    }
   ],
   "source": [
    "## m = 2, k = 4, to yield 2^4 = 16\n",
    "print(\"2**4:\", 2**4)\n",
    "\n",
    "## m = 8, k = 1/3, to yield 3rd root of 8 = 2\n",
    "print(\"8**(1/3): \", 8**(1/3))\n",
    "\n",
    "## m = 16, k = 0, to yield 16^0 = 1 [for integer x != 0, x^0 = 1]\n",
    "print(\"16**0: \", 16**0)\n",
    "\n",
    "## If a negative number is to be given as base, it should be enclosed in brackets.\n",
    "## Otherwise ** operator assumes the negative sign as unary negation of the result, and calculates the exponent of the magnitude of the number.\n",
    "\n",
    "print(\"-7**0.5: \", -7**0.5) ## Calculated as -(7^0.5)\n",
    "print(\"(-7)**0.5: \", (-7)**0.5)  ## Calculated as (-7)^0.5, Yields a complex number\n",
    "\n",
    "print(\"-7**4: \", -7**4) ## Calculated as -(7^4)\n",
    "print(\"(-7)**4: \", (-7)**4)  ## Calculated as (-7)^4"
   ]
  },
  {
   "cell_type": "code",
   "execution_count": null,
   "id": "424ceebc-4389-418e-a0e6-e73c1d059c53",
   "metadata": {},
   "outputs": [],
   "source": []
  },
  {
   "cell_type": "code",
   "execution_count": null,
   "id": "fe2b2331-c4ed-424f-87e1-e5284721b5bd",
   "metadata": {},
   "outputs": [],
   "source": []
  },
  {
   "cell_type": "markdown",
   "id": "df0e27f4-323d-422a-aced-dffe2882f6d1",
   "metadata": {},
   "source": [
    "### $e$ operator a.k.a. $E$ operator\n",
    "$xey$ generates $x * 10^y$ for $x$ >= 0. The output is always float.\n",
    "- $x$ cannot be negative; if  negative number is given in parenthesis the literal e is not evaluated as an operator, and therefore results in error.\n",
    "  - If $x$ is given as an imaginary number i.e. $x=aj$, the literal is not evaluated but raises $SyntaxError$.\n",
    "- $y$, the exponent, can be a negative number\n",
    "  - If $y$ is given as an imaginary number i.e. $y=bj$, the literal is actually evaluated $xeb$ and the result is an imaginary number $(x*10^b)j$. \n",
    "- $xey$ can only evaluate for actual numbers and not variables\n",
    "\n",
    "<font color=\"orange\"> **Note:** Python returns an output in most economical way, hence, the outputs for negative exponents or large exponents can result in scientific notation output </font>"
   ]
  },
  {
   "cell_type": "code",
   "execution_count": 11,
   "id": "945c7171-be24-4a4e-bdc3-d45294b9ce3e",
   "metadata": {},
   "outputs": [
    {
     "name": "stdout",
     "output_type": "stream",
     "text": [
      "2e2 =  250.0\n",
      "1e3 =  1000.0\n",
      "2e-5 =  2e-05\n",
      "0e6 =  0.0\n",
      "0E6 =  0.0\n"
     ]
    }
   ],
   "source": [
    "print(\"2.5e2 = \", 2.5e2)\n",
    "print(\"1e3 = \", 1e3)\n",
    "print(\"2e-5 = \",  2e-5)\n",
    "print(\"0e6 = \", 0e6)\n",
    "print(\"0E6 = \", 0e6)"
   ]
  },
  {
   "cell_type": "code",
   "execution_count": 6,
   "id": "49017b57-6a2e-4efb-a31d-0eed149cb1ee",
   "metadata": {},
   "outputs": [
    {
     "ename": "SyntaxError",
     "evalue": "invalid imaginary literal (4026480678.py, line 1)",
     "output_type": "error",
     "traceback": [
      "  \u001b[36mCell\u001b[39m\u001b[36m \u001b[39m\u001b[32mIn[6]\u001b[39m\u001b[32m, line 1\u001b[39m\n\u001b[31m    \u001b[39m\u001b[31mprint(2je2)\u001b[39m\n           ^\n\u001b[31mSyntaxError\u001b[39m\u001b[31m:\u001b[39m invalid imaginary literal\n"
     ]
    }
   ],
   "source": [
    "print(2je2)"
   ]
  },
  {
   "cell_type": "code",
   "execution_count": 8,
   "id": "a81df02b-181c-4f24-8b5d-7f750ac13dfe",
   "metadata": {},
   "outputs": [
    {
     "ename": "SyntaxError",
     "evalue": "invalid syntax. Perhaps you forgot a comma? (2210065210.py, line 1)",
     "output_type": "error",
     "traceback": [
      "  \u001b[36mCell\u001b[39m\u001b[36m \u001b[39m\u001b[32mIn[8]\u001b[39m\u001b[32m, line 1\u001b[39m\n\u001b[31m    \u001b[39m\u001b[31mprint((2j)e2)\u001b[39m\n           ^\n\u001b[31mSyntaxError\u001b[39m\u001b[31m:\u001b[39m invalid syntax. Perhaps you forgot a comma?\n"
     ]
    }
   ],
   "source": [
    "print((2j)e2)"
   ]
  },
  {
   "cell_type": "code",
   "execution_count": null,
   "id": "ed2ad1f3-01a8-4ec9-8010-b67a499865b7",
   "metadata": {},
   "outputs": [],
   "source": []
  },
  {
   "cell_type": "code",
   "execution_count": 12,
   "id": "fc243cbd-bff7-46fb-b464-be79c4ccef2b",
   "metadata": {},
   "outputs": [
    {
     "name": "stdout",
     "output_type": "stream",
     "text": [
      "2e2j:  200j\n",
      "pow(2, 2j):  (0.9577504018971789-0.28760070873659604j)\n"
     ]
    }
   ],
   "source": [
    "## Comparison of xey and pow(x,y) when y is an imaginary number\n",
    "print(\"2e2j: \", 2e2j)\n",
    "print(\"pow(2, 2j): \", pow(20, 2j))"
   ]
  },
  {
   "cell_type": "code",
   "execution_count": null,
   "id": "923107b5-e5bb-4926-97e8-016e549658f5",
   "metadata": {},
   "outputs": [],
   "source": []
  },
  {
   "cell_type": "code",
   "execution_count": 16,
   "id": "a18ea92e-08ae-4ad0-9c37-d106a43602ae",
   "metadata": {},
   "outputs": [
    {
     "ename": "NameError",
     "evalue": "name 'xey' is not defined",
     "output_type": "error",
     "traceback": [
      "\u001b[31m---------------------------------------------------------------------------\u001b[39m",
      "\u001b[31mNameError\u001b[39m                                 Traceback (most recent call last)",
      "\u001b[36mCell\u001b[39m\u001b[36m \u001b[39m\u001b[32mIn[16]\u001b[39m\u001b[32m, line 3\u001b[39m\n\u001b[32m      1\u001b[39m x = -\u001b[32m2\u001b[39m\n\u001b[32m      2\u001b[39m y = -\u001b[32m3\u001b[39m\n\u001b[32m----> \u001b[39m\u001b[32m3\u001b[39m \u001b[38;5;28mprint\u001b[39m(xey)\n",
      "\u001b[31mNameError\u001b[39m: name 'xey' is not defined"
     ]
    }
   ],
   "source": [
    "x = -2\n",
    "y = -3\n",
    "print(xEy)"
   ]
  },
  {
   "cell_type": "code",
   "execution_count": null,
   "id": "5342e0ca-6ce6-4970-bbe5-f36e0beb9f66",
   "metadata": {},
   "outputs": [],
   "source": []
  },
  {
   "cell_type": "code",
   "execution_count": null,
   "id": "33a2897a-1e78-442c-b104-38234b7bc057",
   "metadata": {},
   "outputs": [],
   "source": []
  },
  {
   "cell_type": "markdown",
   "id": "43c26292-8172-4701-9458-ad9c59dad69c",
   "metadata": {},
   "source": [
    "### $pow()$ function\n",
    "$pow(x,y,mod=None)$ function takes 2 or 3 arguments: a required base, a required exponent and an optional modulus.\n",
    "\n",
    "x and y can be positive or negative, and can be real, imaginary or complex numbers. If either or both of x and y are complex, the result is a complex number - if the result evaluates as a real number, the output is of the form `real number + 0j`."
   ]
  },
  {
   "cell_type": "code",
   "execution_count": 22,
   "id": "cfde1c5c-1b3e-4866-adf3-83741a631658",
   "metadata": {},
   "outputs": [
    {
     "name": "stdout",
     "output_type": "stream",
     "text": [
      "pow(2, 4):  16\n",
      "pow(8, 1/3):  2.0\n",
      "pow(16, 0):  1\n",
      "pow(-7, 3):  -343\n",
      "pow(-9, 2):  81\n",
      "pow(-7, 0.5):  (1.6200554372175822e-16+2.6457513110645907j)\n",
      "pow(-8, -0.5):  (2.1648901405887335e-17-0.3535533905932738j)\n"
     ]
    }
   ],
   "source": [
    "print(\"pow(2, 4): \", pow(2, 4)) \n",
    "print(\"pow(8, 1/3): \", pow(8, 1/3))\n",
    "print(\"pow(16, 0): \", pow(16, 0))\n",
    "print(\"pow(-7, 3): \", pow(-7, 3))\n",
    "print(\"pow(-9, 2): \", pow(-9, 2))\n",
    "print(\"pow(-7, 0.5): \", pow(-7, 0.5)) ## Yields a complex number\n",
    "print(\"pow(-8, -0.5): \", pow(-8, -0.5)) ## Yields a complex number"
   ]
  },
  {
   "cell_type": "code",
   "execution_count": null,
   "id": "e0ea8a3f-e7c1-4e1d-9aa2-59e9f19d4090",
   "metadata": {},
   "outputs": [],
   "source": []
  },
  {
   "cell_type": "code",
   "execution_count": 15,
   "id": "b7e6a7d5-c9e1-423b-986e-bdebc95bfed9",
   "metadata": {},
   "outputs": [
    {
     "name": "stdout",
     "output_type": "stream",
     "text": [
      "pow(2, 4j):  (-0.9326870768360711+0.360686590689181j)\n",
      "pow(8j, 1/3):  (1.7320508075688774+0.9999999999999999j)\n",
      "pow(16, 0j):  (1+0j)\n",
      "pow(16j, 2):  (-256+0j)\n",
      "pow(-7 + 2j, 3):  (-259+286j)\n",
      "pow(9+10j, 2):  (-19+180j)\n",
      "pow(8-11j, -5):  (-5.1315214100054895e-09-2.148173920908494e-06j)\n",
      "pow(1+2j, 3+4j):  (0.12900959407446697+0.03392409290517014j)\n",
      "pow(5-6j, -7+8j):  (-0.000520199649249867-0.00034436346190918515j)\n"
     ]
    }
   ],
   "source": [
    "print(\"pow(2, 4j): \", pow(2, 4j)) \n",
    "print(\"pow(8j, 1/3): \", pow(8j, 1/3))\n",
    "print(\"pow(16, 0j): \", pow(16, 0j))\n",
    "print(\"pow(16j, 2): \", pow(16j, 2))\n",
    "\n",
    "print(\"pow(-7 + 2j, 3): \", pow(-7 + 2j, 3))\n",
    "print(\"pow(9+10j, 2): \", pow(9+10j, 2))\n",
    "print(\"pow(8-11j, -5): \", pow(8-11j, -5))\n",
    "\n",
    "print(\"pow(1+2j, 3+4j): \", pow(1+2j, 3+4j))\n",
    "print(\"pow(5-6j, -7+8j): \", pow(5-6j, -7+8j))"
   ]
  },
  {
   "cell_type": "code",
   "execution_count": null,
   "id": "691799d2-9f06-4e5f-bbee-fbee98c97f4a",
   "metadata": {},
   "outputs": [],
   "source": []
  },
  {
   "cell_type": "code",
   "execution_count": null,
   "id": "4eb31e04-67b0-4489-914d-fb6b41e4f259",
   "metadata": {},
   "outputs": [],
   "source": []
  },
  {
   "cell_type": "markdown",
   "id": "7a4ee252-1ce2-49a0-9324-a4c8f36899e9",
   "metadata": {},
   "source": [
    "## Built-in math library exponentiation functions\n",
    "\n",
    "Built-in math Library has following exponentiation functions, which take only real numbers as inputs, and can only output real numbers. If the exponentiation of real number oytputs results in a complex number, a math domain error is raised.\n",
    "\n",
    "- $math.pow(x,y)$ function takes 2 arguments: a required base and a required exponent -> if base $x$ < 0 then exponent $y$ should not be fraction.\n",
    "    - specialised $math.exp(x)$ generates $e^x$ where $e$ = 2.718281… is the base of natural logarithms. <br>\n",
    "          This is usually more accurate than math.e ** x or pow(math.e, x).\n",
    "    - specialised $math.exp2(x)$ generates $2^x$\n",
    "    - specialised $math.expm1(x)$ generates $e^x - 1$ while *maintaining precision* ; $exp(x) - 1$ for small $x$ can result in loss of precision in Python"
   ]
  },
  {
   "cell_type": "markdown",
   "id": "5d152e2b-786a-4009-b40b-71e3f97a4173",
   "metadata": {},
   "source": [
    "### $math.pow(x,y)$ function\n",
    "Unlike built-in $pow()$ function, this function cannot output complex numbers, and therefore can accept only real numbers as input, whose exponentiation also yields real numbers.\n",
    "\n",
    "If base $x$ < 0 then exponent $y$ should not be fraction."
   ]
  },
  {
   "cell_type": "code",
   "execution_count": 17,
   "id": "85ee4c9d-9b09-4e98-91b9-197ab366956d",
   "metadata": {},
   "outputs": [
    {
     "name": "stdout",
     "output_type": "stream",
     "text": [
      "pow(2, 4):  16.0\n",
      "pow(8, 1/3):  2.0\n",
      "pow(16, 0):  1.0\n",
      "pow(-7, 3):  -343.0\n",
      "pow(-9, 2):  81.0\n"
     ]
    }
   ],
   "source": [
    "import math\n",
    "\n",
    "print(\"math.pow(2, 4): \", math.pow(2, 4)) \n",
    "print(\"math.pow(8, 1/3): \", math.pow(8, 1/3))\n",
    "print(\"math.pow(16, 0): \", math.pow(16, 0))\n",
    "print(\"math.pow(-7, 3): \", math.pow(-7, 3))\n",
    "print(\"math.pow(-9, 2): \", math.pow(-9, 2))"
   ]
  },
  {
   "cell_type": "code",
   "execution_count": 20,
   "id": "7846cd34-7ea6-46e4-9a56-2e7eafe66075",
   "metadata": {},
   "outputs": [
    {
     "ename": "ValueError",
     "evalue": "math domain error",
     "output_type": "error",
     "traceback": [
      "\u001b[31m---------------------------------------------------------------------------\u001b[39m",
      "\u001b[31mValueError\u001b[39m                                Traceback (most recent call last)",
      "\u001b[36mCell\u001b[39m\u001b[36m \u001b[39m\u001b[32mIn[20]\u001b[39m\u001b[32m, line 1\u001b[39m\n\u001b[32m----> \u001b[39m\u001b[32m1\u001b[39m \u001b[38;5;28mprint\u001b[39m(\u001b[33m\"\u001b[39m\u001b[33mpow(-7, 1.5): \u001b[39m\u001b[33m\"\u001b[39m, math.pow(-\u001b[32m7\u001b[39m, \u001b[32m1.5\u001b[39m))\n",
      "\u001b[31mValueError\u001b[39m: math domain error"
     ]
    }
   ],
   "source": [
    "print(\"math.pow(-7, 1.5): \", math.pow(-7, 1.5)) ## Results in domain error as math.pow() cannot handle negative numbers raised to fractional power"
   ]
  },
  {
   "cell_type": "code",
   "execution_count": 23,
   "id": "6ca8aea1-2278-4366-be24-2a2fb2270757",
   "metadata": {},
   "outputs": [
    {
     "ename": "ValueError",
     "evalue": "math domain error",
     "output_type": "error",
     "traceback": [
      "\u001b[31m---------------------------------------------------------------------------\u001b[39m",
      "\u001b[31mValueError\u001b[39m                                Traceback (most recent call last)",
      "\u001b[36mCell\u001b[39m\u001b[36m \u001b[39m\u001b[32mIn[23]\u001b[39m\u001b[32m, line 1\u001b[39m\n\u001b[32m----> \u001b[39m\u001b[32m1\u001b[39m \u001b[38;5;28mprint\u001b[39m(\u001b[33m\"\u001b[39m\u001b[33mpow(-8, -0.5): \u001b[39m\u001b[33m\"\u001b[39m, math.pow(-\u001b[32m8\u001b[39m, -\u001b[32m0.5\u001b[39m))\n",
      "\u001b[31mValueError\u001b[39m: math domain error"
     ]
    }
   ],
   "source": [
    "print(\"math.pow(-8, -0.5): \", math.pow(-8, -0.5))  ## Results in domain error as math.pow() cannot handle negative numbers raised to fractional power"
   ]
  },
  {
   "cell_type": "code",
   "execution_count": null,
   "id": "5669be02-7390-4747-b431-086eb35ac1f9",
   "metadata": {},
   "outputs": [],
   "source": []
  },
  {
   "cell_type": "code",
   "execution_count": 18,
   "id": "6448f4ef-e503-4f22-8585-0e8fc37c8ea1",
   "metadata": {
    "scrolled": true
   },
   "outputs": [
    {
     "ename": "TypeError",
     "evalue": "must be real number, not complex",
     "output_type": "error",
     "traceback": [
      "\u001b[31m---------------------------------------------------------------------------\u001b[39m",
      "\u001b[31mTypeError\u001b[39m                                 Traceback (most recent call last)",
      "\u001b[36mCell\u001b[39m\u001b[36m \u001b[39m\u001b[32mIn[18]\u001b[39m\u001b[32m, line 1\u001b[39m\n\u001b[32m----> \u001b[39m\u001b[32m1\u001b[39m \u001b[38;5;28mprint\u001b[39m(\u001b[33m\"\u001b[39m\u001b[33mpow(2, 4j): \u001b[39m\u001b[33m\"\u001b[39m, math.pow(\u001b[32m2\u001b[39m, \u001b[32m4\u001b[39mj))\n",
      "\u001b[31mTypeError\u001b[39m: must be real number, not complex"
     ]
    }
   ],
   "source": [
    "print(\"math.pow(2, 4j): \", math.pow(2, 4j))"
   ]
  },
  {
   "cell_type": "code",
   "execution_count": 19,
   "id": "2763a2dd-4345-494e-a8fe-69fa96086c73",
   "metadata": {},
   "outputs": [
    {
     "ename": "TypeError",
     "evalue": "must be real number, not complex",
     "output_type": "error",
     "traceback": [
      "\u001b[31m---------------------------------------------------------------------------\u001b[39m",
      "\u001b[31mTypeError\u001b[39m                                 Traceback (most recent call last)",
      "\u001b[36mCell\u001b[39m\u001b[36m \u001b[39m\u001b[32mIn[19]\u001b[39m\u001b[32m, line 1\u001b[39m\n\u001b[32m----> \u001b[39m\u001b[32m1\u001b[39m \u001b[38;5;28mprint\u001b[39m(\u001b[33m\"\u001b[39m\u001b[33mmath.pow(2j, 4): \u001b[39m\u001b[33m\"\u001b[39m, math.pow(\u001b[32m2\u001b[39mj, \u001b[32m4\u001b[39m))\n",
      "\u001b[31mTypeError\u001b[39m: must be real number, not complex"
     ]
    }
   ],
   "source": [
    "print(\"math.pow(2j, 4): \", math.pow(2j, 4))"
   ]
  },
  {
   "cell_type": "code",
   "execution_count": null,
   "id": "936d16a8-ccf8-496a-858a-27b220256f84",
   "metadata": {},
   "outputs": [],
   "source": []
  },
  {
   "cell_type": "markdown",
   "id": "dc899dc0-66ca-44a2-9d97-55a2e0092d91",
   "metadata": {},
   "source": [
    "### $math.exp()$ function\n",
    "$math.exp(x)$ is a specialised exponentiation function that generates $e^x$ where $e$ = 2.718281… is the base of natural logarithms. <br>\n",
    "This is usually more accurate than $math.e ** x$ or $pow(math.e, x)$."
   ]
  },
  {
   "cell_type": "code",
   "execution_count": 30,
   "id": "7dd07f48-db19-41ee-a5df-60fe17e3aa23",
   "metadata": {},
   "outputs": [
    {
     "name": "stdout",
     "output_type": "stream",
     "text": [
      "Natural logarithms base:  2.718281828459045\n",
      "math.exp(10):  22026.465794806718\n",
      "math.e ** 10:  22026.465794806703\n",
      "pow(math.e, 10):  22026.465794806703\n"
     ]
    }
   ],
   "source": [
    "import math\n",
    "\n",
    "print(\"Natural logarithms base: \", math.e)\n",
    "\n",
    "print(\"math.exp(10): \", math.exp(10))\n",
    "print(\"math.e ** 10: \", math.e ** 10)\n",
    "print(\"pow(math.e, 10): \", pow(math.e, 10))"
   ]
  },
  {
   "cell_type": "code",
   "execution_count": 31,
   "id": "058a1cbb-afff-49f8-b314-0568f574d68b",
   "metadata": {},
   "outputs": [
    {
     "ename": "TypeError",
     "evalue": "must be real number, not complex",
     "output_type": "error",
     "traceback": [
      "\u001b[31m---------------------------------------------------------------------------\u001b[39m",
      "\u001b[31mTypeError\u001b[39m                                 Traceback (most recent call last)",
      "\u001b[36mCell\u001b[39m\u001b[36m \u001b[39m\u001b[32mIn[31]\u001b[39m\u001b[32m, line 1\u001b[39m\n\u001b[32m----> \u001b[39m\u001b[32m1\u001b[39m \u001b[38;5;28mprint\u001b[39m(\u001b[33m\"\u001b[39m\u001b[33mmath.exp(-10j): \u001b[39m\u001b[33m\"\u001b[39m, math.exp(-\u001b[32m10\u001b[39mj))\n",
      "\u001b[31mTypeError\u001b[39m: must be real number, not complex"
     ]
    }
   ],
   "source": [
    "print(\"math.exp(-10j): \", math.exp(-10j))"
   ]
  },
  {
   "cell_type": "code",
   "execution_count": null,
   "id": "23bd243d-c4d8-4828-b665-4c639d9c2261",
   "metadata": {},
   "outputs": [],
   "source": []
  },
  {
   "cell_type": "markdown",
   "id": "58d5608f-be2f-4384-9374-083decbd1218",
   "metadata": {},
   "source": [
    "### $math.exp2()$ function\n",
    "$math.exp2(x)$ is a specialised exponentiation function that generates $2^x$"
   ]
  },
  {
   "cell_type": "code",
   "execution_count": 32,
   "id": "00c6ab24-9f32-418e-acf3-f9ed41154524",
   "metadata": {},
   "outputs": [
    {
     "name": "stdout",
     "output_type": "stream",
     "text": [
      "math.exp2(10):  1024.0\n"
     ]
    }
   ],
   "source": [
    "import math\n",
    "\n",
    "print(\"math.exp2(10): \", math.exp2(10))"
   ]
  },
  {
   "cell_type": "code",
   "execution_count": 33,
   "id": "d779ebc7-2e6f-471d-9ec6-a8dfb679de1c",
   "metadata": {},
   "outputs": [
    {
     "ename": "TypeError",
     "evalue": "must be real number, not complex",
     "output_type": "error",
     "traceback": [
      "\u001b[31m---------------------------------------------------------------------------\u001b[39m",
      "\u001b[31mTypeError\u001b[39m                                 Traceback (most recent call last)",
      "\u001b[36mCell\u001b[39m\u001b[36m \u001b[39m\u001b[32mIn[33]\u001b[39m\u001b[32m, line 1\u001b[39m\n\u001b[32m----> \u001b[39m\u001b[32m1\u001b[39m \u001b[38;5;28mprint\u001b[39m(\u001b[33m\"\u001b[39m\u001b[33mmath.exp2(-10j): \u001b[39m\u001b[33m\"\u001b[39m, math.exp2(-\u001b[32m10\u001b[39mj))\n",
      "\u001b[31mTypeError\u001b[39m: must be real number, not complex"
     ]
    }
   ],
   "source": [
    "print(\"math.exp2(-10j): \", math.exp2(-10j))"
   ]
  },
  {
   "cell_type": "code",
   "execution_count": null,
   "id": "231c9adf-7291-4304-bc11-c1ec0958289d",
   "metadata": {},
   "outputs": [],
   "source": []
  },
  {
   "cell_type": "markdown",
   "id": "30e25f29-afb9-4084-95bc-f96fa0947b6e",
   "metadata": {},
   "source": [
    "### $math.expm1()$ function\n",
    "$math.expm1(x)$ is a specialised exponentiation function that generates $e^x - 1$ while *maintaining precision* ; $exp(x) - 1$ for small $x$ can result in loss of precision in Python"
   ]
  },
  {
   "cell_type": "code",
   "execution_count": 45,
   "id": "2c957bc5-edd1-4c89-b0f8-6e0c06988a58",
   "metadata": {},
   "outputs": [
    {
     "name": "stdout",
     "output_type": "stream",
     "text": [
      "math.expm1(0.000000000001):  1.0000000000005e-12\n",
      "math.exp(0.000000000001) - 1:  1.000000082740371e-10\n"
     ]
    }
   ],
   "source": [
    "import math\n",
    "\n",
    "print(\"math.expm1(0.000000000001): \", math.expm1(0.000000000001))\n",
    "print(\"math.exp(0.000000000001) - 1: \", math.exp(0.000000000100) - 1)"
   ]
  },
  {
   "cell_type": "code",
   "execution_count": 34,
   "id": "f4184b4a-a842-48a4-9ef2-b1b13bee9be0",
   "metadata": {},
   "outputs": [
    {
     "ename": "TypeError",
     "evalue": "must be real number, not complex",
     "output_type": "error",
     "traceback": [
      "\u001b[31m---------------------------------------------------------------------------\u001b[39m",
      "\u001b[31mTypeError\u001b[39m                                 Traceback (most recent call last)",
      "\u001b[36mCell\u001b[39m\u001b[36m \u001b[39m\u001b[32mIn[34]\u001b[39m\u001b[32m, line 1\u001b[39m\n\u001b[32m----> \u001b[39m\u001b[32m1\u001b[39m \u001b[38;5;28mprint\u001b[39m(\u001b[33m\"\u001b[39m\u001b[33mmath.expm1(0.00001j): \u001b[39m\u001b[33m\"\u001b[39m, math.expm1(\u001b[32m0.00001\u001b[39mj))\n",
      "\u001b[31mTypeError\u001b[39m: must be real number, not complex"
     ]
    }
   ],
   "source": [
    "print(\"math.expm1(0.00001j): \", math.expm1(0.00001j))"
   ]
  },
  {
   "cell_type": "code",
   "execution_count": null,
   "id": "fac854fa-e899-49d2-b57e-45feca016a1d",
   "metadata": {},
   "outputs": [],
   "source": []
  },
  {
   "cell_type": "markdown",
   "id": "89947756-1e7a-4c12-9d69-8df436dc47de",
   "metadata": {},
   "source": [
    "## Built-in cmath library exponentiation functions\n",
    "\n",
    "`cmath` library specifically allows operations on complex numbers. Hence, the cases not covered by `math` can be usually covered by `cmath`.\n",
    "\n",
    "`cmath` library provides following exponentiation function\n",
    "- $cmath.exp(x)$ generates $e^x$ where $e$ = 2.718281… is the base of natural logarithms.\n",
    "  $x$ can be a real, imaginary or complex number"
   ]
  },
  {
   "cell_type": "markdown",
   "id": "8be4c7f3-1689-4348-8384-317535aae183",
   "metadata": {},
   "source": [
    "### $cmath.exp()$ function\n",
    "$cmath.exp(x)$ generates $e^x$ where $e$ = 2.718281… is the base of natural logarithms.\n",
    "$x$ can be a real, imaginary or complex number"
   ]
  },
  {
   "cell_type": "code",
   "execution_count": 38,
   "id": "a30ada26-8984-4836-9d49-b37168f16faa",
   "metadata": {},
   "outputs": [
    {
     "name": "stdout",
     "output_type": "stream",
     "text": [
      "cmath.exp with real number input : cmath.exp(10) (22026.465794806718+0j)\n",
      "cmath.exp with imaginary number input : cmath.exp(-2j) (-0.4161468365471424-0.9092974268256817j)\n",
      "cmath.exp with complex number input : cmath.exp(20+5j) (137623019.64063433-465236683.10013294j)\n"
     ]
    }
   ],
   "source": [
    "import cmath\n",
    "\n",
    "print(\"cmath.exp with real number input : cmath.exp(10)\", cmath.exp(10))\n",
    "print(\"cmath.exp with imaginary number input : cmath.exp(-2j)\", cmath.exp(-2j))\n",
    "print(\"cmath.exp with complex number input : cmath.exp(20+5j)\", cmath.exp(20+5j))"
   ]
  },
  {
   "cell_type": "code",
   "execution_count": null,
   "id": "89281972-05a0-4919-bce4-25d3949d16bd",
   "metadata": {},
   "outputs": [],
   "source": []
  },
  {
   "cell_type": "code",
   "execution_count": null,
   "id": "d8dfe39f-3029-4bd0-a7cf-a20bd4540b9e",
   "metadata": {},
   "outputs": [],
   "source": []
  },
  {
   "cell_type": "code",
   "execution_count": null,
   "id": "753c7f19-89d6-4625-896f-1779b46a159b",
   "metadata": {},
   "outputs": [],
   "source": []
  },
  {
   "cell_type": "code",
   "execution_count": null,
   "id": "350a9620-3432-485a-ab77-dc2481808f91",
   "metadata": {},
   "outputs": [],
   "source": []
  },
  {
   "cell_type": "markdown",
   "id": "b2a77996-8abf-4cad-8bcf-57e3d4dd1ba2",
   "metadata": {},
   "source": [
    "## numpy library exponentiation functions\n",
    "\n",
    "- $np.pow(x, y)$ ≡ $np.power(x, y)$ returns ${x^y}$ : First array elements raised to powers from second array, element-wise.\n",
    "    - $**$ operator acts equivalent to $np.power()$ for ndarrays\n",
    "\n",
    "- $np.exp(x)$ returns ${e^x}$ for all elements in $x$\n",
    "    - $np.exp2(x)$ returns ${2^x}$ for all elements in $x$\n",
    "    - $np.expm1(x)$ returns ${e^x} - 1$ for all elements in $x$\n",
    "    - $np.square(x)$ return ${x^2}$ for all elements in $x$\n",
    "\n",
    "\n",
    "\n",
    "**Note:**\n",
    "1. numpy's exponentiation functions can take either scalars or arrays as input.\n",
    "2. For $np.power(x, y)$, in case both $x$ and $y$ are arrays, the output is evaluated as : First array elements raised to powers from second array, element-wise. The arrays should either have same shape or must be broadcastable to a common shape (which becomes the shape of the output)\n",
    "3. For $np.power(x, y)$, negative values raised to a non-integral value will return `nan` -> see the point below for complex number outputs\n",
    "4. For $np.power(x, y)$, to get complex number results, cast the input to complex, or specify the dtype to be complex -> this allows negative values to be raised to a non-integral value.\n",
    "5. For $np.exp(x)$, $np.exp2(x)$, $np.expm1(x)$, and $np.square(x)$ complex numbers can be given an inputs.<br>\n",
    "   For $x = a + ib$, $e^x$ = $e^a*e^{ib}$. $e^{ib}$ is evaluated as $cosb + isinb$"
   ]
  },
  {
   "cell_type": "code",
   "execution_count": null,
   "id": "0e6357f1-f874-4b91-aaa6-bdd474f2d641",
   "metadata": {},
   "outputs": [],
   "source": []
  },
  {
   "cell_type": "markdown",
   "id": "fb555dca-d031-4e36-947e-ef2b3ea7f351",
   "metadata": {},
   "source": [
    "### $np.pow(x, y)$ ≡ $np.power(x, y)$ function\n",
    "\n",
    "1. $np.power(x, y)$ can take either scalars or arrays as input.\n",
    "2. In case both $x$ and $y$ are arrays, the output is evaluated as : First array elements raised to powers from second array, element-wise.\n",
    "3. In  case both $x$ and $y$ are arrays, they should either have same shape or must be broadcastable to a common shape (which becomes the shape of the output)\n",
    "4. Negative values raised to a non-integral value will return `nan` -> see the point below for complex number outputs\n",
    "5. To get complex number results, cast the input to complex, or specify the dtype to be complex -> this allows negative values to be raised to a non-integral value."
   ]
  },
  {
   "cell_type": "code",
   "execution_count": 135,
   "id": "c76004ae-2b50-46ce-8b89-2091ea60a6ac",
   "metadata": {
    "scrolled": true
   },
   "outputs": [
    {
     "name": "stdout",
     "output_type": "stream",
     "text": [
      "Help on ufunc in module numpy:\n",
      "\n",
      "power = <ufunc 'power'>\n",
      "    power(x1, x2, /, out=None, *, where=True, casting='same_kind', order='K', dtype=None, subok=True[, signature])\n",
      "\n",
      "    First array elements raised to powers from second array, element-wise.\n",
      "\n",
      "    Raise each base in `x1` to the positionally-corresponding power in\n",
      "    `x2`.  `x1` and `x2` must be broadcastable to the same shape.\n",
      "\n",
      "    An integer type raised to a negative integer power will raise a\n",
      "    ``ValueError``.\n",
      "\n",
      "    Negative values raised to a non-integral value will return ``nan``.\n",
      "    To get complex results, cast the input to complex, or specify the\n",
      "    ``dtype`` to be ``complex`` (see the example below).\n",
      "\n",
      "    Parameters\n",
      "    ----------\n",
      "    x1 : array_like\n",
      "        The bases.\n",
      "    x2 : array_like\n",
      "        The exponents.\n",
      "        If ``x1.shape != x2.shape``, they must be broadcastable to a common\n",
      "        shape (which becomes the shape of the output).\n",
      "    out : ndarray, None, or tuple of ndarray and None, optional\n",
      "        A location into which the result is stored. If provided, it must have\n",
      "        a shape that the inputs broadcast to. If not provided or None,\n",
      "        a freshly-allocated array is returned. A tuple (possible only as a\n",
      "        keyword argument) must have length equal to the number of outputs.\n",
      "    where : array_like, optional\n",
      "        This condition is broadcast over the input. At locations where the\n",
      "        condition is True, the `out` array will be set to the ufunc result.\n",
      "        Elsewhere, the `out` array will retain its original value.\n",
      "        Note that if an uninitialized `out` array is created via the default\n",
      "        ``out=None``, locations within it where the condition is False will\n",
      "        remain uninitialized.\n",
      "    **kwargs\n",
      "        For other keyword-only arguments, see the\n",
      "        :ref:`ufunc docs <ufuncs.kwargs>`.\n",
      "\n",
      "    Returns\n",
      "    -------\n",
      "    y : ndarray\n",
      "        The bases in `x1` raised to the exponents in `x2`.\n",
      "        This is a scalar if both `x1` and `x2` are scalars.\n",
      "\n",
      "    See Also\n",
      "    --------\n",
      "    float_power : power function that promotes integers to float\n",
      "\n",
      "    Examples\n",
      "    --------\n",
      "    >>> import numpy as np\n",
      "\n",
      "    Cube each element in an array.\n",
      "\n",
      "    >>> x1 = np.arange(6)\n",
      "    >>> x1\n",
      "    [0, 1, 2, 3, 4, 5]\n",
      "    >>> np.power(x1, 3)\n",
      "    array([  0,   1,   8,  27,  64, 125])\n",
      "\n",
      "    Raise the bases to different exponents.\n",
      "\n",
      "    >>> x2 = [1.0, 2.0, 3.0, 3.0, 2.0, 1.0]\n",
      "    >>> np.power(x1, x2)\n",
      "    array([  0.,   1.,   8.,  27.,  16.,   5.])\n",
      "\n",
      "    The effect of broadcasting.\n",
      "\n",
      "    >>> x2 = np.array([[1, 2, 3, 3, 2, 1], [1, 2, 3, 3, 2, 1]])\n",
      "    >>> x2\n",
      "    array([[1, 2, 3, 3, 2, 1],\n",
      "           [1, 2, 3, 3, 2, 1]])\n",
      "    >>> np.power(x1, x2)\n",
      "    array([[ 0,  1,  8, 27, 16,  5],\n",
      "           [ 0,  1,  8, 27, 16,  5]])\n",
      "\n",
      "    The ``**`` operator can be used as a shorthand for ``np.power`` on\n",
      "    ndarrays.\n",
      "\n",
      "    >>> x2 = np.array([1, 2, 3, 3, 2, 1])\n",
      "    >>> x1 = np.arange(6)\n",
      "    >>> x1 ** x2\n",
      "    array([ 0,  1,  8, 27, 16,  5])\n",
      "\n",
      "    Negative values raised to a non-integral value will result in ``nan``\n",
      "    (and a warning will be generated).\n",
      "\n",
      "    >>> x3 = np.array([-1.0, -4.0])\n",
      "    >>> with np.errstate(invalid='ignore'):\n",
      "    ...     p = np.power(x3, 1.5)\n",
      "    ...\n",
      "    >>> p\n",
      "    array([nan, nan])\n",
      "\n",
      "    To get complex results, give the argument ``dtype=complex``.\n",
      "\n",
      "    >>> np.power(x3, 1.5, dtype=complex)\n",
      "    array([-1.83697020e-16-1.j, -1.46957616e-15-8.j])\n",
      "\n"
     ]
    }
   ],
   "source": [
    "help(np.pow)"
   ]
  },
  {
   "cell_type": "code",
   "execution_count": 136,
   "id": "917112e0-afb1-4a99-ad61-518d554c7521",
   "metadata": {
    "scrolled": true
   },
   "outputs": [
    {
     "name": "stdout",
     "output_type": "stream",
     "text": [
      "Help on ufunc in module numpy:\n",
      "\n",
      "power = <ufunc 'power'>\n",
      "    power(x1, x2, /, out=None, *, where=True, casting='same_kind', order='K', dtype=None, subok=True[, signature])\n",
      "\n",
      "    First array elements raised to powers from second array, element-wise.\n",
      "\n",
      "    Raise each base in `x1` to the positionally-corresponding power in\n",
      "    `x2`.  `x1` and `x2` must be broadcastable to the same shape.\n",
      "\n",
      "    An integer type raised to a negative integer power will raise a\n",
      "    ``ValueError``.\n",
      "\n",
      "    Negative values raised to a non-integral value will return ``nan``.\n",
      "    To get complex results, cast the input to complex, or specify the\n",
      "    ``dtype`` to be ``complex`` (see the example below).\n",
      "\n",
      "    Parameters\n",
      "    ----------\n",
      "    x1 : array_like\n",
      "        The bases.\n",
      "    x2 : array_like\n",
      "        The exponents.\n",
      "        If ``x1.shape != x2.shape``, they must be broadcastable to a common\n",
      "        shape (which becomes the shape of the output).\n",
      "    out : ndarray, None, or tuple of ndarray and None, optional\n",
      "        A location into which the result is stored. If provided, it must have\n",
      "        a shape that the inputs broadcast to. If not provided or None,\n",
      "        a freshly-allocated array is returned. A tuple (possible only as a\n",
      "        keyword argument) must have length equal to the number of outputs.\n",
      "    where : array_like, optional\n",
      "        This condition is broadcast over the input. At locations where the\n",
      "        condition is True, the `out` array will be set to the ufunc result.\n",
      "        Elsewhere, the `out` array will retain its original value.\n",
      "        Note that if an uninitialized `out` array is created via the default\n",
      "        ``out=None``, locations within it where the condition is False will\n",
      "        remain uninitialized.\n",
      "    **kwargs\n",
      "        For other keyword-only arguments, see the\n",
      "        :ref:`ufunc docs <ufuncs.kwargs>`.\n",
      "\n",
      "    Returns\n",
      "    -------\n",
      "    y : ndarray\n",
      "        The bases in `x1` raised to the exponents in `x2`.\n",
      "        This is a scalar if both `x1` and `x2` are scalars.\n",
      "\n",
      "    See Also\n",
      "    --------\n",
      "    float_power : power function that promotes integers to float\n",
      "\n",
      "    Examples\n",
      "    --------\n",
      "    >>> import numpy as np\n",
      "\n",
      "    Cube each element in an array.\n",
      "\n",
      "    >>> x1 = np.arange(6)\n",
      "    >>> x1\n",
      "    [0, 1, 2, 3, 4, 5]\n",
      "    >>> np.power(x1, 3)\n",
      "    array([  0,   1,   8,  27,  64, 125])\n",
      "\n",
      "    Raise the bases to different exponents.\n",
      "\n",
      "    >>> x2 = [1.0, 2.0, 3.0, 3.0, 2.0, 1.0]\n",
      "    >>> np.power(x1, x2)\n",
      "    array([  0.,   1.,   8.,  27.,  16.,   5.])\n",
      "\n",
      "    The effect of broadcasting.\n",
      "\n",
      "    >>> x2 = np.array([[1, 2, 3, 3, 2, 1], [1, 2, 3, 3, 2, 1]])\n",
      "    >>> x2\n",
      "    array([[1, 2, 3, 3, 2, 1],\n",
      "           [1, 2, 3, 3, 2, 1]])\n",
      "    >>> np.power(x1, x2)\n",
      "    array([[ 0,  1,  8, 27, 16,  5],\n",
      "           [ 0,  1,  8, 27, 16,  5]])\n",
      "\n",
      "    The ``**`` operator can be used as a shorthand for ``np.power`` on\n",
      "    ndarrays.\n",
      "\n",
      "    >>> x2 = np.array([1, 2, 3, 3, 2, 1])\n",
      "    >>> x1 = np.arange(6)\n",
      "    >>> x1 ** x2\n",
      "    array([ 0,  1,  8, 27, 16,  5])\n",
      "\n",
      "    Negative values raised to a non-integral value will result in ``nan``\n",
      "    (and a warning will be generated).\n",
      "\n",
      "    >>> x3 = np.array([-1.0, -4.0])\n",
      "    >>> with np.errstate(invalid='ignore'):\n",
      "    ...     p = np.power(x3, 1.5)\n",
      "    ...\n",
      "    >>> p\n",
      "    array([nan, nan])\n",
      "\n",
      "    To get complex results, give the argument ``dtype=complex``.\n",
      "\n",
      "    >>> np.power(x3, 1.5, dtype=complex)\n",
      "    array([-1.83697020e-16-1.j, -1.46957616e-15-8.j])\n",
      "\n"
     ]
    }
   ],
   "source": [
    "help(np.power)"
   ]
  },
  {
   "cell_type": "code",
   "execution_count": null,
   "id": "3cac353e-c8ea-4ad0-9769-b07eea2bcd93",
   "metadata": {},
   "outputs": [],
   "source": []
  },
  {
   "cell_type": "code",
   "execution_count": 133,
   "id": "dc7e91a1-5887-4ede-a489-833620cb1b0d",
   "metadata": {},
   "outputs": [
    {
     "name": "stdout",
     "output_type": "stream",
     "text": [
      "x1:  [0 1 2 3 4 5]\n",
      "np.power(x1, 3):  [  0   1   8  27  64 125]\n",
      "\n",
      "x2:  [1.0, 2.0, 3.0, 3.0, 2.0, 1.0]\n",
      "\n",
      "np.power(x1, x2):  [ 0.  1.  8. 27. 16.  5.]\n"
     ]
    }
   ],
   "source": [
    "import numpy as np\n",
    "\n",
    "x1 = np.arange(6)\n",
    "print(\"x1: \", x1)\n",
    "print()\n",
    "\n",
    "print(\"np.power(x1, 3): \", np.power(x1, 3))\n",
    "print()\n",
    "\n",
    "x2 = [1.0, 2.0, 3.0, 3.0, 2.0, 1.0]\n",
    "print(\"x2: \", x2)\n",
    "print()\n",
    "\n",
    "print(\"np.power(x1, x2): \", np.power(x1, x2))\n"
   ]
  },
  {
   "cell_type": "code",
   "execution_count": 28,
   "id": "c26cc9e9-9e7b-43df-b15b-a878645f9b87",
   "metadata": {},
   "outputs": [
    {
     "ename": "ValueError",
     "evalue": "operands could not be broadcast together with shapes (7,) (4,) ",
     "output_type": "error",
     "traceback": [
      "\u001b[31m---------------------------------------------------------------------------\u001b[39m",
      "\u001b[31mValueError\u001b[39m                                Traceback (most recent call last)",
      "\u001b[36mCell\u001b[39m\u001b[36m \u001b[39m\u001b[32mIn[28]\u001b[39m\u001b[32m, line 6\u001b[39m\n\u001b[32m      3\u001b[39m x1 = np.arange(\u001b[32m7\u001b[39m)\n\u001b[32m      4\u001b[39m x2 = np.arange(\u001b[32m4\u001b[39m)\n\u001b[32m----> \u001b[39m\u001b[32m6\u001b[39m \u001b[38;5;28mprint\u001b[39m(\u001b[33m\"\u001b[39m\u001b[33mUnequal length ndarray exponentiation - np.power(x1, x2): \u001b[39m\u001b[33m\"\u001b[39m, np.power(x1, x2))\n",
      "\u001b[31mValueError\u001b[39m: operands could not be broadcast together with shapes (7,) (4,) "
     ]
    }
   ],
   "source": [
    "import numpy as np\n",
    "\n",
    "x1 = np.arange(7)\n",
    "x2 = np.arange(4)\n",
    "\n",
    "print(\"Unequal length ndarray exponentiation - np.power(x1, x2): \", np.power(x1, x2))"
   ]
  },
  {
   "cell_type": "code",
   "execution_count": null,
   "id": "6bfbfe17-4149-4640-b8a5-b7e42744e57c",
   "metadata": {},
   "outputs": [],
   "source": []
  },
  {
   "cell_type": "code",
   "execution_count": null,
   "id": "f8c31153-43bf-4781-9ee9-4b84e7af5ab5",
   "metadata": {},
   "outputs": [],
   "source": []
  },
  {
   "cell_type": "code",
   "execution_count": 142,
   "id": "dd1f7216-27b7-4825-ba13-ba4f6634cb36",
   "metadata": {},
   "outputs": [
    {
     "name": "stdout",
     "output_type": "stream",
     "text": [
      "[nan nan]\n"
     ]
    },
    {
     "name": "stderr",
     "output_type": "stream",
     "text": [
      "C:\\Users\\Aditya\\AppData\\Local\\Temp\\ipykernel_13432\\3546610421.py:3: RuntimeWarning: invalid value encountered in power\n",
      "  print(np.power(x3, 1.5))\n"
     ]
    }
   ],
   "source": [
    "import numpy as np\n",
    "\n",
    "## Negative values raised to a non-integral value will return nan\n",
    "x3 = np.array([-1.0, -4.0])\n",
    "print(np.power(x3, 1.5))"
   ]
  },
  {
   "cell_type": "code",
   "execution_count": 140,
   "id": "ae449285-f564-4dfd-aa3c-95a693db12fd",
   "metadata": {},
   "outputs": [
    {
     "name": "stdout",
     "output_type": "stream",
     "text": [
      "[-1.83697020e-16-1.j -1.46957616e-15-8.j]\n"
     ]
    }
   ],
   "source": [
    "import numpy as np\n",
    "\n",
    "## Specifying dtype as complex does allow negative values to be raised to a non-integral value\n",
    "x3 = np.array([-1.0, -4.0])\n",
    "print(np.power(x3, 1.5, dtype=complex))"
   ]
  },
  {
   "cell_type": "code",
   "execution_count": null,
   "id": "1223c2ce-a586-4c2e-8809-008a901b3eb2",
   "metadata": {},
   "outputs": [],
   "source": []
  },
  {
   "cell_type": "markdown",
   "id": "879639b8-86ea-4d07-b808-7439c2bf5ffd",
   "metadata": {},
   "source": [
    "### $np.exp(x)$, $np.exp2(x)$, $np.expm1(x)$, $np.square(x)$ functions\n",
    "\n",
    "- $numpy.exp(x)$ returns ${e^x}$ for all elements in $x$\n",
    "    - $numpy.exp2(x)$ returns ${2^x}$ for all elements in $x$\n",
    "    - $numpy.expm1(x)$ returns ${e^x} - 1$ for all elements in $x$\n",
    "    - $numpy.square(x)$ return ${x^2}$ for all elements in $x$\n",
    "\n",
    "1. numpy's exponentiation functions can take either scalars or arrays as input.\n",
    "2. For $np.exp(x)$, $np.exp2(x)$, $np.expm1(x)$ and $np.square(x)$ complex numbers can be given an inputs.<br>\n",
    "3. If any member of input array is a complex number, whole output array has complex numbers as members.\n",
    "\n",
    "For $x = a + ib$, $e^x$ = $e^a*e^{ib}$. $e^{ib}$ is evaluated as $cosb + isinb$"
   ]
  },
  {
   "cell_type": "code",
   "execution_count": 29,
   "id": "9a5f5746-b04a-4aaa-b6d4-03231c78097d",
   "metadata": {},
   "outputs": [
    {
     "name": "stdout",
     "output_type": "stream",
     "text": [
      "[2.20264658e+04 5.98741417e+04 2.68337287e+05 1.35335283e-01]\n",
      "[1.02400000e+03 2.42514651e+01 1.86606598e+00 1.95312500e-03]\n",
      "[  6.3890561   19.08553692 147.4131591   -0.99979653]\n",
      "[ 4 25 36]\n",
      "[ 4.       16.        0.119025 64.      ]\n"
     ]
    }
   ],
   "source": [
    "import numpy as np\n",
    "\n",
    "## If one or more members of input array are float, all members of output array are float\n",
    "print(np.exp([10, 11, 12.5, -2]))\n",
    "print(np.exp2([10, 4.6, 0.9, -9]))\n",
    "print(np.expm1([2, 3, 5, -8.5]))\n",
    "\n",
    "\n",
    "print(np.square([2, 5, 6]))\n",
    "print(np.square([2, 4, 0.345, -8]))"
   ]
  },
  {
   "cell_type": "code",
   "execution_count": null,
   "id": "dd51cf05-7505-468a-a994-a83812c102f2",
   "metadata": {},
   "outputs": [],
   "source": []
  },
  {
   "cell_type": "code",
   "execution_count": null,
   "id": "940caaad-afc0-4048-8484-8313af2a533a",
   "metadata": {},
   "outputs": [],
   "source": []
  },
  {
   "cell_type": "code",
   "execution_count": 155,
   "id": "f648aa36-57f3-4161-b480-97a739ea69ad",
   "metadata": {},
   "outputs": [
    {
     "name": "stdout",
     "output_type": "stream",
     "text": [
      "(3397.6142847482124-21762.84477226875j)\n",
      "(-374.1702549497631+953.190757566831j)\n",
      "(3396.6142847482124-21762.84477226875j)\n",
      "(-800+600j)\n"
     ]
    }
   ],
   "source": [
    "import numpy as np\n",
    "\n",
    "print(np.exp(10+30j))\n",
    "print(np.exp2(10+30j))\n",
    "print(np.expm1(10+30j))\n",
    "print(np.square(10+30j))"
   ]
  },
  {
   "cell_type": "code",
   "execution_count": null,
   "id": "902b959e-3063-44bd-af86-01d148615d1f",
   "metadata": {},
   "outputs": [],
   "source": []
  },
  {
   "cell_type": "code",
   "execution_count": 153,
   "id": "d55bf4a1-259a-4dc1-9771-c0a4bf700696",
   "metadata": {},
   "outputs": [
    {
     "name": "stdout",
     "output_type": "stream",
     "text": [
      "[ 7.38905610e+00+0.j          5.45981500e+01+0.j\n",
      " -1.45500034e-01-0.98935825j  1.41198992e+00+0.j\n",
      "  3.35462628e-04+0.j        ]\n",
      "[4.00000000e+00+0.j         1.60000000e+01+0.j\n",
      " 7.39810367e-01+0.67281544j 1.27015098e+00+0.j\n",
      " 3.90625000e-03+0.j        ]\n",
      "[ 6.3890561 +0.j         53.59815003+0.j         -1.14550003-0.98935825j\n",
      "  0.41198992+0.j         -0.99966454+0.j        ]\n",
      "[  4.      +0.j  16.      +0.j -64.      +0.j   0.119025+0.j\n",
      "  64.      -0.j]\n"
     ]
    }
   ],
   "source": [
    "import numpy as np\n",
    "\n",
    "## If one or more members of input array are complex, all members of output array are complex.\n",
    "print(np.exp([2, 4, -8j, 0.345, -8]))\n",
    "print(np.exp2([2, 4, -8j, 0.345, -8]))\n",
    "print(np.expm1([2, 4, -8j, 0.345, -8]))\n",
    "print(np.square([2, 4, -8j, 0.345, -8]))"
   ]
  },
  {
   "cell_type": "code",
   "execution_count": null,
   "id": "3c2c2832-1dc8-423c-9c7b-a91b5bf124be",
   "metadata": {},
   "outputs": [],
   "source": []
  },
  {
   "cell_type": "markdown",
   "id": "28a00bdf-f411-4019-b4d8-79ebb43201b2",
   "metadata": {},
   "source": [
    "----------------------------------------------------------------------------------------------------"
   ]
  },
  {
   "cell_type": "markdown",
   "id": "5016f90f-511f-4a4f-971b-cbc9ee494062",
   "metadata": {},
   "source": [
    "----------------------------------------------------------------------------------------------------"
   ]
  },
  {
   "cell_type": "markdown",
   "id": "805f0999-d793-4c31-aadd-5c82b1a53091",
   "metadata": {},
   "source": [
    "# Logarithm\n",
    "\n",
    "Logarithmic calculations can be performed by either of following:\n",
    "- built-in math library's log functions:\n",
    "    - $math.log(x, base)$: Returns the logarithm of $x$ to the given $base$ : $log_{base}(x)$. If base is not specified, it returns the natural logarithm (base e) of $x$ ($log_{e}(x)$).\n",
    "        - $math.log2(x)$: Returns the base-2 logarithm of $x$ : $log_{2}(x)$.\n",
    "        - $math.log10(x)$: Returns the base-10 logarithm of $x$ : $log_{10}(x)$.\n",
    "        - $math.log1p(x)$: Returns the natural logarithm of $1+x$: $log_{e}(1+x)$. The result is computed in a way which is accurate for $x$ near zero.\n",
    "\n",
    "- built-in cmath library's log functions:\n",
    "  - $cmath.log(x, base)$: Returns logarithm of $x$ to the given $base$ : $log_{base}(x)$. If base is not specified, it returns the natural logarithm (base e) of $x$ ($log_{e}(x)$).\n",
    "      - $cmath.log10(x)$: Returns the base-10 logarithm of $x$ : $log_{10}(x)$.\n",
    "\n",
    "- numpy library's log functions:\n",
    "    - [$np.log(x)$](https://numpy.org/doc/stable/reference/generated/numpy.log.html): Returns the logarithm of $x$ to the given $base$ for real $x$ > 0 : $log_{e}(x)$.\n",
    "        - [$np.log2(x)$](https://numpy.org/doc/stable/reference/generated/numpy.log2.html): Returns the base-2 logarithm of $x$ for real $x$ > 0 : $log_{2}(x)$.\n",
    "        - [$np.log10(x)$](https://numpy.org/doc/stable/reference/generated/numpy.log10.html#): Returns the base-10 logarithm of $x$ for real $x$ > 0 : $log_{10}(x)$.\n",
    "        - [$np.log1p(x)$](https://numpy.org/doc/stable/reference/generated/numpy.log1p.html): Returns the natural logarithm of $1+x$ for real $x$ > -1 : $log_{e}\n",
    "    - $np.emath.log(x)$ Returns natural logarithm of $x$ : $log_{e}(x)$ for real $x$ != 0.\n",
    "        - $np.emath.log2(x)$ : Returns the base-2 logarithm of $x$ : $log_{2}(x)$ for real $x$ != 0.\n",
    "        - $np.emath.log10(x)$ : Returns the base-10 logarithm of $x$ : $log_{10}(x)$ for real $x$ != 0.\n",
    "\n",
    "\n",
    "**Note:**\n",
    "$np.emath.log(x)$ can take negative numbers as input and return a compex number as output.\n",
    "1. If $x$ = 0, error is raised and $-inf$ is generated as output\n",
    "2. If $x$ = $np.inf$, $inf$ is generated as output\n",
    "        \n",
    "(1+x)$. The result is computed in a way which is accurate for $x$ near zero. <br>\n",
    "numpy's log functions can take either single scalar or single array as input - in latter case, the ouput is array of logarithms.\n",
    "In case of negative inputs, numpy generates error and returns `nan` as output."
   ]
  },
  {
   "cell_type": "code",
   "execution_count": 33,
   "id": "f148cb33-bbca-452c-90e4-e909442a6e47",
   "metadata": {},
   "outputs": [
    {
     "name": "stdout",
     "output_type": "stream",
     "text": [
      "Help on built-in function log in module math:\n",
      "\n",
      "log(...)\n",
      "    log(x, [base=math.e])\n",
      "    Return the logarithm of x to the given base.\n",
      "\n",
      "    If the base is not specified, returns the natural logarithm (base e) of x.\n",
      "\n"
     ]
    }
   ],
   "source": [
    "help(math.log)"
   ]
  },
  {
   "cell_type": "code",
   "execution_count": 34,
   "id": "c219839c-6f3f-4999-b9db-2d752dcc5cb7",
   "metadata": {},
   "outputs": [
    {
     "name": "stdout",
     "output_type": "stream",
     "text": [
      "Help on built-in function log2 in module math:\n",
      "\n",
      "log2(x, /)\n",
      "    Return the base 2 logarithm of x.\n",
      "\n"
     ]
    }
   ],
   "source": [
    "help(math.log2)"
   ]
  },
  {
   "cell_type": "code",
   "execution_count": 35,
   "id": "7853d1e0-15bc-4c9c-9e70-83d2bbc4a882",
   "metadata": {},
   "outputs": [
    {
     "name": "stdout",
     "output_type": "stream",
     "text": [
      "Help on built-in function log10 in module math:\n",
      "\n",
      "log10(x, /)\n",
      "    Return the base 10 logarithm of x.\n",
      "\n"
     ]
    }
   ],
   "source": [
    "help(math.log10)"
   ]
  },
  {
   "cell_type": "code",
   "execution_count": 36,
   "id": "dbca0512-3bd9-450c-810c-b43d64e5cb42",
   "metadata": {},
   "outputs": [
    {
     "name": "stdout",
     "output_type": "stream",
     "text": [
      "Help on built-in function log1p in module math:\n",
      "\n",
      "log1p(x, /)\n",
      "    Return the natural logarithm of 1+x (base e).\n",
      "\n",
      "    The result is computed in a way which is accurate for x near zero.\n",
      "\n"
     ]
    }
   ],
   "source": [
    "help(math.log1p)"
   ]
  },
  {
   "cell_type": "markdown",
   "id": "91aa601c-5d44-4ca6-9c5e-00cc69ac2260",
   "metadata": {},
   "source": [
    "## Built-in math library logarithmic functions\n",
    "\n",
    "- built-in $math.log(x, base)$: Returns the logarithm of $x$ to the given $base$ : $log_{e}(x)$. If base is not specified, it returns the natural logarithm (base e) of $x$.\n",
    "    - $math.log2(x)$: Returns the base-2 logarithm of $x$ : $log_{2}(x)$.\n",
    "    - $math.log10(x)$: Returns the base-10 logarithm of $x$ : $log_{10}(x)$.\n",
    "    - $math.log1p(x)$: Returns the natural logarithm of $1+x$: $log_{e}(1+x)$. The result is computed in a way which is accurate for $x$ near zero.\n",
    "\n",
    "**Error Conditions:**\n",
    "1. With negative input, math library's log functions generate math domain error.\n",
    "   One exception to above is $math.log1p(x)$ for $x>-1$ since this function evaluates $1+x$.\n",
    "2. For $math.log(x, base)$, if $base$=1, *ZeroDivisionError* is raised\n"
   ]
  },
  {
   "cell_type": "code",
   "execution_count": null,
   "id": "ebd327ba-8056-4f6c-9af1-a3de5c0a320d",
   "metadata": {},
   "outputs": [],
   "source": []
  },
  {
   "cell_type": "markdown",
   "id": "06ac6641-69f1-4c58-a584-99efb80d55d8",
   "metadata": {},
   "source": [
    "### $math.log(x, base)$ function\n",
    "\n",
    "Returns the logarithm of $x$ to the given $base$ : $log_{base}(x)$. If base is not specified, it returns the natural logarithm (base e) of $x$.\n",
    "\n",
    "This function evaluates for real $x > 0$, real $base > 1$"
   ]
  },
  {
   "cell_type": "code",
   "execution_count": 121,
   "id": "2a672c7d-81bf-4b7c-8fe9-8e2ab9d506c6",
   "metadata": {},
   "outputs": [
    {
     "name": "stdout",
     "output_type": "stream",
     "text": [
      "math.log(1000, 10): 2.9999999999999996\n",
      "math.log(81, 9): 2.0\n",
      "math.log(0.5, 2): -1.0\n"
     ]
    }
   ],
   "source": [
    "print(\"math.log(1000, 10):\", math.log(1000, 10)) ## 1000 = 10^3, so result should be 3\n",
    "print(\"math.log(81, 9):\", math.log(81, 9)) ## 81 = 9^2, so result should be 2\n",
    "print(\"math.log(0.5, 2):\", math.log(0.5, 2)) ## 1000 = 10^3, so result should be 3"
   ]
  },
  {
   "cell_type": "code",
   "execution_count": 110,
   "id": "de9d5e03-5991-4489-96cc-eafe8fff7fb9",
   "metadata": {},
   "outputs": [
    {
     "ename": "ValueError",
     "evalue": "math domain error",
     "output_type": "error",
     "traceback": [
      "\u001b[31m---------------------------------------------------------------------------\u001b[39m",
      "\u001b[31mValueError\u001b[39m                                Traceback (most recent call last)",
      "\u001b[36mCell\u001b[39m\u001b[36m \u001b[39m\u001b[32mIn[110]\u001b[39m\u001b[32m, line 1\u001b[39m\n\u001b[32m----> \u001b[39m\u001b[32m1\u001b[39m \u001b[38;5;28mprint\u001b[39m(math.log(-\u001b[32m1000\u001b[39m, \u001b[32m10\u001b[39m))\n",
      "\u001b[31mValueError\u001b[39m: math domain error"
     ]
    }
   ],
   "source": [
    "print(math.log(-1000, 10))  ## Error with negative log input"
   ]
  },
  {
   "cell_type": "code",
   "execution_count": 111,
   "id": "e7f1adc7-2b9f-4cdf-a3c5-6e830a60ed07",
   "metadata": {},
   "outputs": [
    {
     "ename": "ValueError",
     "evalue": "math domain error",
     "output_type": "error",
     "traceback": [
      "\u001b[31m---------------------------------------------------------------------------\u001b[39m",
      "\u001b[31mValueError\u001b[39m                                Traceback (most recent call last)",
      "\u001b[36mCell\u001b[39m\u001b[36m \u001b[39m\u001b[32mIn[111]\u001b[39m\u001b[32m, line 1\u001b[39m\n\u001b[32m----> \u001b[39m\u001b[32m1\u001b[39m \u001b[38;5;28mprint\u001b[39m(math.log(\u001b[32m1000\u001b[39m, -\u001b[32m10\u001b[39m))\n",
      "\u001b[31mValueError\u001b[39m: math domain error"
     ]
    }
   ],
   "source": [
    "print(math.log(1000, -10)) ## Error with negative base input"
   ]
  },
  {
   "cell_type": "code",
   "execution_count": 122,
   "id": "dd82ca9a-b43b-413f-939e-162185d24f6c",
   "metadata": {},
   "outputs": [
    {
     "ename": "ZeroDivisionError",
     "evalue": "float division by zero",
     "output_type": "error",
     "traceback": [
      "\u001b[31m---------------------------------------------------------------------------\u001b[39m",
      "\u001b[31mZeroDivisionError\u001b[39m                         Traceback (most recent call last)",
      "\u001b[36mCell\u001b[39m\u001b[36m \u001b[39m\u001b[32mIn[122]\u001b[39m\u001b[32m, line 1\u001b[39m\n\u001b[32m----> \u001b[39m\u001b[32m1\u001b[39m \u001b[38;5;28mprint\u001b[39m(\u001b[33m\"\u001b[39m\u001b[33mmath.log(100, 1):\u001b[39m\u001b[33m\"\u001b[39m, math.log(\u001b[32m100\u001b[39m, \u001b[32m1\u001b[39m))\n",
      "\u001b[31mZeroDivisionError\u001b[39m: float division by zero"
     ]
    }
   ],
   "source": [
    "print(\"math.log(100, 1):\", math.log(100, 1)) ## With base 1, ZeroDivisionError is raised"
   ]
  },
  {
   "cell_type": "code",
   "execution_count": null,
   "id": "f4c1ecde-2cfc-4fbd-ab85-91891e269e85",
   "metadata": {},
   "outputs": [],
   "source": []
  },
  {
   "cell_type": "code",
   "execution_count": 144,
   "id": "d5085854-eb2c-4a56-88ab-69bd3031905a",
   "metadata": {},
   "outputs": [
    {
     "ename": "TypeError",
     "evalue": "must be real number, not complex",
     "output_type": "error",
     "traceback": [
      "\u001b[31m---------------------------------------------------------------------------\u001b[39m",
      "\u001b[31mTypeError\u001b[39m                                 Traceback (most recent call last)",
      "\u001b[36mCell\u001b[39m\u001b[36m \u001b[39m\u001b[32mIn[144]\u001b[39m\u001b[32m, line 1\u001b[39m\n\u001b[32m----> \u001b[39m\u001b[32m1\u001b[39m \u001b[38;5;28mprint\u001b[39m(math.log(\u001b[32m10\u001b[39m + \u001b[32m30\u001b[39mj))\n",
      "\u001b[31mTypeError\u001b[39m: must be real number, not complex"
     ]
    }
   ],
   "source": [
    "print(math.log(10 + 30j))"
   ]
  },
  {
   "cell_type": "code",
   "execution_count": null,
   "id": "22ad98ac-9caa-4ee7-8b4e-1d7594f91db9",
   "metadata": {},
   "outputs": [],
   "source": []
  },
  {
   "cell_type": "code",
   "execution_count": null,
   "id": "1e0f1c55-53c0-439d-9d51-a5f9348522c8",
   "metadata": {},
   "outputs": [],
   "source": []
  },
  {
   "cell_type": "markdown",
   "id": "3d57dd10-3cfa-4dac-bae9-a3a216baa75c",
   "metadata": {},
   "source": [
    "### $math.log2(x)$ function\n",
    "\n",
    "Returns the base-2 logarithm of $x$ : $log_{2}(x)$.\n",
    "\n",
    "This function evaluates for real $x > 0$."
   ]
  },
  {
   "cell_type": "code",
   "execution_count": 120,
   "id": "0b71f6eb-3bbb-4a4a-a610-e511feafd35f",
   "metadata": {},
   "outputs": [
    {
     "name": "stdout",
     "output_type": "stream",
     "text": [
      "math.log2(10) 3.321928094887362\n",
      "math.log2(8) 3.0\n",
      "math.log2(81) 6.339850002884624\n"
     ]
    }
   ],
   "source": [
    "print(\"math.log2(10):\", math.log2(10))\n",
    "print(\"math.log2(8):\", math.log2(8))\n",
    "print(\"math.log2(81):\", math.log2(81))"
   ]
  },
  {
   "cell_type": "code",
   "execution_count": null,
   "id": "b92cbe5f-a1be-4bcb-9de6-9a2cf0244666",
   "metadata": {},
   "outputs": [],
   "source": []
  },
  {
   "cell_type": "code",
   "execution_count": 112,
   "id": "92c737cb-b179-4fda-8572-341abe86dedd",
   "metadata": {},
   "outputs": [
    {
     "ename": "ValueError",
     "evalue": "math domain error",
     "output_type": "error",
     "traceback": [
      "\u001b[31m---------------------------------------------------------------------------\u001b[39m",
      "\u001b[31mValueError\u001b[39m                                Traceback (most recent call last)",
      "\u001b[36mCell\u001b[39m\u001b[36m \u001b[39m\u001b[32mIn[112]\u001b[39m\u001b[32m, line 1\u001b[39m\n\u001b[32m----> \u001b[39m\u001b[32m1\u001b[39m \u001b[38;5;28mprint\u001b[39m( math.log2(-\u001b[32m10\u001b[39m))\n",
      "\u001b[31mValueError\u001b[39m: math domain error"
     ]
    }
   ],
   "source": [
    "print(math.log2(-10))"
   ]
  },
  {
   "cell_type": "code",
   "execution_count": 145,
   "id": "e1e74577-90fe-4ab3-9add-83b3bd32f7f1",
   "metadata": {},
   "outputs": [
    {
     "ename": "TypeError",
     "evalue": "must be real number, not complex",
     "output_type": "error",
     "traceback": [
      "\u001b[31m---------------------------------------------------------------------------\u001b[39m",
      "\u001b[31mTypeError\u001b[39m                                 Traceback (most recent call last)",
      "\u001b[36mCell\u001b[39m\u001b[36m \u001b[39m\u001b[32mIn[145]\u001b[39m\u001b[32m, line 1\u001b[39m\n\u001b[32m----> \u001b[39m\u001b[32m1\u001b[39m \u001b[38;5;28mprint\u001b[39m(math.log2(\u001b[32m10\u001b[39m + \u001b[32m30\u001b[39mj))\n",
      "\u001b[31mTypeError\u001b[39m: must be real number, not complex"
     ]
    }
   ],
   "source": [
    "print(math.log2(10 + 30j))"
   ]
  },
  {
   "cell_type": "code",
   "execution_count": null,
   "id": "fcb860de-f01d-43ed-a9c3-2aa911c7080b",
   "metadata": {},
   "outputs": [],
   "source": []
  },
  {
   "cell_type": "code",
   "execution_count": null,
   "id": "20c2e61a-fb69-4878-9ee0-ed3928f790ae",
   "metadata": {},
   "outputs": [],
   "source": []
  },
  {
   "cell_type": "markdown",
   "id": "dd5e95bf-359d-4680-9537-60f6ad6082b4",
   "metadata": {},
   "source": [
    "### $math.log10(x)$ function\n",
    "\n",
    "Returns the base-10 logarithm of $x$ : $log_{10}(x)$.\n",
    "\n",
    "This function evaluates for real $x > 0$."
   ]
  },
  {
   "cell_type": "code",
   "execution_count": 119,
   "id": "c201f2fa-51df-4bb9-97f3-870fc80a4dd8",
   "metadata": {},
   "outputs": [
    {
     "name": "stdout",
     "output_type": "stream",
     "text": [
      "math.log10(55):  1.7403626894942439\n",
      "math.log10(10000):  4.0\n"
     ]
    }
   ],
   "source": [
    "print(\"math.log10(55): \", math.log10(55))\n",
    "print(\"math.log10(10000): \", math.log10(10000))"
   ]
  },
  {
   "cell_type": "code",
   "execution_count": null,
   "id": "16283077-dbe4-47e7-9ac4-089917436ab8",
   "metadata": {},
   "outputs": [],
   "source": []
  },
  {
   "cell_type": "code",
   "execution_count": 115,
   "id": "680d651c-6a7b-41d7-bee1-9afb06c55649",
   "metadata": {},
   "outputs": [
    {
     "ename": "ValueError",
     "evalue": "math domain error",
     "output_type": "error",
     "traceback": [
      "\u001b[31m---------------------------------------------------------------------------\u001b[39m",
      "\u001b[31mValueError\u001b[39m                                Traceback (most recent call last)",
      "\u001b[36mCell\u001b[39m\u001b[36m \u001b[39m\u001b[32mIn[115]\u001b[39m\u001b[32m, line 1\u001b[39m\n\u001b[32m----> \u001b[39m\u001b[32m1\u001b[39m \u001b[38;5;28mprint\u001b[39m(math.log10(-\u001b[32m55\u001b[39m))\n",
      "\u001b[31mValueError\u001b[39m: math domain error"
     ]
    }
   ],
   "source": [
    "print(math.log10(-55))"
   ]
  },
  {
   "cell_type": "code",
   "execution_count": 146,
   "id": "4d0cdf41-46db-448a-bd6f-5cfa027618f3",
   "metadata": {},
   "outputs": [
    {
     "ename": "TypeError",
     "evalue": "must be real number, not complex",
     "output_type": "error",
     "traceback": [
      "\u001b[31m---------------------------------------------------------------------------\u001b[39m",
      "\u001b[31mTypeError\u001b[39m                                 Traceback (most recent call last)",
      "\u001b[36mCell\u001b[39m\u001b[36m \u001b[39m\u001b[32mIn[146]\u001b[39m\u001b[32m, line 1\u001b[39m\n\u001b[32m----> \u001b[39m\u001b[32m1\u001b[39m \u001b[38;5;28mprint\u001b[39m(math.log10(\u001b[32m10\u001b[39m + \u001b[32m30\u001b[39mj))\n",
      "\u001b[31mTypeError\u001b[39m: must be real number, not complex"
     ]
    }
   ],
   "source": [
    "print(math.log10(10 + 30j))"
   ]
  },
  {
   "cell_type": "code",
   "execution_count": null,
   "id": "82925693-c0a9-41bf-9125-9674cc8efc7b",
   "metadata": {},
   "outputs": [],
   "source": []
  },
  {
   "cell_type": "code",
   "execution_count": null,
   "id": "c51ac020-7d25-4916-9a2d-bb7c0f72ded3",
   "metadata": {},
   "outputs": [],
   "source": []
  },
  {
   "cell_type": "markdown",
   "id": "c23133fe-9824-4d12-a611-47d2ef9d5826",
   "metadata": {},
   "source": [
    "### $math.log1p(x)$ function\n",
    "\n",
    "Returns the natural logarithm of $1+x$ : $log_{e}(1+x)$.\n",
    "\n",
    "This function evaluates for real $x > -1$ -> negative numbers greater than -1 are allowed as the function actually evaluates $(1+x)$."
   ]
  },
  {
   "cell_type": "code",
   "execution_count": 118,
   "id": "13dd425b-d1fe-4a8c-af7f-7b7b93b8b37b",
   "metadata": {},
   "outputs": [
    {
     "name": "stdout",
     "output_type": "stream",
     "text": [
      "math.log1p(0.000000000001):  9.999999999995e-13\n"
     ]
    }
   ],
   "source": [
    "print(\"math.log1p(0.000000000001): \", math.log1p(0.000000000001))"
   ]
  },
  {
   "cell_type": "code",
   "execution_count": null,
   "id": "d5bc7ace-a920-4296-a026-d0c810ea28ab",
   "metadata": {},
   "outputs": [],
   "source": []
  },
  {
   "cell_type": "code",
   "execution_count": 114,
   "id": "ab631e65-3876-49da-9ad2-d45d4cb9f8f2",
   "metadata": {},
   "outputs": [
    {
     "name": "stdout",
     "output_type": "stream",
     "text": [
      "-1.0000000000005e-12\n"
     ]
    }
   ],
   "source": [
    "print(math.log1p(-0.000000000001)) ## Input < 0 but >-1"
   ]
  },
  {
   "cell_type": "code",
   "execution_count": 116,
   "id": "84383ed6-d1f8-4d8e-9a67-ba747b33a9d7",
   "metadata": {},
   "outputs": [
    {
     "ename": "ValueError",
     "evalue": "math domain error",
     "output_type": "error",
     "traceback": [
      "\u001b[31m---------------------------------------------------------------------------\u001b[39m",
      "\u001b[31mValueError\u001b[39m                                Traceback (most recent call last)",
      "\u001b[36mCell\u001b[39m\u001b[36m \u001b[39m\u001b[32mIn[116]\u001b[39m\u001b[32m, line 1\u001b[39m\n\u001b[32m----> \u001b[39m\u001b[32m1\u001b[39m \u001b[38;5;28mprint\u001b[39m(math.log1p(-\u001b[32m3\u001b[39m))\n",
      "\u001b[31mValueError\u001b[39m: math domain error"
     ]
    }
   ],
   "source": [
    "print(math.log1p(-3)) ## Input < -1"
   ]
  },
  {
   "cell_type": "code",
   "execution_count": null,
   "id": "2b97381c-df34-4804-810d-ce07961d3d31",
   "metadata": {},
   "outputs": [],
   "source": []
  },
  {
   "cell_type": "code",
   "execution_count": null,
   "id": "51192220-5587-49f0-9762-efd7d7e4af6a",
   "metadata": {},
   "outputs": [],
   "source": []
  },
  {
   "cell_type": "markdown",
   "id": "90f556b2-93c9-41cd-b84a-658eb95fd024",
   "metadata": {},
   "source": [
    "## cmath logarithmic functions\n",
    "\n",
    "cmath library logarithmic functions allow complex numbers as input.\n",
    "\n",
    "$cmath.log(x, base)$: Returns logarithm of $x$ to the given $base$ : $log_{base}(x)$. If base is not specified, it returns the natural logarithm (base e) of $x$ ($log_{e}(x)$).\n",
    "      - $cmath.log10(x)$: Returns the base-10 logarithm of $x$ : $log_{10}(x)$."
   ]
  },
  {
   "cell_type": "markdown",
   "id": "e4595546-6bc7-494d-aff5-a7c17fdc54b7",
   "metadata": {},
   "source": [
    "### $cmath.log(x, base)$ function\n",
    "\n",
    "Returns the logarithm of $x$ to the given $base$ : $log_{base}(x)$. If base is not specified, it returns the natural logarithm (base e) of $x$.\n",
    "\n",
    "This function evaluates for real $x > 0$, real $base > 1$"
   ]
  },
  {
   "cell_type": "code",
   "execution_count": 40,
   "id": "70698b7b-7d86-4827-9031-89a1279d1f31",
   "metadata": {},
   "outputs": [
    {
     "name": "stdout",
     "output_type": "stream",
     "text": [
      "cmath.log with real number input : cmath.log(10) (2.302585092994046+0j)\n",
      "cmath.log with imaginary number input : cmath.log(-2j) (0.6931471805599453-1.5707963267948966j)\n",
      "cmath.log with complex number input : cmath.log(20+5j) (3.0260445844622086+0.24497866312686414j)\n"
     ]
    }
   ],
   "source": [
    "print(\"cmath.log with real number input : cmath.log(10)\", cmath.log(10))\n",
    "print(\"cmath.log with imaginary number input : cmath.log(-2j)\", cmath.log(-2j))\n",
    "print(\"cmath.log with complex number input : cmath.log(20+5j)\", cmath.log(20+5j))"
   ]
  },
  {
   "cell_type": "code",
   "execution_count": null,
   "id": "c9abe955-5df3-4f48-96a1-108c8d83620a",
   "metadata": {},
   "outputs": [],
   "source": []
  },
  {
   "cell_type": "code",
   "execution_count": null,
   "id": "c32d4438-e294-4295-9ae9-336c277c0322",
   "metadata": {},
   "outputs": [],
   "source": []
  },
  {
   "cell_type": "markdown",
   "id": "813e5951-f879-4b57-8cbc-0caf32cda96a",
   "metadata": {},
   "source": [
    "### $cmath.log10(x)$ function\n",
    "\n",
    "Returns the logarithm of $x$ to the given $base$ : $log_{base}(x)$. If base is not specified, it returns the natural logarithm (base e) of $x$.\n",
    "\n",
    "This function evaluates for real $x > 0$, real $base > 1$"
   ]
  },
  {
   "cell_type": "code",
   "execution_count": 41,
   "id": "4c5cbe58-0a7b-45c1-b35b-ba7ea3052adb",
   "metadata": {},
   "outputs": [
    {
     "name": "stdout",
     "output_type": "stream",
     "text": [
      "cmath.log10 with real number input : cmath.log10(10) (1+0j)\n",
      "cmath.log10 with imaginary number input : cmath.log10(-2j) (0.30102999566398114-0.6821881769209206j)\n",
      "cmath.log10 with complex number input : cmath.log10(20+5j) (1.3141944650251558+0.10639288158003271j)\n"
     ]
    }
   ],
   "source": [
    "print(\"cmath.log10 with real number input : cmath.log10(10)\", cmath.log10(10))\n",
    "print(\"cmath.log10 with imaginary number input : cmath.log10(-2j)\", cmath.log10(-2j))\n",
    "print(\"cmath.log10 with complex number input : cmath.log10(20+5j)\", cmath.log10(20+5j))"
   ]
  },
  {
   "cell_type": "code",
   "execution_count": null,
   "id": "fa718cef-7269-476d-89b0-6f38c0376aee",
   "metadata": {},
   "outputs": [],
   "source": []
  },
  {
   "cell_type": "code",
   "execution_count": null,
   "id": "c7f5356c-b278-4d09-939e-7fe9301cb4f9",
   "metadata": {},
   "outputs": [],
   "source": []
  },
  {
   "cell_type": "markdown",
   "id": "cb33fccb-d000-407f-8f57-911cc2069a2e",
   "metadata": {},
   "source": [
    "## numpy library logarithmic functions\n",
    "\n",
    "- [$np.log(x)$](https://numpy.org/doc/stable/reference/generated/numpy.log.html): Returns natural logarithm of $x$ : $log_{e}(x)$ for real $x$ > 0.\n",
    "    - [$np.log2(x)$](https://numpy.org/doc/stable/reference/generated/numpy.log2.html): Returns the base-2 logarithm of $x$ : $log_{2}(x)$ for real $x$ > 0.\n",
    "    - [$np.log10(x)$](https://numpy.org/doc/stable/reference/generated/numpy.log10.html#): Returns the base-10 logarithm of $x$ : $log_{10}(x)$ for real $x$ > 0.\n",
    "    - [$np.log1p(x)$](https://numpy.org/doc/stable/reference/generated/numpy.log1p.html): Returns the natural logarithm of $1+x$ : $log_{e}(1+x)$ for real $x$ > 0. The result is computed in a way which is accurate for $x$ near zero. <br>\n",
    "\n",
    "\n",
    "- [$np.emath.logn(n,x)$](https://numpy.org/doc/stable/reference/generated/numpy.emath.logn.html) : Returns logarithm of $x$ to base $n$: $log_{n}(x)$ for $x$ ! = 0 or `np.inf` -> $x$ and $n$ should not be zero simultaneously. <br>\n",
    "    - [$np.emath.log(x)$](https://numpy.org/doc/stable/reference/generated/numpy.emath.log.html#numpy.emath.log) : Returns natural logarithm of $x$ : $log_{e}(x)$ for $x$ ! = 0 or `np.inf`. <br>\n",
    "    - [$np.emath.log2(x)$](https://numpy.org/doc/stable/reference/generated/numpy.emath.log2.html): Returns the base-2 logarithm of $x$ : $log_{2}(x)$ for $x$ ! = 0 or `np.inf`.\n",
    "    - [$np.emath.log10(x)$](https://numpy.org/doc/stable/reference/generated/numpy.emath.logn.html): Returns the base-10 logarithm of $x$ : $log_{10}(x)$ for $x$ ! = 0 or `np.inf`.\n",
    "\n",
    "\n",
    "**Note:**\n",
    "1. $np.log()$ functions can take either single scalar or single array as input - in latter case, the ouput is array of logarithms. <br>\n",
    "    In case of negative inputs, numpy generates error and returns `nan` as output.\n",
    "2. $np.emath.logn()$ functions can take real, imaginary and complex numbers as input and return a compex number as output. <br>\n",
    "    If $x$ = 0, error is raised and $-inf$ is generated as output. <br>\n",
    "    If $x$ = $np.inf$, $inf$ is generated as output."
   ]
  },
  {
   "cell_type": "markdown",
   "id": "81a78f5e-383b-42ff-9fed-8ee6fe639d07",
   "metadata": {},
   "source": [
    "### $np.log(x)$, $np.log2(x)$, $np.log10(x)$, $np.log1p(x)$ functions\n",
    "\n",
    "- $np.log(x)$ : Returns natural logarithm of $x$ : $log_{e}(x)$ for real $x$ > 0.\n",
    "    - $np.log2(x)$ : Returns the base-2 logarithm of $x$ : $log_{2}(x)$ for real $x$ > 0.\n",
    "    - $np.log10(x)$ : Returns the base-10 logarithm of $x$ : $log_{10}(x)$ for real $x$ > 0.\n",
    "    - $np.log1p(x)$ : Returns the natural logarithm of $1+x$ : $log_{e}(1+x)$ for real $x$ > 0. The result is computed in a way which is accurate for $x$ near zero. <br>\n",
    "\n",
    "$np.log()$ functions can take either single scalar or single array as input - in latter case, the ouput is array of logarithms.\n",
    "In case of negative inputs, numpy generates error and returns `nan` as output."
   ]
  },
  {
   "cell_type": "code",
   "execution_count": null,
   "id": "b389dcc0-08b6-4ad5-acbe-44c3beec421b",
   "metadata": {},
   "outputs": [],
   "source": []
  },
  {
   "cell_type": "code",
   "execution_count": 43,
   "id": "09885682-711e-424c-92aa-d5f306783b18",
   "metadata": {
    "scrolled": true
   },
   "outputs": [
    {
     "name": "stdout",
     "output_type": "stream",
     "text": [
      "Help on ufunc in module numpy:\n",
      "\n",
      "log = <ufunc 'log'>\n",
      "    log(x, /, out=None, *, where=True, casting='same_kind', order='K', dtype=None, subok=True[, signature])\n",
      "\n",
      "    Natural logarithm, element-wise.\n",
      "\n",
      "    The natural logarithm `log` is the inverse of the exponential function,\n",
      "    so that `log(exp(x)) = x`. The natural logarithm is logarithm in base\n",
      "    `e`.\n",
      "\n",
      "    Parameters\n",
      "    ----------\n",
      "    x : array_like\n",
      "        Input value.\n",
      "    out : ndarray, None, or tuple of ndarray and None, optional\n",
      "        A location into which the result is stored. If provided, it must have\n",
      "        a shape that the inputs broadcast to. If not provided or None,\n",
      "        a freshly-allocated array is returned. A tuple (possible only as a\n",
      "        keyword argument) must have length equal to the number of outputs.\n",
      "    where : array_like, optional\n",
      "        This condition is broadcast over the input. At locations where the\n",
      "        condition is True, the `out` array will be set to the ufunc result.\n",
      "        Elsewhere, the `out` array will retain its original value.\n",
      "        Note that if an uninitialized `out` array is created via the default\n",
      "        ``out=None``, locations within it where the condition is False will\n",
      "        remain uninitialized.\n",
      "    **kwargs\n",
      "        For other keyword-only arguments, see the\n",
      "        :ref:`ufunc docs <ufuncs.kwargs>`.\n",
      "\n",
      "    Returns\n",
      "    -------\n",
      "    y : ndarray\n",
      "        The natural logarithm of `x`, element-wise.\n",
      "        This is a scalar if `x` is a scalar.\n",
      "\n",
      "    See Also\n",
      "    --------\n",
      "    log10, log2, log1p, emath.log\n",
      "\n",
      "    Notes\n",
      "    -----\n",
      "    Logarithm is a multivalued function: for each `x` there is an infinite\n",
      "    number of `z` such that `exp(z) = x`. The convention is to return the\n",
      "    `z` whose imaginary part lies in `(-pi, pi]`.\n",
      "\n",
      "    For real-valued input data types, `log` always returns real output. For\n",
      "    each value that cannot be expressed as a real number or infinity, it\n",
      "    yields ``nan`` and sets the `invalid` floating point error flag.\n",
      "\n",
      "    For complex-valued input, `log` is a complex analytical function that\n",
      "    has a branch cut `[-inf, 0]` and is continuous from above on it. `log`\n",
      "    handles the floating-point negative zero as an infinitesimal negative\n",
      "    number, conforming to the C99 standard.\n",
      "\n",
      "    In the cases where the input has a negative real part and a very small\n",
      "    negative complex part (approaching 0), the result is so close to `-pi`\n",
      "    that it evaluates to exactly `-pi`.\n",
      "\n",
      "    References\n",
      "    ----------\n",
      "    .. [1] M. Abramowitz and I.A. Stegun, \"Handbook of Mathematical Functions\",\n",
      "           10th printing, 1964, pp. 67.\n",
      "           https://personal.math.ubc.ca/~cbm/aands/page_67.htm\n",
      "    .. [2] Wikipedia, \"Logarithm\". https://en.wikipedia.org/wiki/Logarithm\n",
      "\n",
      "    Examples\n",
      "    --------\n",
      "    >>> import numpy as np\n",
      "    >>> np.log([1, np.e, np.e**2, 0])\n",
      "    array([  0.,   1.,   2., -inf])\n",
      "\n"
     ]
    }
   ],
   "source": [
    "help(np.log)"
   ]
  },
  {
   "cell_type": "code",
   "execution_count": null,
   "id": "cb9f199f-403e-4513-8776-73011928ec2c",
   "metadata": {},
   "outputs": [],
   "source": []
  },
  {
   "cell_type": "code",
   "execution_count": 8,
   "id": "0995a863-47ec-4b4a-ad34-b828c88a6500",
   "metadata": {},
   "outputs": [
    {
     "name": "stdout",
     "output_type": "stream",
     "text": [
      "2.302585092994046\n",
      "nan\n"
     ]
    },
    {
     "name": "stderr",
     "output_type": "stream",
     "text": [
      "C:\\Users\\Aditya\\AppData\\Local\\Temp\\ipykernel_9976\\1063453412.py:3: RuntimeWarning: invalid value encountered in log\n",
      "  print(np.log(-10))\n"
     ]
    }
   ],
   "source": [
    "import numpy as np\n",
    "print(np.log(10))\n",
    "print(np.log(-10))"
   ]
  },
  {
   "cell_type": "code",
   "execution_count": 10,
   "id": "6b7597ea-0f73-4e4a-b181-0d2349e63256",
   "metadata": {},
   "outputs": [
    {
     "name": "stdout",
     "output_type": "stream",
     "text": [
      "3.321928094887362\n",
      "nan\n"
     ]
    },
    {
     "name": "stderr",
     "output_type": "stream",
     "text": [
      "C:\\Users\\Aditya\\AppData\\Local\\Temp\\ipykernel_9976\\1707154433.py:3: RuntimeWarning: invalid value encountered in log2\n",
      "  print(np.log2(-10))\n"
     ]
    }
   ],
   "source": [
    "import numpy as np\n",
    "print(np.log2(10))\n",
    "print(np.log2(-10))"
   ]
  },
  {
   "cell_type": "code",
   "execution_count": 11,
   "id": "e8b06f96-b185-49be-b1cb-8c4f78c93671",
   "metadata": {},
   "outputs": [
    {
     "name": "stdout",
     "output_type": "stream",
     "text": [
      "1.0\n",
      "nan\n"
     ]
    },
    {
     "name": "stderr",
     "output_type": "stream",
     "text": [
      "C:\\Users\\Aditya\\AppData\\Local\\Temp\\ipykernel_9976\\2575734679.py:3: RuntimeWarning: invalid value encountered in log10\n",
      "  print(np.log10(-10))\n"
     ]
    }
   ],
   "source": [
    "import numpy as np\n",
    "print(np.log10(10))\n",
    "print(np.log10(-10))"
   ]
  },
  {
   "cell_type": "code",
   "execution_count": 12,
   "id": "4a724152-de06-40dd-b7a6-9c14ec659cfb",
   "metadata": {},
   "outputs": [
    {
     "name": "stdout",
     "output_type": "stream",
     "text": [
      "2.3978952727983707\n",
      "nan\n"
     ]
    },
    {
     "name": "stderr",
     "output_type": "stream",
     "text": [
      "C:\\Users\\Aditya\\AppData\\Local\\Temp\\ipykernel_9976\\2023164776.py:3: RuntimeWarning: invalid value encountered in log1p\n",
      "  print(np.log1p(-10))\n"
     ]
    }
   ],
   "source": [
    "import numpy as np\n",
    "print(np.log1p(10))\n",
    "print(np.log1p(-10))"
   ]
  },
  {
   "cell_type": "code",
   "execution_count": null,
   "id": "b3bc3eed-8db2-40cf-a8be-cff5df1e752f",
   "metadata": {},
   "outputs": [],
   "source": []
  },
  {
   "cell_type": "code",
   "execution_count": 47,
   "id": "6c1e0316-f69f-42bf-90ae-e5241297a13a",
   "metadata": {},
   "outputs": [
    {
     "name": "stdout",
     "output_type": "stream",
     "text": [
      "[1 2 3 4 5 6 7 8 9] \n",
      "\n",
      "np.log() over ndarray:  [0.         0.69314718 1.09861229 1.38629436 1.60943791 1.79175947\n",
      " 1.94591015 2.07944154 2.19722458]\n",
      "np.log2() over ndarray:  [0.         1.         1.5849625  2.         2.32192809 2.5849625\n",
      " 2.80735492 3.         3.169925  ]\n",
      "np.log10() over ndarray:  [0.         0.30103    0.47712125 0.60205999 0.69897    0.77815125\n",
      " 0.84509804 0.90308999 0.95424251]\n",
      "np.log1p() over ndarray:  [0.69314718 1.09861229 1.38629436 1.60943791 1.79175947 1.94591015\n",
      " 2.07944154 2.19722458 2.30258509]\n"
     ]
    }
   ],
   "source": [
    "import numpy as np\n",
    "\n",
    "## numpy log on ndarrays\n",
    "\n",
    "array1 = np.arange(1, 10)\n",
    "print(array1, \"\\n\")\n",
    "\n",
    "print(\"np.log() over ndarray: \", np.log(array1))\n",
    "print(\"np.log2() over ndarray: \", np.log2(array1))\n",
    "print(\"np.log10() over ndarray: \", np.log10(array1))\n",
    "print(\"np.log1p() over ndarray: \", np.log1p(array1))"
   ]
  },
  {
   "cell_type": "code",
   "execution_count": null,
   "id": "0a36d18b-68fe-4cb5-949a-b7f609bedfcf",
   "metadata": {},
   "outputs": [],
   "source": []
  },
  {
   "cell_type": "code",
   "execution_count": null,
   "id": "35124355-dc17-4868-8426-824efdb89a1f",
   "metadata": {},
   "outputs": [],
   "source": []
  },
  {
   "cell_type": "code",
   "execution_count": null,
   "id": "1ac854e5-4b23-4715-81dd-d2127d841114",
   "metadata": {},
   "outputs": [],
   "source": []
  },
  {
   "cell_type": "code",
   "execution_count": null,
   "id": "3b5fa2c3-af3d-4b09-8079-5b7593ecf617",
   "metadata": {},
   "outputs": [],
   "source": []
  },
  {
   "cell_type": "markdown",
   "id": "db78273e-4f5e-485d-b31c-aa0772c059b2",
   "metadata": {},
   "source": [
    "### $np.emath.logn(n, x)$, $np.emath.log(x)$, $np.emath.log2(x)$, $np.emath.log10(x)$ functions\n",
    "\n",
    "$np.emath.logn(n,x)$ : Returns logarithm of $x$ to base $n$: $log_{n}(x)$ for $x$ ! = 0 or `np.inf` -> $x$ and $n$ should not be zero simultaneously. <br>\n",
    "- $np.emath.log(x)$ : Returns natural logarithm of $x$ : $log_{e}(x)$ for $x$ ! = 0 or `np.inf`\n",
    "- $np.emath.log2(x)$ : Returns the base-2 logarithm of $x$ : $log_{2}(x)$ for $x$ ! = 0 or `np.inf`.\n",
    "- $np.emath.log10(x)$ : Returns the base-10 logarithm of $x$ : $log_{10}(x)$ for $x$ ! = 0 or `np.inf`.\n",
    "\n",
    "\n",
    "**Note:**\n",
    "$np.emath.logn()$ functions can take negative numbers as input and return a complex number as output.\n",
    "1. If $x$ = 0, error is raised and $-inf$ is generated as output.\n",
    "2. If $x$ = $np.inf$, $inf$ is generated as output.\n",
    "3. For $np.emath.logn(n,x)$ , if both $x$ and $n$ are zero, `nan` is returned as output.\n",
    "4. For $np.emath.logn(n,x)$, if both $x$ and $n$ are `np.inf`, `nan` is returned as output.\n",
    "5. For $np.emath.logn(n,x)$, if the base $n$ can be a negative number or complex number."
   ]
  },
  {
   "cell_type": "code",
   "execution_count": 61,
   "id": "3fa95b74-8d18-4af5-9b6b-f14d4edb8c2c",
   "metadata": {},
   "outputs": [
    {
     "name": "stdout",
     "output_type": "stream",
     "text": [
      "np.emath.logn with positive base and input:  2.095903274289385\n",
      "np.emath.logn with negative base and positive input:  (0.3442307124814796-0.4921812219954591j)\n",
      "np.emath.logn with positive base and negative input:  (1.1073093649624544+1.510786713942398j)\n"
     ]
    }
   ],
   "source": [
    "import numpy as np\n",
    "\n",
    "print(\"np.emath.logn with positive base and input: \", np.emath.logn(3, 10))\n",
    "print(\"np.emath.logn with negative base and positive input: \", np.emath.logn(-9, 10))\n",
    "print(\"np.emath.logn with positive base and negative input: \", np.emath.logn(8, -10))"
   ]
  },
  {
   "cell_type": "code",
   "execution_count": null,
   "id": "b42c9231-a5e8-47f9-897d-8909e4252449",
   "metadata": {},
   "outputs": [],
   "source": []
  },
  {
   "cell_type": "code",
   "execution_count": 60,
   "id": "6a0f1874-f4bb-4167-b03f-9a37298b3ebb",
   "metadata": {},
   "outputs": [
    {
     "name": "stdout",
     "output_type": "stream",
     "text": [
      "3.321928094887362\n",
      "(3.3219280948873626+4.532360141827193j)\n",
      "1.0\n",
      "(1+1.3643763538418412j)\n",
      "-18.420680743952367\n",
      "(-18.420680743952367+3.141592653589793j)\n"
     ]
    }
   ],
   "source": [
    "import numpy as np\n",
    "\n",
    "## np.emath.log(), log2 and log10() functions on scalars\n",
    "print(np.emath.log(10))\n",
    "print(np.emath.log(-10))\n",
    "\n",
    "print(np.emath.log2(10))\n",
    "print(np.emath.log2(-10))\n",
    "\n",
    "print(np.emath.log10(10))\n",
    "print(np.emath.log10(-10))"
   ]
  },
  {
   "cell_type": "code",
   "execution_count": null,
   "id": "7e6bc1a8-b008-4e12-9a7d-be166a07000a",
   "metadata": {},
   "outputs": [],
   "source": []
  },
  {
   "cell_type": "code",
   "execution_count": null,
   "id": "04134367-278f-4773-b379-03e2083ec479",
   "metadata": {},
   "outputs": [],
   "source": []
  },
  {
   "cell_type": "code",
   "execution_count": 50,
   "id": "ac1656a0-eb4a-4963-8789-3f9f1e6b110f",
   "metadata": {},
   "outputs": [
    {
     "name": "stdout",
     "output_type": "stream",
     "text": [
      "[-10  -9  -8  -7  -6  -5  -4  -3  -2  -1   0   1   2   3   4   5   6   7\n",
      "   8   9] \n",
      "\n",
      "[0.76862179+1.04868939j 0.73345158+1.04868939j 0.69413464+1.04868939j\n",
      " 0.64956077+1.04868939j 0.598104  +1.04868939j 0.53724357+1.04868939j\n",
      " 0.46275643+1.04868939j 0.36672579+1.04868939j 0.23137821+1.04868939j\n",
      " 0.        +1.04868939j       -inf       +nanj 0.        +0.j\n",
      " 0.23137821+0.j         0.36672579+0.j         0.46275643+0.j\n",
      " 0.53724357+0.j         0.598104  +0.j         0.64956077+0.j\n",
      " 0.69413464+0.j         0.73345158+0.j        ]\n",
      "[2.30258509+3.14159265j 2.19722458+3.14159265j 2.07944154+3.14159265j\n",
      " 1.94591015+3.14159265j 1.79175947+3.14159265j 1.60943791+3.14159265j\n",
      " 1.38629436+3.14159265j 1.09861229+3.14159265j 0.69314718+3.14159265j\n",
      " 0.        +3.14159265j       -inf+0.j         0.        +0.j\n",
      " 0.69314718+0.j         1.09861229+0.j         1.38629436+0.j\n",
      " 1.60943791+0.j         1.79175947+0.j         1.94591015+0.j\n",
      " 2.07944154+0.j         2.19722458+0.j        ]\n",
      "[3.32192809+4.53236014j 3.169925  +4.53236014j 3.        +4.53236014j\n",
      " 2.80735492+4.53236014j 2.5849625 +4.53236014j 2.32192809+4.53236014j\n",
      " 2.        +4.53236014j 1.5849625 +4.53236014j 1.        +4.53236014j\n",
      " 0.        +4.53236014j       -inf+0.j         0.        +0.j\n",
      " 1.        +0.j         1.5849625 +0.j         2.        +0.j\n",
      " 2.32192809+0.j         2.5849625 +0.j         2.80735492+0.j\n",
      " 3.        +0.j         3.169925  +0.j        ]\n",
      "[1.        +1.36437635j 0.95424251+1.36437635j 0.90308999+1.36437635j\n",
      " 0.84509804+1.36437635j 0.77815125+1.36437635j 0.69897   +1.36437635j\n",
      " 0.60205999+1.36437635j 0.47712125+1.36437635j 0.30103   +1.36437635j\n",
      " 0.        +1.36437635j       -inf+0.j         0.        +0.j\n",
      " 0.30103   +0.j         0.47712125+0.j         0.60205999+0.j\n",
      " 0.69897   +0.j         0.77815125+0.j         0.84509804+0.j\n",
      " 0.90308999+0.j         0.95424251+0.j        ]\n"
     ]
    }
   ],
   "source": [
    "import numpy as np\n",
    "\n",
    "array1 = np.arange(-10,10)\n",
    "print(array1, \"\\n\")\n",
    "\n",
    "print(np.emath.logn(20, array1))\n",
    "print(np.emath.log(array1))\n",
    "print(np.emath.log2(array1))\n",
    "print(np.emath.log10(array1))\n"
   ]
  },
  {
   "cell_type": "code",
   "execution_count": null,
   "id": "7caeb288-1acf-4471-9c6a-10f295532d63",
   "metadata": {},
   "outputs": [],
   "source": []
  },
  {
   "cell_type": "code",
   "execution_count": 74,
   "id": "520d1b14-8001-45ec-806f-1c1295dea359",
   "metadata": {},
   "outputs": [
    {
     "name": "stdout",
     "output_type": "stream",
     "text": [
      "np.emath.log with zero input:  -inf\n",
      "np.emath.log2 with zero input:  -inf\n",
      "np.emath.log10 with zero input:  -inf\n",
      "np.emath.logn with zero base and input:  -inf\n"
     ]
    }
   ],
   "source": [
    "import numpy as np\n",
    "\n",
    "## np.logn() functions on 0 -> all of the following result in `nan` as output \n",
    "print(\"np.emath.log with zero input: \", np.emath.log(0))\n",
    "print(\"np.emath.log2 with zero input: \", np.emath.log2(0))\n",
    "print(\"np.emath.log10 with zero input: \", np.emath.log10(0))\n",
    "\n",
    "print(\"np.emath.logn with zero base and input: \", np.emath.logn(10, 0))"
   ]
  },
  {
   "cell_type": "code",
   "execution_count": null,
   "id": "e69953f6-f242-4ec1-ae6e-56245d9dd2cf",
   "metadata": {},
   "outputs": [],
   "source": []
  },
  {
   "cell_type": "code",
   "execution_count": 56,
   "id": "552dc718-1951-4599-9f7b-ad75e6085dd1",
   "metadata": {},
   "outputs": [
    {
     "name": "stdout",
     "output_type": "stream",
     "text": [
      "np.emath.logn with zero base and input:  nan\n"
     ]
    }
   ],
   "source": [
    "import numpy as np\n",
    "\n",
    "print(\"np.emath.logn with zero base and input: \", np.emath.logn(0, 0))"
   ]
  },
  {
   "cell_type": "code",
   "execution_count": 69,
   "id": "6435c189-d531-4235-b0a3-ab4b9fdf60db",
   "metadata": {},
   "outputs": [
    {
     "name": "stdout",
     "output_type": "stream",
     "text": [
      "(inf+infj)\n"
     ]
    }
   ],
   "source": [
    "import numpy as np\n",
    "\n",
    "print(\"np.emath.logn with complex base and infinity input: \", np.emath.logn(-20j, np.inf))"
   ]
  },
  {
   "cell_type": "code",
   "execution_count": 75,
   "id": "767f057d-acd2-4cc7-9595-9f311605c710",
   "metadata": {},
   "outputs": [
    {
     "name": "stdout",
     "output_type": "stream",
     "text": [
      "np.emath.logn with complex base and input:  (0.5687045208730307+0.8225418943364383j)\n"
     ]
    }
   ],
   "source": [
    "import numpy as np\n",
    "\n",
    "print(\"np.emath.logn with complex base and input: \", np.emath.logn(-20j, 20j))"
   ]
  },
  {
   "cell_type": "code",
   "execution_count": null,
   "id": "6ed3abc4-aa79-4764-9d6b-bbce7890d660",
   "metadata": {},
   "outputs": [],
   "source": []
  },
  {
   "cell_type": "code",
   "execution_count": 66,
   "id": "eeb9d91a-c905-4527-b6f9-0c8b82f05a1a",
   "metadata": {},
   "outputs": [
    {
     "name": "stdout",
     "output_type": "stream",
     "text": [
      "np.emath.logn with zero base and non-zero input:  -0.0\n",
      "np.emath.logn with zero base and non-zero input:  -0.0\n",
      "np.emath.logn with zero base and non-zero input:  (-0-0j)\n",
      "np.emath.logn with zero base and non-zero input:  (-0-0j)\n"
     ]
    }
   ],
   "source": [
    "import numpy as np\n",
    "\n",
    "print(\"np.emath.logn with zero base and non-zero input: \", np.emath.logn(0, 100))\n",
    "print(\"np.emath.logn with zero base and non-zero input: \", np.emath.logn(0, 2))\n",
    "print(\"np.emath.logn with zero base and non-zero input: \", np.emath.logn(0, -100))\n",
    "print(\"np.emath.logn with zero base and non-zero input: \", np.emath.logn(0, -51))"
   ]
  },
  {
   "cell_type": "code",
   "execution_count": null,
   "id": "fc6f9680-74ae-48d5-8b06-9b2de93d8cf2",
   "metadata": {},
   "outputs": [],
   "source": []
  },
  {
   "cell_type": "code",
   "execution_count": 73,
   "id": "9079040b-9051-4f47-9a31-ab3a15641ae7",
   "metadata": {},
   "outputs": [
    {
     "name": "stdout",
     "output_type": "stream",
     "text": [
      "inf\n",
      "inf\n",
      "inf\n",
      "inf\n"
     ]
    }
   ],
   "source": [
    "import numpy as np\n",
    "\n",
    "print(np.emath.log(np.inf))\n",
    "print(np.emath.log2(np.inf))\n",
    "print(np.emath.log10(np.inf))\n",
    "print(np.emath.logn(100, np.inf))"
   ]
  },
  {
   "cell_type": "code",
   "execution_count": 71,
   "id": "4f8c8029-0884-4c2e-b536-6c1802100b18",
   "metadata": {},
   "outputs": [
    {
     "name": "stdout",
     "output_type": "stream",
     "text": [
      "nan\n"
     ]
    }
   ],
   "source": [
    "print(np.emath.logn(np.inf, np.inf))"
   ]
  },
  {
   "cell_type": "code",
   "execution_count": null,
   "id": "0a26c8d1-3a4d-4063-8fb1-6032a49a89d1",
   "metadata": {},
   "outputs": [],
   "source": []
  },
  {
   "cell_type": "code",
   "execution_count": null,
   "id": "9586fc81-f701-4ac2-a912-18fb0ad98b2e",
   "metadata": {},
   "outputs": [],
   "source": []
  },
  {
   "cell_type": "code",
   "execution_count": null,
   "id": "5168c9db-b2b5-469a-ba0b-652bec250779",
   "metadata": {},
   "outputs": [],
   "source": []
  },
  {
   "cell_type": "code",
   "execution_count": null,
   "id": "fc487faa-07ed-4429-b9ab-d0df87190539",
   "metadata": {},
   "outputs": [],
   "source": []
  },
  {
   "cell_type": "markdown",
   "id": "7715503d-f161-4e54-88e7-4a2ef8a1c956",
   "metadata": {},
   "source": [
    "----------------------------------------------------------------------------------------------------"
   ]
  },
  {
   "cell_type": "markdown",
   "id": "5a69d53f-d512-4ff9-8aec-773f09b11a0a",
   "metadata": {},
   "source": [
    "----------------------------------------------------------------------------------------------------"
   ]
  },
  {
   "cell_type": "code",
   "execution_count": null,
   "id": "a8ac8ba2-c5d6-4e05-9efb-c27d9e243bb2",
   "metadata": {},
   "outputs": [],
   "source": []
  },
  {
   "cell_type": "markdown",
   "id": "c663f1c3-9b20-4ec1-bee0-39da2bace895",
   "metadata": {},
   "source": [
    "# Verify $n = m^k$\n",
    "Verify if a number $n$ is a power of another number $m$ i.e. $n = m^k$.\n",
    "\n",
    "$f(n,m) = True$ if $n = m^k$\n"
   ]
  },
  {
   "cell_type": "markdown",
   "id": "e5a5b90a-38c0-481b-8b06-d4a514456cdb",
   "metadata": {},
   "source": [
    "## General Verification for $n = m^k$ for $n$, $m$ & $k$ being integers and $n$, $m$>0\n",
    "Verify for a given number $n$ if it is a power of $m$ i.e. $n = m^k$ for $n$ > 0, $m$ > 0, $n$, $m$ and $k$ being integers"
   ]
  },
  {
   "cell_type": "markdown",
   "id": "3520c799-e95a-404e-8455-a44ef474c28d",
   "metadata": {},
   "source": [
    "### Verify $n = m^k$ ($n$,$m$ & $k$ integers, $n$, $m$>0)) using Brute Force Method - / and % operators\n",
    "A number $n$ > 0 can be checked for being an integral power of $m$ in Brute force way by looping and repeatedly dividing by $m$."
   ]
  },
  {
   "cell_type": "code",
   "execution_count": 66,
   "id": "c71a8871-53ee-485e-b068-4c6adc8a8f6d",
   "metadata": {},
   "outputs": [],
   "source": [
    "def isPowerOfNumber_floorDivision_BruteForce(n, m):\n",
    "    ## If a number is less than or equal to zero, return False; 1 is m^0 for all m!=0, so it should return True\n",
    "    if n <= 0:\n",
    "        return False\n",
    "    \n",
    "    while n % m == 0:\n",
    "        n = n // m\n",
    "        print(n)\n",
    "    \n",
    "    return n == 1"
   ]
  },
  {
   "cell_type": "code",
   "execution_count": 67,
   "id": "906dd08f-7ba5-4ed8-a916-14c7579965d8",
   "metadata": {},
   "outputs": [
    {
     "name": "stdout",
     "output_type": "stream",
     "text": [
      "10\n",
      "1\n"
     ]
    },
    {
     "data": {
      "text/plain": [
       "True"
      ]
     },
     "execution_count": 67,
     "metadata": {},
     "output_type": "execute_result"
    }
   ],
   "source": [
    "isPowerOfNumber_floorDivision_BruteForce(100, 10)"
   ]
  },
  {
   "cell_type": "code",
   "execution_count": 65,
   "id": "aee841e6-6f56-43e3-ba96-9436f3de583d",
   "metadata": {},
   "outputs": [
    {
     "name": "stdout",
     "output_type": "stream",
     "text": [
      "4\n",
      "2\n",
      "1\n"
     ]
    },
    {
     "data": {
      "text/plain": [
       "True"
      ]
     },
     "execution_count": 65,
     "metadata": {},
     "output_type": "execute_result"
    }
   ],
   "source": [
    "isPowerOfNumber_floorDivision_BruteForce(8, 2)"
   ]
  },
  {
   "cell_type": "code",
   "execution_count": null,
   "id": "ba808ad5-b996-4a61-aba6-f67aca95ad38",
   "metadata": {},
   "outputs": [],
   "source": []
  },
  {
   "cell_type": "markdown",
   "id": "17d8dbe4-1d02-4914-b557-c7529335bc7c",
   "metadata": {},
   "source": [
    "### Verify $n = m^k$ ($n$,$m$ & $k$ integers, $n$, $m$>0)) using Brute Force Method - // and % operators\n",
    "A number $n$ > 0 can be checked for being an integral power of $m$ in Brute force way by looping and repeatedly dividing by $m$.\n",
    "A variation is to directly use Integer Floor Division to obtain an integer quotient to assign as current value to be divided by $m$."
   ]
  },
  {
   "cell_type": "code",
   "execution_count": 106,
   "id": "63ee0a18-c2d1-4137-8bd8-1a7860774329",
   "metadata": {},
   "outputs": [],
   "source": [
    "def isPowerOfNumber_floorDivision_BruteForce(n, m):\n",
    "    ## If a number is less than or equal to zero, return False; 1 is m^0, so it should return True\n",
    "    if n <= 0:\n",
    "        return False\n",
    "    \n",
    "    while n % m == 0:\n",
    "        n = n // m\n",
    "        print(n)\n",
    "    \n",
    "    return n == 1"
   ]
  },
  {
   "cell_type": "code",
   "execution_count": 104,
   "id": "0a54206e-56a1-4ea8-8631-2d6dd1b4c2ca",
   "metadata": {},
   "outputs": [
    {
     "name": "stdout",
     "output_type": "stream",
     "text": [
      "4\n",
      "2\n",
      "1\n"
     ]
    },
    {
     "data": {
      "text/plain": [
       "True"
      ]
     },
     "execution_count": 104,
     "metadata": {},
     "output_type": "execute_result"
    }
   ],
   "source": [
    "isPowerOfNumber_floorDivision_BruteForce(8, 2)"
   ]
  },
  {
   "cell_type": "code",
   "execution_count": 105,
   "id": "937462d2-7fad-40be-b377-a08e2406a0a2",
   "metadata": {},
   "outputs": [
    {
     "name": "stdout",
     "output_type": "stream",
     "text": [
      "3\n",
      "1\n"
     ]
    },
    {
     "data": {
      "text/plain": [
       "True"
      ]
     },
     "execution_count": 105,
     "metadata": {},
     "output_type": "execute_result"
    }
   ],
   "source": [
    "isPowerOfNumber_floorDivision_BruteForce(9,3)"
   ]
  },
  {
   "cell_type": "code",
   "execution_count": null,
   "id": "077cb953-e145-4516-b880-2209c3a30e9d",
   "metadata": {},
   "outputs": [],
   "source": []
  },
  {
   "cell_type": "code",
   "execution_count": null,
   "id": "a1511357-2411-4a90-bfcb-783d864d1513",
   "metadata": {},
   "outputs": [],
   "source": []
  },
  {
   "cell_type": "markdown",
   "id": "4fbf3836-1af8-4ff2-961e-28219ff8006e",
   "metadata": {},
   "source": [
    "### Verify $n = m^k$ ($n$,$m$ & $k$ integers, $n$, $m$>0)) using Brute Force Method - divmod() function\n",
    "The built-in $divmod()$ function can be used inside the loop to simultaneously obtain quotient and remainder.\n",
    "Since $divmod()$ uses integral floor division (//), non-integer quotients are not obtained, so the check for integrer quotients is redundant."
   ]
  },
  {
   "cell_type": "code",
   "execution_count": 94,
   "id": "d5185f02-d6b4-46ff-829f-26e591b4181a",
   "metadata": {},
   "outputs": [],
   "source": [
    "def isPowerOfNumber_divmod_BruteForce(n, m):\n",
    "    currentNumber = n\n",
    "    isPowerOfM = True\n",
    "    remainder = 0\n",
    "\n",
    "    ## If a number is less than or equal to zero, return False; 1 is m^0 for all m, so it should return True\n",
    "    if(n <= 0):\n",
    "        return False\n",
    "    \n",
    "    ## A preliminary check to verify input is a integer or a float with zero decimal places\n",
    "    if(isinstance(n, int) or (isinstance(n, float) and n.is_integer())): \n",
    "        while currentNumber != 1:\n",
    "            quotient, remainder = divmod (currentNumber, m)\n",
    "            print(quotient, remainder)\n",
    "\n",
    "            ## Check if remainder is non-zero\n",
    "            if(remainder != 0):\n",
    "                isPowerOfM = False\n",
    "                break\n",
    "            currentNumber = quotient\n",
    "    else:\n",
    "        isPowerOfM = False\n",
    "\n",
    "    return isPowerOfM"
   ]
  },
  {
   "cell_type": "code",
   "execution_count": 100,
   "id": "36b9056c-74ad-48de-8ad1-27e413511aca",
   "metadata": {},
   "outputs": [
    {
     "name": "stdout",
     "output_type": "stream",
     "text": [
      "5 0\n",
      "1 0\n"
     ]
    },
    {
     "data": {
      "text/plain": [
       "True"
      ]
     },
     "execution_count": 100,
     "metadata": {},
     "output_type": "execute_result"
    }
   ],
   "source": [
    "isPowerOfNumber_divmod_BruteForce(25, 5)"
   ]
  },
  {
   "cell_type": "code",
   "execution_count": 101,
   "id": "7c9ffe9b-ff9c-47f0-920f-4ebcaa66cfdd",
   "metadata": {},
   "outputs": [
    {
     "name": "stdout",
     "output_type": "stream",
     "text": [
      "2 0\n",
      "0 2\n"
     ]
    },
    {
     "data": {
      "text/plain": [
       "False"
      ]
     },
     "execution_count": 101,
     "metadata": {},
     "output_type": "execute_result"
    }
   ],
   "source": [
    "isPowerOfNumber_divmod_BruteForce(8, 4)"
   ]
  },
  {
   "cell_type": "code",
   "execution_count": 102,
   "id": "2566a95d-7b2e-450a-be52-4606fabd05d6",
   "metadata": {},
   "outputs": [
    {
     "name": "stdout",
     "output_type": "stream",
     "text": [
      "4 0\n",
      "2 0\n",
      "1 0\n"
     ]
    },
    {
     "data": {
      "text/plain": [
       "True"
      ]
     },
     "execution_count": 102,
     "metadata": {},
     "output_type": "execute_result"
    }
   ],
   "source": [
    "isPowerOfNumber_divmod_BruteForce(8, 2)"
   ]
  },
  {
   "cell_type": "code",
   "execution_count": null,
   "id": "a7b0d35e-198d-4c68-85a7-12b5a27d12d9",
   "metadata": {},
   "outputs": [],
   "source": []
  },
  {
   "cell_type": "code",
   "execution_count": null,
   "id": "a1961ad4-a2ad-4bd7-ba3f-927ec5e3e2e8",
   "metadata": {},
   "outputs": [],
   "source": []
  },
  {
   "cell_type": "markdown",
   "id": "525cc0b5-04fc-40e6-bd63-14e3d2e7e90d",
   "metadata": {},
   "source": [
    "### Verify $n = m^k$ ($n$,$m$ & $k$ integers, $n$, $m$>0)) using Logarithmic exponent verification - $math.log(x, y)$ function\n",
    "For any given number $n$, it can be verified if it is a power of m i.e. n = $m^k$, using the $math.log()$ function.\n",
    "\n",
    "This takes advantage of the fact that $log_{a}(a^k)$ = k\n",
    "Hence, if a number $n$ is an integral power of another number $m$ i.e. $n$ = $m^k$, then $log_{m}(n)$ would result in an integer $k$."
   ]
  },
  {
   "cell_type": "markdown",
   "id": "ba40690a-4afd-450e-baa2-758026662067",
   "metadata": {},
   "source": [
    "The arguments for the function math.log() are to be n & m: math.log(n, m). This results in a float output.\n",
    "\n",
    "Check if the float is equivalent to an integer without precision loss using the float class's [is_integer()](https://python-reference.readthedocs.io/en/latest/docs/float/is_integer.html) function"
   ]
  },
  {
   "cell_type": "code",
   "execution_count": 57,
   "id": "b76f73a2-c2be-49ff-b734-10137b7d3e28",
   "metadata": {},
   "outputs": [
    {
     "data": {
      "text/plain": [
       "True"
      ]
     },
     "execution_count": 57,
     "metadata": {},
     "output_type": "execute_result"
    }
   ],
   "source": [
    "## 100 is 10^2, 2 is integer: so result is True\n",
    "math.log(100, 10).is_integer()"
   ]
  },
  {
   "cell_type": "code",
   "execution_count": 59,
   "id": "ff8e3836-968a-44e4-9ea7-4ef4aacd4a71",
   "metadata": {
    "scrolled": true
   },
   "outputs": [
    {
     "data": {
      "text/plain": [
       "False"
      ]
     },
     "execution_count": 59,
     "metadata": {},
     "output_type": "execute_result"
    }
   ],
   "source": [
    "## 1000 is not a power of 11, a non-integer is result, so the result is False\n",
    "math.log(1000, 11).is_integer()"
   ]
  },
  {
   "cell_type": "code",
   "execution_count": null,
   "id": "ffce6c0c-69cc-4683-a6f2-ffc88acc7179",
   "metadata": {},
   "outputs": [],
   "source": []
  },
  {
   "cell_type": "markdown",
   "id": "5102b435-bfd9-4909-8f25-3117a83a5947",
   "metadata": {},
   "source": [
    "## Verify if an integer number is a power of 2\n",
    "A number $n$ can be verified to be $2^k$ ($n$, $k$ integers, $n$>0) using specialised methods as well.\n",
    "This applies for only natural numbers; negative integers are powers of complex numbers of the form '0 + ιn' -> So -4 is actually power of $(2ι)^2$"
   ]
  },
  {
   "cell_type": "code",
   "execution_count": null,
   "id": "bd640e7f-3270-4288-945d-07f409b26378",
   "metadata": {},
   "outputs": [],
   "source": []
  },
  {
   "cell_type": "markdown",
   "id": "11a7c4f7-430d-4d5b-8d37-8b5e1afca7db",
   "metadata": {},
   "source": [
    "### Verify number $n$ = $2^k$ ($n$, $k$ integers, $n$>0) using Binary Bit Manipulation Method\n",
    "A power of two in binary has exactly one bit set to 1. For example:\n",
    "- 2^0 = 1 (binary: 0001)\n",
    "- 2^1 = 2 (binary: 0010)\n",
    "- 2^2 = 4 (binary: 0100)\n",
    "- 2^3 = 8 (binary: 1000)\n",
    "\n",
    "If a number is a power of two, then n&(n−1) will be 0. This works because subtracting 1 from a number flips all the bits after the rightmost set bit (including the set bit itself), making the result 0 when ANDed with the original number."
   ]
  },
  {
   "cell_type": "code",
   "execution_count": 47,
   "id": "c0dd3d48-16c1-45c4-89ed-1246bce51fb6",
   "metadata": {},
   "outputs": [],
   "source": [
    "def isPowerOf2_BitwiseAndOperator(n):\n",
    "    return (isinstance(n, int) and n > 0 and ((n & (n - 1)) == 0))"
   ]
  },
  {
   "cell_type": "code",
   "execution_count": 48,
   "id": "0af724d1-e13a-4b4b-8e5f-d3e2237e742a",
   "metadata": {},
   "outputs": [
    {
     "data": {
      "text/plain": [
       "True"
      ]
     },
     "execution_count": 48,
     "metadata": {},
     "output_type": "execute_result"
    }
   ],
   "source": [
    "isPowerOf2_BitwiseAndOperator(8)"
   ]
  },
  {
   "cell_type": "code",
   "execution_count": 49,
   "id": "b742c761-9f17-4182-a361-da77a62fd70a",
   "metadata": {},
   "outputs": [
    {
     "data": {
      "text/plain": [
       "False"
      ]
     },
     "execution_count": 49,
     "metadata": {},
     "output_type": "execute_result"
    }
   ],
   "source": [
    "isPowerOf2_BitwiseAndOperator(9)"
   ]
  },
  {
   "cell_type": "code",
   "execution_count": null,
   "id": "c62f30ae-139b-4f51-8a22-e5395cf3c07a",
   "metadata": {},
   "outputs": [],
   "source": []
  },
  {
   "cell_type": "markdown",
   "id": "1aa4522f-78af-42c5-86ac-f893b46dae3d",
   "metadata": {},
   "source": [
    "### Verify number $n$ = $2^k$ ($n$, $k$ integers, $n$>0) using built-in $math.log2()$ function\n",
    "$math.log2()$ is a specialist variant of log() function with predefined base as 2.\n",
    "\n",
    "As with the generic $math.log()$ function, this takes advantage of the fact that $log_{a}(a^k)$ = $k$\n",
    "Hence, if a number is an integral power of 2 i.e. $2^k$, then $log2(2^n)$ would result in $k$ which should be an integer."
   ]
  },
  {
   "cell_type": "code",
   "execution_count": 50,
   "id": "52c76baa-d04c-4e80-a235-8b0a513ebe7a",
   "metadata": {},
   "outputs": [],
   "source": [
    "import math\n",
    "\n",
    "def isPowerOf2_log2(n):\n",
    "    ## If a number is less than or equal to zero, return False; 1 is 2^0, so it should return True\n",
    "    if(n>=1):\n",
    "        return (math.log2(n).is_integer())       \n",
    "    else:\n",
    "        return False"
   ]
  },
  {
   "cell_type": "code",
   "execution_count": 51,
   "id": "32c534a8-19c2-4ed3-85b7-c7f4f5c5d46b",
   "metadata": {},
   "outputs": [
    {
     "data": {
      "text/plain": [
       "True"
      ]
     },
     "execution_count": 51,
     "metadata": {},
     "output_type": "execute_result"
    }
   ],
   "source": [
    "isPowerOf2_log2(32)"
   ]
  },
  {
   "cell_type": "code",
   "execution_count": 52,
   "id": "e69bda32-eede-4744-887f-5ffce3370a79",
   "metadata": {},
   "outputs": [
    {
     "data": {
      "text/plain": [
       "False"
      ]
     },
     "execution_count": 52,
     "metadata": {},
     "output_type": "execute_result"
    }
   ],
   "source": [
    "isPowerOf2_log2 (-64)"
   ]
  },
  {
   "cell_type": "code",
   "execution_count": 55,
   "id": "f5b0a494-1c96-4af0-8edb-bcf99950361a",
   "metadata": {},
   "outputs": [
    {
     "data": {
      "text/plain": [
       "True"
      ]
     },
     "execution_count": 55,
     "metadata": {},
     "output_type": "execute_result"
    }
   ],
   "source": [
    "isPowerOf2_log2(1)"
   ]
  },
  {
   "cell_type": "code",
   "execution_count": null,
   "id": "fffb72a4-64f3-43dc-b9f2-ee50312ee262",
   "metadata": {},
   "outputs": [],
   "source": []
  },
  {
   "cell_type": "code",
   "execution_count": null,
   "id": "b595ae92-85d1-4ec1-8fb0-51d58b069ef9",
   "metadata": {},
   "outputs": [],
   "source": []
  },
  {
   "cell_type": "code",
   "execution_count": null,
   "id": "2975a896-8c7c-4d0e-b65a-97a17b6a203d",
   "metadata": {},
   "outputs": [],
   "source": []
  },
  {
   "cell_type": "markdown",
   "id": "5165ed33-20b1-4ee6-a03b-e17d69b47bf1",
   "metadata": {},
   "source": [
    "----------------------------------------------------------------------------------------------------"
   ]
  },
  {
   "cell_type": "markdown",
   "id": "91930ea7-de93-4073-bb60-87bf34006eb6",
   "metadata": {},
   "source": [
    "----------------------------------------------------------------------------------------------------"
   ]
  },
  {
   "cell_type": "markdown",
   "id": "252432d8-2534-44fe-b78f-bc71e40e5d5d",
   "metadata": {},
   "source": [
    "# $^n√x$ ($nth$ root) calculation\n",
    "\n",
    "$nth$ root of a number $x$ is equivalent to exponentiation of $x$ with power $1/n$: $^n√x$ = $x^{1/n}$ \n",
    "\n",
    "$nth$ root of a number $x$ can be calculated by any of following methods:\n",
    "- Using built-in exponentiation operator $**$ : $x**({1/n})$ OR $x**({n**-1})$\n",
    "- Using built-in $pow()$ function: $pow(x, 1/n)$\n",
    "- Using built-in $math.pow()$ function: $math.pow(x, 1/n)$\n",
    "    - $math.sqrt(x)$ is a specialised function to calculate square root\n",
    "    - $math.cbrt(x)$ is a specialised function to calculate cube root\n",
    "\n",
    "<font color=\"orange\"> **Note:** Since $n^-1$ or $1/n$ are approximations, negative numbers raised to fractional powers yield complex numbers.\n",
    "This means, for negative numbers having real $nth$ root, exponentiation operator $**$, $pow()$, $math.pow()$ etc. would instead generate a complex number or error.\n",
    "</font>"
   ]
  },
  {
   "cell_type": "code",
   "execution_count": null,
   "id": "87d4a24e-8676-45aa-8609-9551897fde83",
   "metadata": {},
   "outputs": [],
   "source": []
  },
  {
   "cell_type": "markdown",
   "id": "2841d302-becb-4070-8bcc-9ddd93a6e63c",
   "metadata": {},
   "source": [
    "## $nth$ root calculation using built-in $**$ operator and $pow()$ function\n",
    "These 2 behave almost same in regards to nth root calculation\n",
    "\n",
    "\n",
    "Negative number with fractional power, even with real nth root, results in complex number rather than real root for (**) operator and pow() function.\n",
    "However, the magnitude of these complex number outputs is same as absolute value of the real number root."
   ]
  },
  {
   "cell_type": "code",
   "execution_count": 83,
   "id": "a8dfa159-2ebf-424a-9655-4be0fd90ee1d",
   "metadata": {},
   "outputs": [
    {
     "name": "stdout",
     "output_type": "stream",
     "text": [
      "9**(1/2):  3.0\n",
      "8**(1/3):  2.0\n",
      "16**(1/4):  2.0\n",
      "16**(0.25):  2.0\n",
      "81**(1/9):  1.6294982222188463\n"
     ]
    }
   ],
   "source": [
    "print(\"9**(1/2): \", 9**(1/2))\n",
    "print(\"8**(1/3): \", 8**(1/3))\n",
    "\n",
    "print(\"16**(1/4): \", 16**(1/4))\n",
    "print(\"16**(0.25): \", 16**(0.25))\n",
    "\n",
    "print(\"81**(1/9): \", 81**(1/9))"
   ]
  },
  {
   "cell_type": "code",
   "execution_count": 70,
   "id": "d9aaadf3-d723-4e5a-9e76-6e8d59adf944",
   "metadata": {},
   "outputs": [
    {
     "name": "stdout",
     "output_type": "stream",
     "text": [
      "2.0\n",
      "2.0\n"
     ]
    }
   ],
   "source": [
    "print(8**(1/3))\n",
    "print(8**(3**-1))"
   ]
  },
  {
   "cell_type": "code",
   "execution_count": 73,
   "id": "6f19b145-d045-4aac-b992-7df1a7f9dc7b",
   "metadata": {},
   "outputs": [
    {
     "name": "stdout",
     "output_type": "stream",
     "text": [
      "(1.0000000000000002+1.7320508075688772j)\n",
      "(1.0000000000000002+1.7320508075688772j)\n"
     ]
    }
   ],
   "source": [
    "## Negative number with fractional power, even with real nth root, results in complex number rather than real root for (**) operator and pow() function\n",
    "### Here, -8 ^ 1/3 should result in -2, but a complex number with magnitude 2 is obtained\n",
    "print((-8)**(1/3))\n",
    "print(pow(-8, (1/3)))"
   ]
  },
  {
   "cell_type": "code",
   "execution_count": null,
   "id": "3f68bd68-631e-4ac4-bd33-44e3f72ae390",
   "metadata": {},
   "outputs": [],
   "source": []
  },
  {
   "cell_type": "code",
   "execution_count": 80,
   "id": "9a280e96-2484-4862-a755-cd3c8f94c287",
   "metadata": {},
   "outputs": [
    {
     "name": "stdout",
     "output_type": "stream",
     "text": [
      "Magnitude of (-8)**(1/3)):  2.0\n",
      "Magnitude of pow(-8, (1/3)) 2.0\n",
      "Magnitude of (-16)**(1/2)):  4.0\n",
      "Magnitude of pow(-16, (1/2)) 4.0\n",
      "Magnitude of (-625)**(1/4)):  5.0\n",
      "Magnitude of pow(-625, (1/4)) 5.0\n"
     ]
    }
   ],
   "source": [
    "print(\"Magnitude of (-8)**(1/3)): \", abs((-8)**(1/3)))\n",
    "print(\"Magnitude of pow(-8, (1/3))\", abs(pow(-8, (1/3))))\n",
    "\n",
    "print(\"Magnitude of (-16)**(1/2)): \", abs((-16)**(1/2)))\n",
    "print(\"Magnitude of pow(-16, (1/2))\", abs(pow(-16, (1/2))))\n",
    "\n",
    "print(\"Magnitude of (-625)**(1/4)): \", abs((-625)**(1/4)))\n",
    "print(\"Magnitude of pow(-625, (1/4))\", abs(pow(-625, (1/4))))"
   ]
  },
  {
   "cell_type": "code",
   "execution_count": null,
   "id": "27f232de-80ef-4194-b761-d423a4ffc33f",
   "metadata": {},
   "outputs": [],
   "source": []
  },
  {
   "cell_type": "code",
   "execution_count": null,
   "id": "1ec9b401-9bc4-463a-83ed-e6ec1ef296de",
   "metadata": {},
   "outputs": [],
   "source": []
  },
  {
   "cell_type": "code",
   "execution_count": null,
   "id": "2f98d357-8e46-4233-af67-a973dc052e40",
   "metadata": {},
   "outputs": [],
   "source": []
  },
  {
   "cell_type": "code",
   "execution_count": null,
   "id": "befb1d78-c2a5-4b40-a241-f51e1f765700",
   "metadata": {},
   "outputs": [],
   "source": []
  },
  {
   "cell_type": "markdown",
   "id": "4fa3d019-b9f4-4e39-a22d-9d0b2d279569",
   "metadata": {},
   "source": [
    "## $nth$ root calculation using built-in $math.pow(x, 1/n)$ function\n",
    "\n",
    "$math.pow(x, 1/n)$ can be used to calculate $nth$ root of $x$.\n",
    "This function cannot take negative bases and fractional exponents as simultaneous inputs. Doing so results in domain error.\n",
    "Otherwise, results are similar to those of $**$ operator and $pow()$ function\n",
    "\n",
    "- $math.sqrt(x)$ is a specialised function to calculate square root\n",
    "- $math.cbrt(x)$ is a specialised function to calculate cube root <br>\n",
    "  Unlike $math.pow()$ and $math.sqrt()$, $math.cbrt(x)$ allows negative real numbers as inputs \n"
   ]
  },
  {
   "cell_type": "code",
   "execution_count": null,
   "id": "e9d576f9-3fa5-4a01-a7ad-8572739c6927",
   "metadata": {},
   "outputs": [],
   "source": []
  },
  {
   "cell_type": "code",
   "execution_count": 80,
   "id": "f609504f-d909-494e-a89d-21940191cc97",
   "metadata": {},
   "outputs": [
    {
     "name": "stdout",
     "output_type": "stream",
     "text": [
      "math.pow(64, 1/2):  8.0\n",
      "math.pow(8, 1/3):  2.0\n",
      "math.pow(64, 1/4):  2.8284271247461903\n"
     ]
    }
   ],
   "source": [
    "print(\"math.pow(64, 1/2): \", math.pow(64, 1/2))\n",
    "print(\"math.pow(8, 1/3): \", math.pow(8, 1/3))\n",
    "print(\"math.pow(64, 1/4): \", math.pow(64, 1/4))"
   ]
  },
  {
   "cell_type": "code",
   "execution_count": 24,
   "id": "02b855a4-1200-48a9-8666-03894005b119",
   "metadata": {},
   "outputs": [
    {
     "ename": "ValueError",
     "evalue": "math domain error",
     "output_type": "error",
     "traceback": [
      "\u001b[31m---------------------------------------------------------------------------\u001b[39m",
      "\u001b[31mValueError\u001b[39m                                Traceback (most recent call last)",
      "\u001b[36mCell\u001b[39m\u001b[36m \u001b[39m\u001b[32mIn[24]\u001b[39m\u001b[32m, line 1\u001b[39m\n\u001b[32m----> \u001b[39m\u001b[32m1\u001b[39m \u001b[38;5;28mprint\u001b[39m(\u001b[33m\"\u001b[39m\u001b[33mpow(-7, 0.5): \u001b[39m\u001b[33m\"\u001b[39m, math.pow(-\u001b[32m7\u001b[39m, \u001b[32m0.5\u001b[39m))\n",
      "\u001b[31mValueError\u001b[39m: math domain error"
     ]
    }
   ],
   "source": [
    "print(\"pow(-7, 0.5): \", math.pow(-7, 0.5)) ## Results in domain error as math.pow() cannot handle negative numbers raised to fractional power"
   ]
  },
  {
   "cell_type": "code",
   "execution_count": 23,
   "id": "e8a86cc2-93b6-453d-945b-6caa287fe130",
   "metadata": {},
   "outputs": [
    {
     "ename": "ValueError",
     "evalue": "math domain error",
     "output_type": "error",
     "traceback": [
      "\u001b[31m---------------------------------------------------------------------------\u001b[39m",
      "\u001b[31mValueError\u001b[39m                                Traceback (most recent call last)",
      "\u001b[36mCell\u001b[39m\u001b[36m \u001b[39m\u001b[32mIn[23]\u001b[39m\u001b[32m, line 1\u001b[39m\n\u001b[32m----> \u001b[39m\u001b[32m1\u001b[39m \u001b[38;5;28mprint\u001b[39m(\u001b[33m\"\u001b[39m\u001b[33mpow(-8, -0.5): \u001b[39m\u001b[33m\"\u001b[39m, math.pow(-\u001b[32m8\u001b[39m, -\u001b[32m0.5\u001b[39m))\n",
      "\u001b[31mValueError\u001b[39m: math domain error"
     ]
    }
   ],
   "source": [
    "print(\"pow(-8, -0.5): \", math.pow(-8, -0.5))  ## Results in domain error as math.pow() cannot handle negative numbers raised to fractional power"
   ]
  },
  {
   "cell_type": "code",
   "execution_count": null,
   "id": "b587ca1e-8535-4203-abaf-2d473a6ac158",
   "metadata": {},
   "outputs": [],
   "source": []
  },
  {
   "cell_type": "markdown",
   "id": "93fe4bcc-07f6-4a86-976d-3a6ba1f2a0b8",
   "metadata": {},
   "source": [
    "### Square root calculation using $math.sqrt(x)$ function\n",
    "\n",
    "Since squares can only be positive numbers for all real numbers, $math.sqrt(x)$ function can take only postive real numbers as input."
   ]
  },
  {
   "cell_type": "code",
   "execution_count": 65,
   "id": "0267d0fd-b971-4f87-9f8f-c5a619af883e",
   "metadata": {},
   "outputs": [
    {
     "name": "stdout",
     "output_type": "stream",
     "text": [
      "Square root of 4 2.0\n",
      "Square root of 64 8.0\n"
     ]
    }
   ],
   "source": [
    "import math\n",
    "print(\"Square root of 4: \", math.sqrt(4))\n",
    "print(\"Square root of 64: \", math.sqrt(64))"
   ]
  },
  {
   "cell_type": "code",
   "execution_count": 68,
   "id": "85f8ef24-671b-4290-8fd8-3886591fe5a6",
   "metadata": {},
   "outputs": [
    {
     "ename": "ValueError",
     "evalue": "math domain error",
     "output_type": "error",
     "traceback": [
      "\u001b[31m---------------------------------------------------------------------------\u001b[39m",
      "\u001b[31mValueError\u001b[39m                                Traceback (most recent call last)",
      "\u001b[36mCell\u001b[39m\u001b[36m \u001b[39m\u001b[32mIn[68]\u001b[39m\u001b[32m, line 2\u001b[39m\n\u001b[32m      1\u001b[39m \u001b[38;5;66;03m## Square roots cannot be negative for real numbers, so using negative numbers as input for math.sqrt() results in domain error\u001b[39;00m\n\u001b[32m----> \u001b[39m\u001b[32m2\u001b[39m \u001b[38;5;28mprint\u001b[39m(\u001b[33m\"\u001b[39m\u001b[33mSquare root of -4:\u001b[39m\u001b[33m\"\u001b[39m , math.sqrt(-\u001b[32m4\u001b[39m))\n\u001b[32m      3\u001b[39m \u001b[38;5;28mprint\u001b[39m(\u001b[33m\"\u001b[39m\u001b[33mSquare root of -64: \u001b[39m\u001b[33m\"\u001b[39m, math.sqrt(-\u001b[32m64\u001b[39m))\n",
      "\u001b[31mValueError\u001b[39m: math domain error"
     ]
    }
   ],
   "source": [
    "import math\n",
    "\n",
    "## Square roots cannot be negative for real numbers, so using negative numbers as input for math.sqrt() results in domain error\n",
    "print(\"Square root of -4:\" , math.sqrt(-4))\n",
    "print(\"Square root of -64: \", math.sqrt(-64))"
   ]
  },
  {
   "cell_type": "code",
   "execution_count": null,
   "id": "bc7b977c-8810-490b-91cf-50105e9b4df6",
   "metadata": {},
   "outputs": [],
   "source": []
  },
  {
   "cell_type": "code",
   "execution_count": null,
   "id": "d7025ac3-bf7a-4f8f-b822-e790bb68317b",
   "metadata": {},
   "outputs": [],
   "source": []
  },
  {
   "cell_type": "markdown",
   "id": "55a18271-b5d5-433c-acaa-be4fd5e77bd5",
   "metadata": {},
   "source": [
    "### Cube root calculation using $math.cbrt(x)$ function\n",
    "\n",
    "Calculates the cube root of a real number; complex numbers are not allowed.\n",
    "Unlike $math.pow()$ and $math.sqrt()$, $math.cbrt(x)$ allows negative real numbers as inputs "
   ]
  },
  {
   "cell_type": "code",
   "execution_count": 67,
   "id": "2b55ee58-764c-4dc3-9ad4-aa5d73ce79e7",
   "metadata": {},
   "outputs": [
    {
     "name": "stdout",
     "output_type": "stream",
     "text": [
      "Cube root of 8:  2.0\n",
      "Cube root of 64:  4.0\n"
     ]
    }
   ],
   "source": [
    "import math\n",
    "print(\"Cube root of 8: \", math.cbrt(8))\n",
    "print(\"Cube root of 64: \", math.cbrt(64))"
   ]
  },
  {
   "cell_type": "code",
   "execution_count": 4,
   "id": "e32a65e7-10df-4bab-98ec-d0547cdae4d8",
   "metadata": {},
   "outputs": [
    {
     "name": "stdout",
     "output_type": "stream",
     "text": [
      "Cube root of -8:  -2.0\n",
      "Cube root of -64:  -4.0\n",
      "Square root of -3: -1.4422495703074083\n",
      "Square root of -15:  -2.4662120743304703\n"
     ]
    }
   ],
   "source": [
    "import math\n",
    "\n",
    "## Negative real numbers as inputs\n",
    "print(\"Cube root of -8: \", math.cbrt(-8))\n",
    "print(\"Cube root of -64: \", math.cbrt(-64))\n",
    "\n",
    "print(\"Square root of -3:\" , math.cbrt(-3))\n",
    "print(\"Square root of -15: \", math.cbrt(-15))"
   ]
  },
  {
   "cell_type": "code",
   "execution_count": 5,
   "id": "db56299c-bd1f-4347-9e61-02293523cfda",
   "metadata": {},
   "outputs": [
    {
     "ename": "TypeError",
     "evalue": "must be real number, not complex",
     "output_type": "error",
     "traceback": [
      "\u001b[31m---------------------------------------------------------------------------\u001b[39m",
      "\u001b[31mTypeError\u001b[39m                                 Traceback (most recent call last)",
      "\u001b[36mCell\u001b[39m\u001b[36m \u001b[39m\u001b[32mIn[5]\u001b[39m\u001b[32m, line 1\u001b[39m\n\u001b[32m----> \u001b[39m\u001b[32m1\u001b[39m \u001b[38;5;28mprint\u001b[39m(\u001b[33m\"\u001b[39m\u001b[33mSquare root of -3:\u001b[39m\u001b[33m\"\u001b[39m , math.cbrt(-\u001b[32m3\u001b[39mj))\n\u001b[32m      2\u001b[39m \u001b[38;5;28mprint\u001b[39m(\u001b[33m\"\u001b[39m\u001b[33mSquare root of -15: \u001b[39m\u001b[33m\"\u001b[39m, math.cbrt(\u001b[32m5\u001b[39mj))\n",
      "\u001b[31mTypeError\u001b[39m: must be real number, not complex"
     ]
    }
   ],
   "source": [
    "import math\n",
    "\n",
    "## Complex numbers are not allowed for math.cbrt()\n",
    "print(\"Square root of -3:\" , math.cbrt(-3j))\n",
    "print(\"Square root of -15: \", math.cbrt(5j))"
   ]
  },
  {
   "cell_type": "code",
   "execution_count": null,
   "id": "75d2b3b8-6238-491c-975a-1aff51427b58",
   "metadata": {},
   "outputs": [],
   "source": []
  },
  {
   "cell_type": "markdown",
   "id": "a41d7244-5489-4e20-bb00-e3dee2731d25",
   "metadata": {},
   "source": [
    "### $4th$ root calculation using $math.sqrt(x)$ function\n",
    "\n",
    "By applying $math.sqrt()$ over the result of a previous $math.sqrt()$ function, $4th$ root can be obtained. <br>\n",
    "$^4√x$ = $math.sqrt(math.sqrt(x))$"
   ]
  },
  {
   "cell_type": "code",
   "execution_count": 84,
   "id": "778b7d7b-732a-4bd1-987e-f2be4079c124",
   "metadata": {},
   "outputs": [
    {
     "name": "stdout",
     "output_type": "stream",
     "text": [
      "math.sqrt(math.sqrt(16)):  2.0\n",
      "math.sqrt(math.sqrt(64)):  2.8284271247461903\n"
     ]
    }
   ],
   "source": [
    "print(\"math.sqrt(math.sqrt(16)): \", math.sqrt(math.sqrt(16)))\n",
    "print(\"math.sqrt(math.sqrt(64)): \", math.sqrt(math.sqrt(64)))"
   ]
  },
  {
   "cell_type": "code",
   "execution_count": null,
   "id": "e700b6ef-edc9-4c36-8171-8e204a6c2c81",
   "metadata": {},
   "outputs": [],
   "source": []
  },
  {
   "cell_type": "code",
   "execution_count": null,
   "id": "ddb6088b-b5da-4982-8d7a-137fcc49eb3a",
   "metadata": {},
   "outputs": [],
   "source": []
  },
  {
   "cell_type": "code",
   "execution_count": null,
   "id": "d8e06422-82ea-4475-8dea-2bd2bcc38650",
   "metadata": {},
   "outputs": [],
   "source": []
  },
  {
   "cell_type": "code",
   "execution_count": null,
   "id": "7a0a890b-178a-4f93-8fb7-d26b20104ca9",
   "metadata": {},
   "outputs": [],
   "source": []
  },
  {
   "cell_type": "markdown",
   "id": "c6cbccb0-ae7d-463e-a3ab-f07294c9e829",
   "metadata": {},
   "source": [
    "----------------------------------------------------------------------------------------------------"
   ]
  },
  {
   "cell_type": "markdown",
   "id": "e24f2d8f-a70d-467b-9dd9-626852b6bf35",
   "metadata": {},
   "source": [
    "----------------------------------------------------------------------------------------------------"
   ]
  },
  {
   "cell_type": "markdown",
   "id": "4541f911-4c82-4ccd-841f-ec1de0353387",
   "metadata": {},
   "source": [
    "# Special Exponential and Logarithmic Functions"
   ]
  },
  {
   "cell_type": "markdown",
   "id": "ace1ab65-da8e-4f31-8d5f-d206f0358780",
   "metadata": {},
   "source": [
    "## $np.logaddexp()$ functions\n",
    "- [$np.logaddexp(x1, x2)$](https://numpy.org/doc/stable/reference/generated/numpy.logaddexp.html) = $log(exp(x1) + exp(x2))$\n",
    "    This function evaluates the log of sum of exponents of the 2 inputs. If $x1.shape != x2.shape$, they must be broadcastable to a common shape which becomes the shape of the output\n",
    "- [$np.logaddexp2(x1, x2)$](https://numpy.org/doc/stable/reference/generated/numpy.logaddexp2.html) = $log2(2**x1 + 2**x2)$\n",
    "    This function evaluates the $log_2$ of sum of base-2 exponents of the 2 inputs. If $x1.shape != x2.shape$, they must be broadcastable to a common shape which becomes the shape of the output"
   ]
  },
  {
   "cell_type": "code",
   "execution_count": null,
   "id": "85f65c60-b277-4e6f-ba99-988aac250a02",
   "metadata": {},
   "outputs": [],
   "source": []
  },
  {
   "cell_type": "markdown",
   "id": "c2b22e4e-3a79-4b9f-b138-bac014454920",
   "metadata": {},
   "source": [
    "### $np.logaddexp(x1, x2)$ function \n",
    "\n",
    "$np.logaddexp(x1, x2)$ = $log(exp(x1) + exp(x2))$  ≡ {$log_{e}(e^{x1} + e^{x2})$}\n",
    "\n",
    "This function is useful in statistics where the calculated probabilities of events may be so small as to exceed the range of normal floating point numbers. In such cases the logarithm of the calculated probability is stored. This function allows adding probabilities stored in such a fashion."
   ]
  },
  {
   "cell_type": "code",
   "execution_count": 126,
   "id": "b2a1dc9d-7e47-4662-874d-01bc352702cb",
   "metadata": {},
   "outputs": [
    {
     "name": "stdout",
     "output_type": "stream",
     "text": [
      "-113.87649168120691\n"
     ]
    }
   ],
   "source": [
    "import numpy as np\n",
    "prob1 = np.log(1e-50)\n",
    "prob2 = np.log(2.5e-50)\n",
    "prob12 = np.logaddexp(prob1, prob2)\n",
    "print(prob12)"
   ]
  },
  {
   "cell_type": "code",
   "execution_count": 127,
   "id": "300ffbb9-019b-4627-be54-afcbb001ce86",
   "metadata": {},
   "outputs": [
    {
     "data": {
      "text/plain": [
       "np.float64(3.5000000000000057e-50)"
      ]
     },
     "execution_count": 127,
     "metadata": {},
     "output_type": "execute_result"
    }
   ],
   "source": [
    "np.exp(prob12)"
   ]
  },
  {
   "cell_type": "code",
   "execution_count": null,
   "id": "d8f46ab5-0da2-4947-93ee-01054f770c79",
   "metadata": {},
   "outputs": [],
   "source": []
  },
  {
   "cell_type": "markdown",
   "id": "3d01be81-9452-4ec0-a762-092de28ee7e2",
   "metadata": {},
   "source": [
    "### $np.logaddexp2(x1, x2)$ function \n",
    "\n",
    "$np.logaddexp(x1, x2)$ = $log2(2**x1 + 2**x2)$  ≡  {$log_{2}(2^{x1} + 2^{x2})$}\n",
    "\n",
    "This function is useful in machine learning when the calculated probabilities of events may be so small as to exceed the range of normal floating point numbers. In such cases the base-2 logarithm of the calculated probability can be used instead. This function allows adding probabilities stored in such a fashion."
   ]
  },
  {
   "cell_type": "code",
   "execution_count": 128,
   "id": "56a760e9-d50e-4b1d-982c-cf28cf8612e8",
   "metadata": {},
   "outputs": [
    {
     "name": "stdout",
     "output_type": "stream",
     "text": [
      "-166.09640474436813 -164.77447664948076 -164.28904982231052\n"
     ]
    }
   ],
   "source": [
    "import numpy as np\n",
    "prob1 = np.log2(1e-50)\n",
    "prob2 = np.log2(2.5e-50)\n",
    "prob12 = np.logaddexp2(prob1, prob2)\n",
    "\n",
    "print(prob1, prob2, prob12)"
   ]
  },
  {
   "cell_type": "code",
   "execution_count": 129,
   "id": "3f1388e5-75ff-414d-abdf-9470b0ab64a5",
   "metadata": {},
   "outputs": [
    {
     "data": {
      "text/plain": [
       "np.float64(3.4999999999999914e-50)"
      ]
     },
     "execution_count": 129,
     "metadata": {},
     "output_type": "execute_result"
    }
   ],
   "source": [
    "2**prob12"
   ]
  },
  {
   "cell_type": "code",
   "execution_count": null,
   "id": "bf6513da-ec87-4601-97e2-0ce77993f231",
   "metadata": {},
   "outputs": [],
   "source": []
  },
  {
   "cell_type": "code",
   "execution_count": null,
   "id": "d285d8f4-774a-4e07-b078-9ce434aacfc1",
   "metadata": {},
   "outputs": [],
   "source": []
  },
  {
   "cell_type": "code",
   "execution_count": null,
   "id": "979c3935-3894-468a-bbf3-e3a12d6799ee",
   "metadata": {},
   "outputs": [],
   "source": []
  },
  {
   "cell_type": "markdown",
   "id": "ca32ee50-8862-45d4-9660-80d4dcfb8df5",
   "metadata": {},
   "source": [
    "----------------------------------------------------------------------------------------------------"
   ]
  },
  {
   "cell_type": "markdown",
   "id": "266c859f-edbe-46fb-af07-b1005c837053",
   "metadata": {},
   "source": [
    "----------------------------------------------------------------------------------------------------"
   ]
  },
  {
   "cell_type": "markdown",
   "id": "c693386d-9619-40b6-838b-2aef4555bc7a",
   "metadata": {},
   "source": [
    "# Relationshsip between Exponentiation and Logarithm\n",
    "\n",
    "These functions are inverse of each other: $log(exp(x)) = x$"
   ]
  },
  {
   "cell_type": "code",
   "execution_count": null,
   "id": "534ec39d-7e4b-49e8-b266-a7c1aebe785e",
   "metadata": {},
   "outputs": [],
   "source": []
  },
  {
   "cell_type": "code",
   "execution_count": null,
   "id": "3250b3dd-5379-4ed4-9021-83ebc10dad51",
   "metadata": {},
   "outputs": [],
   "source": []
  }
 ],
 "metadata": {
  "kernelspec": {
   "display_name": "Python 3 (ipykernel)",
   "language": "python",
   "name": "python3"
  },
  "language_info": {
   "codemirror_mode": {
    "name": "ipython",
    "version": 3
   },
   "file_extension": ".py",
   "mimetype": "text/x-python",
   "name": "python",
   "nbconvert_exporter": "python",
   "pygments_lexer": "ipython3",
   "version": "3.13.2"
  }
 },
 "nbformat": 4,
 "nbformat_minor": 5
}
