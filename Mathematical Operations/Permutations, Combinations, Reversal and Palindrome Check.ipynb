{
 "cells": [
  {
   "cell_type": "code",
   "execution_count": null,
   "id": "901a94dd-f7b7-4d4e-823c-581323815f14",
   "metadata": {},
   "outputs": [],
   "source": []
  },
  {
   "cell_type": "markdown",
   "id": "e9c7f7f8-3573-4580-8836-06e3222c6ce0",
   "metadata": {},
   "source": [
    "# Permutations and Combinations"
   ]
  },
  {
   "cell_type": "markdown",
   "id": "90098f67-8802-4fe9-8db5-6b9215e20c80",
   "metadata": {},
   "source": [
    "## Generating Permutations and Combinations of Sequences"
   ]
  },
  {
   "cell_type": "markdown",
   "id": "337a2138-c2cb-40fd-a94b-c017a82632c6",
   "metadata": {},
   "source": [
    "### `itertools` library\n",
    "Built-in `itertools` library provides permutations and combinations functions that can be applied over sequences.\n",
    "\n",
    "- `itertools.permutations(iterable, r=None)` : returns successive r length permutations of elements from the iterable. If r is not specified or is None, then r defaults to the length of the iterable and all possible full-length permutations are generated.\n",
    "- `itertools.combinations(iterable, r)` : returns r length subsequences of elements from the input iterable. The output is a subsequence of `iterttols.product()` keeping only entries that are subsequences of the iterable. The length of the output is given by `math.comb()` which computes $n! / r! * (n - r)!$ when 0 ≤ r ≤ n or zero when r > n.\n",
    "\n",
    "The output of above functions is a collection of tuples having members as the elements of the sequence. <br>\n",
    "For strings, this means the tuple member characters first have to be joined into words to generate actual string permutations\n",
    "\n",
    "<font color=\"#df0234\">**Note:** Elements are treated as unique based on their position, not on their value. If the input elements are unique, there will be no repeated values within each combination."
   ]
  },
  {
   "cell_type": "code",
   "execution_count": null,
   "id": "651f7b8f-8651-4056-9d1e-fc8ff2abc78e",
   "metadata": {},
   "outputs": [],
   "source": []
  },
  {
   "cell_type": "markdown",
   "id": "c51dc541-7ac4-4a53-8470-12c76549c4d4",
   "metadata": {},
   "source": [
    "#### `itertools` string permutations and combinations"
   ]
  },
  {
   "cell_type": "code",
   "execution_count": 22,
   "id": "9e4d8ddb-fd18-47b0-bf1a-47c5a093ac46",
   "metadata": {},
   "outputs": [
    {
     "name": "stdout",
     "output_type": "stream",
     "text": [
      "Permutations calculated using math.perm():  24\n",
      "Size of actual permutations generated:  24\n",
      "['data', 'daat', 'dtaa', 'dtaa', 'daat', 'data', 'adta', 'adat', 'atda', 'atad', 'aadt', 'aatd', 'tdaa', 'tdaa', 'tada', 'taad', 'tada', 'taad', 'adat', 'adta', 'aadt', 'aatd', 'atda', 'atad']\n",
      "Combinations calculated using math.comb():  4\n",
      "Size of actual combinations generated:  4\n",
      "['dat', 'daa', 'dta', 'ata']\n"
     ]
    }
   ],
   "source": [
    "import itertools\n",
    "import math\n",
    "\n",
    "\n",
    "inputString = \"data\"\n",
    "\n",
    "### Print details of permutations\n",
    "outputPermutations = [''.join(p) for p in itertools.permutations(inputString)]\n",
    "print(\"Permutations calculated using math.perm(): \" , math.perm(len(inputString)))\n",
    "print(\"Size of actual permutations generated: \", len(outputPermutations))\n",
    "print(outputPermutations)\n",
    "\n",
    "\n",
    "### Print details of permutations\n",
    "inputSubsequenceLength = 3\n",
    "outputCombinations = [''.join(p) for p in itertools.combinations(\"data\", inputSubsequenceLength)]\n",
    "print(\"Combinations calculated using math.comb(): \" , math.comb(len(inputString), inputSubsequenceLength))\n",
    "print(\"Size of actual combinations generated: \", len(outputCombinations))\n",
    "print(outputCombinations)"
   ]
  },
  {
   "cell_type": "code",
   "execution_count": null,
   "id": "02da9048-7c24-4731-b05c-4dba3d6d0fb2",
   "metadata": {},
   "outputs": [],
   "source": []
  },
  {
   "cell_type": "code",
   "execution_count": null,
   "id": "aefde2d0-8be1-44fe-9fb8-20c0e04ce3e9",
   "metadata": {},
   "outputs": [],
   "source": []
  },
  {
   "cell_type": "code",
   "execution_count": null,
   "id": "7ff50e1c-88a0-49e0-9ec8-a4ac2e6c5f75",
   "metadata": {},
   "outputs": [],
   "source": []
  },
  {
   "cell_type": "code",
   "execution_count": null,
   "id": "3d826ea4-0c1d-4d26-a801-8589500809cc",
   "metadata": {},
   "outputs": [],
   "source": []
  },
  {
   "cell_type": "markdown",
   "id": "b9bde4ca-71ea-4fb9-990d-76a9c589a0f0",
   "metadata": {},
   "source": [
    "For itertools, elements are treated as unique based on their position, not on their value. If the input elements are unique, there will be no repeated values within each combination.\n",
    "Hence, to prevent duplicate entries in case the input sequence has duplicate elements, the output of permutations and combination functions can be input into a set.\n",
    "\n",
    "There are 2 major drawbacks of this approach:\n",
    "1. It still wastes time generating those duplicates, and if there are several repeated elements in the base sequence there will be lots of duplicates.\n",
    "2. Using a collection to hold the results wastes RAM by storing values, negating the benefit of using an iterator to consume less RAM."
   ]
  },
  {
   "cell_type": "markdown",
   "id": "50e7f787-02e6-431e-bf10-ad53533490eb",
   "metadata": {},
   "source": [
    "In case of strings, an alternate method is to perform lexicographic permutations, while generating the permutations using `yield` statement to eliminate need of temporary storage of the permutations.\n",
    "Since characters are matched before permuting, this also prevents duplicates."
   ]
  },
  {
   "cell_type": "code",
   "execution_count": null,
   "id": "c0c3ccb9-ec2b-47b0-9944-f37147ea8a9e",
   "metadata": {},
   "outputs": [],
   "source": []
  },
  {
   "cell_type": "markdown",
   "id": "306ec796-3acc-4b12-9e40-381476958b40",
   "metadata": {},
   "source": [
    "### Lexicographic Permutations\n",
    "\n",
    "Generate all permutations in lexicographic order of string `s`.\n",
    "This algorithm dates back to 14th century CE Indian mathematician Nārāyaṇa Paṇḍita.\n",
    "\n",
    "See:\n",
    "* [https://en.wikipedia.org/wiki/Permutation#Generation_in_lexicographic_order]\n",
    "* [https://en.wikipedia.org/wiki/Narayana_Pandita_(mathematician)]\n",
    "\n",
    "\n",
    "To produce the next permutation in lexicographic order of sequence `a`:\n",
    "1. Find the largest index j such that a[j] < a[j + 1]. If no such index exists, \n",
    "the permutation is the last permutation.\n",
    "2. Find the largest index k greater than j such that a[j] < a[k].\n",
    "3. Swap the value of a[j] with that of a[k].\n",
    "4. Reverse the sequence from a[j + 1] up to and including the final element a[n]."
   ]
  },
  {
   "cell_type": "markdown",
   "id": "3f026d60-1e27-444b-90dc-5a319aa213e8",
   "metadata": {},
   "source": [
    "The function below is sourced from the StackOverflow discussion on string permutations:\n",
    "[https://stackoverflow.com/questions/8306654/finding-all-possible-permutations-of-a-given-string-in-python]\n",
    "\n",
    "It is given by user [PM 2Ring](https://stackoverflow.com/users/4014959/pm-2ring).<br>\n",
    "This function uses `yield` to directly generate the permutations as a generator class output. Therefore, the function can directly by used as a sequence to be iterated over or getting unpacked."
   ]
  },
  {
   "cell_type": "code",
   "execution_count": 24,
   "id": "eb5b71dd-e701-4ea7-8425-784bc6c2e72b",
   "metadata": {},
   "outputs": [],
   "source": [
    "\n",
    "def lexico_permute_string(s:str):    \n",
    "    a = sorted(s)\n",
    "    n = len(a) - 1\n",
    "    while True:\n",
    "        yield ''.join(a)\n",
    "\n",
    "        #1. Find the largest index j such that a[j] < a[j + 1]\n",
    "        for j in range(n-1, -1, -1):\n",
    "            if a[j] < a[j + 1]:\n",
    "                break\n",
    "        else:\n",
    "            return\n",
    "\n",
    "        #2. Find the largest index k greater than j such that a[j] < a[k]\n",
    "        v = a[j]\n",
    "        for k in range(n, j, -1):\n",
    "            if v < a[k]:\n",
    "                break\n",
    "\n",
    "        #3. Swap the value of a[j] with that of a[k].\n",
    "        a[j], a[k] = a[k], a[j]\n",
    "\n",
    "        #4. Reverse the tail of the sequence\n",
    "        a[j+1:] = a[j+1:][::-1]\n"
   ]
  },
  {
   "cell_type": "code",
   "execution_count": 25,
   "id": "b9872342-5c78-40dd-ad40-8169c778fca9",
   "metadata": {},
   "outputs": [
    {
     "name": "stdout",
     "output_type": "stream",
     "text": [
      "['aadt', 'aatd', 'adat', 'adta', 'atad', 'atda', 'daat', 'data', 'dtaa', 'taad', 'tada', 'tdaa']\n"
     ]
    }
   ],
   "source": [
    "## print the output by using unpacking operator `*` on the function\n",
    "print([*lexico_permute_string('data')])"
   ]
  },
  {
   "cell_type": "code",
   "execution_count": 26,
   "id": "fc690d1b-92ac-4a66-9944-5aea8a1a282b",
   "metadata": {},
   "outputs": [
    {
     "name": "stdout",
     "output_type": "stream",
     "text": [
      "['abbbcc', 'abbcbc', 'abbccb', 'abcbbc', 'abcbcb', 'abccbb', 'acbbbc', 'acbbcb', 'acbcbb', 'accbbb', 'babbcc', 'babcbc', 'babccb', 'bacbbc', 'bacbcb', 'baccbb', 'bbabcc', 'bbacbc', 'bbaccb', 'bbbacc', 'bbbcac', 'bbbcca', 'bbcabc', 'bbcacb', 'bbcbac', 'bbcbca', 'bbccab', 'bbccba', 'bcabbc', 'bcabcb', 'bcacbb', 'bcbabc', 'bcbacb', 'bcbbac', 'bcbbca', 'bcbcab', 'bcbcba', 'bccabb', 'bccbab', 'bccbba', 'cabbbc', 'cabbcb', 'cabcbb', 'cacbbb', 'cbabbc', 'cbabcb', 'cbacbb', 'cbbabc', 'cbbacb', 'cbbbac', 'cbbbca', 'cbbcab', 'cbbcba', 'cbcabb', 'cbcbab', 'cbcbba', 'ccabbb', 'ccbabb', 'ccbbab', 'ccbbba']\n"
     ]
    }
   ],
   "source": [
    "## print the output by using unpacking operator `*` on the function\n",
    "print([*lexico_permute_string('abbbcc')])"
   ]
  },
  {
   "cell_type": "code",
   "execution_count": null,
   "id": "e80e3b2f-d952-4cc8-95f4-25cf89a8b13e",
   "metadata": {},
   "outputs": [],
   "source": []
  },
  {
   "cell_type": "markdown",
   "id": "75bf754a-0004-4760-8fb7-730ea947e985",
   "metadata": {},
   "source": [
    "Since characters are already compared before proceeding to create a permutation, an additional step of inputting the generator function into a set can be used, to ensure duplicate values are not encountered when there are repeating letters."
   ]
  },
  {
   "cell_type": "code",
   "execution_count": 27,
   "id": "600c406c-5658-44b0-89a5-8186f27fcd0f",
   "metadata": {},
   "outputs": [
    {
     "name": "stdout",
     "output_type": "stream",
     "text": [
      "12\n",
      "['aadt', 'aatd', 'adat', 'adta', 'atad', 'atda', 'daat', 'data', 'dtaa', 'taad', 'tada', 'tdaa']\n",
      "12\n",
      "{'atad', 'data', 'tada', 'tdaa', 'aadt', 'adat', 'adta', 'atda', 'dtaa', 'daat', 'aatd', 'taad'}\n"
     ]
    }
   ],
   "source": [
    "inputString = 'data'\n",
    "\n",
    "permutationOutput = [*lexico_permute_string(inputString)]\n",
    "permutationOutputSet = set(permutationOutput)\n",
    "\n",
    "print(len(permutationOutput))\n",
    "print(permutationOutput)\n",
    "\n",
    "print(len(permutationOutputSet))\n",
    "print(permutationOutputSet)"
   ]
  },
  {
   "cell_type": "code",
   "execution_count": null,
   "id": "961ec967-9eff-4829-8325-db5e5c33a8d5",
   "metadata": {},
   "outputs": [],
   "source": []
  },
  {
   "cell_type": "code",
   "execution_count": null,
   "id": "21c3cf38-03aa-4d2b-9e92-a3f4843cfda6",
   "metadata": {},
   "outputs": [],
   "source": []
  },
  {
   "cell_type": "code",
   "execution_count": null,
   "id": "7f0f04a6-2e19-476a-8741-f04baa567afb",
   "metadata": {},
   "outputs": [],
   "source": []
  },
  {
   "cell_type": "code",
   "execution_count": null,
   "id": "75d84e71-550d-4c21-b2b5-fe9bab0af552",
   "metadata": {},
   "outputs": [],
   "source": []
  },
  {
   "cell_type": "markdown",
   "id": "b162c4db-67bd-4c19-82a1-c6b13d1c539d",
   "metadata": {},
   "source": [
    "## Numeric Permutations"
   ]
  },
  {
   "cell_type": "markdown",
   "id": "7ec8e2f4-8939-401c-bad1-b62bf548187a",
   "metadata": {},
   "source": [
    "### Lexicographic Permutations for Numeric Sequences\n",
    "Lexicographic Permutations seem to work well for Numeric Sequences as well"
   ]
  },
  {
   "cell_type": "code",
   "execution_count": 51,
   "id": "d0b2ca7c-c1bb-4444-a164-2e4fcebdc133",
   "metadata": {},
   "outputs": [],
   "source": [
    "\n",
    "def lexico_permute_list(s):    \n",
    "    a = sorted(s)\n",
    "    n = len(a) - 1\n",
    "    while True:\n",
    "        yield a\n",
    "\n",
    "        #1. Find the largest index j such that a[j] < a[j + 1]\n",
    "        for j in range(n-1, -1, -1):\n",
    "            if a[j] < a[j + 1]:\n",
    "                break\n",
    "        else:\n",
    "            return\n",
    "\n",
    "        #2. Find the largest index k greater than j such that a[j] < a[k]\n",
    "        v = a[j]\n",
    "        for k in range(n, j, -1):\n",
    "            if v < a[k]:\n",
    "                break\n",
    "\n",
    "        #3. Swap the value of a[j] with that of a[k].\n",
    "        a[j], a[k] = a[k], a[j]\n",
    "\n",
    "        #4. Reverse the tail of the sequence\n",
    "        a[j+1:] = a[j+1:][::-1]\n"
   ]
  },
  {
   "cell_type": "code",
   "execution_count": null,
   "id": "ead93f18-f7e0-45c3-89c8-06c6ff538b7c",
   "metadata": {},
   "outputs": [],
   "source": []
  },
  {
   "cell_type": "code",
   "execution_count": 50,
   "id": "772514f2-44e5-487e-b9f6-312fa76f2c51",
   "metadata": {
    "scrolled": true
   },
   "outputs": [
    {
     "name": "stdout",
     "output_type": "stream",
     "text": [
      "[1, 1, 2, 3]\n",
      "[1, 1, 3, 2]\n",
      "[1, 2, 1, 3]\n",
      "[1, 2, 3, 1]\n",
      "[1, 3, 1, 2]\n",
      "[1, 3, 2, 1]\n",
      "[2, 1, 1, 3]\n",
      "[2, 1, 3, 1]\n",
      "[2, 3, 1, 1]\n",
      "[3, 1, 1, 2]\n",
      "[3, 1, 2, 1]\n",
      "[3, 2, 1, 1]\n"
     ]
    }
   ],
   "source": [
    "inputList = [1,2,3,1]\n",
    "\n",
    "for i in lexico_permute_list(inputList):\n",
    "    print(i)"
   ]
  },
  {
   "cell_type": "code",
   "execution_count": null,
   "id": "c37638b5-3e9d-411c-8926-9533a6471379",
   "metadata": {},
   "outputs": [],
   "source": []
  },
  {
   "cell_type": "markdown",
   "id": "09abfe49-3912-48dd-80c6-b078ddb01ab7",
   "metadata": {},
   "source": [
    "# Reversal Operations and Palindrome Check Operations\n",
    "\n",
    "Python provides built-in reversal operators and functions that can be called over sequences like strings, lists, tuples etc.\n",
    "Integers can be reversed by either iterative division or conversion into string and reconversion of the reversed string into integer.\n",
    "\n",
    "\n",
    "An extension of this reversal is to check whether an integer or a string is a palindrome or not.\n",
    "This can be performed by simply comparing the original number with its reverse."
   ]
  },
  {
   "cell_type": "code",
   "execution_count": null,
   "id": "b3e05b51-ad52-470e-976f-44bf5da2c81e",
   "metadata": {},
   "outputs": [],
   "source": []
  },
  {
   "cell_type": "markdown",
   "id": "88d7cf3c-e01d-4507-b395-3a2b65d9d6d0",
   "metadata": {},
   "source": [
    "## Sequence Reversal and Palindrome Check\n",
    "\n",
    "A sequence (like string, list, tuple etc.) can be reversed by simple slicing operation : `inputSequence[::-1]`.\n",
    "\n",
    "Additonally, Python provides 2 built-in methods for sequence reversal : $reverse()$ and $reversed()$"
   ]
  },
  {
   "cell_type": "code",
   "execution_count": null,
   "id": "6afe17b5-9222-4af4-a7d8-76abe10f2b93",
   "metadata": {},
   "outputs": [],
   "source": []
  },
  {
   "cell_type": "markdown",
   "id": "d74671d6-828a-4dd7-b8fb-a3c9aba0ba00",
   "metadata": {},
   "source": [
    "### Reversal by slicing\n",
    "\n",
    "As sequence can be reversed by the slicing operation: `inputSequence[::-1]`.\n",
    "A new sequence is generated by ths slicing, with original object unchanged.\n",
    "\n",
    "This applies to strings, tuples, lists. \n",
    "Sets are not subscriptable, so reversal is not applicable on them. Likewise dictionaries are hashable maps, so reversal is not applicable on them.\n",
    "\n",
    "\n",
    "<font color=\"#af3344\"> **Note:** In production applications, programming contests, and interview questions, among other cases, it is important to create functions that check for inputSequences being `None`, empty or single length since there is no sense to try reversing such sequences.<br>\n",
    "This check is especially import for `None` since `NoneType` objects are not subscriptable. However, empty sequences are still subscriptable, checks for empty and single length strings are mainly to prevent unneccessary computations.\n",
    "\n",
    "<font color=\"#af3344\">  An input variable can be reversed by slicing if it is an instance of `collections.abc.Sequence` class. If input sequences are expected to be only of a specific type, like list, tuple, string etc., type check can be implemented for only their data type.\n",
    "\n"
   ]
  },
  {
   "cell_type": "code",
   "execution_count": null,
   "id": "2ff3acb5-9f58-4d8b-bc88-ee631fc33264",
   "metadata": {},
   "outputs": [],
   "source": []
  },
  {
   "cell_type": "code",
   "execution_count": 11,
   "id": "05d9d815-be50-4012-9c97-ead949d7701d",
   "metadata": {
    "scrolled": true
   },
   "outputs": [
    {
     "name": "stderr",
     "output_type": "stream",
     "text": [
      "<>:1: SyntaxWarning: 'NoneType' object is not subscriptable; perhaps you missed a comma?\n",
      "<>:1: SyntaxWarning: 'NoneType' object is not subscriptable; perhaps you missed a comma?\n",
      "C:\\Users\\Aditya\\AppData\\Local\\Temp\\ipykernel_14184\\1458452379.py:1: SyntaxWarning: 'NoneType' object is not subscriptable; perhaps you missed a comma?\n",
      "  None[::-1]\n",
      "C:\\Users\\Aditya\\AppData\\Local\\Temp\\ipykernel_14184\\1458452379.py:1: SyntaxWarning: 'NoneType' object is not subscriptable; perhaps you missed a comma?\n",
      "  None[::-1]\n",
      "C:\\Users\\Aditya\\AppData\\Local\\Temp\\ipykernel_14184\\1458452379.py:1: SyntaxWarning: 'NoneType' object is not subscriptable; perhaps you missed a comma?\n",
      "  None[::-1]\n",
      "C:\\Users\\Aditya\\AppData\\Local\\Temp\\ipykernel_14184\\1458452379.py:1: SyntaxWarning: 'NoneType' object is not subscriptable; perhaps you missed a comma?\n",
      "  None[::-1]\n",
      "C:\\Users\\Aditya\\AppData\\Local\\Temp\\ipykernel_14184\\1458452379.py:1: SyntaxWarning: 'NoneType' object is not subscriptable; perhaps you missed a comma?\n",
      "  None[::-1]\n"
     ]
    },
    {
     "ename": "TypeError",
     "evalue": "'NoneType' object is not subscriptable",
     "output_type": "error",
     "traceback": [
      "\u001b[31m---------------------------------------------------------------------------\u001b[39m",
      "\u001b[31mTypeError\u001b[39m                                 Traceback (most recent call last)",
      "\u001b[36mCell\u001b[39m\u001b[36m \u001b[39m\u001b[32mIn[11]\u001b[39m\u001b[32m, line 1\u001b[39m\n\u001b[32m----> \u001b[39m\u001b[32m1\u001b[39m \u001b[38;5;28;01mNone\u001b[39;00m[::-\u001b[32m1\u001b[39m]\n",
      "\u001b[31mTypeError\u001b[39m: 'NoneType' object is not subscriptable"
     ]
    }
   ],
   "source": [
    "## Trying to reverse a None directly\n",
    "None[::-1]"
   ]
  },
  {
   "cell_type": "code",
   "execution_count": 12,
   "id": "fcc9f85f-73e8-4fbb-b13e-2e0eaaf03f61",
   "metadata": {},
   "outputs": [
    {
     "ename": "TypeError",
     "evalue": "'NoneType' object is not subscriptable",
     "output_type": "error",
     "traceback": [
      "\u001b[31m---------------------------------------------------------------------------\u001b[39m",
      "\u001b[31mTypeError\u001b[39m                                 Traceback (most recent call last)",
      "\u001b[36mCell\u001b[39m\u001b[36m \u001b[39m\u001b[32mIn[12]\u001b[39m\u001b[32m, line 4\u001b[39m\n\u001b[32m      1\u001b[39m \u001b[38;5;66;03m## Trying to reverse a NoneType object\u001b[39;00m\n\u001b[32m      3\u001b[39m list0 = \u001b[38;5;28;01mNone\u001b[39;00m\n\u001b[32m----> \u001b[39m\u001b[32m4\u001b[39m \u001b[38;5;28mprint\u001b[39m(list0[::-\u001b[32m1\u001b[39m])\n",
      "\u001b[31mTypeError\u001b[39m: 'NoneType' object is not subscriptable"
     ]
    }
   ],
   "source": [
    "## Trying to reverse a NoneType object\n",
    "\n",
    "list0 = None\n",
    "print(list0[::-1])"
   ]
  },
  {
   "cell_type": "code",
   "execution_count": null,
   "id": "68e9f8da-c135-49eb-b259-88a95de70d56",
   "metadata": {},
   "outputs": [],
   "source": []
  },
  {
   "cell_type": "code",
   "execution_count": null,
   "id": "64a76159-3b44-4795-b06c-e9ee3d58d1d3",
   "metadata": {},
   "outputs": [],
   "source": []
  },
  {
   "cell_type": "code",
   "execution_count": null,
   "id": "990a9c2e-c40d-4170-90e2-baa15feb233d",
   "metadata": {},
   "outputs": [],
   "source": []
  },
  {
   "cell_type": "code",
   "execution_count": 2,
   "id": "cb0cca80-ecda-4920-ad5f-a3076b9648c7",
   "metadata": {},
   "outputs": [
    {
     "name": "stdout",
     "output_type": "stream",
     "text": [
      "Orginal List: [1, 2, 3, 4, 5, 6, 7, 8, 9, 10]\n",
      "Reversed List by slicing: [10, 9, 8, 7, 6, 5, 4, 3, 2, 1]\n",
      "Orginal List again: [1, 2, 3, 4, 5, 6, 7, 8, 9, 10]\n"
     ]
    }
   ],
   "source": [
    "list1 = [1, 2, 3, 4, 5, 6, 7, 8, 9, 10]\n",
    "\n",
    "print(f\"Orginal List: {list1}\")\n",
    "print(f\"Reversed List by slicing: {list1[::-1]}\")\n",
    "print(f\"Orginal List again: {list1}\")"
   ]
  },
  {
   "cell_type": "code",
   "execution_count": 13,
   "id": "4e56a860-0f3e-4d7d-81ec-4c62ec07238b",
   "metadata": {},
   "outputs": [
    {
     "name": "stdout",
     "output_type": "stream",
     "text": [
      "Orginal Empty List: []\n",
      "Reversed Empty List by slicing: []\n"
     ]
    }
   ],
   "source": [
    "### Trying to reverse an empty list doesnt generate error\n",
    "list2 = []\n",
    "print(f\"Orginal Empty List: {list2}\")\n",
    "print(f\"Reversed Empty List by slicing: {list2[::-1]}\")"
   ]
  },
  {
   "cell_type": "code",
   "execution_count": null,
   "id": "078bbb14-58c5-4b49-827b-abf4583bd905",
   "metadata": {},
   "outputs": [],
   "source": []
  },
  {
   "cell_type": "code",
   "execution_count": 14,
   "id": "faf16752-63f4-438c-8210-7ed4a99659d4",
   "metadata": {},
   "outputs": [
    {
     "name": "stdout",
     "output_type": "stream",
     "text": [
      "Orginal Tuple: (1, 2, 3, 4, 5, 6, 7, 8, 9, 10)\n",
      "Reversed Tuple by slicing: (10, 9, 8, 7, 6, 5, 4, 3, 2, 1)\n",
      "Orginal Tuple again: (1, 2, 3, 4, 5, 6, 7, 8, 9, 10)\n"
     ]
    }
   ],
   "source": [
    "tuple1 = (1, 2, 3, 4, 5, 6, 7, 8, 9, 10)\n",
    "\n",
    "print(f\"Orginal Tuple: {tuple1}\")\n",
    "print(f\"Reversed Tuple by slicing: {tuple1[::-1]}\")\n",
    "print(f\"Orginal Tuple again: {tuple1}\")"
   ]
  },
  {
   "cell_type": "code",
   "execution_count": 18,
   "id": "f02942d4-e0c1-4852-9d54-6c5b341db116",
   "metadata": {},
   "outputs": [
    {
     "name": "stdout",
     "output_type": "stream",
     "text": [
      "Orginal Tuple: ()\n",
      "Reversed Tuple by slicing: ()\n"
     ]
    }
   ],
   "source": [
    "### Trying to reverse an empty tuple doesnt generate error\n",
    "tuple2 = ()\n",
    "\n",
    "print(f\"Orginal Tuple: {tuple2}\")\n",
    "print(f\"Reversed Tuple by slicing: {tuple2[::-1]}\")"
   ]
  },
  {
   "cell_type": "code",
   "execution_count": null,
   "id": "aebb7ebc-8412-4a7a-bf50-50ffb11bebdb",
   "metadata": {},
   "outputs": [],
   "source": []
  },
  {
   "cell_type": "code",
   "execution_count": 5,
   "id": "d5b0e61e-c05b-494f-82f2-b1a0c2d4a88b",
   "metadata": {},
   "outputs": [
    {
     "name": "stdout",
     "output_type": "stream",
     "text": [
      "Orginal String: Hello World\n",
      "Reversed String by slicing: dlroW olleH\n",
      "Orginal String again: Hello World\n"
     ]
    }
   ],
   "source": [
    "string1 = \"Hello World\"\n",
    "\n",
    "print(f\"Orginal String: {string1}\")\n",
    "print(f\"Reversed String by slicing: {string1[::-1]}\")\n",
    "print(f\"Orginal String again: {string1}\")"
   ]
  },
  {
   "cell_type": "code",
   "execution_count": 17,
   "id": "60a934e4-bea7-4d0c-9051-11ef1c53dead",
   "metadata": {},
   "outputs": [
    {
     "name": "stdout",
     "output_type": "stream",
     "text": [
      "Orginal String: \n",
      "Reversed String by slicing: \n"
     ]
    }
   ],
   "source": [
    "### Trying to reverse an empty string doesnt generate error\n",
    "string2 = \"\"\n",
    "\n",
    "print(f\"Orginal String: {string2}\")\n",
    "print(f\"Reversed String by slicing: {string2[::-1]}\")"
   ]
  },
  {
   "cell_type": "code",
   "execution_count": null,
   "id": "ed58dff0-af21-4239-a680-0eaf4a39827f",
   "metadata": {},
   "outputs": [],
   "source": []
  },
  {
   "cell_type": "code",
   "execution_count": 6,
   "id": "38db50e3-9ef3-4a3d-9116-300c339ea205",
   "metadata": {},
   "outputs": [
    {
     "name": "stdout",
     "output_type": "stream",
     "text": [
      "Orginal Set: {1, 2, 3, 4, 5, 6, 7, 8, 9, 10}\n"
     ]
    },
    {
     "ename": "TypeError",
     "evalue": "'set' object is not subscriptable",
     "output_type": "error",
     "traceback": [
      "\u001b[31m---------------------------------------------------------------------------\u001b[39m",
      "\u001b[31mTypeError\u001b[39m                                 Traceback (most recent call last)",
      "\u001b[36mCell\u001b[39m\u001b[36m \u001b[39m\u001b[32mIn[6]\u001b[39m\u001b[32m, line 4\u001b[39m\n\u001b[32m      1\u001b[39m set1 = {\u001b[32m1\u001b[39m, \u001b[32m2\u001b[39m, \u001b[32m3\u001b[39m, \u001b[32m4\u001b[39m, \u001b[32m5\u001b[39m, \u001b[32m6\u001b[39m, \u001b[32m7\u001b[39m, \u001b[32m8\u001b[39m, \u001b[32m9\u001b[39m, \u001b[32m10\u001b[39m}\n\u001b[32m      3\u001b[39m \u001b[38;5;28mprint\u001b[39m(\u001b[33mf\u001b[39m\u001b[33m\"\u001b[39m\u001b[33mOrginal Set: \u001b[39m\u001b[38;5;132;01m{\u001b[39;00mset1\u001b[38;5;132;01m}\u001b[39;00m\u001b[33m\"\u001b[39m)\n\u001b[32m----> \u001b[39m\u001b[32m4\u001b[39m \u001b[38;5;28mprint\u001b[39m(\u001b[33mf\u001b[39m\u001b[33m\"\u001b[39m\u001b[33mReversed Set by slicing: \u001b[39m\u001b[38;5;132;01m{\u001b[39;00mset1[::-\u001b[32m1\u001b[39m]\u001b[38;5;132;01m}\u001b[39;00m\u001b[33m\"\u001b[39m)\n\u001b[32m      5\u001b[39m \u001b[38;5;28mprint\u001b[39m(\u001b[33mf\u001b[39m\u001b[33m\"\u001b[39m\u001b[33mOrginal Set again: \u001b[39m\u001b[38;5;132;01m{\u001b[39;00mset1\u001b[38;5;132;01m}\u001b[39;00m\u001b[33m\"\u001b[39m)\n",
      "\u001b[31mTypeError\u001b[39m: 'set' object is not subscriptable"
     ]
    }
   ],
   "source": [
    "set1 = {1, 2, 3, 4, 5, 6, 7, 8, 9, 10}\n",
    "\n",
    "print(f\"Orginal Set: {set1}\")\n",
    "print(f\"Reversed Set by slicing: {set1[::-1]}\")\n",
    "print(f\"Orginal Set again: {set1}\")"
   ]
  },
  {
   "cell_type": "code",
   "execution_count": null,
   "id": "5e539312-49b0-44f3-bbae-73f99a196e59",
   "metadata": {},
   "outputs": [],
   "source": []
  },
  {
   "cell_type": "code",
   "execution_count": null,
   "id": "3ad67e43-1e64-4929-83a1-e7d629771242",
   "metadata": {},
   "outputs": [],
   "source": []
  },
  {
   "cell_type": "markdown",
   "id": "ba668eef-2f1d-428c-89b1-4799c2ea836a",
   "metadata": {},
   "source": [
    "#### Implementing Type Check and Value Check before attempting reversal\n",
    "\n",
    "<font color=\"#af3344\">  An input variable can be reversed by slicing if it is an instance of `collections.abc.Sequence` class. <br>\n",
    "After importing `collections` library, this check can be implemented as: `isinstance(inputSequence, collections.abc.Sequence)`."
   ]
  },
  {
   "cell_type": "code",
   "execution_count": null,
   "id": "7d93ba9a-0f3a-4a40-98df-36a899a8fea3",
   "metadata": {},
   "outputs": [],
   "source": []
  },
  {
   "cell_type": "code",
   "execution_count": 9,
   "id": "34470aa0-3478-426a-9674-d751d5948e93",
   "metadata": {},
   "outputs": [
    {
     "name": "stdout",
     "output_type": "stream",
     "text": [
      "Is a List a Sequence? True\n",
      "Is a Tuple a Sequence? True\n",
      "Is a String a Sequence? True\n",
      "Is a Set a Sequence? False\n"
     ]
    }
   ],
   "source": [
    "import collections\n",
    "\n",
    "list1 = [1,2,3,4,5]\n",
    "print(f\"Is a List a Sequence? {isinstance(list1, collections.abc.Sequence)}\")\n",
    "\n",
    "tuple1 = (1,2,3,4,5)\n",
    "print(f\"Is a Tuple a Sequence? {isinstance(tuple1, collections.abc.Sequence)}\")\n",
    "\n",
    "string1 = \"Hello\"\n",
    "print(f\"Is a String a Sequence? {isinstance(string1, collections.abc.Sequence)}\")\n",
    "\n",
    "set1 = {1, 2, 3, 4, 5}\n",
    "print(f\"Is a Set a Sequence? {isinstance(set1, collections.abc.Sequence)}\")"
   ]
  },
  {
   "cell_type": "code",
   "execution_count": null,
   "id": "0b416113-0221-40c9-a1ca-e2f3977bf3ec",
   "metadata": {},
   "outputs": [],
   "source": []
  },
  {
   "cell_type": "code",
   "execution_count": 45,
   "id": "9788e722-0b71-4437-a78a-f59aa0caf500",
   "metadata": {},
   "outputs": [],
   "source": [
    "import collections\n",
    "\n",
    "def sequenceReversalBySlicing(inputSequence: collections.abc.Sequence) -> collections.abc.Sequence:\n",
    "    if(inputSequence is not None):\n",
    "        if(isinstance(inputSequence, collections.abc.Sequence)):\n",
    "            if (len(inputSequence) in (0,1)):\n",
    "                return inputSequence\n",
    "            else:\n",
    "                return inputSequence[::-1]\n",
    "        else:\n",
    "            return (\"Type Error: Input is not a sequence type\")\n",
    "    else:\n",
    "        return (\"Value Error: None Input\")"
   ]
  },
  {
   "cell_type": "code",
   "execution_count": 46,
   "id": "c0257cee-42cc-44cc-9602-1e57606ff622",
   "metadata": {},
   "outputs": [
    {
     "name": "stdout",
     "output_type": "stream",
     "text": [
      "Value Error: None Input\n"
     ]
    }
   ],
   "source": [
    "print(sequenceReversalBySlicing(None))"
   ]
  },
  {
   "cell_type": "code",
   "execution_count": 47,
   "id": "e46f2373-2637-43d3-9931-d3b76d2a0ce7",
   "metadata": {},
   "outputs": [
    {
     "name": "stdout",
     "output_type": "stream",
     "text": [
      "Type Error: Input is not a sequence type\n"
     ]
    }
   ],
   "source": [
    "print(sequenceReversalBySlicing(12345678))"
   ]
  },
  {
   "cell_type": "code",
   "execution_count": null,
   "id": "ec9c6c10-8722-4fa7-b126-91f0d4e3d294",
   "metadata": {},
   "outputs": [],
   "source": []
  },
  {
   "cell_type": "code",
   "execution_count": 24,
   "id": "d76e8b8b-712a-4b72-8fcf-609a17a6490b",
   "metadata": {},
   "outputs": [
    {
     "name": "stdout",
     "output_type": "stream",
     "text": [
      "Original List: [1, 2, 3, 4, 5]\n",
      "Reversed List: [5, 4, 3, 2, 1]\n",
      "\n",
      "\n",
      "Orginal Empty List: []\n",
      "Reversed Empty List by slicing: []\n"
     ]
    }
   ],
   "source": [
    "list1 = [1,2,3,4,5]\n",
    "\n",
    "print(f\"Original List: {list1}\")\n",
    "print(f\"Reversed List: {sequenceReversalBySlicing(list1)}\")\n",
    "print(\"\\n\")\n",
    "\n",
    "### Trying to reverse an empty list doesnt generate error\n",
    "list2 = []\n",
    "print(f\"Orginal Empty List: {list2}\")\n",
    "print(f\"Reversed Empty List by slicing: {sequenceReversalBySlicing(list2)}\")"
   ]
  },
  {
   "cell_type": "code",
   "execution_count": 25,
   "id": "7078c90e-10d4-4289-9306-335d445c0d66",
   "metadata": {},
   "outputs": [
    {
     "name": "stdout",
     "output_type": "stream",
     "text": [
      "Original Tuple: (1, 2, 3, 4, 5)\n",
      "Reversed Tuple: (5, 4, 3, 2, 1)\n",
      "\n",
      "\n",
      "Orginal Tuple: ()\n",
      "Reversed Tuple by slicing: ()\n"
     ]
    }
   ],
   "source": [
    "tuple1 = (1,2,3,4,5)\n",
    "\n",
    "print(f\"Original Tuple: {tuple1}\")\n",
    "print(f\"Reversed Tuple: {sequenceReversalBySlicing(tuple1)}\")\n",
    "print(\"\\n\")\n",
    "### Trying to reverse an empty tuple doesnt generate error\n",
    "tuple2 = ()\n",
    "\n",
    "print(f\"Orginal Tuple: {tuple2}\")\n",
    "print(f\"Reversed Tuple by slicing: {sequenceReversalBySlicing(tuple2)}\")"
   ]
  },
  {
   "cell_type": "code",
   "execution_count": 26,
   "id": "c9d1b65c-f759-4663-aed9-cfa58723bb40",
   "metadata": {},
   "outputs": [
    {
     "name": "stdout",
     "output_type": "stream",
     "text": [
      "Original String: Hello\n",
      "Reversed String: olleH\n",
      "\n",
      "\n",
      "Orginal String: \n",
      "Reversed String by slicing: \n"
     ]
    }
   ],
   "source": [
    "string1 = \"Hello\"\n",
    "\n",
    "print(f\"Original String: {string1}\")\n",
    "print(f\"Reversed String: {sequenceReversalBySlicing(string1)}\")\n",
    "print(\"\\n\")\n",
    "\n",
    "### Trying to reverse an empty string doesnt generate error\n",
    "string2 = \"\"\n",
    "\n",
    "print(f\"Orginal String: {string2}\")\n",
    "print(f\"Reversed String by slicing: {sequenceReversalBySlicing(string2)}\")"
   ]
  },
  {
   "cell_type": "code",
   "execution_count": null,
   "id": "5ebb9857-7d71-4e7a-ba15-6dc699e803bd",
   "metadata": {},
   "outputs": [],
   "source": []
  },
  {
   "cell_type": "markdown",
   "id": "53907253-6e5e-448a-8869-358bb52b442b",
   "metadata": {},
   "source": [
    "#### Palindrome Check by Reversal slicing\n",
    "\n",
    "Sequences can be checked for being palindrome by comparing original value with reversed value.\n",
    "\n",
    "$inputSequence == inputSequence[::-1]$\n",
    "\n",
    "As with reversal in general, checks should be ideally put in place for None inputs and for Empty and Single Length sequences."
   ]
  },
  {
   "cell_type": "code",
   "execution_count": null,
   "id": "b3abf109-6e23-40e3-b467-7fb993cf44c2",
   "metadata": {},
   "outputs": [],
   "source": []
  },
  {
   "cell_type": "code",
   "execution_count": 49,
   "id": "84a9f369-e53b-4d2c-9873-07fbb6aedd0d",
   "metadata": {},
   "outputs": [],
   "source": [
    "def sequencePalindromeCheckBySlicing(inputSequence: collections.abc.Sequence) -> bool:\n",
    "    if(inputSequence is not None):\n",
    "        if(isinstance(inputSequence, collections.abc.Sequence)):\n",
    "            if (len(inputSequence) in (0,1)):\n",
    "                return true\n",
    "            else:\n",
    "                return (inputSequence == inputSequence[::-1])\n",
    "        else:\n",
    "            return (\"Type Error: Input is not a sequence type\")\n",
    "    else:\n",
    "        return (\"Value Error: None Input\")\n",
    "        "
   ]
  },
  {
   "cell_type": "code",
   "execution_count": 50,
   "id": "c103e7b5-8b93-45b6-bf6e-c8bb2fe817a8",
   "metadata": {},
   "outputs": [
    {
     "name": "stdout",
     "output_type": "stream",
     "text": [
      "Value Error: None Input\n"
     ]
    }
   ],
   "source": [
    "print(sequencePalindromeCheckBySlicing(None))"
   ]
  },
  {
   "cell_type": "code",
   "execution_count": 51,
   "id": "e8d1d603-d36d-46df-8ec6-440c6dd7f9a7",
   "metadata": {},
   "outputs": [
    {
     "name": "stdout",
     "output_type": "stream",
     "text": [
      "Type Error: Input is not a sequence type\n"
     ]
    }
   ],
   "source": [
    "print(sequencePalindromeCheckBySlicing(1234567))"
   ]
  },
  {
   "cell_type": "code",
   "execution_count": 52,
   "id": "7e53bb95-a629-4562-adaf-e7297ad3eea4",
   "metadata": {},
   "outputs": [
    {
     "name": "stdout",
     "output_type": "stream",
     "text": [
      "True\n"
     ]
    }
   ],
   "source": [
    "print(sequencePalindromeCheckBySlicing([1,2,3,4,5,4,3,2,1]))"
   ]
  },
  {
   "cell_type": "code",
   "execution_count": null,
   "id": "b2b89d3a-9d8b-4375-b69c-f6132c900f8c",
   "metadata": {},
   "outputs": [],
   "source": []
  },
  {
   "cell_type": "code",
   "execution_count": null,
   "id": "79017b9f-c121-46be-96fe-afcb23edae46",
   "metadata": {},
   "outputs": [],
   "source": []
  },
  {
   "cell_type": "markdown",
   "id": "56fa3df0-e53f-4fbf-8b04-6aef59279394",
   "metadata": {},
   "source": [
    "### `reverse()` function\n",
    "`inputSequence.reverse()` reverses the sequence in place i.e. the original sequence itself is reversed.\n",
    "This means it is applicable on only mutable sequences like lists and not on immutable ones like strings, tuples etc.\n",
    "\n",
    "⚠️ By extension, this means palindromicity should not be ideally checked via this function as the original sequence itself is modified."
   ]
  },
  {
   "cell_type": "code",
   "execution_count": null,
   "id": "c9ca7f2f-0918-4056-80b4-5dc9277cf5b4",
   "metadata": {},
   "outputs": [],
   "source": []
  },
  {
   "cell_type": "code",
   "execution_count": 2,
   "id": "df370ef0-01f5-4c05-ad45-d1e28039f76f",
   "metadata": {},
   "outputs": [
    {
     "name": "stdout",
     "output_type": "stream",
     "text": [
      "Input List: [1, 2, 3, 4, 5]\n",
      "Reversing a list using .reverse() function: None\n",
      "Original Input List again: [5, 4, 3, 2, 1]\n"
     ]
    }
   ],
   "source": [
    "list1 = [1,2,3,4,5]\n",
    "\n",
    "print(f\"Input List: {list1}\")\n",
    "print(f\"Reversing a list using .reverse() function: {list1.reverse()}\")\n",
    "print(f\"Original Input List again: {list1}\")"
   ]
  },
  {
   "cell_type": "code",
   "execution_count": 3,
   "id": "ce7a72d1-86fd-4de0-8f0b-381fac2b2ec0",
   "metadata": {},
   "outputs": [
    {
     "name": "stdout",
     "output_type": "stream",
     "text": [
      "Input Tuple: (1, 2, 3, 4, 5)\n"
     ]
    },
    {
     "ename": "AttributeError",
     "evalue": "'tuple' object has no attribute 'reverse'",
     "output_type": "error",
     "traceback": [
      "\u001b[31m---------------------------------------------------------------------------\u001b[39m",
      "\u001b[31mAttributeError\u001b[39m                            Traceback (most recent call last)",
      "\u001b[36mCell\u001b[39m\u001b[36m \u001b[39m\u001b[32mIn[3]\u001b[39m\u001b[32m, line 4\u001b[39m\n\u001b[32m      1\u001b[39m tuple1 = (\u001b[32m1\u001b[39m,\u001b[32m2\u001b[39m,\u001b[32m3\u001b[39m,\u001b[32m4\u001b[39m,\u001b[32m5\u001b[39m)\n\u001b[32m      3\u001b[39m \u001b[38;5;28mprint\u001b[39m(\u001b[33mf\u001b[39m\u001b[33m\"\u001b[39m\u001b[33mInput Tuple: \u001b[39m\u001b[38;5;132;01m{\u001b[39;00mtuple1\u001b[38;5;132;01m}\u001b[39;00m\u001b[33m\"\u001b[39m)\n\u001b[32m----> \u001b[39m\u001b[32m4\u001b[39m \u001b[38;5;28mprint\u001b[39m(\u001b[33mf\u001b[39m\u001b[33m\"\u001b[39m\u001b[33mReversing a tuple using .reverse() function: \u001b[39m\u001b[38;5;132;01m{\u001b[39;00mtuple1.reverse()\u001b[38;5;132;01m}\u001b[39;00m\u001b[33m\"\u001b[39m)\n",
      "\u001b[31mAttributeError\u001b[39m: 'tuple' object has no attribute 'reverse'"
     ]
    }
   ],
   "source": [
    "tuple1 = (1,2,3,4,5)\n",
    "\n",
    "print(f\"Input Tuple: {tuple1}\")\n",
    "print(f\"Reversing a tuple using .reverse() function: {tuple1.reverse()}\")"
   ]
  },
  {
   "cell_type": "code",
   "execution_count": 4,
   "id": "b7307c39-fa51-48e5-9c0f-1a1d60c0192f",
   "metadata": {},
   "outputs": [
    {
     "name": "stdout",
     "output_type": "stream",
     "text": [
      "Input String: Hello\n"
     ]
    },
    {
     "ename": "AttributeError",
     "evalue": "'str' object has no attribute 'reverse'",
     "output_type": "error",
     "traceback": [
      "\u001b[31m---------------------------------------------------------------------------\u001b[39m",
      "\u001b[31mAttributeError\u001b[39m                            Traceback (most recent call last)",
      "\u001b[36mCell\u001b[39m\u001b[36m \u001b[39m\u001b[32mIn[4]\u001b[39m\u001b[32m, line 4\u001b[39m\n\u001b[32m      1\u001b[39m string1 = \u001b[33m\"\u001b[39m\u001b[33mHello\u001b[39m\u001b[33m\"\u001b[39m\n\u001b[32m      3\u001b[39m \u001b[38;5;28mprint\u001b[39m(\u001b[33mf\u001b[39m\u001b[33m\"\u001b[39m\u001b[33mInput String: \u001b[39m\u001b[38;5;132;01m{\u001b[39;00mstring1\u001b[38;5;132;01m}\u001b[39;00m\u001b[33m\"\u001b[39m)\n\u001b[32m----> \u001b[39m\u001b[32m4\u001b[39m \u001b[38;5;28mprint\u001b[39m(\u001b[33mf\u001b[39m\u001b[33m\"\u001b[39m\u001b[33mReversing a string using .reverse() function: \u001b[39m\u001b[38;5;132;01m{\u001b[39;00mstring1.reverse()\u001b[38;5;132;01m}\u001b[39;00m\u001b[33m\"\u001b[39m)\n",
      "\u001b[31mAttributeError\u001b[39m: 'str' object has no attribute 'reverse'"
     ]
    }
   ],
   "source": [
    "string1 = \"Hello\"\n",
    "\n",
    "print(f\"Input String: {string1}\")\n",
    "print(f\"Reversing a string using .reverse() function: {string1.reverse()}\")"
   ]
  },
  {
   "cell_type": "code",
   "execution_count": null,
   "id": "702a7788-5c74-4312-ade8-d3ded34ff0ca",
   "metadata": {},
   "outputs": [],
   "source": []
  },
  {
   "cell_type": "code",
   "execution_count": null,
   "id": "86c09752-d730-4603-a826-267f3ce80234",
   "metadata": {},
   "outputs": [],
   "source": []
  },
  {
   "cell_type": "code",
   "execution_count": null,
   "id": "f6c5f6da-33d5-45a3-8710-04aa79b88a2a",
   "metadata": {},
   "outputs": [],
   "source": []
  },
  {
   "cell_type": "markdown",
   "id": "4b38fd0b-efbd-48f1-a45b-2c21361e33bc",
   "metadata": {},
   "source": [
    "### `reversed()` function\n",
    "`reversed(sequence)` function creates a reversed copy of the inputSequence.\n",
    "\n",
    "`reversed(sequence)` function calls the input sequence's `__reversed__()` fnction to implement reverse iteration. It should return a new iterator object that iterates over all the objects in the container in reverse order.\n",
    "\n",
    "If the `__reversed__()` method is not provided, `reversed()` falls back to using the sequence protocol (`__len__()` and `__getitem__()`). Objects that support the sequence protocol should only provide `__reversed__()` if they can provide an implementation that is more efficient than the one provided by `reversed()`.\n",
    "\n",
    "\n",
    "Reference: [object.\\_\\_reversed\\_\\_](https://docs.python.org/3/reference/datamodel.html#object.__reversed__) (docs.python.org)"
   ]
  },
  {
   "cell_type": "code",
   "execution_count": null,
   "id": "dd662647-f599-40fe-9eba-36eb153b037e",
   "metadata": {},
   "outputs": [],
   "source": []
  },
  {
   "cell_type": "code",
   "execution_count": 68,
   "id": "317f43db-7d4c-4edd-a0c3-974b8b7ffea1",
   "metadata": {},
   "outputs": [
    {
     "name": "stdout",
     "output_type": "stream",
     "text": [
      "Original List: [1, 2, 3, 4, 5]\n",
      "Reversed List Iterator Object: <list_reverseiterator object at 0x000001D9141C3280>\n",
      "Reversed List: [5, 4, 3, 2, 1]\n",
      "\n",
      "\n",
      "Orginal Empty List: []\n",
      "Reversed List Iterator Object: <list_reverseiterator object at 0x000001D9141C39A0>\n",
      "Reversed Empty List by slicing: []\n"
     ]
    }
   ],
   "source": [
    "list1 = [1,2,3,4,5]\n",
    "\n",
    "print(f\"Original List: {list1}\")\n",
    "print(f\"Reversed List Iterator Object: {reversed(list1)}\")\n",
    "print(f\"Reversed List by reversed() function: {list([*reversed(list1)])}\")\n",
    "print(\"\\n\")\n",
    "\n",
    "### Trying to reverse an empty list doesnt generate error\n",
    "list2 = []\n",
    "print(f\"Orginal Empty List: {list2}\")\n",
    "print(f\"Reversed List Iterator Object: {reversed(list2)}\")\n",
    "print(f\"Reversed Empty List by by reversed() function: {list([*reversed(list2)])}\")"
   ]
  },
  {
   "cell_type": "code",
   "execution_count": 69,
   "id": "d3bd77ea-f156-4cae-aa1a-70541d1fdb41",
   "metadata": {},
   "outputs": [
    {
     "name": "stdout",
     "output_type": "stream",
     "text": [
      "Original Tuple: (1, 2, 3, 4, 5)\n",
      "Reversed Tuple Iterator Object: <reversed object at 0x000001D915034FD0>\n",
      "Reversed Tuple: (5, 4, 3, 2, 1)\n",
      "\n",
      "\n",
      "Orginal Tuple: ()\n",
      "Reversed Tuple Iterator Object: <reversed object at 0x000001D915034FD0>\n",
      "Reversed Tuple by slicing: ()\n"
     ]
    }
   ],
   "source": [
    "tuple1 = (1,2,3,4,5)\n",
    "\n",
    "print(f\"Original Tuple: {tuple1}\")\n",
    "print(f\"Reversed Tuple Iterator Object: {reversed(tuple1)}\")\n",
    "print(f\"Reversed Tuple by reversed() function: {tuple([*reversed(tuple1)])}\")\n",
    "print(\"\\n\")\n",
    "### Trying to reverse an empty tuple doesnt generate error\n",
    "tuple2 = ()\n",
    "\n",
    "print(f\"Orginal Tuple: {tuple2}\")\n",
    "print(f\"Reversed Tuple Iterator Object: {reversed(tuple2)}\")\n",
    "print(f\"Reversed Tuple by reversed() function: {tuple([*reversed(tuple2)])}\")"
   ]
  },
  {
   "cell_type": "code",
   "execution_count": 79,
   "id": "3472e35e-1ef9-4a95-8ea8-ee3e9294e5b2",
   "metadata": {},
   "outputs": [
    {
     "name": "stdout",
     "output_type": "stream",
     "text": [
      "Original String: Hello\n",
      "Reversed String Iterator Object: <reversed object at 0x000001D9141C1660>\n",
      "Reversed String by reversed() function: olleH\n",
      "Reversed String by reversed() function: ['o', 'l', 'l', 'e', 'H']\n",
      "\n",
      "\n",
      "Orginal String: \n",
      "Reversed String Iterator Object: <reversed object at 0x000001D9141C1660>\n",
      "Reversed String by reversed() function: \n"
     ]
    }
   ],
   "source": [
    "string1 = \"Hello\"\n",
    "\n",
    "print(f\"Original String: {string1}\")\n",
    "print(f\"Reversed String Iterator Object: {reversed(string1)}\")\n",
    "print(f\"Reversed String by reversed() function: {\"\".join([*reversed(string1)])}\")\n",
    "print(f\"Reversed String by reversed() function: {[*reversed(string1)]}\")\n",
    "print(\"\\n\")\n",
    "\n",
    "### Trying to reverse an empty string doesnt generate error\n",
    "string2 = \"\"\n",
    "\n",
    "print(f\"Orginal String: {string2}\")\n",
    "print(f\"Reversed String Iterator Object: {reversed(string2)}\")\n",
    "print(f\"Reversed String by reversed() function: {\"\".join([*reversed(string2)])}\")"
   ]
  },
  {
   "cell_type": "code",
   "execution_count": null,
   "id": "e6184905-28c0-4fc1-a823-6aafa7fe53c3",
   "metadata": {},
   "outputs": [],
   "source": []
  },
  {
   "cell_type": "code",
   "execution_count": null,
   "id": "cb8e803a-13a8-46db-b6ec-fe82959569f2",
   "metadata": {},
   "outputs": [],
   "source": []
  },
  {
   "cell_type": "code",
   "execution_count": null,
   "id": "b28f260f-871e-4a20-a3a5-0447fd888e06",
   "metadata": {},
   "outputs": [],
   "source": []
  },
  {
   "cell_type": "markdown",
   "id": "af5933a0-212d-4a4d-8b50-17b2f863232a",
   "metadata": {},
   "source": [
    "## Real Number Reversal and Palindrome Check\n",
    "\n",
    "* Reversal Checks usually apply to integers and floats; complex numbers cannot be palindromes in the traditional sense.\n",
    "\n",
    "A Number can be reversed in following ways:\n",
    "1. Keep another integer for a sign, so that the reversed integer maintains the sign. Then convert the absolute value of integer to string, reverse it, convert back to integer, and multiply with sign.\n",
    "Approach : If `input = x: sign = -1 if x < 0 else 1. return sign * int(reversed(str(abs(x)))`\n",
    "- The sign is needed to be stored as reversal of a negative number directly results negative sign at end of the string: `if x = -w, reversed(str(x)) = reversed(str(w))+\"-\"`\n",
    "\n",
    "2. Iterate over the integer, keeping a quotient and remainder of division by 10. Multiply the quotient by 10, add the remainder to it, and iterate over the iterator input number updated to its division by 10.\n",
    "\n",
    "\n",
    "❗**Note:** \n",
    "1. Reversal of floating numbers via iterative division may become more complicated as the decimal point is essentially a part of the number, and therefore its place needs to be maintained.\n",
    "2. Edge cases like $0.0$ can be handled by conversion to string."
   ]
  },
  {
   "cell_type": "markdown",
   "id": "2c46dcfe-a7a4-4023-a0ae-ca0ec698ce53",
   "metadata": {},
   "source": [
    "### Real Number Reversal"
   ]
  },
  {
   "cell_type": "markdown",
   "id": "1ab199e4-61d5-4482-a46e-eb11c7c2484c",
   "metadata": {},
   "source": [
    "#### Integer Reversal using conversion to string\n",
    "\n",
    "**Time Complexity:** <br>\n",
    "1. String reversal for a string of length $m$ has $O(m)$ time complexity.\n",
    "2. For a number $n$ with digit count $d$, its corresponding string also has length $d$.\n",
    "3. The time complexity of $abs()$ function is $O(1)$\n",
    "\n",
    "Therefore, for an input integer $n$, with corresponding digit count $d$, integer reversal by string conversion has $O(d)$ time complexity. "
   ]
  },
  {
   "cell_type": "code",
   "execution_count": 81,
   "id": "85ac8fc3-9887-4393-bc8c-35a51f03ff97",
   "metadata": {},
   "outputs": [],
   "source": [
    "def integerReversalUsingStringConversion(x : int) -> int:\n",
    "    if(isinstance(x, int)):\n",
    "        sign = -1 if x < 0 else 1 ## Inline if-else statement for sign check\n",
    "        \n",
    "        numberString = str(abs(x))\n",
    "        reversedNumberString = numberString[::-1]\n",
    "    \n",
    "        return sign * int(reversedNumberString)\n",
    "    else:\n",
    "        return (\"Type Error: Input is not Integer type\")"
   ]
  },
  {
   "cell_type": "code",
   "execution_count": 82,
   "id": "ba049b11-3fc8-4286-ad45-96597877f9b8",
   "metadata": {},
   "outputs": [
    {
     "name": "stdout",
     "output_type": "stream",
     "text": [
      "987654321\n",
      "0:00:00.000122\n"
     ]
    }
   ],
   "source": [
    "import datetime\n",
    "\n",
    "start = datetime.datetime.now()\n",
    "print(integerReversalUsingStringConversion(123456789))\n",
    "end = datetime.datetime.now()\n",
    "print(end - start)"
   ]
  },
  {
   "cell_type": "code",
   "execution_count": null,
   "id": "e9d404b7-03fa-453a-9052-5895ec3472c2",
   "metadata": {},
   "outputs": [],
   "source": []
  },
  {
   "cell_type": "code",
   "execution_count": 83,
   "id": "bfb6b54f-5766-4b77-b4a0-c6217fb745b8",
   "metadata": {},
   "outputs": [],
   "source": [
    "def integerReversalUsingStringConversion2(x : int) -> int:\n",
    "    if(isinstance(x, int)):\n",
    "        ## A base case can be added for single digit input integers, as their reversal is the same number\n",
    "        if (-9 < x < 9):\n",
    "            return x\n",
    "            \n",
    "        sign = -1 if x < 0 else 1 ## Inline if-else statement for sign check\n",
    "        \n",
    "        numberString = str(abs(x))\n",
    "        reversedNumberString = numberString[::-1]\n",
    "    \n",
    "        return sign * int(reversedNumberString)\n",
    "    else:\n",
    "        return (\"Type Error: Input is not Integer type\")"
   ]
  },
  {
   "cell_type": "code",
   "execution_count": 84,
   "id": "aae51058-2d85-4224-b09b-485934b255d9",
   "metadata": {},
   "outputs": [
    {
     "name": "stdout",
     "output_type": "stream",
     "text": [
      "987654321\n",
      "0:00:00.000961\n"
     ]
    }
   ],
   "source": [
    "import datetime\n",
    "\n",
    "start = datetime.datetime.now()\n",
    "print(integerReversalUsingStringConversion2(123456789))\n",
    "end = datetime.datetime.now()\n",
    "print(end - start)"
   ]
  },
  {
   "cell_type": "code",
   "execution_count": null,
   "id": "0a01dd25-8242-422a-88e6-d3fef9afdb95",
   "metadata": {},
   "outputs": [],
   "source": []
  },
  {
   "cell_type": "markdown",
   "id": "f0430c5a-5585-4ac0-8804-3e69458e8457",
   "metadata": {},
   "source": [
    "#### Integer Reversal using iterative division\n",
    "\n",
    "**Time Complexity:** <br>\n",
    "1. A division operation is $O(1)$ time complexity operation for integers in Python.\n",
    "2. The number of divisions depend on the count if digits in the input number -> for a number with digit count $d$, $d$ divisions will be performed. \n",
    "\n",
    "Hence, for an input number $n$ with number of digits $d$, Iterative Division method has O(d) time complexity."
   ]
  },
  {
   "cell_type": "code",
   "execution_count": 85,
   "id": "896c2fbd-679e-4311-b4b7-e05e80f8a577",
   "metadata": {},
   "outputs": [],
   "source": [
    "def integerReversalUsingIterativeDivision(x : int) -> int:\n",
    "    if(isinstance(x, int)):\n",
    "        r = 0\n",
    "        while (x != 0):\n",
    "            r = r*10 + x%10\n",
    "            # x /= 10   ## Using regular division will cause x to update to float, leading to incorrect subsequent division\n",
    "            x //= 10    ## Use floor division to ensure x updates to integer\n",
    "            # print(x, r)\n",
    "    \n",
    "        return r\n",
    "    else:\n",
    "        return (\"Type Error: Input is not Integer type\")"
   ]
  },
  {
   "cell_type": "code",
   "execution_count": 86,
   "id": "90d7c5df-2652-431d-9153-5ebfb0d0f5d5",
   "metadata": {},
   "outputs": [
    {
     "name": "stdout",
     "output_type": "stream",
     "text": [
      "987654321\n",
      "0:00:00.000112\n"
     ]
    }
   ],
   "source": [
    "import datetime\n",
    "\n",
    "start = datetime.datetime.now()\n",
    "print(integerReversalUsingIterativeDivision(123456789))\n",
    "end = datetime.datetime.now()\n",
    "print(end - start)"
   ]
  },
  {
   "cell_type": "code",
   "execution_count": null,
   "id": "57563dd1-57b2-4b82-a80d-f366e89d5e7e",
   "metadata": {},
   "outputs": [],
   "source": []
  },
  {
   "cell_type": "code",
   "execution_count": 87,
   "id": "eaf89375-de44-4f35-9c1f-735655cc1144",
   "metadata": {},
   "outputs": [],
   "source": [
    "def integerReversalUsingIterativeDivision2(x : int) -> int:\n",
    "    if(isinstance(x, int)):\n",
    "        ## A base case can be added for single digit input integers, as their reversal is the same number\n",
    "        if (-9 < x < 9):\n",
    "            return x\n",
    "            \n",
    "        r = 0\n",
    "        while (x != 0):\n",
    "            r = r*10 + x%10\n",
    "            # x /= 10   ## Using regular division will cause x to update to float, leading to incorrect subsequent division\n",
    "            x //= 10    ## Use floor division to ensure x updates to integer\n",
    "            # print(x, r)\n",
    "\n",
    "        return r\n",
    "    else:\n",
    "        return (\"Type Error: Input is not Integer type\")"
   ]
  },
  {
   "cell_type": "code",
   "execution_count": 88,
   "id": "87741b57-2688-431d-ae80-ce6fed11a6d2",
   "metadata": {},
   "outputs": [
    {
     "name": "stdout",
     "output_type": "stream",
     "text": [
      "987654321\n",
      "0:00:00.000248\n"
     ]
    }
   ],
   "source": [
    "import datetime\n",
    "\n",
    "start = datetime.datetime.now()\n",
    "print(integerReversalUsingIterativeDivision2(123456789))\n",
    "end = datetime.datetime.now()\n",
    "print(end - start)"
   ]
  },
  {
   "cell_type": "code",
   "execution_count": null,
   "id": "6a36d873-5edc-40f5-8a2f-e9acd09dd1bc",
   "metadata": {},
   "outputs": [],
   "source": []
  },
  {
   "cell_type": "markdown",
   "id": "8d23beca-7e6b-4852-b380-50fe556d6ded",
   "metadata": {},
   "source": [
    "#### Float Reversal using conversion to string\n",
    "\n",
    "**Time Complexity:** <br>\n",
    "1. String reversal for a string of length $m$ has $O(m)$ time complexity.\n",
    "2. For a number $n$ with digit count $d$, its corresponding string also has length $d$.\n",
    "3. The time complexity of $abs()$ function is $O(1)$\n",
    "\n",
    "Therefore, for an input integer $n$, with corresponding digit count $d$, integer reversal by string conversion has $O(d)$ time complexity.\n",
    "\n",
    "\n",
    "Float reversals should be ideally done by conversion to string, as that helps to cover edge cases like $0.0$, $-0.0$, $0.$, $-0.$ etc."
   ]
  },
  {
   "cell_type": "code",
   "execution_count": null,
   "id": "a034e3df-8eb5-427f-928f-002ab14fea22",
   "metadata": {},
   "outputs": [],
   "source": []
  },
  {
   "cell_type": "code",
   "execution_count": 89,
   "id": "927c3223-39ff-47e4-bc49-563c28ec1f0c",
   "metadata": {},
   "outputs": [],
   "source": [
    "## This function covers integers as well as edge cases like 0.0, -0.0 etc,\n",
    "\n",
    "def floatReversalUsingStringConversion(x : float) -> float:\n",
    "    if(isinstance(x, float)):\n",
    "        numberString = str(x)\n",
    "    \n",
    "        ## Covers inputs \"0.0\", \"-0.0\", \".0\", \"-.0\", \"0.\", \"-0.\" \n",
    "        ## -> these inputs may or may not classify as palindromes depending on input definitiona for application, competetion problem etc. (as applicable)\n",
    "        if(numberString in (\"0.0\", \"-0.0\")): \n",
    "            return numberString\n",
    "        \n",
    "        sign = -1 if x < 0 else 1 ## Inline if-else statement for sign check\n",
    "        \n",
    "        reversedNumberString = numberString[::-1]\n",
    "    \n",
    "        return sign * float(reversedNumberString)\n",
    "    else:\n",
    "        return (\"Type Error: Input is not Real Number type\")"
   ]
  },
  {
   "cell_type": "code",
   "execution_count": 90,
   "id": "6e23b8d7-a5d3-411a-87d0-c744758535ba",
   "metadata": {},
   "outputs": [
    {
     "data": {
      "text/plain": [
       "56.65"
      ]
     },
     "execution_count": 90,
     "metadata": {},
     "output_type": "execute_result"
    }
   ],
   "source": [
    "floatReversalUsingStringConversion(56.65)"
   ]
  },
  {
   "cell_type": "code",
   "execution_count": 91,
   "id": "1f657df1-25fd-46db-8a5b-4f7f1211ff9e",
   "metadata": {},
   "outputs": [
    {
     "data": {
      "text/plain": [
       "9000.65"
      ]
     },
     "execution_count": 91,
     "metadata": {},
     "output_type": "execute_result"
    }
   ],
   "source": [
    "floatReversalUsingStringConversion(56.0009)"
   ]
  },
  {
   "cell_type": "code",
   "execution_count": 92,
   "id": "d0d09a37-d504-4a3d-9b5c-2ebf3c070ef4",
   "metadata": {},
   "outputs": [
    {
     "data": {
      "text/plain": [
       "'0.0'"
      ]
     },
     "execution_count": 92,
     "metadata": {},
     "output_type": "execute_result"
    }
   ],
   "source": [
    "floatReversalUsingStringConversion(0.0)"
   ]
  },
  {
   "cell_type": "code",
   "execution_count": null,
   "id": "dbf895fd-0ec3-432e-bf4b-8c9411830a2f",
   "metadata": {},
   "outputs": [],
   "source": []
  },
  {
   "cell_type": "code",
   "execution_count": 93,
   "id": "eefaa1dc-b432-4af3-87ad-af9864107c01",
   "metadata": {},
   "outputs": [
    {
     "name": "stdout",
     "output_type": "stream",
     "text": [
      "Reversal of Input '0.' : 0.0\n",
      "Reversal of Input '-0.' : -0.0\n",
      "Reversal of Input '.0': 0.0\n",
      "Reversal of Input '-.0': -0.0\n"
     ]
    }
   ],
   "source": [
    "## input \"0.\" is simply considered as 0.0\n",
    "print(f\"Reversal of Input '0.' : {floatReversalUsingStringConversion(0.)}\")\n",
    "print(f\"Reversal of Input '-0.' : {floatReversalUsingStringConversion(-0.)}\")\n",
    "print(f\"Reversal of Input '.0': {floatReversalUsingStringConversion(.0)}\")\n",
    "print(f\"Reversal of Input '-.0': {floatReversalUsingStringConversion(-.0)}\")"
   ]
  },
  {
   "cell_type": "code",
   "execution_count": null,
   "id": "38ffe097-f00c-4c54-8865-d7ca9a84c45a",
   "metadata": {},
   "outputs": [],
   "source": []
  },
  {
   "cell_type": "code",
   "execution_count": null,
   "id": "6031743a-70f5-40ec-a39f-6d25fc302a16",
   "metadata": {},
   "outputs": [],
   "source": []
  },
  {
   "cell_type": "code",
   "execution_count": null,
   "id": "75a0114c-2313-43bf-9da2-63e3d30f17f5",
   "metadata": {},
   "outputs": [],
   "source": []
  },
  {
   "cell_type": "code",
   "execution_count": null,
   "id": "0e46ac43-4914-4572-8b28-17c951f4a0d2",
   "metadata": {},
   "outputs": [],
   "source": []
  },
  {
   "cell_type": "markdown",
   "id": "604c5fb2-f079-4842-b735-1972c116e77a",
   "metadata": {},
   "source": [
    "### Special Reversal Classifications Check\n",
    "\n",
    "Some numbers can be classified into special categories based on their reversal results.\n",
    "\n",
    "These include, but not limited to:\n",
    "- Palindrome: an integer or a float whose reverse is equal to the number itself.\n",
    "\n",
    "- Adam Number: a positive integer where the square of the number and the square of its reverse are also reverses of each other.\n",
    "\n",
    "\n",
    "- Emirp: Prime number that yields another Prime number when reversed\n",
    "- Emirpimes: Semiprime number that yields another Semiprime number when reversed"
   ]
  },
  {
   "cell_type": "code",
   "execution_count": null,
   "id": "e0225b95-2eb8-4fdd-8fd4-691047bca413",
   "metadata": {},
   "outputs": [],
   "source": []
  },
  {
   "cell_type": "code",
   "execution_count": null,
   "id": "11325867-fa6b-41c5-8128-bc211530ae65",
   "metadata": {},
   "outputs": [],
   "source": []
  },
  {
   "cell_type": "code",
   "execution_count": null,
   "id": "e828ae6c-9b7c-429a-8954-77de1e9eec22",
   "metadata": {},
   "outputs": [],
   "source": []
  },
  {
   "cell_type": "markdown",
   "id": "83196cc4-703f-45d2-a225-b05b7111e5b2",
   "metadata": {},
   "source": [
    "#### Real Number Palindrome Check\n",
    "\n",
    "Reverse the input real number and compare with original to check if the input real number is a palindrome.\n",
    "This can be performed by comparing input integer with results of real number (integer or float) reversal function.\n",
    "\n",
    "**Time Complexity:** <br>\n",
    "1. The time complexity $O(d)$ for an real number $n$ of digit count $d$ holds for real number reversal.\n",
    "2. Number comparison in Python is an $O(log(n))$ time complexity operation, as it is proportional to the number of bits in a number.\n",
    "\n",
    "Therefore, time complexity of palindrome check for input real number $n$ with digit count $d$ is: $O(d * log(n))$."
   ]
  },
  {
   "cell_type": "code",
   "execution_count": null,
   "id": "3146d40b-9004-4873-8a4a-a5da04d2ade2",
   "metadata": {},
   "outputs": [],
   "source": []
  },
  {
   "cell_type": "code",
   "execution_count": 95,
   "id": "e0817fbf-6523-446e-9cb5-e5ec3820ad94",
   "metadata": {},
   "outputs": [
    {
     "name": "stdout",
     "output_type": "stream",
     "text": [
      "True\n"
     ]
    }
   ],
   "source": [
    "inputInteger = 12345678987654321\n",
    "print(inputInteger == integerReversalUsingStringConversion(inputInteger))"
   ]
  },
  {
   "cell_type": "code",
   "execution_count": 94,
   "id": "be722ada-cf61-4fcb-8fb0-f45b50d25915",
   "metadata": {},
   "outputs": [
    {
     "name": "stdout",
     "output_type": "stream",
     "text": [
      "True\n"
     ]
    }
   ],
   "source": [
    "inputFloat = 12345678.87654321\n",
    "print(inputFloat == floatReversalUsingStringConversion(inputFloat))"
   ]
  },
  {
   "cell_type": "code",
   "execution_count": null,
   "id": "790bdda2-415e-4c13-b871-672c06c33474",
   "metadata": {},
   "outputs": [],
   "source": []
  },
  {
   "cell_type": "markdown",
   "id": "b10bddda-f0f5-436a-8c61-77e98e52cd12",
   "metadata": {},
   "source": [
    "#### Adam Number Check\n",
    "\n",
    "Applies to whole numbers. <br>\n",
    "Adam Numbers are whole numbers whose where the square of the number and the square of its reverse are also reverses of each other.\n",
    "\n",
    "if $reverse(x)$ = $y$ and $reverse(x^2)$ = $y^2$, $x$ is Adam Number\n",
    "\n",
    "This condition applies to all palindromic numbers by default"
   ]
  },
  {
   "cell_type": "code",
   "execution_count": null,
   "id": "c127d3ae-0e64-43f0-8efe-fdd4ee53339c",
   "metadata": {},
   "outputs": [],
   "source": []
  },
  {
   "cell_type": "code",
   "execution_count": 96,
   "id": "8f9b4212-c168-45b0-8126-1609e32fffe9",
   "metadata": {},
   "outputs": [],
   "source": [
    "def AdamNumberCheck(x: int) -> bool:\n",
    "    if(isinstance(x, int)):\n",
    "        if(x > 0):\n",
    "            y = integerReversalUsingStringConversion(x)\n",
    "            if(x == y):\n",
    "                return True\n",
    "            else:\n",
    "                inputSquare = x**2\n",
    "                reversedInputSquare = y**2\n",
    "                if(reversedInputSquare == integerReversalUsingStringConversion(inputSquare)):\n",
    "                    return True\n",
    "        else:\n",
    "            return False\n",
    "    else:\n",
    "        return False\n",
    "            "
   ]
  },
  {
   "cell_type": "code",
   "execution_count": null,
   "id": "2faf3ceb-a4c3-48ba-a153-a5bd2e11e3ce",
   "metadata": {},
   "outputs": [],
   "source": []
  },
  {
   "cell_type": "code",
   "execution_count": 97,
   "id": "706e6360-6b76-4221-b065-cd3ab5bc15d3",
   "metadata": {},
   "outputs": [
    {
     "name": "stdout",
     "output_type": "stream",
     "text": [
      "True\n"
     ]
    }
   ],
   "source": [
    "print(AdamNumberCheck(12))"
   ]
  },
  {
   "cell_type": "code",
   "execution_count": null,
   "id": "4a571da8-d594-476d-ad17-0ee59d2c4333",
   "metadata": {},
   "outputs": [],
   "source": [
    "print(AdamNumberCheck(12))"
   ]
  },
  {
   "cell_type": "code",
   "execution_count": null,
   "id": "0cc51395-b8b9-4157-bfba-1a287e5a4ee8",
   "metadata": {},
   "outputs": [],
   "source": []
  },
  {
   "cell_type": "code",
   "execution_count": null,
   "id": "c6c505e6-870c-4372-85da-a779d5fded70",
   "metadata": {},
   "outputs": [],
   "source": []
  },
  {
   "cell_type": "markdown",
   "id": "9ae0b49f-26dc-43de-b832-d682bd4b2ae9",
   "metadata": {},
   "source": [
    "#### Prime and Semiprime Reversal and Classifications\n",
    "\n",
    "[Primality Tester](https://github.com/AdityaGarg1995/BeginnerPython/blob/main/Mathematical%20Operations/Primality%20Tester.ipynb) covers following conditions over Prime Numbers and Semiprime Numbers:\n",
    "- Palindromicity\n",
    "    - Palprimes\n",
    "        - Beastly Palindromic Prime\n",
    "            - Belphegor's Prime \n",
    "        - Triply Palindromic Prime\n",
    "    - Palindromic Semiprimes\n",
    "- Emirp\n",
    "- Emirpimes\n",
    "\n"
   ]
  },
  {
   "cell_type": "code",
   "execution_count": null,
   "id": "4ef754c9-dcf5-4ef9-adef-12499ea4cf43",
   "metadata": {},
   "outputs": [],
   "source": []
  }
 ],
 "metadata": {
  "kernelspec": {
   "display_name": "Python 3 (ipykernel)",
   "language": "python",
   "name": "python3"
  },
  "language_info": {
   "codemirror_mode": {
    "name": "ipython",
    "version": 3
   },
   "file_extension": ".py",
   "mimetype": "text/x-python",
   "name": "python",
   "nbconvert_exporter": "python",
   "pygments_lexer": "ipython3",
   "version": "3.13.2"
  }
 },
 "nbformat": 4,
 "nbformat_minor": 5
}
