{
 "cells": [
  {
   "cell_type": "markdown",
   "id": "12ece31a",
   "metadata": {},
   "source": [
    "## Boolean Values of variables\n",
    "#### Boolean valeues of variables of non-boolean data types can be obtained by passing that variable as argument to bool() constructor. Empty/Zero value variables have boolean value as False, while Non-Empty/Non-Zero value variables have boolean value as True"
   ]
  },
  {
   "cell_type": "markdown",
   "id": "3849df08",
   "metadata": {},
   "source": [
    "Please note that boolean value is applicable only on certain data types. Most, if not all, built-in datatypes give a valid boolean value, but this is not applicable for variables of imported libraries (eg. pandas)"
   ]
  },
  {
   "cell_type": "code",
   "execution_count": 6,
   "id": "fa449897",
   "metadata": {},
   "outputs": [
    {
     "name": "stdout",
     "output_type": "stream",
     "text": [
      "False\n"
     ]
    }
   ],
   "source": [
    "## Boolean Value of built-in value None\n",
    "print(bool(None))"
   ]
  },
  {
   "cell_type": "code",
   "execution_count": null,
   "id": "ef8bb3c6",
   "metadata": {},
   "outputs": [],
   "source": []
  },
  {
   "cell_type": "markdown",
   "id": "4d814f0f",
   "metadata": {},
   "source": [
    "### Boolean values of Numeric Types"
   ]
  },
  {
   "cell_type": "code",
   "execution_count": 3,
   "id": "22322289",
   "metadata": {},
   "outputs": [
    {
     "name": "stdout",
     "output_type": "stream",
     "text": [
      "Boolean value of Integer 1 : True\n",
      "Boolean value of Integer -1 : True\n",
      "Boolean value of Integer 0 : False\n"
     ]
    }
   ],
   "source": [
    "print(\"Boolean value of Integer 1 : \"  + str(bool(1)))\n",
    "print(\"Boolean value of Integer -1 : \"  + str(bool(-1)))\n",
    "print(\"Boolean value of Integer 0 : \"  + str(bool(0)))"
   ]
  },
  {
   "cell_type": "code",
   "execution_count": 4,
   "id": "f47cbac5",
   "metadata": {},
   "outputs": [
    {
     "name": "stdout",
     "output_type": "stream",
     "text": [
      "Boolean value of Float 1.0 : True\n",
      "Boolean value of Float -1.0 : True\n",
      "Boolean value of Float 0.0 : False\n"
     ]
    }
   ],
   "source": [
    "print(\"Boolean value of Float 1.0 : \"  + str(bool(1.0)))\n",
    "print(\"Boolean value of Float -1.0 : \"  + str(bool(-1.0)))\n",
    "print(\"Boolean value of Float 0.0 : \"  + str(bool(0.0)))"
   ]
  },
  {
   "cell_type": "code",
   "execution_count": 7,
   "id": "9725113c",
   "metadata": {},
   "outputs": [
    {
     "name": "stdout",
     "output_type": "stream",
     "text": [
      "Boolean value of Complex Number with both real & imaginary parts positive : True\n",
      "Boolean value of Complex Number with both real & imaginary parts negative : True\n",
      "Boolean value of Complex Number with positive real & negative imaginary parts : True\n",
      "Boolean value of Complex Number with negative real & positive imaginary parts : True\n",
      "Boolean value of Complex Number with both real & imaginary parts zero :  : False\n"
     ]
    }
   ],
   "source": [
    "print(\"Boolean value of Complex Number with both real & imaginary parts positive : \"  + str(bool(complex (3, 5))))\n",
    "print(\"Boolean value of Complex Number with both real & imaginary parts negative : \"  + str(bool(complex (-1.98, -9.5))))\n",
    "print(\"Boolean value of Complex Number with positive real & negative imaginary parts : \"  + str(bool(complex (6.98, -5.5))))\n",
    "print(\"Boolean value of Complex Number with negative real & positive imaginary parts : \"  + str(bool(complex (-1.98, 95))))\n",
    "\n",
    "print(\"Boolean value of Complex Number with both real & imaginary parts zero :  : \"  + str(bool(complex(0, 0))))"
   ]
  },
  {
   "cell_type": "code",
   "execution_count": null,
   "id": "649e93ae",
   "metadata": {},
   "outputs": [],
   "source": []
  },
  {
   "cell_type": "code",
   "execution_count": null,
   "id": "0cebd64e",
   "metadata": {},
   "outputs": [],
   "source": []
  },
  {
   "cell_type": "markdown",
   "id": "7ed88562",
   "metadata": {},
   "source": [
    "### Boolean values of String Types"
   ]
  },
  {
   "cell_type": "code",
   "execution_count": 8,
   "id": "df444c31",
   "metadata": {},
   "outputs": [
    {
     "name": "stdout",
     "output_type": "stream",
     "text": [
      "Boolean value of Non-Empty Single Line String : True\n",
      "Boolean value of Non-Empty Multi-Line String : True\n",
      "Boolean value of Empty : False\n"
     ]
    }
   ],
   "source": [
    "print(\"Boolean value of Non-Empty Single Line String : \"  + str(bool(\"Hello\")))\n",
    "print(\"Boolean value of Non-Empty Multi-Line String : \"  + str(bool(\"\"\" hello and welcome to \n",
    "                                                                     beginner python tutorial by Aditya Garg\"\"\")))\n",
    "print(\"Boolean value of Empty String: \"  + str(bool(\"\")))"
   ]
  },
  {
   "cell_type": "code",
   "execution_count": 12,
   "id": "a1d66521",
   "metadata": {},
   "outputs": [
    {
     "name": "stdout",
     "output_type": "stream",
     "text": [
      "Boolean value of Integer Zero converted to String  : True\n",
      "Boolean value of Float Zero converted to String  : True\n",
      "Boolean value of Complex Zero converted to String  : True\n",
      "Boolean value of Empty String converted to String  : False\n"
     ]
    }
   ],
   "source": [
    "print(\"Boolean value of Integer Zero converted to String  : \"  + str(bool(str(0))))\n",
    "print(\"Boolean value of Float Zero converted to String  : \"  + str(bool(str(0.0))))\n",
    "print(\"Boolean value of Complex Zero converted to String  : \"  + str(bool(str(complex(0,0)))))\n",
    "print(\"Boolean value of Empty String converted to String  : \"  + str(bool(str(\"\"))))"
   ]
  },
  {
   "cell_type": "code",
   "execution_count": null,
   "id": "05049f31",
   "metadata": {},
   "outputs": [],
   "source": []
  },
  {
   "cell_type": "code",
   "execution_count": null,
   "id": "df12671f",
   "metadata": {},
   "outputs": [],
   "source": []
  },
  {
   "cell_type": "markdown",
   "id": "fb78965d",
   "metadata": {},
   "source": [
    "### Boolean values of Collection Types"
   ]
  },
  {
   "cell_type": "code",
   "execution_count": 16,
   "id": "84b22243",
   "metadata": {},
   "outputs": [
    {
     "name": "stdout",
     "output_type": "stream",
     "text": [
      "Boolean value of Non-Empty List : True\n",
      "Boolean value of Empty List : False\n"
     ]
    }
   ],
   "source": [
    "print(\"Boolean value of Non-Empty List : \"  + str(bool(list((1,3,75, 'Hello', True, 0, -98)))))\n",
    "print(\"Boolean value of Empty List : \"  + str(bool(list())))"
   ]
  },
  {
   "cell_type": "code",
   "execution_count": 1,
   "id": "e805b317",
   "metadata": {},
   "outputs": [
    {
     "name": "stdout",
     "output_type": "stream",
     "text": [
      "Boolean value of Non-Empty Tuple : True\n",
      "Boolean value of Empty Tuple : False\n"
     ]
    }
   ],
   "source": [
    "print(\"Boolean value of Non-Empty Tuple : \"  + str(bool(tuple((1,3,75, 'Hello', True, 0, -98)))))\n",
    "print(\"Boolean value of Empty Tuple : \"  + str(bool(tuple())))"
   ]
  },
  {
   "cell_type": "code",
   "execution_count": 2,
   "id": "f71892d1",
   "metadata": {},
   "outputs": [
    {
     "name": "stdout",
     "output_type": "stream",
     "text": [
      "Boolean value of Non-Empty Set : True\n",
      "Boolean value of Empty Set : False\n"
     ]
    }
   ],
   "source": [
    "print(\"Boolean value of Non-Empty Set : \"  + str(bool(set((1,3,75, 'Hello', True, 0, -98)))))\n",
    "print(\"Boolean value of Empty Set : \"  + str(bool(set())))"
   ]
  },
  {
   "cell_type": "code",
   "execution_count": 19,
   "id": "43c800e0",
   "metadata": {},
   "outputs": [
    {
     "name": "stdout",
     "output_type": "stream",
     "text": [
      "Boolean value of Non-Empty Dictonary : True\n",
      "Boolean value of Non-Empty Dictonary : True\n",
      "Boolean value of Empty Dictonary : False\n"
     ]
    }
   ],
   "source": [
    "print(\"Boolean value of Non-Empty Dictonary : \"  + str(bool(dict({'foo': 100, 'bar': 200}))))\n",
    "print(\"Boolean value of Non-Empty Dictonary : \"  + str(bool(dict([('two', 2), ('one', 1), ('three', 3)]))))\n",
    "print(\"Boolean value of Empty Dictonary : \"  + str(bool(dict())))"
   ]
  },
  {
   "cell_type": "code",
   "execution_count": null,
   "id": "ba490cf4",
   "metadata": {},
   "outputs": [],
   "source": []
  },
  {
   "cell_type": "markdown",
   "id": "364a54a0",
   "metadata": {},
   "source": [
    "### Adding Boolean values to a set\n",
    "Sets treat Boolean values and corresponding non-boolean values as equal, hence, only one such value can be added to a set at a time"
   ]
  },
  {
   "cell_type": "code",
   "execution_count": 15,
   "id": "aea82f3a",
   "metadata": {},
   "outputs": [
    {
     "name": "stdout",
     "output_type": "stream",
     "text": [
      "Singleton Sets with 1 or True\n",
      "{True}\n",
      "{1}\n",
      "\n",
      "Singleton Sets with 0 or False\n",
      "{False}\n",
      "{0}\n",
      "\n",
      "Singleton Sets with Boolean value of Empty Collection or False\n",
      "{False}\n",
      "{False}\n",
      "\n",
      "Singleton Sets with Boolean value of None and False\n",
      "{False}\n",
      "{False}\n"
     ]
    }
   ],
   "source": [
    "\"\"\"\n",
    "Values True and 1 are treated as equal. Likewise values False and 0 are treated as equal. \n",
    "Therefore, on passing both of them as part of input, the first one among them is considered as a member of the set.\n",
    "\"\"\"\n",
    "\n",
    "print(\"Singleton Sets with 1 or True\")\n",
    "print(set((True, 1)))\n",
    "print(set((1, True)))\n",
    "\n",
    "print()\n",
    "print(\"Singleton Sets with 0 or False\")\n",
    "print(set((False, 0)))\n",
    "print(set((0, False)))\n",
    "\n",
    "print()\n",
    "print(\"Singleton Sets with Boolean value of Empty Collection or False\")\n",
    "print(set((False, bool(list()))))\n",
    "print(set((bool(list()), False)))\n",
    "\n",
    "\n",
    "print()\n",
    "print(\"Singleton Sets with Boolean value of None and False\")\n",
    "print(set((False, bool(None))))\n",
    "print(set((bool(None), False)))"
   ]
  },
  {
   "cell_type": "code",
   "execution_count": null,
   "id": "8f065c6d",
   "metadata": {},
   "outputs": [],
   "source": []
  },
  {
   "cell_type": "code",
   "execution_count": null,
   "id": "d823f318",
   "metadata": {},
   "outputs": [],
   "source": []
  },
  {
   "cell_type": "code",
   "execution_count": null,
   "id": "715b0139",
   "metadata": {},
   "outputs": [],
   "source": []
  },
  {
   "cell_type": "code",
   "execution_count": null,
   "id": "9a0902e7",
   "metadata": {},
   "outputs": [],
   "source": []
  },
  {
   "cell_type": "code",
   "execution_count": null,
   "id": "0dbf88a3",
   "metadata": {},
   "outputs": [],
   "source": []
  },
  {
   "cell_type": "code",
   "execution_count": null,
   "id": "db698fb4",
   "metadata": {},
   "outputs": [],
   "source": []
  },
  {
   "cell_type": "code",
   "execution_count": null,
   "id": "98bea231",
   "metadata": {},
   "outputs": [],
   "source": []
  },
  {
   "cell_type": "code",
   "execution_count": null,
   "id": "1fa7d87d",
   "metadata": {},
   "outputs": [],
   "source": []
  },
  {
   "cell_type": "code",
   "execution_count": null,
   "id": "d3114510",
   "metadata": {},
   "outputs": [],
   "source": []
  }
 ],
 "metadata": {
  "kernelspec": {
   "display_name": "Python 3 (ipykernel)",
   "language": "python",
   "name": "python3"
  },
  "language_info": {
   "codemirror_mode": {
    "name": "ipython",
    "version": 3
   },
   "file_extension": ".py",
   "mimetype": "text/x-python",
   "name": "python",
   "nbconvert_exporter": "python",
   "pygments_lexer": "ipython3",
   "version": "3.10.9"
  }
 },
 "nbformat": 4,
 "nbformat_minor": 5
}
