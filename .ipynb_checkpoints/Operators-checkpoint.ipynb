{
 "cells": [
  {
   "cell_type": "markdown",
   "id": "5e3d3ea7",
   "metadata": {},
   "source": [
    "## Unary Operators\n",
    "Unary Operators take only one operand.\n",
    "Examples of such operators include sign change, factorial etc.\n",
    "\n",
    "Sign change operation is built-in: using a minus sign in front of a numeric data type variable changes its sign.\n",
    "Factorial and other unary operators need libraries to be installed --> not covered in this notebook"
   ]
  },
  {
   "cell_type": "code",
   "execution_count": 3,
   "id": "b58f126e",
   "metadata": {},
   "outputs": [
    {
     "name": "stdout",
     "output_type": "stream",
     "text": [
      "-4\n",
      "-4.5\n",
      "4\n",
      "-11\n"
     ]
    }
   ],
   "source": [
    "print(-4)  ### print an integer with negative sign\n",
    "print(-4.5)  ### print an integer with negative sign\n",
    "print(-(-4))  ### sign change a negative value integer\n",
    "print(-0b1011) ### convert binary number to integer and change sign"
   ]
  },
  {
   "cell_type": "code",
   "execution_count": null,
   "id": "d0f9177a",
   "metadata": {},
   "outputs": [],
   "source": []
  },
  {
   "cell_type": "markdown",
   "id": "cc51b7ee",
   "metadata": {},
   "source": [
    "## Binary Operators\n",
    "Binary operators take 2 operands and return a single value as output.\n",
    "Operand priority is applicable in cases where multiple operators are used in single line eg. 2 + 3 * 8 / 4"
   ]
  },
  {
   "cell_type": "markdown",
   "id": "a7ea3fb7",
   "metadata": {},
   "source": [
    "##### + Operator\n",
    "Can be overridden for string concatenation"
   ]
  },
  {
   "cell_type": "code",
   "execution_count": 61,
   "id": "6b9bc030",
   "metadata": {},
   "outputs": [
    {
     "name": "stdout",
     "output_type": "stream",
     "text": [
      "4\n",
      "9\n",
      "hello world\n"
     ]
    }
   ],
   "source": [
    "### Addition\n",
    "print(2 + 2)\n",
    "print(2 + 3 + 4)\n",
    "print(\"hello \" + \"world\")  ### Overriding for String concatenation"
   ]
  },
  {
   "cell_type": "markdown",
   "id": "64edba75",
   "metadata": {},
   "source": [
    "##### - Operator\n",
    "Cannot be overridden for any string operations"
   ]
  },
  {
   "cell_type": "code",
   "execution_count": 62,
   "id": "3f59889c",
   "metadata": {},
   "outputs": [
    {
     "name": "stdout",
     "output_type": "stream",
     "text": [
      "6\n",
      "2\n"
     ]
    }
   ],
   "source": [
    "### Subtraction\n",
    "print(9 - 3)\n",
    "print(9 - 3 - 4) ### --> Left-sided binding hence result is 9-3=6 then 6-4=2"
   ]
  },
  {
   "cell_type": "markdown",
   "id": "70b037e0",
   "metadata": {},
   "source": [
    "##### * Operator\n",
    "Can be overridden for string repetition"
   ]
  },
  {
   "cell_type": "code",
   "execution_count": 71,
   "id": "b0aed789",
   "metadata": {},
   "outputs": [
    {
     "name": "stdout",
     "output_type": "stream",
     "text": [
      "27\n",
      "108\n",
      "Hello Hello Hello \n",
      "8\n",
      "256\n",
      "3.0\n"
     ]
    }
   ],
   "source": [
    "### Multiplication\n",
    "print(9 * 3)\n",
    "print(9 * 3 * 4)\n",
    "print('Hello ' * 3)      ### Prints the string Hello 3 times\n",
    "\n",
    "\n",
    "### Exponentiation\n",
    "print(2 ** 3)\n",
    "print(2 ** 2 ** 3)       ### --> Right-sided binding hence result is 2**3=8 then 2**8=256\n",
    "print(9 ** 0.5)          ### --> Square root of 9\n",
    "print(9 ** -0.5)         ### --> 9 to the power -1/2"
   ]
  },
  {
   "cell_type": "markdown",
   "id": "aeb575db",
   "metadata": {},
   "source": [
    "##### / Operator\n",
    "Cannot be overridden for any string operations"
   ]
  },
  {
   "cell_type": "code",
   "execution_count": 64,
   "id": "8f65f2f4",
   "metadata": {},
   "outputs": [
    {
     "name": "stdout",
     "output_type": "stream",
     "text": [
      "1.5\n",
      "1.5\n",
      "1.5\n",
      "1.5\n",
      "1.25\n",
      "-2\n",
      "1.0\n",
      "1.0\n",
      "-2.0\n",
      "1\n"
     ]
    }
   ],
   "source": [
    "### Default Division --> Always results in float output\n",
    "print(6 / 4)\n",
    "print(6 / 4.)\n",
    "print(6. / 4)\n",
    "print(6. / 4.)\n",
    "\n",
    "print(10/4/2) ### --> Left-sided binding hence result is 10/4=2.5 then 2.5/2=1.25\n",
    "\n",
    "\n",
    "## Integer Division --> Results in integer IF both operands are ineteger and the division output is an integer\n",
    "print(6 // -4) ### Integer by Integer division --> Only scenario to yield integer output\n",
    "print(-6. // -4)\n",
    "print(6 // 4.)\n",
    "print(-6. // 4.)\n",
    "\n",
    "print(10//4//2) ### --> Left-sided binding hence result is 10/4=2 then 2/2=1"
   ]
  },
  {
   "cell_type": "markdown",
   "id": "7df41493",
   "metadata": {},
   "source": [
    "##### % Operator\n",
    "Cannot be overridden for any string operations"
   ]
  },
  {
   "cell_type": "code",
   "execution_count": 65,
   "id": "626fd659",
   "metadata": {},
   "outputs": [
    {
     "name": "stdout",
     "output_type": "stream",
     "text": [
      "2\n",
      "-2.9000000000000004\n",
      "-2\n",
      "194.94647400000002\n",
      "64.14647400000001\n",
      "64.14647400000001\n"
     ]
    }
   ],
   "source": [
    "### Remainder Operation\n",
    "print(14 % 4)\n",
    "print(-14.9 % -4)\n",
    "print(14 % -4)\n",
    "\n",
    "print(394.946474 % 200)\n",
    "print(194.94647400000002 % 65.4)\n",
    "print(394.946474 % 200 % 65.4)   ### --> Left-sided binding hence result is 394.946474 % 200=194.94647400000002 then 194.94647400000002 % 65.4=64.14647400000001\n"
   ]
  },
  {
   "cell_type": "code",
   "execution_count": null,
   "id": "1805f8a9",
   "metadata": {},
   "outputs": [],
   "source": []
  },
  {
   "cell_type": "markdown",
   "id": "395aa5ff",
   "metadata": {},
   "source": [
    "#### Exponentation\n",
    "Exponentiation can be done by many ways in python:\n",
    "most common being ** operator, as well as math.pow() function after importing math library\n",
    "\n",
    "The string literal of the form xey where x & y are both integers yields the result x * (10^y) but as a string literal"
   ]
  },
  {
   "cell_type": "code",
   "execution_count": 55,
   "id": "2450893f",
   "metadata": {},
   "outputs": [
    {
     "name": "stdout",
     "output_type": "stream",
     "text": [
      "100000\n",
      "100000.0\n",
      "100000.0\n",
      "<class 'int'>\n",
      "<class 'float'>\n"
     ]
    }
   ],
   "source": [
    "print(10 ** 5)   ## Results in integer type output\n",
    "print(1e5)       ## Results in string type output\n",
    "print(1E5)       ## Results in string type output\n",
    "\n",
    "print(type(10 ** 5)) \n",
    "print(type(1e5))"
   ]
  },
  {
   "cell_type": "code",
   "execution_count": 51,
   "id": "ba0a8f3f",
   "metadata": {},
   "outputs": [
    {
     "ename": "SyntaxError",
     "evalue": "invalid decimal literal (2990928907.py, line 2)",
     "output_type": "error",
     "traceback": [
      "\u001b[1;36m  Cell \u001b[1;32mIn[51], line 2\u001b[1;36m\u001b[0m\n\u001b[1;33m    print(1e(str(x)))\u001b[0m\n\u001b[1;37m          ^\u001b[0m\n\u001b[1;31mSyntaxError\u001b[0m\u001b[1;31m:\u001b[0m invalid decimal literal\n"
     ]
    }
   ],
   "source": [
    "x = 5\n",
    "print(10e(str(x)))"
   ]
  },
  {
   "cell_type": "code",
   "execution_count": null,
   "id": "03a47364",
   "metadata": {},
   "outputs": [],
   "source": []
  },
  {
   "cell_type": "markdown",
   "id": "e27cf4b8",
   "metadata": {},
   "source": [
    "### Assignment Operators\n",
    "Assignment operations involve a variable on left side and a constant or another variable on the right side.\n",
    "\n",
    "Assignment operations can be simple assignment of value to a variable using '=' operator or combine '=' with arithmetic operators when assigning a new value based the old value of a variable to the same variable itself: eg. increment, decrement"
   ]
  },
  {
   "cell_type": "code",
   "execution_count": 66,
   "id": "dbc7662d",
   "metadata": {},
   "outputs": [
    {
     "name": "stdout",
     "output_type": "stream",
     "text": [
      "8\n",
      "8\n",
      "25\n",
      "25\n"
     ]
    }
   ],
   "source": [
    "x = 5          ### Assigns the value 5 to variable x\n",
    "x,y,z = 5,6,7  ### Simultaneous assignment of the values 5,6,7 to variables x,y,z\n",
    "\n",
    "\n",
    "### Arithmetic operations re-assigning a new value based on older value of a variable can be shortened \n",
    "### by typing operator and assignment operator together\n",
    "\n",
    "#### Shortening Increment\n",
    "z = 7\n",
    "z = z + 1\n",
    "print(z)\n",
    "\n",
    "z = 7\n",
    "z +=1\n",
    "print(z)\n",
    "\n",
    "\n",
    "#### Shortening Exponentiation\n",
    "x = 5\n",
    "x = x**2\n",
    "print(x)\n",
    "\n",
    "x = 5\n",
    "x **= 2\n",
    "print(x)"
   ]
  },
  {
   "cell_type": "code",
   "execution_count": null,
   "id": "7819e363",
   "metadata": {},
   "outputs": [],
   "source": []
  },
  {
   "cell_type": "code",
   "execution_count": null,
   "id": "0ba1ed03",
   "metadata": {},
   "outputs": [],
   "source": []
  },
  {
   "cell_type": "code",
   "execution_count": null,
   "id": "f60151c7",
   "metadata": {},
   "outputs": [],
   "source": []
  },
  {
   "cell_type": "markdown",
   "id": "7c04f54b",
   "metadata": {},
   "source": [
    "### Comparison Operators\n",
    "Comparison operators compare the 2 operands and result in a boolean value.\n",
    "\n",
    "These include equality and inequality operators that compare whether their operands are equal or not: equality operator yields True when its operands are equal, inequality operator does opposite."
   ]
  },
  {
   "cell_type": "code",
   "execution_count": null,
   "id": "e45e8951",
   "metadata": {},
   "outputs": [],
   "source": []
  },
  {
   "cell_type": "code",
   "execution_count": null,
   "id": "9e8ae09b",
   "metadata": {},
   "outputs": [],
   "source": []
  },
  {
   "cell_type": "code",
   "execution_count": null,
   "id": "167067f5",
   "metadata": {},
   "outputs": [],
   "source": []
  },
  {
   "cell_type": "code",
   "execution_count": null,
   "id": "1e2798b9",
   "metadata": {},
   "outputs": [],
   "source": []
  },
  {
   "cell_type": "markdown",
   "id": "c8066c59",
   "metadata": {},
   "source": [
    "### Bitwise Operators"
   ]
  },
  {
   "cell_type": "code",
   "execution_count": null,
   "id": "b14c05dd",
   "metadata": {},
   "outputs": [],
   "source": []
  }
 ],
 "metadata": {
  "kernelspec": {
   "display_name": "Python 3 (ipykernel)",
   "language": "python",
   "name": "python3"
  },
  "language_info": {
   "codemirror_mode": {
    "name": "ipython",
    "version": 3
   },
   "file_extension": ".py",
   "mimetype": "text/x-python",
   "name": "python",
   "nbconvert_exporter": "python",
   "pygments_lexer": "ipython3",
   "version": "3.10.9"
  }
 },
 "nbformat": 4,
 "nbformat_minor": 5
}
