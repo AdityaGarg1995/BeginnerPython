{
 "cells": [
  {
   "cell_type": "markdown",
   "id": "733e66aa-7e29-4f1b-966d-87415552e951",
   "metadata": {},
   "source": [
    "# Boolean Entities and Functions"
   ]
  },
  {
   "cell_type": "markdown",
   "id": "ba143568",
   "metadata": {},
   "source": [
    "## Boolean Values of Non-boolean data type Entities\n",
    "Boolean values of entities of non-boolean data types can be obtained by passing that variable as argument to bool() constructor.\n",
    "Empty/Zero value variables have boolean value as False, while Non-Empty/Non-Zero value variables have boolean value as True. <br>\n",
    "\n",
    "These are called Truthy / False values."
   ]
  },
  {
   "cell_type": "markdown",
   "id": "eaef2210-5433-40ec-b44b-56d42ffc5d93",
   "metadata": {},
   "source": [
    "In Python, by default, an object is considered true unless its class defines either a `__bool__()` method that returns False or a `__len__()` method that returns zero, when called with the object. \n",
    "\n",
    "Here are most of the built-in objects considered false:\n",
    "- constants defined to be false: None and False\n",
    "- zero of any numeric type: 0, 0.0, 0j, Decimal(0), Fraction(0, 1)\n",
    "- empty sequences and collections: '', (), [], {}, set(), range(0)\n",
    "\n",
    "Reference: <https://docs.python.org/3/library/stdtypes.html>"
   ]
  },
  {
   "cell_type": "markdown",
   "id": "21dcd36a",
   "metadata": {},
   "source": [
    "Please note that boolean value is applicable only on certain data types. Most, if not all, built-in datatypes give a valid boolean value, but this is not applicable for variables of imported libraries."
   ]
  },
  {
   "cell_type": "code",
   "execution_count": 6,
   "id": "963f8825",
   "metadata": {},
   "outputs": [
    {
     "name": "stdout",
     "output_type": "stream",
     "text": [
      "False\n"
     ]
    }
   ],
   "source": [
    "## Boolean Value of built-in value None\n",
    "print(bool(None))"
   ]
  },
  {
   "cell_type": "code",
   "execution_count": null,
   "id": "30b76f6b",
   "metadata": {},
   "outputs": [],
   "source": []
  },
  {
   "cell_type": "markdown",
   "id": "88ea2a81-74c0-486f-92e6-a9786e0dcdf7",
   "metadata": {},
   "source": [
    "### Boolean values of Boolean Types\n",
    "\n",
    "`True` and `False` return `True` and `False` as their Boolean values.\n",
    "\n",
    "`bool()` function itself returns `False`, and its Boolean value is also `False`.\n",
    "However, since `bool` represents a `<type>`, its own Boolean value is `True`."
   ]
  },
  {
   "cell_type": "code",
   "execution_count": 15,
   "id": "331d36ef-0a3a-4248-a4b9-413e899fb00a",
   "metadata": {},
   "outputs": [
    {
     "name": "stdout",
     "output_type": "stream",
     "text": [
      "<class 'type'>\n",
      "<class 'bool'>\n"
     ]
    }
   ],
   "source": [
    "## Helper print statements to clarify difference between bool type and bool() function\n",
    "\n",
    "print(type(bool))\n",
    "print(type(bool()))"
   ]
  },
  {
   "cell_type": "code",
   "execution_count": null,
   "id": "80f27739-95e6-4bff-82ad-9778b555a0b7",
   "metadata": {},
   "outputs": [],
   "source": []
  },
  {
   "cell_type": "code",
   "execution_count": 4,
   "id": "6e523788-0d1f-480c-9bd1-d2fe08de2df0",
   "metadata": {},
   "outputs": [
    {
     "name": "stdout",
     "output_type": "stream",
     "text": [
      "Boolean value of True: True\n",
      "Boolean value of True: False\n"
     ]
    }
   ],
   "source": [
    "print(f\"Boolean value of True: {bool(True)}\")\n",
    "print(f\"Boolean value of True: {bool(False)}\")"
   ]
  },
  {
   "cell_type": "code",
   "execution_count": 9,
   "id": "8939e46c-f97f-4f0c-b089-a35b4a1eb22b",
   "metadata": {},
   "outputs": [
    {
     "name": "stdout",
     "output_type": "stream",
     "text": [
      "Return value of bool() function: False\n",
      "Boolean value of bool() function: False\n"
     ]
    }
   ],
   "source": [
    "print(f\"Return value of bool() function: {bool()}\")\n",
    "print(f\"Boolean value of bool() function: {bool(bool())}\")"
   ]
  },
  {
   "cell_type": "code",
   "execution_count": 14,
   "id": "41da00a7-b82b-44f7-9754-f1f08b187b20",
   "metadata": {},
   "outputs": [
    {
     "name": "stdout",
     "output_type": "stream",
     "text": [
      "Boolean value of bool type: True\n"
     ]
    }
   ],
   "source": [
    "print(f\"Boolean value of bool type: {bool(bool)}\")"
   ]
  },
  {
   "cell_type": "code",
   "execution_count": null,
   "id": "7860b023-e779-445f-90a6-32c69f89a285",
   "metadata": {},
   "outputs": [],
   "source": []
  },
  {
   "cell_type": "code",
   "execution_count": null,
   "id": "f846b998-9f63-4ae2-85f3-3ecd98d9e433",
   "metadata": {},
   "outputs": [],
   "source": []
  },
  {
   "cell_type": "code",
   "execution_count": null,
   "id": "ac3afe79-8f9a-44a3-a3fd-1fd826ef698e",
   "metadata": {},
   "outputs": [],
   "source": []
  },
  {
   "cell_type": "code",
   "execution_count": null,
   "id": "4ad60bbb-f964-482e-adb6-4cdd5b852b54",
   "metadata": {},
   "outputs": [],
   "source": []
  },
  {
   "cell_type": "code",
   "execution_count": null,
   "id": "5efa79b4-11d4-4c48-927d-6c7217faeb0c",
   "metadata": {},
   "outputs": [],
   "source": []
  },
  {
   "cell_type": "markdown",
   "id": "af781c23",
   "metadata": {},
   "source": [
    "### Boolean values of Numeric Types\n",
    "\n",
    "For numeric data types, non-zero values return `True` while 0 returns `False`."
   ]
  },
  {
   "cell_type": "markdown",
   "id": "a3fae7ab-022d-476d-ba75-ecf93f1e62b1",
   "metadata": {},
   "source": [
    "#### Boolean value of Integers"
   ]
  },
  {
   "cell_type": "code",
   "execution_count": 26,
   "id": "1a9f0dfa",
   "metadata": {},
   "outputs": [
    {
     "name": "stdout",
     "output_type": "stream",
     "text": [
      "Boolean value of Integer 1 : True\n",
      "Boolean value of Integer -1 : True\n",
      "Boolean value of Integer 0 : False\n"
     ]
    }
   ],
   "source": [
    "print(f\"Boolean value of Integer 1 : {bool(1)}\")\n",
    "print(f\"Boolean value of Integer -1 : {bool(1)}\")\n",
    "print(f\"Boolean value of Integer 0 : {bool(0)}\")"
   ]
  },
  {
   "cell_type": "markdown",
   "id": "be11d55c-1f53-4891-86ae-fb1581df331f",
   "metadata": {},
   "source": [
    "#### Boolean value of Floats"
   ]
  },
  {
   "cell_type": "code",
   "execution_count": 28,
   "id": "2f9ec3f1",
   "metadata": {},
   "outputs": [
    {
     "name": "stdout",
     "output_type": "stream",
     "text": [
      "Boolean value of Float 1.0 : True\n",
      "Boolean value of Float -1.0 : True\n",
      "Boolean value of Float 0.0 : False\n"
     ]
    }
   ],
   "source": [
    "print(f\"Boolean value of Float 1.0 : {bool(1.0)}\")\n",
    "print(f\"Boolean value of Float -1.0 : {bool(-1.0)}\")\n",
    "print(f\"Boolean value of Float 0.0 : {bool(0.0)}\")"
   ]
  },
  {
   "cell_type": "markdown",
   "id": "f5eab34a-1bde-40db-aa2c-49e253b63b33",
   "metadata": {},
   "source": [
    "#### Boolean value of Complex Numbers"
   ]
  },
  {
   "cell_type": "code",
   "execution_count": 30,
   "id": "0eb0ad1d",
   "metadata": {},
   "outputs": [
    {
     "name": "stdout",
     "output_type": "stream",
     "text": [
      "Boolean value of Complex Number with both real & imaginary parts positive : True\n",
      "Boolean value of Complex Number with both real & imaginary parts negative : True\n",
      "Boolean value of Complex Number with positive real & negative imaginary parts : True\n",
      "Boolean value of Complex Number with negative real & positive imaginary parts : True\n",
      "Boolean value of Complex Number with both real & imaginary parts zero : False\n"
     ]
    }
   ],
   "source": [
    "print(f\"Boolean value of Complex Number with both real & imaginary parts positive : {bool(complex (3, 5))}\")\n",
    "print(f\"Boolean value of Complex Number with both real & imaginary parts negative : {bool(complex (-1.98, -9.5))}\")\n",
    "print(f\"Boolean value of Complex Number with positive real & negative imaginary parts : {bool(complex (6.98, -5.5))}\")\n",
    "print(f\"Boolean value of Complex Number with negative real & positive imaginary parts : {bool(complex (-1.98, 95))}\")\n",
    "\n",
    "print(f\"Boolean value of Complex Number with both real & imaginary parts zero : {bool(complex(0, 0))}\")"
   ]
  },
  {
   "cell_type": "code",
   "execution_count": null,
   "id": "37ea2f89",
   "metadata": {},
   "outputs": [],
   "source": []
  },
  {
   "cell_type": "code",
   "execution_count": null,
   "id": "3afe600e-ed7e-4033-82a3-51c232627e1a",
   "metadata": {},
   "outputs": [],
   "source": []
  },
  {
   "cell_type": "code",
   "execution_count": null,
   "id": "2791b8c7-ef8f-4e9a-897b-4ee2b4768008",
   "metadata": {},
   "outputs": [],
   "source": []
  },
  {
   "cell_type": "markdown",
   "id": "40ea6d4b",
   "metadata": {},
   "source": [
    "### Boolean values of String Types\n",
    "\n",
    "For string data types, non-empty strings return `True` while empty strings return `False`."
   ]
  },
  {
   "cell_type": "code",
   "execution_count": 3,
   "id": "3d38d1bb",
   "metadata": {},
   "outputs": [
    {
     "name": "stdout",
     "output_type": "stream",
     "text": [
      "Boolean value of Non-Empty Single Line String : True\n",
      "Boolean value of Non-Empty Multi-Line String : True\n",
      "Boolean value of Empty String \"\": False\n",
      "Boolean value of Empty String via str() function: False\n"
     ]
    }
   ],
   "source": [
    "print(f\"Boolean value of Non-Empty Single Line String : {bool(\"Hello\")}\")\n",
    "print(f\"Boolean value of Non-Empty Multi-Line String : {bool(\"\"\" hello and welcome to \n",
    "                                                                     beginner python tutorial by Aditya Garg\"\"\")}\")\n",
    "\n",
    "print(f\"Boolean value of Empty String \\\"\\\": {bool(\"\")}\")\n",
    "print(f\"Boolean value of Empty String via str() function: {bool(str())}\")"
   ]
  },
  {
   "cell_type": "code",
   "execution_count": 40,
   "id": "b9fab8a8",
   "metadata": {},
   "outputs": [
    {
     "name": "stdout",
     "output_type": "stream",
     "text": [
      "Boolean value of Integer Zero converted to String : True\n",
      "Boolean value of Float Zero converted to String  : True\n",
      "Boolean value of Complex Zero converted to String  : True\n",
      "Boolean value of Empty String converted to String  : False\n"
     ]
    }
   ],
   "source": [
    "print(f\"Boolean value of Integer Zero converted to String : {bool(str(0))}\")\n",
    "print(f\"Boolean value of Float Zero converted to String : {bool(str(0.0))}\")\n",
    "print(f\"Boolean value of Complex Zero converted to String : {bool(str(complex(0,0)))}\")\n",
    "print(f\"Boolean value of Empty String converted to String : {bool(str(\"\"))}\")"
   ]
  },
  {
   "cell_type": "code",
   "execution_count": null,
   "id": "fc0b7cc4",
   "metadata": {},
   "outputs": [],
   "source": []
  },
  {
   "cell_type": "code",
   "execution_count": null,
   "id": "e9f7b61f",
   "metadata": {},
   "outputs": [],
   "source": []
  },
  {
   "cell_type": "markdown",
   "id": "5fdb0801",
   "metadata": {},
   "source": [
    "### Boolean values of Collection Types\n",
    "\n",
    "Usually non-empty collection types return `True` while empty collection types return `False`."
   ]
  },
  {
   "cell_type": "markdown",
   "id": "3057dde3-53be-4f9b-b0c8-a32ff1d496b5",
   "metadata": {},
   "source": [
    "#### Boolean value of Lists"
   ]
  },
  {
   "cell_type": "code",
   "execution_count": 45,
   "id": "b97b9c75",
   "metadata": {},
   "outputs": [
    {
     "name": "stdout",
     "output_type": "stream",
     "text": [
      "Boolean value of Non-Empty List : True\n",
      "Boolean value of Empty List : False\n"
     ]
    }
   ],
   "source": [
    "print(f\"Boolean value of Non-Empty List : {bool(list((1,3,75, 'Hello', True, 0, -98)))}\")\n",
    "print(f\"Boolean value of Empty List : {bool(list())}\")"
   ]
  },
  {
   "cell_type": "markdown",
   "id": "fd071f46-0559-418a-a779-3c8683734ebc",
   "metadata": {},
   "source": [
    "#### Boolean value of Tuples"
   ]
  },
  {
   "cell_type": "code",
   "execution_count": 47,
   "id": "62e144ea",
   "metadata": {},
   "outputs": [
    {
     "name": "stdout",
     "output_type": "stream",
     "text": [
      "Boolean value of Non-Empty Tuple : True\n",
      "Boolean value of Empty Tuple : False\n"
     ]
    }
   ],
   "source": [
    "print(f\"Boolean value of Non-Empty Tuple : {bool(tuple((1,3,75, 'Hello', True, 0, -98)))}\")\n",
    "print(f\"Boolean value of Empty Tuple : {bool(tuple())}\")"
   ]
  },
  {
   "cell_type": "markdown",
   "id": "1ca02690-d886-47cf-82db-5b054b3507d1",
   "metadata": {},
   "source": [
    "#### Boolean value of Sets"
   ]
  },
  {
   "cell_type": "code",
   "execution_count": 48,
   "id": "c5534a8b",
   "metadata": {},
   "outputs": [
    {
     "name": "stdout",
     "output_type": "stream",
     "text": [
      "Boolean value of Non-Empty Set : True\n",
      "Boolean value of Empty Set : False\n"
     ]
    }
   ],
   "source": [
    "print(f\"Boolean value of Non-Empty Set : {bool(set((1,3,75, 'Hello', True, 0, -98)))}\")\n",
    "print(f\"Boolean value of Empty Set : {bool(set())}\")"
   ]
  },
  {
   "cell_type": "markdown",
   "id": "2f405c9a-4d59-48c4-930e-ca9b0be1e3a3",
   "metadata": {},
   "source": [
    "#### Boolean value of Dictionaries"
   ]
  },
  {
   "cell_type": "code",
   "execution_count": 46,
   "id": "d7475698",
   "metadata": {},
   "outputs": [
    {
     "name": "stdout",
     "output_type": "stream",
     "text": [
      "Boolean value of Non-Empty Dictonary : True\n",
      "Boolean value of Non-Empty Dictonary : True\n",
      "Boolean value of Empty Dictonary : False\n"
     ]
    }
   ],
   "source": [
    "print(f\"Boolean value of Non-Empty Dictonary : {bool(dict({'foo': 100, 'bar': 200}))}\")\n",
    "print(f\"Boolean value of Non-Empty Dictonary : {bool(dict([('two', 2), ('one', 1), ('three', 3)]))}\")\n",
    "print(f\"Boolean value of Empty Dictonary : {bool(dict())}\")"
   ]
  },
  {
   "cell_type": "code",
   "execution_count": null,
   "id": "7243d676",
   "metadata": {},
   "outputs": [],
   "source": []
  },
  {
   "cell_type": "markdown",
   "id": "03b4b5c0",
   "metadata": {},
   "source": [
    "### Adding Boolean values to a set\n",
    "Sets treat Boolean values and corresponding non-boolean values as equal, hence, only one such value can be added to a set at a time"
   ]
  },
  {
   "cell_type": "code",
   "execution_count": 15,
   "id": "84df9ab4",
   "metadata": {},
   "outputs": [
    {
     "name": "stdout",
     "output_type": "stream",
     "text": [
      "Singleton Sets with 1 or True\n",
      "{True}\n",
      "{1}\n",
      "\n",
      "Singleton Sets with 0 or False\n",
      "{False}\n",
      "{0}\n",
      "\n",
      "Singleton Sets with Boolean value of Empty Collection or False\n",
      "{False}\n",
      "{False}\n",
      "\n",
      "Singleton Sets with Boolean value of None and False\n",
      "{False}\n",
      "{False}\n"
     ]
    }
   ],
   "source": [
    "\"\"\"\n",
    "Values True and 1 are treated as equal. Likewise values False and 0 are treated as equal. \n",
    "Therefore, on passing both of them as part of input, the first one among them is considered as a member of the set.\n",
    "\"\"\"\n",
    "\n",
    "print(\"Singleton Sets with 1 or True\")\n",
    "print(set((True, 1)))\n",
    "print(set((1, True)))\n",
    "\n",
    "print()\n",
    "print(\"Singleton Sets with 0 or False\")\n",
    "print(set((False, 0)))\n",
    "print(set((0, False)))\n",
    "\n",
    "print()\n",
    "print(\"Singleton Sets with Boolean value of Empty Collection or False\")\n",
    "print(set((False, bool(list()))))\n",
    "print(set((bool(list()), False)))\n",
    "\n",
    "\n",
    "print()\n",
    "print(\"Singleton Sets with Boolean value of None and False\")\n",
    "print(set((False, bool(None))))\n",
    "print(set((bool(None), False)))"
   ]
  },
  {
   "cell_type": "code",
   "execution_count": null,
   "id": "12c0398b",
   "metadata": {},
   "outputs": [],
   "source": []
  },
  {
   "cell_type": "code",
   "execution_count": null,
   "id": "3acd2200",
   "metadata": {},
   "outputs": [],
   "source": []
  },
  {
   "cell_type": "markdown",
   "id": "0386f0d0-c940-4128-8fc5-b9f6341ce726",
   "metadata": {},
   "source": [
    "### Boolean Values of Built-in Values\n",
    "\n",
    "Python has some Built-in Values, which can be input into `bool()` to output their Boolean values\n",
    "- `None` is a built-in datatype called `NoneType` which is essentially equivalent to a null value.\n",
    "\n",
    "- `NaN` (Not a Number) is a special floating-point value defined in the IEEE 754 floating-point standard, used to represent undefined or unrepresentable numerical results.\n",
    "    - `NaN` value can be obtained using built-in `float('nan')` or by importing built-in math library to generate `math.nan` value.\n",
    "    - Other libraries like numpy and pandas also provide their own implementations of `NaN` values and `NaN` value checks\n",
    "\n",
    "- `Infinity` can be represented via built-in values in some libraries available in Python:\n",
    "    - built-in math library has infinity value `math.inf ` which represents positive infinity. Using the unary negation operation -`math.inf` represents negative infinity.\n",
    "    - numpy library has `numpy.inf` which represents positive infinity. Using the unary negation operation -`numpy.inf` represents negative infinity.\n",
    "       - numpy library also allows checks for infinity via `numpy.isneginf()` (checks for negative infinity) and `numpy.isposinf()` (checks for postive infinity)"
   ]
  },
  {
   "cell_type": "code",
   "execution_count": null,
   "id": "62f81f8b-814e-4875-832b-ce312d9a89f0",
   "metadata": {},
   "outputs": [],
   "source": []
  },
  {
   "cell_type": "markdown",
   "id": "2b33f97f-a02a-4844-904a-aced72162f74",
   "metadata": {},
   "source": [
    "#### Boolean value of `None`\n",
    "`NoneType` has a Boolean value of `False`.\n",
    "- NoneType compared to itself generates a value of `True`.\n",
    "- Variables having `None` value when compared also generate a value of `True`."
   ]
  },
  {
   "cell_type": "code",
   "execution_count": null,
   "id": "ec3e94b3-84a2-4a74-9dcf-63ee41d45a42",
   "metadata": {},
   "outputs": [],
   "source": []
  },
  {
   "cell_type": "code",
   "execution_count": 51,
   "id": "1f99ff13-6adf-4fba-822a-ef3e045d1c85",
   "metadata": {},
   "outputs": [
    {
     "name": "stdout",
     "output_type": "stream",
     "text": [
      "None Data Type = <class 'NoneType'>\n",
      "bool(None) = False\n"
     ]
    }
   ],
   "source": [
    "## Boolean Value of built-in value None\n",
    "print(f\"None Data Type = {type(None)}\")\n",
    "print(f\"bool(None) = {bool(None)}\")"
   ]
  },
  {
   "cell_type": "code",
   "execution_count": null,
   "id": "7dd0cbd8-92d3-480a-a67f-f330b09b477e",
   "metadata": {},
   "outputs": [],
   "source": []
  },
  {
   "cell_type": "code",
   "execution_count": 15,
   "id": "34573fae-7f04-4fe3-8fa0-b8fa01ef65dd",
   "metadata": {},
   "outputs": [
    {
     "name": "stdout",
     "output_type": "stream",
     "text": [
      "True\n"
     ]
    }
   ],
   "source": [
    "## None compared to itself\n",
    "print(None == None)"
   ]
  },
  {
   "cell_type": "code",
   "execution_count": 16,
   "id": "dc0287c2-c92e-4003-af9f-d8e989c6bf8e",
   "metadata": {},
   "outputs": [
    {
     "name": "stdout",
     "output_type": "stream",
     "text": [
      "True\n"
     ]
    }
   ],
   "source": [
    "## Comparison of 2 NoneType variables\n",
    "x = None\n",
    "y = None\n",
    "\n",
    "print(x == y)"
   ]
  },
  {
   "cell_type": "code",
   "execution_count": null,
   "id": "de91edc5-edbf-42b3-900f-69c40b1e440a",
   "metadata": {},
   "outputs": [],
   "source": []
  },
  {
   "cell_type": "markdown",
   "id": "9b274dd9-e7a4-4c44-ab49-763d29142f22",
   "metadata": {},
   "source": [
    "#### Boolean value of `NaN`\n",
    "`NaN` is an actual non-zero float type, hence, it has a Boolean value of `True`.\n",
    "This also means checks for $ bool(NaN) = False $ cannot yield expected results.\n",
    "\n",
    "- As NaN is a floating point value, it can be initialised using `float('nan')`\n",
    "- Built-in math library provides following NaN functionalities:\n",
    "  - floating point NaN value: $math.nan$\n",
    "  - function to check NaN value: $math.isnan()$\n",
    "- Separately installed libraries numpy and pandas also provide NaN values and NaN value checks\n"
   ]
  },
  {
   "cell_type": "markdown",
   "id": "a99bbf9c-b2cf-4267-96b6-49bd5b70dc54",
   "metadata": {},
   "source": [
    "References:\n",
    "- [https://www.turing.com/kb/nan-values-in-python]\n",
    "- [https://www.geeksforgeeks.org/python/check-for-nan-values-in-python/]"
   ]
  },
  {
   "cell_type": "code",
   "execution_count": null,
   "id": "192f7c02-01e7-4b0e-ab77-51b3398da342",
   "metadata": {},
   "outputs": [],
   "source": []
  },
  {
   "cell_type": "code",
   "execution_count": 50,
   "id": "0d3018d5",
   "metadata": {},
   "outputs": [
    {
     "name": "stdout",
     "output_type": "stream",
     "text": [
      "Printing NaN value: nan\n",
      "bool(NaN) = True\n"
     ]
    }
   ],
   "source": [
    "## As NaN is a floating point value, it can be initialised using float('nan')\n",
    "\n",
    "print(f\"Printing NaN value: {float('nan')}\")\n",
    "print(f\"bool(NaN) = {bool(float('nan'))}\")"
   ]
  },
  {
   "cell_type": "code",
   "execution_count": 52,
   "id": "ecdcc361",
   "metadata": {},
   "outputs": [
    {
     "name": "stdout",
     "output_type": "stream",
     "text": [
      "Math library's provided math.nan = nan\n",
      "Data Type of math.nan: <class 'float'>\n",
      "NaN check using math.isnan(math.nan): True\n",
      "bool(math.nan) = True\n"
     ]
    }
   ],
   "source": [
    "## math library's nan value and isnan() function\n",
    "import math\n",
    "\n",
    "print(f\"Math library's provided math.nan = {math.nan}\")\n",
    "print(f\"Data Type of math.nan: {type(math.nan)}\")\n",
    "print(f\"NaN check using math.isnan(math.nan): { math.isnan(math.nan)}\")\n",
    "print(f\"bool(math.nan) = {bool(math.nan)}\")"
   ]
  },
  {
   "cell_type": "code",
   "execution_count": null,
   "id": "408d3938-3ef9-4590-80ea-2fc6f6102ae3",
   "metadata": {},
   "outputs": [],
   "source": []
  },
  {
   "cell_type": "code",
   "execution_count": 14,
   "id": "9af22c85-521a-43ac-aeeb-80a2ec6bf2b1",
   "metadata": {},
   "outputs": [
    {
     "name": "stdout",
     "output_type": "stream",
     "text": [
      "Numpy's provided NaN (np.nan): nan\n",
      "Data Type of np.nan: <class 'float'>\n",
      "NaN check using np.isnan(np.nan): True\n",
      "bool(np.nan) = True\n"
     ]
    }
   ],
   "source": [
    "import numpy as np\n",
    "\n",
    "print(f\"Numpy's provided NaN (np.nan): {np.nan}\")\n",
    "print(f\"Data Type of np.nan: {type(np.nan)}\")\n",
    "print(f\"NaN check using np.isnan(np.nan): {np.isnan(np.nan)}\")\n",
    "print(f\"bool(np.nan) = {bool(np.nan)}\")"
   ]
  },
  {
   "cell_type": "code",
   "execution_count": null,
   "id": "f8df4b4e-fd99-45d2-8065-b4af915f9ad2",
   "metadata": {},
   "outputs": [],
   "source": []
  },
  {
   "cell_type": "code",
   "execution_count": null,
   "id": "7eb088e6-6020-48e9-8f71-38f6933837f5",
   "metadata": {},
   "outputs": [],
   "source": []
  },
  {
   "cell_type": "code",
   "execution_count": null,
   "id": "ad871c63-51fd-459a-b56e-fc91508b3c2d",
   "metadata": {},
   "outputs": [],
   "source": []
  },
  {
   "cell_type": "markdown",
   "id": "36c088c8-263e-48df-b06d-f35ab9c83829",
   "metadata": {},
   "source": [
    "#### Boolean value of `inf`\n",
    "`inf` is an actual non-zero float type representing positive infinity,having s a Boolean value of `True`.\n",
    "Negative infinity `-inf`, also being a non-zero value has a Boolean value of `True`.\n",
    "\n",
    "`inf` or `-inf` are not available in Python built-ins library, but can be accessed via other built-in libraries like math or by separately installed libraries like numpy.\n",
    "- math library provides the value $math.inf$ for positive infinity and $math.isnan()$ function to check if a value is infinity\n",
    "- seperately installed numpy library likewise provides $np.inf$ value for positive infinity and $np.isneginf()$ and $np.isposinf()$ functions to check if a value is negative or positive infinity"
   ]
  },
  {
   "cell_type": "code",
   "execution_count": null,
   "id": "275491ee-0073-4945-81de-1e90d482afd7",
   "metadata": {},
   "outputs": [],
   "source": []
  },
  {
   "cell_type": "code",
   "execution_count": 19,
   "id": "3ae6594f-ee94-4ace-ba45-fcbff666d476",
   "metadata": {},
   "outputs": [
    {
     "name": "stdout",
     "output_type": "stream",
     "text": [
      "Math library's provided Infinity -- (math.inf): inf and (-math.inf): -inf\n",
      "Data Type of math.inf: <class 'float'>\n",
      "Inf check using (math.isinf(math.inf)): True\n",
      "bool(math.inf) = True\n",
      "bool(-math.inf) = True\n"
     ]
    }
   ],
   "source": [
    "import math\n",
    "\n",
    "print(f\"Math library's provided Infinity -- (math.inf): {math.inf} and (-math.inf): {-math.inf}\")\n",
    "print(f\"Data Type of math.inf: {type(math.inf)}\")\n",
    "print(f\"Inf check using (math.isinf(math.inf)): {math.isinf(math.inf)}\")\n",
    "print(f\"bool(math.inf) = {bool(math.inf)}\")\n",
    "print(f\"bool(-math.inf) = {bool(-math.inf)}\")"
   ]
  },
  {
   "cell_type": "code",
   "execution_count": null,
   "id": "ceaeee6b",
   "metadata": {},
   "outputs": [],
   "source": []
  },
  {
   "cell_type": "code",
   "execution_count": 20,
   "id": "e76bf1a9",
   "metadata": {},
   "outputs": [
    {
     "name": "stdout",
     "output_type": "stream",
     "text": [
      "Numpy's provided Infinity -- (np.inf): inf and (-np.inf): -inf\n",
      "Data Type of np.inf: <class 'float'>\n",
      "NaN check using np.isposinf(np.inf): True and np.isneginf(-np.inf): True\n",
      "bool(np.inf) = True\n",
      "bool(-np.inf) = True\n"
     ]
    }
   ],
   "source": [
    "import numpy as np\n",
    "\n",
    "print(f\"Numpy's provided Infinity -- (np.inf): {np.inf} and (-np.inf): {-np.inf}\")\n",
    "print(f\"Data Type of np.inf: {type(np.inf)}\")\n",
    "print(f\"NaN check using np.isposinf(np.inf): {np.isposinf(np.inf)} and np.isneginf(-np.inf): {np.isneginf(-np.inf)}\")\n",
    "print(f\"bool(np.inf) = {bool(np.inf)}\")\n",
    "print(f\"bool(-np.inf) = {bool(-np.inf)}\")"
   ]
  },
  {
   "cell_type": "code",
   "execution_count": null,
   "id": "159c94bc-1b7b-4dd3-afa6-518502dd92b7",
   "metadata": {},
   "outputs": [],
   "source": []
  },
  {
   "cell_type": "code",
   "execution_count": null,
   "id": "ab97b355-9f93-41cf-b15d-bda5611f835d",
   "metadata": {},
   "outputs": [],
   "source": []
  },
  {
   "cell_type": "markdown",
   "id": "20305a20-ff1a-49fc-8d60-d4fa21d57f11",
   "metadata": {},
   "source": [
    "#### Relationship between NaN and Inf\n",
    "An important mathematical property in Python for Infinity and Nan is the relation: $0 * inf = NaN$. <br>\n",
    "This means $0 * inf$ returns True as its Boolean value since it is non-zero."
   ]
  },
  {
   "cell_type": "code",
   "execution_count": 53,
   "id": "cc70ec68-7ad0-4970-8660-b136c6360b0c",
   "metadata": {},
   "outputs": [
    {
     "name": "stdout",
     "output_type": "stream",
     "text": [
      "0 * math.inf = nan\n",
      "Boolean value of 0 * math.inf = True\n"
     ]
    }
   ],
   "source": [
    "print(f\"0 * math.inf = {0 * math.inf}\")\n",
    "print(f\"Boolean value of 0 * math.inf = {bool(0 * math.inf)}\")"
   ]
  },
  {
   "cell_type": "code",
   "execution_count": null,
   "id": "f5b4523c-1162-4704-becd-1ac69e2cbb43",
   "metadata": {},
   "outputs": [],
   "source": []
  },
  {
   "cell_type": "code",
   "execution_count": null,
   "id": "54efee68-4502-4dbc-8d44-677c58b595cc",
   "metadata": {},
   "outputs": [],
   "source": []
  },
  {
   "cell_type": "markdown",
   "id": "b6ce7c98-2409-42eb-8f48-b4f002a61d6f",
   "metadata": {},
   "source": [
    "## Boolean Operators and Comparison Operators\n",
    "\n",
    "Python provides multiple operators that result in Boolean output: they are primarily divided into Boolean Operators and Comparison Operators.\n",
    "\n",
    "**Boolean Operators** yield a Boolean value corresponding to the Boolean operation performed by them:\n",
    "* Binary `or` operator : results in `True` if either or both operands are True, else `False`\n",
    "* Binary `and` operator : results in `True` if both operands are True, else `False`\n",
    "* Unary `not` operator : results in opposite of the Boolean value of the operand\n",
    "\n",
    "\n",
    "**Comparison Operators** yield a Boolean value corresponding to the comparison of the operands:\n",
    "\n",
    "There are 8 comparison operations in Python. They all have the same priority (which is higher than that of the Boolean operations). Comparisons can be chained arbitrarily; for example, x < y <= z is equivalent to x < y and y <= z, except that y is evaluated only once (but in both cases z is not evaluated at all when x < y is found to be false).\n",
    "\n",
    "| Operation | Meaning                 |\n",
    "|-----------|-------------------------|\n",
    "| <         | strictly less than      |\n",
    "| <=        | less than or equal      |\n",
    "| >         | strictly greater than   |\n",
    "| >=        | greater than or equal   |\n",
    "| ==        | equal                   |\n",
    "| !=        | not equal               |\n",
    "| is        | object identity         |\n",
    "| is not    | negated object identity |\n",
    "\n",
    "\n",
    "---\n",
    "not has a lower priority than non-Boolean operators, so `not a == b` is interpreted as `not (a == b)`, and `a == not b` is a syntax error.\n"
   ]
  },
  {
   "cell_type": "code",
   "execution_count": null,
   "id": "88ec29ed-018d-420b-9256-b7666e1c76ef",
   "metadata": {},
   "outputs": [],
   "source": []
  },
  {
   "cell_type": "code",
   "execution_count": null,
   "id": "044b8d87-25a4-4b2e-9f3f-b32beff2487d",
   "metadata": {},
   "outputs": [],
   "source": []
  },
  {
   "cell_type": "code",
   "execution_count": null,
   "id": "a488f526-8e66-4fa0-81d8-37da2a85dee6",
   "metadata": {},
   "outputs": [],
   "source": []
  },
  {
   "cell_type": "code",
   "execution_count": null,
   "id": "560a85fb-92c6-4758-9c9a-ac73894f6032",
   "metadata": {},
   "outputs": [],
   "source": []
  },
  {
   "cell_type": "markdown",
   "id": "5c3d517f-28f7-4615-b381-873b62f636f9",
   "metadata": {},
   "source": [
    "--------------------------------------------"
   ]
  },
  {
   "cell_type": "markdown",
   "id": "02fae923-6c88-4942-9a03-7860cc88728b",
   "metadata": {},
   "source": [
    "----------------------------------"
   ]
  },
  {
   "cell_type": "code",
   "execution_count": null,
   "id": "5eae87f2-50c1-4b3b-9599-8861c495a90a",
   "metadata": {},
   "outputs": [],
   "source": []
  },
  {
   "cell_type": "markdown",
   "id": "3f997674-c6ed-4c7a-80fe-6773d26ca38c",
   "metadata": {},
   "source": [
    "## Boolean Values of Statements and Functions\n",
    "\n",
    "Python statements by themselves dont have Boolean values.\n",
    "However, they do have default return values, which in turn can be used as return values of Functions calling those statements.\n",
    "\n",
    "A function by default returns a `None` value, which means the absence of a return statement or a standalone return statement causes the function to have Boolean value as `False`."
   ]
  },
  {
   "cell_type": "code",
   "execution_count": null,
   "id": "9fb17dba-9b26-4ad3-8f5d-0e2887ae1eee",
   "metadata": {},
   "outputs": [],
   "source": []
  },
  {
   "cell_type": "code",
   "execution_count": null,
   "id": "909ca34c-cd22-4751-9b63-2ff5ccdf198d",
   "metadata": {},
   "outputs": [],
   "source": []
  },
  {
   "cell_type": "markdown",
   "id": "57e979b5-59b2-413a-be98-d94fbd8d13b3",
   "metadata": {},
   "source": [
    "### Boolean values of Built-in statements and their calling functions"
   ]
  },
  {
   "cell_type": "markdown",
   "id": "5f8b14f2-fbb4-491c-8110-23939b008a7e",
   "metadata": {},
   "source": [
    "#### Boolean Value of `pass` Statement\n",
    "\n",
    "`pass` statement doesnt perform any work, it is simply a placeholder for future code.\n",
    "\n",
    "- Being a statement, calling `bool(pass)` simply returns an error.\n",
    "- However, a function with only pass statement inside returns `None`, and therefore that function call has Boolean value of `False`."
   ]
  },
  {
   "cell_type": "code",
   "execution_count": null,
   "id": "f670b8c9-5060-49d4-bdf7-be82bad0f152",
   "metadata": {},
   "outputs": [],
   "source": []
  },
  {
   "cell_type": "code",
   "execution_count": 54,
   "id": "ca8f20c4-14bc-4487-8e48-40b93a32a8b6",
   "metadata": {},
   "outputs": [
    {
     "ename": "SyntaxError",
     "evalue": "invalid syntax (1945400997.py, line 1)",
     "output_type": "error",
     "traceback": [
      "  \u001b[36mCell\u001b[39m\u001b[36m \u001b[39m\u001b[32mIn[54]\u001b[39m\u001b[32m, line 1\u001b[39m\n\u001b[31m    \u001b[39m\u001b[31mprint(bool(pass))\u001b[39m\n               ^\n\u001b[31mSyntaxError\u001b[39m\u001b[31m:\u001b[39m invalid syntax\n"
     ]
    }
   ],
   "source": [
    "print(bool(pass))"
   ]
  },
  {
   "cell_type": "code",
   "execution_count": 55,
   "id": "fc97a1fd-efe3-4727-bba9-dd6b4d33f6e6",
   "metadata": {},
   "outputs": [
    {
     "name": "stdout",
     "output_type": "stream",
     "text": [
      "False\n",
      "<class 'NoneType'>\n"
     ]
    }
   ],
   "source": [
    "## Function with only pass statement in it\n",
    "def pass_statement_caller():\n",
    "    pass\n",
    "\n",
    "print(bool(pass_statement_caller()))\n",
    "print(type(pass_statement_caller()))"
   ]
  },
  {
   "cell_type": "code",
   "execution_count": null,
   "id": "1fadc73a-4089-4cac-8c10-11599d75ca07",
   "metadata": {},
   "outputs": [],
   "source": []
  },
  {
   "cell_type": "code",
   "execution_count": null,
   "id": "1696db34-b758-4d5d-badf-6f3462f88581",
   "metadata": {},
   "outputs": [],
   "source": []
  },
  {
   "cell_type": "markdown",
   "id": "ba70f03a-ea8f-4cd1-97b4-813c57bed013",
   "metadata": {},
   "source": [
    "#### Boolean Value of `return` Statement\n",
    "\n",
    "`return` statement returns `None` by default, and therefore has a `False` Boolean value. \n",
    "\n",
    "- Being a statement, calling `bool(return)` simply returns an error.\n",
    "- However, a function with only return statement inside returns `None`, and therefore that function call has Boolean value of `False`."
   ]
  },
  {
   "cell_type": "code",
   "execution_count": 56,
   "id": "14cfb083-4924-43e7-986b-e320da31025a",
   "metadata": {},
   "outputs": [
    {
     "ename": "SyntaxError",
     "evalue": "invalid syntax (533966373.py, line 1)",
     "output_type": "error",
     "traceback": [
      "  \u001b[36mCell\u001b[39m\u001b[36m \u001b[39m\u001b[32mIn[56]\u001b[39m\u001b[32m, line 1\u001b[39m\n\u001b[31m    \u001b[39m\u001b[31mprint(bool(return))\u001b[39m\n               ^\n\u001b[31mSyntaxError\u001b[39m\u001b[31m:\u001b[39m invalid syntax\n"
     ]
    }
   ],
   "source": [
    "print(bool(return))"
   ]
  },
  {
   "cell_type": "code",
   "execution_count": 57,
   "id": "ef0fb37d-a581-4fb6-827d-809c1a26e38c",
   "metadata": {},
   "outputs": [
    {
     "name": "stdout",
     "output_type": "stream",
     "text": [
      "False\n",
      "<class 'NoneType'>\n"
     ]
    }
   ],
   "source": [
    "## Function with only pass statement in it\n",
    "def return_statement_caller():\n",
    "    return\n",
    "\n",
    "print(bool(return_statement_caller()))\n",
    "print(type(return_statement_caller()))"
   ]
  },
  {
   "cell_type": "code",
   "execution_count": null,
   "id": "73da8aca-519b-4b7a-a49c-98371821870c",
   "metadata": {},
   "outputs": [],
   "source": []
  },
  {
   "cell_type": "markdown",
   "id": "a1618d31-a382-4a38-a93d-e62b3b5576f3",
   "metadata": {},
   "source": [
    "### Boolean values of Built-in function calls\n",
    "\n",
    "Functions that clearly return a value or collection of values have the corresponding Boolean values.\n",
    "This is essentially the same as having a return value of `None`, and therefore a Boolean value of `False`."
   ]
  },
  {
   "cell_type": "markdown",
   "id": "40583d3a-11a7-44a2-a2fd-c69c77e35692",
   "metadata": {},
   "source": [
    "#### `print()` function call Boolean value\n",
    "\n",
    "`print()` function always returns None, so Boolean value is always False."
   ]
  },
  {
   "cell_type": "code",
   "execution_count": 62,
   "id": "40284d7d-bc76-4d2a-ae91-e3d8193d7abe",
   "metadata": {},
   "outputs": [
    {
     "name": "stdout",
     "output_type": "stream",
     "text": [
      "\n",
      "bool(print()): False\n",
      "Hello World\n",
      "bool(print(\"Hello World\")): False\n"
     ]
    }
   ],
   "source": [
    "## Print the Boolean value of print() function -> Always returns None, so Boolean value is always False\n",
    "### In the following function calls, the inner print() function is called first and prints it contents\n",
    "### Then the outer print() function prints the Boolean value of the inner print() call\n",
    "\n",
    "print(f\"bool(print()): {bool(print())}\")\n",
    "print(f\"bool(print(\\\"Hello World\\\")): {bool(print(\"Hello World\"))}\")"
   ]
  },
  {
   "cell_type": "code",
   "execution_count": null,
   "id": "0f9b75ae-bbe1-4087-aad9-48ea87d06f9d",
   "metadata": {},
   "outputs": [],
   "source": []
  },
  {
   "cell_type": "code",
   "execution_count": null,
   "id": "4fd82ad4-7412-4400-b8ef-3428413f5921",
   "metadata": {},
   "outputs": [],
   "source": []
  }
 ],
 "metadata": {
  "kernelspec": {
   "display_name": "Python 3 (ipykernel)",
   "language": "python",
   "name": "python3"
  },
  "language_info": {
   "codemirror_mode": {
    "name": "ipython",
    "version": 3
   },
   "file_extension": ".py",
   "mimetype": "text/x-python",
   "name": "python",
   "nbconvert_exporter": "python",
   "pygments_lexer": "ipython3",
   "version": "3.13.2"
  }
 },
 "nbformat": 4,
 "nbformat_minor": 5
}
