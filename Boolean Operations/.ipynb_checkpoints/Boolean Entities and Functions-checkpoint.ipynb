{
 "cells": [
  {
   "cell_type": "markdown",
   "id": "733e66aa-7e29-4f1b-966d-87415552e951",
   "metadata": {},
   "source": [
    "# Boolean Entities and Functions"
   ]
  },
  {
   "cell_type": "markdown",
   "id": "ba143568",
   "metadata": {},
   "source": [
    "## Boolean Values of Non-Boolean Entities\n",
    "Boolean values of entities of non-boolean data types can be obtained by passing that variable as argument to bool() constructor.\n",
    "Empty/Zero value variables have boolean value as False, while Non-Empty/Non-Zero value variables have boolean value as True\n",
    "These are called Truthy / False values."
   ]
  },
  {
   "cell_type": "markdown",
   "id": "21dcd36a",
   "metadata": {},
   "source": [
    "Please note that boolean value is applicable only on certain data types. Most, if not all, built-in datatypes give a valid boolean value, but this is not applicable for variables of imported libraries (eg. pandas)"
   ]
  },
  {
   "cell_type": "code",
   "execution_count": 6,
   "id": "963f8825",
   "metadata": {},
   "outputs": [
    {
     "name": "stdout",
     "output_type": "stream",
     "text": [
      "False\n"
     ]
    }
   ],
   "source": [
    "## Boolean Value of built-in value None\n",
    "print(bool(None))"
   ]
  },
  {
   "cell_type": "code",
   "execution_count": null,
   "id": "30b76f6b",
   "metadata": {},
   "outputs": [],
   "source": []
  },
  {
   "cell_type": "markdown",
   "id": "af781c23",
   "metadata": {},
   "source": [
    "### Boolean values of Numeric Types"
   ]
  },
  {
   "cell_type": "markdown",
   "id": "a3fae7ab-022d-476d-ba75-ecf93f1e62b1",
   "metadata": {},
   "source": [
    "#### Boolean value of Integers"
   ]
  },
  {
   "cell_type": "code",
   "execution_count": 3,
   "id": "1a9f0dfa",
   "metadata": {},
   "outputs": [
    {
     "name": "stdout",
     "output_type": "stream",
     "text": [
      "Boolean value of Integer 1 : True\n",
      "Boolean value of Integer -1 : True\n",
      "Boolean value of Integer 0 : False\n"
     ]
    }
   ],
   "source": [
    "print(\"Boolean value of Integer 1 : \"  + str(bool(1)))\n",
    "print(\"Boolean value of Integer -1 : \"  + str(bool(-1)))\n",
    "print(\"Boolean value of Integer 0 : \"  + str(bool(0)))"
   ]
  },
  {
   "cell_type": "markdown",
   "id": "be11d55c-1f53-4891-86ae-fb1581df331f",
   "metadata": {},
   "source": [
    "#### Boolean value of Floats"
   ]
  },
  {
   "cell_type": "code",
   "execution_count": 4,
   "id": "2f9ec3f1",
   "metadata": {},
   "outputs": [
    {
     "name": "stdout",
     "output_type": "stream",
     "text": [
      "Boolean value of Float 1.0 : True\n",
      "Boolean value of Float -1.0 : True\n",
      "Boolean value of Float 0.0 : False\n"
     ]
    }
   ],
   "source": [
    "print(\"Boolean value of Float 1.0 : \"  + str(bool(1.0)))\n",
    "print(\"Boolean value of Float -1.0 : \"  + str(bool(-1.0)))\n",
    "print(\"Boolean value of Float 0.0 : \"  + str(bool(0.0)))"
   ]
  },
  {
   "cell_type": "markdown",
   "id": "f5eab34a-1bde-40db-aa2c-49e253b63b33",
   "metadata": {},
   "source": [
    "#### Boolean value of Complex Numbers"
   ]
  },
  {
   "cell_type": "code",
   "execution_count": 7,
   "id": "0eb0ad1d",
   "metadata": {},
   "outputs": [
    {
     "name": "stdout",
     "output_type": "stream",
     "text": [
      "Boolean value of Complex Number with both real & imaginary parts positive : True\n",
      "Boolean value of Complex Number with both real & imaginary parts negative : True\n",
      "Boolean value of Complex Number with positive real & negative imaginary parts : True\n",
      "Boolean value of Complex Number with negative real & positive imaginary parts : True\n",
      "Boolean value of Complex Number with both real & imaginary parts zero :  : False\n"
     ]
    }
   ],
   "source": [
    "print(\"Boolean value of Complex Number with both real & imaginary parts positive : \"  + str(bool(complex (3, 5))))\n",
    "print(\"Boolean value of Complex Number with both real & imaginary parts negative : \"  + str(bool(complex (-1.98, -9.5))))\n",
    "print(\"Boolean value of Complex Number with positive real & negative imaginary parts : \"  + str(bool(complex (6.98, -5.5))))\n",
    "print(\"Boolean value of Complex Number with negative real & positive imaginary parts : \"  + str(bool(complex (-1.98, 95))))\n",
    "\n",
    "print(\"Boolean value of Complex Number with both real & imaginary parts zero : \"  + str(bool(complex(0, 0))))"
   ]
  },
  {
   "cell_type": "code",
   "execution_count": null,
   "id": "37ea2f89",
   "metadata": {},
   "outputs": [],
   "source": []
  },
  {
   "cell_type": "code",
   "execution_count": null,
   "id": "34b5db58",
   "metadata": {},
   "outputs": [],
   "source": []
  },
  {
   "cell_type": "markdown",
   "id": "40ea6d4b",
   "metadata": {},
   "source": [
    "### Boolean values of String Types"
   ]
  },
  {
   "cell_type": "code",
   "execution_count": 8,
   "id": "3d38d1bb",
   "metadata": {},
   "outputs": [
    {
     "name": "stdout",
     "output_type": "stream",
     "text": [
      "Boolean value of Non-Empty Single Line String : True\n",
      "Boolean value of Non-Empty Multi-Line String : True\n",
      "Boolean value of Empty : False\n"
     ]
    }
   ],
   "source": [
    "print(\"Boolean value of Non-Empty Single Line String : \"  + str(bool(\"Hello\")))\n",
    "print(\"Boolean value of Non-Empty Multi-Line String : \"  + str(bool(\"\"\" hello and welcome to \n",
    "                                                                     beginner python tutorial by Aditya Garg\"\"\")))\n",
    "print(\"Boolean value of Empty String: \"  + str(bool(\"\")))"
   ]
  },
  {
   "cell_type": "code",
   "execution_count": 12,
   "id": "b9fab8a8",
   "metadata": {},
   "outputs": [
    {
     "name": "stdout",
     "output_type": "stream",
     "text": [
      "Boolean value of Integer Zero converted to String  : True\n",
      "Boolean value of Float Zero converted to String  : True\n",
      "Boolean value of Complex Zero converted to String  : True\n",
      "Boolean value of Empty String converted to String  : False\n"
     ]
    }
   ],
   "source": [
    "print(\"Boolean value of Integer Zero converted to String  : \"  + str(bool(str(0))))\n",
    "print(\"Boolean value of Float Zero converted to String  : \"  + str(bool(str(0.0))))\n",
    "print(\"Boolean value of Complex Zero converted to String  : \"  + str(bool(str(complex(0,0)))))\n",
    "print(\"Boolean value of Empty String converted to String  : \"  + str(bool(str(\"\"))))"
   ]
  },
  {
   "cell_type": "code",
   "execution_count": null,
   "id": "fc0b7cc4",
   "metadata": {},
   "outputs": [],
   "source": []
  },
  {
   "cell_type": "code",
   "execution_count": null,
   "id": "e9f7b61f",
   "metadata": {},
   "outputs": [],
   "source": []
  },
  {
   "cell_type": "markdown",
   "id": "5fdb0801",
   "metadata": {},
   "source": [
    "### Boolean values of Collection Types"
   ]
  },
  {
   "cell_type": "markdown",
   "id": "3057dde3-53be-4f9b-b0c8-a32ff1d496b5",
   "metadata": {},
   "source": [
    "#### Boolean value of Lists"
   ]
  },
  {
   "cell_type": "code",
   "execution_count": 16,
   "id": "b97b9c75",
   "metadata": {},
   "outputs": [
    {
     "name": "stdout",
     "output_type": "stream",
     "text": [
      "Boolean value of Non-Empty List : True\n",
      "Boolean value of Empty List : False\n"
     ]
    }
   ],
   "source": [
    "print(\"Boolean value of Non-Empty List : \"  + str(bool(list((1,3,75, 'Hello', True, 0, -98)))))\n",
    "print(\"Boolean value of Empty List : \"  + str(bool(list())))"
   ]
  },
  {
   "cell_type": "markdown",
   "id": "fd071f46-0559-418a-a779-3c8683734ebc",
   "metadata": {},
   "source": [
    "#### Boolean value of Tuples"
   ]
  },
  {
   "cell_type": "code",
   "execution_count": 1,
   "id": "62e144ea",
   "metadata": {},
   "outputs": [
    {
     "name": "stdout",
     "output_type": "stream",
     "text": [
      "Boolean value of Non-Empty Tuple : True\n",
      "Boolean value of Empty Tuple : False\n"
     ]
    }
   ],
   "source": [
    "print(\"Boolean value of Non-Empty Tuple : \"  + str(bool(tuple((1,3,75, 'Hello', True, 0, -98)))))\n",
    "print(\"Boolean value of Empty Tuple : \"  + str(bool(tuple())))"
   ]
  },
  {
   "cell_type": "markdown",
   "id": "1ca02690-d886-47cf-82db-5b054b3507d1",
   "metadata": {},
   "source": [
    "#### Boolean value of Sets"
   ]
  },
  {
   "cell_type": "code",
   "execution_count": 2,
   "id": "c5534a8b",
   "metadata": {},
   "outputs": [
    {
     "name": "stdout",
     "output_type": "stream",
     "text": [
      "Boolean value of Non-Empty Set : True\n",
      "Boolean value of Empty Set : False\n"
     ]
    }
   ],
   "source": [
    "print(\"Boolean value of Non-Empty Set : \"  + str(bool(set((1,3,75, 'Hello', True, 0, -98)))))\n",
    "print(\"Boolean value of Empty Set : \"  + str(bool(set())))"
   ]
  },
  {
   "cell_type": "markdown",
   "id": "2f405c9a-4d59-48c4-930e-ca9b0be1e3a3",
   "metadata": {},
   "source": [
    "#### Boolean value of Dictionaries"
   ]
  },
  {
   "cell_type": "code",
   "execution_count": 19,
   "id": "d7475698",
   "metadata": {},
   "outputs": [
    {
     "name": "stdout",
     "output_type": "stream",
     "text": [
      "Boolean value of Non-Empty Dictonary : True\n",
      "Boolean value of Non-Empty Dictonary : True\n",
      "Boolean value of Empty Dictonary : False\n"
     ]
    }
   ],
   "source": [
    "print(\"Boolean value of Non-Empty Dictonary : \"  + str(bool(dict({'foo': 100, 'bar': 200}))))\n",
    "print(\"Boolean value of Non-Empty Dictonary : \"  + str(bool(dict([('two', 2), ('one', 1), ('three', 3)]))))\n",
    "print(\"Boolean value of Empty Dictonary : \"  + str(bool(dict())))"
   ]
  },
  {
   "cell_type": "code",
   "execution_count": null,
   "id": "7243d676",
   "metadata": {},
   "outputs": [],
   "source": []
  },
  {
   "cell_type": "markdown",
   "id": "03b4b5c0",
   "metadata": {},
   "source": [
    "### Adding Boolean values to a set\n",
    "Sets treat Boolean values and corresponding non-boolean values as equal, hence, only one such value can be added to a set at a time"
   ]
  },
  {
   "cell_type": "code",
   "execution_count": 15,
   "id": "84df9ab4",
   "metadata": {},
   "outputs": [
    {
     "name": "stdout",
     "output_type": "stream",
     "text": [
      "Singleton Sets with 1 or True\n",
      "{True}\n",
      "{1}\n",
      "\n",
      "Singleton Sets with 0 or False\n",
      "{False}\n",
      "{0}\n",
      "\n",
      "Singleton Sets with Boolean value of Empty Collection or False\n",
      "{False}\n",
      "{False}\n",
      "\n",
      "Singleton Sets with Boolean value of None and False\n",
      "{False}\n",
      "{False}\n"
     ]
    }
   ],
   "source": [
    "\"\"\"\n",
    "Values True and 1 are treated as equal. Likewise values False and 0 are treated as equal. \n",
    "Therefore, on passing both of them as part of input, the first one among them is considered as a member of the set.\n",
    "\"\"\"\n",
    "\n",
    "print(\"Singleton Sets with 1 or True\")\n",
    "print(set((True, 1)))\n",
    "print(set((1, True)))\n",
    "\n",
    "print()\n",
    "print(\"Singleton Sets with 0 or False\")\n",
    "print(set((False, 0)))\n",
    "print(set((0, False)))\n",
    "\n",
    "print()\n",
    "print(\"Singleton Sets with Boolean value of Empty Collection or False\")\n",
    "print(set((False, bool(list()))))\n",
    "print(set((bool(list()), False)))\n",
    "\n",
    "\n",
    "print()\n",
    "print(\"Singleton Sets with Boolean value of None and False\")\n",
    "print(set((False, bool(None))))\n",
    "print(set((bool(None), False)))"
   ]
  },
  {
   "cell_type": "code",
   "execution_count": null,
   "id": "12c0398b",
   "metadata": {},
   "outputs": [],
   "source": []
  },
  {
   "cell_type": "code",
   "execution_count": null,
   "id": "3acd2200",
   "metadata": {},
   "outputs": [],
   "source": []
  },
  {
   "cell_type": "code",
   "execution_count": null,
   "id": "bf379cbb",
   "metadata": {},
   "outputs": [],
   "source": []
  },
  {
   "cell_type": "code",
   "execution_count": null,
   "id": "0d3018d5",
   "metadata": {},
   "outputs": [],
   "source": []
  },
  {
   "cell_type": "code",
   "execution_count": null,
   "id": "ecdcc361",
   "metadata": {},
   "outputs": [],
   "source": []
  },
  {
   "cell_type": "code",
   "execution_count": null,
   "id": "b5afa7be",
   "metadata": {},
   "outputs": [],
   "source": []
  },
  {
   "cell_type": "code",
   "execution_count": null,
   "id": "ceaeee6b",
   "metadata": {},
   "outputs": [],
   "source": []
  },
  {
   "cell_type": "code",
   "execution_count": null,
   "id": "e76bf1a9",
   "metadata": {},
   "outputs": [],
   "source": []
  },
  {
   "cell_type": "code",
   "execution_count": null,
   "id": "b243d998",
   "metadata": {},
   "outputs": [],
   "source": []
  }
 ],
 "metadata": {
  "kernelspec": {
   "display_name": "Python 3 (ipykernel)",
   "language": "python",
   "name": "python3"
  },
  "language_info": {
   "codemirror_mode": {
    "name": "ipython",
    "version": 3
   },
   "file_extension": ".py",
   "mimetype": "text/x-python",
   "name": "python",
   "nbconvert_exporter": "python",
   "pygments_lexer": "ipython3",
   "version": "3.13.2"
  }
 },
 "nbformat": 4,
 "nbformat_minor": 5
}
