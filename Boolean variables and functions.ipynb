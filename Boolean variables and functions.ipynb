{
 "cells": [
  {
   "cell_type": "markdown",
   "id": "93ff1e45",
   "metadata": {},
   "source": [
    "## Boolean Values of variables\n",
    "#### Boolean valeues of variables of non-boolean data types can be obtained by passing that variable as argument to bool() constructor. Empty/Zero value variables have boolean value as False, while Non-Empty/Non-Zero value variables have boolean value as True"
   ]
  },
  {
   "cell_type": "markdown",
   "id": "c0abd9ba",
   "metadata": {},
   "source": [
    "Please note that boolean value is applicable only on certain data types. Most, if not all, built-in datatypes give a valid boolean value, but this is not applicable for variables of imported libraries (eg. pandas)"
   ]
  },
  {
   "cell_type": "code",
   "execution_count": 6,
   "id": "ecf9c08e",
   "metadata": {},
   "outputs": [
    {
     "name": "stdout",
     "output_type": "stream",
     "text": [
      "False\n"
     ]
    }
   ],
   "source": [
    "## Boolean Value of built-in value None\n",
    "print(bool(None))"
   ]
  },
  {
   "cell_type": "code",
   "execution_count": null,
   "id": "7baee187",
   "metadata": {},
   "outputs": [],
   "source": []
  },
  {
   "cell_type": "markdown",
   "id": "3a64d03b",
   "metadata": {},
   "source": [
    "### Boolean values of Numeric Types"
   ]
  },
  {
   "cell_type": "code",
   "execution_count": 3,
   "id": "e7efc13c",
   "metadata": {},
   "outputs": [
    {
     "name": "stdout",
     "output_type": "stream",
     "text": [
      "Boolean value of Integer 1 : True\n",
      "Boolean value of Integer -1 : True\n",
      "Boolean value of Integer 0 : False\n"
     ]
    }
   ],
   "source": [
    "print(\"Boolean value of Integer 1 : \"  + str(bool(1)))\n",
    "print(\"Boolean value of Integer -1 : \"  + str(bool(-1)))\n",
    "print(\"Boolean value of Integer 0 : \"  + str(bool(0)))"
   ]
  },
  {
   "cell_type": "code",
   "execution_count": 4,
   "id": "6e2a5c6c",
   "metadata": {},
   "outputs": [
    {
     "name": "stdout",
     "output_type": "stream",
     "text": [
      "Boolean value of Float 1.0 : True\n",
      "Boolean value of Float -1.0 : True\n",
      "Boolean value of Float 0.0 : False\n"
     ]
    }
   ],
   "source": [
    "print(\"Boolean value of Float 1.0 : \"  + str(bool(1.0)))\n",
    "print(\"Boolean value of Float -1.0 : \"  + str(bool(-1.0)))\n",
    "print(\"Boolean value of Float 0.0 : \"  + str(bool(0.0)))"
   ]
  },
  {
   "cell_type": "code",
   "execution_count": 7,
   "id": "e49faa8b",
   "metadata": {},
   "outputs": [
    {
     "name": "stdout",
     "output_type": "stream",
     "text": [
      "Boolean value of Complex Number with both real & imaginary parts positive : True\n",
      "Boolean value of Complex Number with both real & imaginary parts negative : True\n",
      "Boolean value of Complex Number with positive real & negative imaginary parts : True\n",
      "Boolean value of Complex Number with negative real & positive imaginary parts : True\n",
      "Boolean value of Complex Number with both real & imaginary parts zero :  : False\n"
     ]
    }
   ],
   "source": [
    "print(\"Boolean value of Complex Number with both real & imaginary parts positive : \"  + str(bool(complex (3, 5))))\n",
    "print(\"Boolean value of Complex Number with both real & imaginary parts negative : \"  + str(bool(complex (-1.98, -9.5))))\n",
    "print(\"Boolean value of Complex Number with positive real & negative imaginary parts : \"  + str(bool(complex (6.98, -5.5))))\n",
    "print(\"Boolean value of Complex Number with negative real & positive imaginary parts : \"  + str(bool(complex (-1.98, 95))))\n",
    "\n",
    "print(\"Boolean value of Complex Number with both real & imaginary parts zero :  : \"  + str(bool(complex(0, 0))))"
   ]
  },
  {
   "cell_type": "code",
   "execution_count": null,
   "id": "a10d9c3a",
   "metadata": {},
   "outputs": [],
   "source": []
  },
  {
   "cell_type": "code",
   "execution_count": null,
   "id": "a60ddacd",
   "metadata": {},
   "outputs": [],
   "source": []
  },
  {
   "cell_type": "markdown",
   "id": "9ddec997",
   "metadata": {},
   "source": [
    "### Boolean values of String Types"
   ]
  },
  {
   "cell_type": "code",
   "execution_count": 8,
   "id": "e8ec90cb",
   "metadata": {},
   "outputs": [
    {
     "name": "stdout",
     "output_type": "stream",
     "text": [
      "Boolean value of Non-Empty Single Line String : True\n",
      "Boolean value of Non-Empty Multi-Line String : True\n",
      "Boolean value of Empty : False\n"
     ]
    }
   ],
   "source": [
    "print(\"Boolean value of Non-Empty Single Line String : \"  + str(bool(\"Hello\")))\n",
    "print(\"Boolean value of Non-Empty Multi-Line String : \"  + str(bool(\"\"\" hello and welcome to \n",
    "                                                                     beginner python tutorial by Aditya Garg\"\"\")))\n",
    "print(\"Boolean value of Empty String: \"  + str(bool(\"\")))"
   ]
  },
  {
   "cell_type": "code",
   "execution_count": 12,
   "id": "b88f1e0d",
   "metadata": {},
   "outputs": [
    {
     "name": "stdout",
     "output_type": "stream",
     "text": [
      "Boolean value of Integer Zero converted to String  : True\n",
      "Boolean value of Float Zero converted to String  : True\n",
      "Boolean value of Complex Zero converted to String  : True\n",
      "Boolean value of Empty String converted to String  : False\n"
     ]
    }
   ],
   "source": [
    "print(\"Boolean value of Integer Zero converted to String  : \"  + str(bool(str(0))))\n",
    "print(\"Boolean value of Float Zero converted to String  : \"  + str(bool(str(0.0))))\n",
    "print(\"Boolean value of Complex Zero converted to String  : \"  + str(bool(str(complex(0,0)))))\n",
    "print(\"Boolean value of Empty String converted to String  : \"  + str(bool(str(\"\"))))"
   ]
  },
  {
   "cell_type": "code",
   "execution_count": null,
   "id": "83bc1d43",
   "metadata": {},
   "outputs": [],
   "source": []
  },
  {
   "cell_type": "code",
   "execution_count": null,
   "id": "e94b0c83",
   "metadata": {},
   "outputs": [],
   "source": []
  },
  {
   "cell_type": "markdown",
   "id": "870dcbf7",
   "metadata": {},
   "source": [
    "### Boolean values of Collection Types"
   ]
  },
  {
   "cell_type": "code",
   "execution_count": 16,
   "id": "1ca2cfe7",
   "metadata": {},
   "outputs": [
    {
     "name": "stdout",
     "output_type": "stream",
     "text": [
      "Boolean value of Non-Empty List : True\n",
      "Boolean value of Empty List : False\n"
     ]
    }
   ],
   "source": [
    "print(\"Boolean value of Non-Empty List : \"  + str(bool(list((1,3,75, 'Hello', True, 0, -98)))))\n",
    "print(\"Boolean value of Empty List : \"  + str(bool(list())))"
   ]
  },
  {
   "cell_type": "code",
   "execution_count": 1,
   "id": "76d9c081",
   "metadata": {},
   "outputs": [
    {
     "name": "stdout",
     "output_type": "stream",
     "text": [
      "Boolean value of Non-Empty Tuple : True\n",
      "Boolean value of Empty Tuple : False\n"
     ]
    }
   ],
   "source": [
    "print(\"Boolean value of Non-Empty Tuple : \"  + str(bool(tuple((1,3,75, 'Hello', True, 0, -98)))))\n",
    "print(\"Boolean value of Empty Tuple : \"  + str(bool(tuple())))"
   ]
  },
  {
   "cell_type": "code",
   "execution_count": 2,
   "id": "db7f5a89",
   "metadata": {},
   "outputs": [
    {
     "name": "stdout",
     "output_type": "stream",
     "text": [
      "Boolean value of Non-Empty Set : True\n",
      "Boolean value of Empty Set : False\n"
     ]
    }
   ],
   "source": [
    "print(\"Boolean value of Non-Empty Set : \"  + str(bool(set((1,3,75, 'Hello', True, 0, -98)))))\n",
    "print(\"Boolean value of Empty Set : \"  + str(bool(set())))"
   ]
  },
  {
   "cell_type": "code",
   "execution_count": 19,
   "id": "3fb38b64",
   "metadata": {},
   "outputs": [
    {
     "name": "stdout",
     "output_type": "stream",
     "text": [
      "Boolean value of Non-Empty Dictonary : True\n",
      "Boolean value of Non-Empty Dictonary : True\n",
      "Boolean value of Empty Dictonary : False\n"
     ]
    }
   ],
   "source": [
    "print(\"Boolean value of Non-Empty Dictonary : \"  + str(bool(dict({'foo': 100, 'bar': 200}))))\n",
    "print(\"Boolean value of Non-Empty Dictonary : \"  + str(bool(dict([('two', 2), ('one', 1), ('three', 3)]))))\n",
    "print(\"Boolean value of Empty Dictonary : \"  + str(bool(dict())))"
   ]
  },
  {
   "cell_type": "code",
   "execution_count": null,
   "id": "4e785361",
   "metadata": {},
   "outputs": [],
   "source": []
  },
  {
   "cell_type": "markdown",
   "id": "52e8d41a",
   "metadata": {},
   "source": [
    "### Adding Boolean values to a set\n",
    "Sets treat Boolean values and corresponding non-boolean values as equal, hence, only one such value can be added to a set at a time --> This doesnt apply to built-in value Non which evaluates to False, but is still treated distinct"
   ]
  },
  {
   "cell_type": "code",
   "execution_count": 13,
   "id": "15a2d9b4",
   "metadata": {},
   "outputs": [
    {
     "name": "stdout",
     "output_type": "stream",
     "text": [
      "Singleton Sets with 1 or True\n",
      "{True}\n",
      "{1}\n",
      "\n",
      "Singleton Sets with 0 or False\n",
      "{False}\n",
      "{0}\n",
      "\n",
      "Singleton Sets with Boolean value of Empty Collection or False\n",
      "{False}\n",
      "{False}\n",
      "\n",
      "Singleton Sets with None and False\n",
      "{False, None}\n",
      "{False, None}\n"
     ]
    }
   ],
   "source": [
    "\"\"\"\n",
    "Values True and 1 are treated as equal. Likewise values False and 0 are treated as equal. \n",
    "Therefore, on passing both of them as part of input, the first one among them is considered as a member of the set.\n",
    "\"\"\"\n",
    "\n",
    "print(\"Singleton Sets with 1 or True\")\n",
    "print(set((True, 1)))\n",
    "print(set((1, True)))\n",
    "\n",
    "print()\n",
    "print(\"Singleton Sets with 0 or False\")\n",
    "print(set((False, 0)))\n",
    "print(set((0, False)))\n",
    "\n",
    "print()\n",
    "print(\"Singleton Sets with Boolean value of Empty Collection or False\")\n",
    "print(set((False, bool(list()))))\n",
    "print(set((bool(list()), False)))\n",
    "\n",
    "\n",
    "print()\n",
    "print(\"Singleton Sets with None and False\")\n",
    "print(set((False, None)))\n",
    "print(set((None, False)))"
   ]
  },
  {
   "cell_type": "code",
   "execution_count": null,
   "id": "a95c5a23",
   "metadata": {},
   "outputs": [],
   "source": []
  },
  {
   "cell_type": "code",
   "execution_count": 12,
   "id": "3d6880c0",
   "metadata": {},
   "outputs": [
    {
     "name": "stdout",
     "output_type": "stream",
     "text": [
      "{False}\n",
      "{False}\n"
     ]
    }
   ],
   "source": []
  },
  {
   "cell_type": "code",
   "execution_count": null,
   "id": "2ff125a5",
   "metadata": {},
   "outputs": [],
   "source": []
  },
  {
   "cell_type": "code",
   "execution_count": null,
   "id": "aa88329b",
   "metadata": {},
   "outputs": [],
   "source": []
  },
  {
   "cell_type": "code",
   "execution_count": null,
   "id": "437d78cc",
   "metadata": {},
   "outputs": [],
   "source": []
  },
  {
   "cell_type": "code",
   "execution_count": null,
   "id": "cd3bc0b2",
   "metadata": {},
   "outputs": [],
   "source": []
  },
  {
   "cell_type": "code",
   "execution_count": null,
   "id": "15d79ddf",
   "metadata": {},
   "outputs": [],
   "source": []
  },
  {
   "cell_type": "code",
   "execution_count": null,
   "id": "97af34e0",
   "metadata": {},
   "outputs": [],
   "source": []
  },
  {
   "cell_type": "code",
   "execution_count": null,
   "id": "e054f08b",
   "metadata": {},
   "outputs": [],
   "source": []
  },
  {
   "cell_type": "code",
   "execution_count": null,
   "id": "cda4303b",
   "metadata": {},
   "outputs": [],
   "source": []
  }
 ],
 "metadata": {
  "kernelspec": {
   "display_name": "Python 3 (ipykernel)",
   "language": "python",
   "name": "python3"
  },
  "language_info": {
   "codemirror_mode": {
    "name": "ipython",
    "version": 3
   },
   "file_extension": ".py",
   "mimetype": "text/x-python",
   "name": "python",
   "nbconvert_exporter": "python",
   "pygments_lexer": "ipython3",
   "version": "3.10.9"
  }
 },
 "nbformat": 4,
 "nbformat_minor": 5
}
